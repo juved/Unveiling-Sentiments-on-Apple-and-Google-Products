{
 "cells": [
  {
   "cell_type": "code",
   "execution_count": 76,
   "metadata": {
    "scrolled": false
   },
   "outputs": [
    {
     "name": "stderr",
     "output_type": "stream",
     "text": [
      "[nltk_data] Downloading package wordnet to /Users/jayiraj/nltk_data...\n",
      "[nltk_data]   Package wordnet is already up-to-date!\n",
      "[nltk_data] Downloading package tagsets to /Users/jayiraj/nltk_data...\n",
      "[nltk_data]   Package tagsets is already up-to-date!\n",
      "[nltk_data] Downloading package averaged_perceptron_tagger to\n",
      "[nltk_data]     /Users/jayiraj/nltk_data...\n",
      "[nltk_data]   Package averaged_perceptron_tagger is already up-to-\n",
      "[nltk_data]       date!\n"
     ]
    },
    {
     "data": {
      "text/plain": [
       "True"
      ]
     },
     "execution_count": 76,
     "metadata": {},
     "output_type": "execute_result"
    }
   ],
   "source": [
    "from collections import defaultdict\n",
    "import numpy as np\n",
    "import pandas as pd\n",
    "from sklearn.model_selection import train_test_split\n",
    "from nltk.probability import FreqDist\n",
    "from nltk.corpus import stopwords\n",
    "from nltk.tokenize import regexp_tokenize, word_tokenize, RegexpTokenizer, TweetTokenizer \n",
    "  \n",
    "from nltk import pos_tag\n",
    "from nltk.corpus import stopwords, wordnet\n",
    "from nltk.stem import WordNetLemmatizer\n",
    "import matplotlib.pyplot as plt\n",
    "import string\n",
    "import re\n",
    "from sklearn.ensemble import RandomForestClassifier\n",
    "from sklearn.naive_bayes import MultinomialNB\n",
    "from sklearn.metrics import accuracy_score, precision_score, ConfusionMatrixDisplay, confusion_matrix, recall_score, f1_score\n",
    "from sklearn.utils.class_weight import compute_sample_weight\n",
    "from sklearn.preprocessing import LabelEncoder\n",
    "from sklearn.model_selection import cross_val_score\n",
    "\n",
    "# Notice that these vectorizers are from `sklearn` and not `nltk`!\n",
    "from sklearn.feature_extraction.text import CountVectorizer, TfidfVectorizer,HashingVectorizer\n",
    "\n",
    "from sklearn.pipeline import Pipeline\n",
    "from sklearn.model_selection import GridSearchCV\n",
    "\n",
    "from nltk import FreqDist\n",
    "from itertools import chain\n",
    "\n",
    "import nltk\n",
    "nltk.download('wordnet')\n",
    "nltk.download('tagsets')\n",
    "nltk.download('averaged_perceptron_tagger')"
   ]
  },
  {
   "cell_type": "markdown",
   "metadata": {},
   "source": [
    "# Business Understanding"
   ]
  },
  {
   "cell_type": "markdown",
   "metadata": {},
   "source": [
    "As Data Scientists at Apple, we are attempting to leverage sentiment of tweets, particularly tweets related to Apple and Google at a SXSW (South By Southwest) event, to enhance our social media engagement, as well as our general marketing and advertising strategies. SXSW is is an annual festival/conference event held in Austin, Texas. We aim to assess our product marketing effectiveness to inform future strategies, ensuring our approach is both data-driven and responsive to consumer trends. This analysis will help us identify areas of improvement in our products and services, as well as opportunities for innovation.\n",
    "\n",
    "By proactively addressing these concerns, we can demonstrate our commitment to customer satisfaction and product improvement. Additionally, we will be able to spot emerging trends and topics in real-time, allowing us to engage with our audience more effectively and participate in relevant conversations. "
   ]
  },
  {
   "cell_type": "markdown",
   "metadata": {},
   "source": [
    "# Data Understanding"
   ]
  },
  {
   "cell_type": "markdown",
   "metadata": {},
   "source": [
    "The data we are using was taken from [data.world](https://data.world/crowdflower/brands-and-product-emotions/workspace/file?filename=judge-1377884607_tweet_product_company.csv). It contains 9,093 tweets that mention SXSW and mention different companies and/or its products. Each row represents a tweet, and there are three columns: one dispaying the tweet text itself, one that labels the product or company the sentiment in the tweet is directed at, and one that tells us whether the tweet showed a positive emotion, negative emotion, neutral emotion, or undetermined. These emotion labels were crowdsourced."
   ]
  },
  {
   "cell_type": "code",
   "execution_count": 77,
   "metadata": {},
   "outputs": [],
   "source": [
    "#Importing our dataset\n",
    "\n",
    "df= pd.read_csv('../data/judge-1377884607_tweet_product_company.csv', encoding='latin1')"
   ]
  },
  {
   "cell_type": "code",
   "execution_count": 78,
   "metadata": {
    "scrolled": true
   },
   "outputs": [
    {
     "data": {
      "text/html": [
       "<div>\n",
       "<style scoped>\n",
       "    .dataframe tbody tr th:only-of-type {\n",
       "        vertical-align: middle;\n",
       "    }\n",
       "\n",
       "    .dataframe tbody tr th {\n",
       "        vertical-align: top;\n",
       "    }\n",
       "\n",
       "    .dataframe thead th {\n",
       "        text-align: right;\n",
       "    }\n",
       "</style>\n",
       "<table border=\"1\" class=\"dataframe\">\n",
       "  <thead>\n",
       "    <tr style=\"text-align: right;\">\n",
       "      <th></th>\n",
       "      <th>tweet_text</th>\n",
       "      <th>emotion_in_tweet_is_directed_at</th>\n",
       "      <th>is_there_an_emotion_directed_at_a_brand_or_product</th>\n",
       "    </tr>\n",
       "  </thead>\n",
       "  <tbody>\n",
       "    <tr>\n",
       "      <th>0</th>\n",
       "      <td>.@wesley83 I have a 3G iPhone. After 3 hrs twe...</td>\n",
       "      <td>iPhone</td>\n",
       "      <td>Negative emotion</td>\n",
       "    </tr>\n",
       "    <tr>\n",
       "      <th>1</th>\n",
       "      <td>@jessedee Know about @fludapp ? Awesome iPad/i...</td>\n",
       "      <td>iPad or iPhone App</td>\n",
       "      <td>Positive emotion</td>\n",
       "    </tr>\n",
       "    <tr>\n",
       "      <th>2</th>\n",
       "      <td>@swonderlin Can not wait for #iPad 2 also. The...</td>\n",
       "      <td>iPad</td>\n",
       "      <td>Positive emotion</td>\n",
       "    </tr>\n",
       "    <tr>\n",
       "      <th>3</th>\n",
       "      <td>@sxsw I hope this year's festival isn't as cra...</td>\n",
       "      <td>iPad or iPhone App</td>\n",
       "      <td>Negative emotion</td>\n",
       "    </tr>\n",
       "    <tr>\n",
       "      <th>4</th>\n",
       "      <td>@sxtxstate great stuff on Fri #SXSW: Marissa M...</td>\n",
       "      <td>Google</td>\n",
       "      <td>Positive emotion</td>\n",
       "    </tr>\n",
       "  </tbody>\n",
       "</table>\n",
       "</div>"
      ],
      "text/plain": [
       "                                          tweet_text  \\\n",
       "0  .@wesley83 I have a 3G iPhone. After 3 hrs twe...   \n",
       "1  @jessedee Know about @fludapp ? Awesome iPad/i...   \n",
       "2  @swonderlin Can not wait for #iPad 2 also. The...   \n",
       "3  @sxsw I hope this year's festival isn't as cra...   \n",
       "4  @sxtxstate great stuff on Fri #SXSW: Marissa M...   \n",
       "\n",
       "  emotion_in_tweet_is_directed_at  \\\n",
       "0                          iPhone   \n",
       "1              iPad or iPhone App   \n",
       "2                            iPad   \n",
       "3              iPad or iPhone App   \n",
       "4                          Google   \n",
       "\n",
       "  is_there_an_emotion_directed_at_a_brand_or_product  \n",
       "0                                   Negative emotion  \n",
       "1                                   Positive emotion  \n",
       "2                                   Positive emotion  \n",
       "3                                   Negative emotion  \n",
       "4                                   Positive emotion  "
      ]
     },
     "execution_count": 78,
     "metadata": {},
     "output_type": "execute_result"
    }
   ],
   "source": [
    "#Exploring the first 5 rows\n",
    "\n",
    "df.head()"
   ]
  },
  {
   "cell_type": "code",
   "execution_count": 79,
   "metadata": {},
   "outputs": [
    {
     "name": "stdout",
     "output_type": "stream",
     "text": [
      "<class 'pandas.core.frame.DataFrame'>\n",
      "RangeIndex: 9093 entries, 0 to 9092\n",
      "Data columns (total 3 columns):\n",
      " #   Column                                              Non-Null Count  Dtype \n",
      "---  ------                                              --------------  ----- \n",
      " 0   tweet_text                                          9092 non-null   object\n",
      " 1   emotion_in_tweet_is_directed_at                     3291 non-null   object\n",
      " 2   is_there_an_emotion_directed_at_a_brand_or_product  9093 non-null   object\n",
      "dtypes: object(3)\n",
      "memory usage: 213.2+ KB\n"
     ]
    }
   ],
   "source": [
    "df.info()"
   ]
  },
  {
   "cell_type": "markdown",
   "metadata": {},
   "source": [
    "# Data Cleaning and Preprocessing"
   ]
  },
  {
   "cell_type": "code",
   "execution_count": 80,
   "metadata": {
    "scrolled": false
   },
   "outputs": [
    {
     "data": {
      "text/html": [
       "<div>\n",
       "<style scoped>\n",
       "    .dataframe tbody tr th:only-of-type {\n",
       "        vertical-align: middle;\n",
       "    }\n",
       "\n",
       "    .dataframe tbody tr th {\n",
       "        vertical-align: top;\n",
       "    }\n",
       "\n",
       "    .dataframe thead th {\n",
       "        text-align: right;\n",
       "    }\n",
       "</style>\n",
       "<table border=\"1\" class=\"dataframe\">\n",
       "  <thead>\n",
       "    <tr style=\"text-align: right;\">\n",
       "      <th></th>\n",
       "      <th>tweet_text</th>\n",
       "      <th>products</th>\n",
       "      <th>emotions</th>\n",
       "    </tr>\n",
       "  </thead>\n",
       "  <tbody>\n",
       "    <tr>\n",
       "      <th>0</th>\n",
       "      <td>.@wesley83 I have a 3G iPhone. After 3 hrs twe...</td>\n",
       "      <td>iPhone</td>\n",
       "      <td>Negative emotion</td>\n",
       "    </tr>\n",
       "    <tr>\n",
       "      <th>1</th>\n",
       "      <td>@jessedee Know about @fludapp ? Awesome iPad/i...</td>\n",
       "      <td>iPad or iPhone App</td>\n",
       "      <td>Positive emotion</td>\n",
       "    </tr>\n",
       "    <tr>\n",
       "      <th>2</th>\n",
       "      <td>@swonderlin Can not wait for #iPad 2 also. The...</td>\n",
       "      <td>iPad</td>\n",
       "      <td>Positive emotion</td>\n",
       "    </tr>\n",
       "    <tr>\n",
       "      <th>3</th>\n",
       "      <td>@sxsw I hope this year's festival isn't as cra...</td>\n",
       "      <td>iPad or iPhone App</td>\n",
       "      <td>Negative emotion</td>\n",
       "    </tr>\n",
       "    <tr>\n",
       "      <th>4</th>\n",
       "      <td>@sxtxstate great stuff on Fri #SXSW: Marissa M...</td>\n",
       "      <td>Google</td>\n",
       "      <td>Positive emotion</td>\n",
       "    </tr>\n",
       "  </tbody>\n",
       "</table>\n",
       "</div>"
      ],
      "text/plain": [
       "                                          tweet_text            products  \\\n",
       "0  .@wesley83 I have a 3G iPhone. After 3 hrs twe...              iPhone   \n",
       "1  @jessedee Know about @fludapp ? Awesome iPad/i...  iPad or iPhone App   \n",
       "2  @swonderlin Can not wait for #iPad 2 also. The...                iPad   \n",
       "3  @sxsw I hope this year's festival isn't as cra...  iPad or iPhone App   \n",
       "4  @sxtxstate great stuff on Fri #SXSW: Marissa M...              Google   \n",
       "\n",
       "           emotions  \n",
       "0  Negative emotion  \n",
       "1  Positive emotion  \n",
       "2  Positive emotion  \n",
       "3  Negative emotion  \n",
       "4  Positive emotion  "
      ]
     },
     "execution_count": 80,
     "metadata": {},
     "output_type": "execute_result"
    }
   ],
   "source": [
    "# Renaming the columns for simplicity\n",
    "df = df.rename(columns={\n",
    "    'emotion_in_tweet_is_directed_at': 'products',\n",
    "    'is_there_an_emotion_directed_at_a_brand_or_product': 'emotions'\n",
    "})\n",
    "\n",
    "df.head()"
   ]
  },
  {
   "cell_type": "code",
   "execution_count": 81,
   "metadata": {},
   "outputs": [],
   "source": [
    "#Renaming the emotions labels for simplcity\n",
    "\n",
    "df['emotions'] = df['emotions'].replace('No emotion toward brand or product', 'Neutral')\n",
    "df['emotions'] = df['emotions'].replace('Positive emotion', 'Positive')\n",
    "df['emotions'] = df['emotions'].replace('Negative emotion', 'Negative')"
   ]
  },
  {
   "cell_type": "code",
   "execution_count": 82,
   "metadata": {},
   "outputs": [],
   "source": [
    "#Dropping the tweets where the emotion was 'I can't tell'\n",
    "\n",
    "df = df[df['emotions'].isin(['Neutral', 'Negative', 'Positive'])]"
   ]
  },
  {
   "cell_type": "code",
   "execution_count": 83,
   "metadata": {
    "scrolled": true
   },
   "outputs": [
    {
     "data": {
      "text/plain": [
       "Neutral     5389\n",
       "Positive    2978\n",
       "Negative     570\n",
       "Name: emotions, dtype: int64"
      ]
     },
     "execution_count": 83,
     "metadata": {},
     "output_type": "execute_result"
    }
   ],
   "source": [
    "df['emotions'].value_counts()"
   ]
  },
  {
   "cell_type": "code",
   "execution_count": 84,
   "metadata": {
    "scrolled": false
   },
   "outputs": [
    {
     "data": {
      "text/plain": [
       "tweet_text       1\n",
       "products      5655\n",
       "emotions         0\n",
       "dtype: int64"
      ]
     },
     "execution_count": 84,
     "metadata": {},
     "output_type": "execute_result"
    }
   ],
   "source": [
    "df.isna().sum()"
   ]
  },
  {
   "cell_type": "code",
   "execution_count": 85,
   "metadata": {},
   "outputs": [],
   "source": [
    "#Dropping the row with the one null value in the 'tweet_text' column\n",
    "\n",
    "df = df.dropna(subset=['tweet_text'])"
   ]
  },
  {
   "cell_type": "code",
   "execution_count": 86,
   "metadata": {},
   "outputs": [
    {
     "data": {
      "text/plain": [
       "tweet_text       0\n",
       "products      5654\n",
       "emotions         0\n",
       "dtype: int64"
      ]
     },
     "execution_count": 86,
     "metadata": {},
     "output_type": "execute_result"
    }
   ],
   "source": [
    "df.isna().sum()"
   ]
  },
  {
   "cell_type": "code",
   "execution_count": 87,
   "metadata": {},
   "outputs": [],
   "source": [
    "# Bringing in stopwords\n",
    "\n",
    "sw = stopwords.words('english')"
   ]
  },
  {
   "cell_type": "markdown",
   "metadata": {},
   "source": [
    "## NLP and Tweet-specific preprocessing"
   ]
  },
  {
   "cell_type": "markdown",
   "metadata": {},
   "source": [
    "Because we are working with text, specifically tweets, we need to do some additional cleaning and preprocessing. Particularly, we will get rid of stopwords (words that will appear frequently in our text but provide no semantic value). We also need to lemmatize our words to normalize them, get rid of any punctuation, lowercase our words, and tokenize them so that our data is divided by the individual words. We will also need to vectorize our text data, converting to numerical vectors."
   ]
  },
  {
   "cell_type": "code",
   "execution_count": 88,
   "metadata": {},
   "outputs": [],
   "source": [
    "# Add custom words to the stopword list\n",
    "# These words appear frequently in our data and provide no semantic value\n",
    "custom_stopwords = ['sxsw', 'mention','link','rt', 'for','quot']\n",
    "\n",
    "# Extend the NLTK stopword list with custom stopwords\n",
    "sw.extend(custom_stopwords)"
   ]
  },
  {
   "cell_type": "code",
   "execution_count": 89,
   "metadata": {},
   "outputs": [],
   "source": [
    "#Part of speech tags that will help our lemmatizer work.\n",
    "def get_wordnet_pos(treebank_tag):\n",
    "    '''\n",
    "    Translate nltk POS to wordnet tags\n",
    "    '''\n",
    "    if treebank_tag.startswith('J'):\n",
    "        return wordnet.ADJ\n",
    "    elif treebank_tag.startswith('V'):\n",
    "        return wordnet.VERB\n",
    "    elif treebank_tag.startswith('N'):\n",
    "        return wordnet.NOUN\n",
    "    elif treebank_tag.startswith('R'):\n",
    "        return wordnet.ADV\n",
    "    else:\n",
    "        return wordnet.NOUN"
   ]
  },
  {
   "cell_type": "code",
   "execution_count": 90,
   "metadata": {},
   "outputs": [],
   "source": [
    "#Instantiating our lemmatizer\n",
    "\n",
    "lemmatizer = WordNetLemmatizer() "
   ]
  },
  {
   "cell_type": "markdown",
   "metadata": {},
   "source": [
    "We will now create a function that takes our tweet text, lemmatizes our words, lowercases them, gets rid of stopwords, and strips our text of punctuation and numbers. Later on, we will feed our doc_preparer to our vectorizer in our model pipelines to preprocess our text before it is vectorized and used in our modeling."
   ]
  },
  {
   "cell_type": "code",
   "execution_count": 91,
   "metadata": {},
   "outputs": [],
   "source": [
    "def doc_preparer(doc, stop_words=sw):\n",
    "    regex_token = RegexpTokenizer(r\"([a-zA-Z]+(?:’[a-z]+)?)\")\n",
    "    tokens = regex_token.tokenize(doc)\n",
    "    lowered_t = [word.lower() for word in tokens]\n",
    "    no_sw_t = [word for word in lowered_t if word not in sw]\n",
    "    # print(doc)\n",
    "    tokens_tagged = pos_tag(no_sw_t)\n",
    "    pos_tokens = [(word[0], get_wordnet_pos(word[1])) for word in tokens_tagged] \n",
    "    tokens_lemm = [lemmatizer.lemmatize(word[0], word[1]) for word in pos_tokens]\n",
    "    return ' '.join(tokens_lemm)"
   ]
  },
  {
   "cell_type": "markdown",
   "metadata": {},
   "source": [
    "# Modeling"
   ]
  },
  {
   "cell_type": "markdown",
   "metadata": {},
   "source": [
    "We will now create predictive models with our data, using the words in the tweet texts to predict sentiment. We will create predictive models with our binomial classification (positive and negative emotion) as well as with our multi-class target (positive, negative, and neutral). Before doing so, we will train_test_split our data and create pipelines for some of our models. We will focus on Multinomial Naive Bayes and Random Forest for our modeling. Once we find our best-performing model on cross validation, we will run further analysis on its most important features."
   ]
  },
  {
   "cell_type": "markdown",
   "metadata": {},
   "source": [
    "## Splitting our Data"
   ]
  },
  {
   "cell_type": "code",
   "execution_count": 92,
   "metadata": {},
   "outputs": [],
   "source": [
    "X = df['tweet_text'] \n",
    "y = df['emotions'] "
   ]
  },
  {
   "cell_type": "code",
   "execution_count": 93,
   "metadata": {},
   "outputs": [],
   "source": [
    "X_train, X_test, y_train, y_test = train_test_split(X, y, test_size=0.2, random_state=42)\n"
   ]
  },
  {
   "cell_type": "markdown",
   "metadata": {},
   "source": [
    "## Multiclass Multinomial Naive Bayes Model"
   ]
  },
  {
   "cell_type": "markdown",
   "metadata": {},
   "source": [
    "### Pipeline"
   ]
  },
  {
   "cell_type": "code",
   "execution_count": 94,
   "metadata": {},
   "outputs": [],
   "source": [
    "#Multinomial Naive Bayes Pipeline\n",
    "\n",
    "#Instantiating our Tfidf vectorizer with our preprocessor in the pipeline\n",
    "\n",
    "nb_pipeline = Pipeline([\n",
    "    ('tfidf', TfidfVectorizer(preprocessor=doc_preparer)),\n",
    "    ('nb', MultinomialNB())\n",
    "])"
   ]
  },
  {
   "cell_type": "markdown",
   "metadata": {},
   "source": [
    "### Grid Searching "
   ]
  },
  {
   "cell_type": "code",
   "execution_count": 95,
   "metadata": {},
   "outputs": [],
   "source": [
    "#Grid Search Parameters for Bayes\n",
    "\n",
    "nb_param_grid = {\n",
    "    'tfidf__max_df': [0.75],\n",
    "    'tfidf__min_df': [.01,.05,.1],\n",
    "    'tfidf__ngram_range': [(1, 2)],\n",
    "}"
   ]
  },
  {
   "cell_type": "code",
   "execution_count": 96,
   "metadata": {},
   "outputs": [
    {
     "name": "stdout",
     "output_type": "stream",
     "text": [
      "Fitting 3 folds for each of 3 candidates, totalling 9 fits\n",
      "[CV] tfidf__max_df=0.75, tfidf__min_df=0.01, tfidf__ngram_range=(1, 2) \n"
     ]
    },
    {
     "name": "stderr",
     "output_type": "stream",
     "text": [
      "[Parallel(n_jobs=1)]: Using backend SequentialBackend with 1 concurrent workers.\n"
     ]
    },
    {
     "name": "stdout",
     "output_type": "stream",
     "text": [
      "[CV]  tfidf__max_df=0.75, tfidf__min_df=0.01, tfidf__ngram_range=(1, 2), total=   2.9s\n",
      "[CV] tfidf__max_df=0.75, tfidf__min_df=0.01, tfidf__ngram_range=(1, 2) \n"
     ]
    },
    {
     "name": "stderr",
     "output_type": "stream",
     "text": [
      "[Parallel(n_jobs=1)]: Done   1 out of   1 | elapsed:    2.9s remaining:    0.0s\n"
     ]
    },
    {
     "name": "stdout",
     "output_type": "stream",
     "text": [
      "[CV]  tfidf__max_df=0.75, tfidf__min_df=0.01, tfidf__ngram_range=(1, 2), total=   2.9s\n",
      "[CV] tfidf__max_df=0.75, tfidf__min_df=0.01, tfidf__ngram_range=(1, 2) \n",
      "[CV]  tfidf__max_df=0.75, tfidf__min_df=0.01, tfidf__ngram_range=(1, 2), total=   2.8s\n",
      "[CV] tfidf__max_df=0.75, tfidf__min_df=0.05, tfidf__ngram_range=(1, 2) \n",
      "[CV]  tfidf__max_df=0.75, tfidf__min_df=0.05, tfidf__ngram_range=(1, 2), total=   2.8s\n",
      "[CV] tfidf__max_df=0.75, tfidf__min_df=0.05, tfidf__ngram_range=(1, 2) \n",
      "[CV]  tfidf__max_df=0.75, tfidf__min_df=0.05, tfidf__ngram_range=(1, 2), total=   2.8s\n",
      "[CV] tfidf__max_df=0.75, tfidf__min_df=0.05, tfidf__ngram_range=(1, 2) \n",
      "[CV]  tfidf__max_df=0.75, tfidf__min_df=0.05, tfidf__ngram_range=(1, 2), total=   2.8s\n",
      "[CV] tfidf__max_df=0.75, tfidf__min_df=0.1, tfidf__ngram_range=(1, 2) \n",
      "[CV]  tfidf__max_df=0.75, tfidf__min_df=0.1, tfidf__ngram_range=(1, 2), total=   2.8s\n",
      "[CV] tfidf__max_df=0.75, tfidf__min_df=0.1, tfidf__ngram_range=(1, 2) \n",
      "[CV]  tfidf__max_df=0.75, tfidf__min_df=0.1, tfidf__ngram_range=(1, 2), total=   2.8s\n",
      "[CV] tfidf__max_df=0.75, tfidf__min_df=0.1, tfidf__ngram_range=(1, 2) \n",
      "[CV]  tfidf__max_df=0.75, tfidf__min_df=0.1, tfidf__ngram_range=(1, 2), total=   2.8s\n"
     ]
    },
    {
     "name": "stderr",
     "output_type": "stream",
     "text": [
      "[Parallel(n_jobs=1)]: Done   9 out of   9 | elapsed:   25.3s finished\n"
     ]
    },
    {
     "data": {
      "text/plain": [
       "GridSearchCV(cv=3,\n",
       "             estimator=Pipeline(steps=[('tfidf',\n",
       "                                        TfidfVectorizer(preprocessor=<function doc_preparer at 0x7f936a1f88b0>)),\n",
       "                                       ('nb', MultinomialNB())]),\n",
       "             n_jobs=1,\n",
       "             param_grid={'tfidf__max_df': [0.75],\n",
       "                         'tfidf__min_df': [0.01, 0.05, 0.1],\n",
       "                         'tfidf__ngram_range': [(1, 2)]},\n",
       "             verbose=2)"
      ]
     },
     "execution_count": 96,
     "metadata": {},
     "output_type": "execute_result"
    }
   ],
   "source": [
    "#Running our naive bayes grid search with the pipeline and grid parameters\n",
    "\n",
    "nb_grid_search = GridSearchCV(nb_pipeline, nb_param_grid, cv=3, n_jobs=1, verbose=2)\n",
    "\n",
    "#Fitting on our training data\n",
    "\n",
    "nb_grid_search.fit(X_train, y_train) "
   ]
  },
  {
   "cell_type": "code",
   "execution_count": 97,
   "metadata": {},
   "outputs": [
    {
     "name": "stdout",
     "output_type": "stream",
     "text": [
      "Best Parameters for Naive Bayes: {'tfidf__max_df': 0.75, 'tfidf__min_df': 0.01, 'tfidf__ngram_range': (1, 2)}\n",
      "Grid Search Best Score: 0.6333242664037727\n",
      "Accuracy Score on Training: 0.6484331281477337\n"
     ]
    }
   ],
   "source": [
    "# Evaluation for Naive Bayes cross-val performance\n",
    "\n",
    "nb_best_model = nb_grid_search.best_estimator_\n",
    "print(\"Best Parameters for Naive Bayes:\", nb_grid_search.best_params_)\n",
    "print(\"Grid Search Best Score:\", nb_grid_search.best_score_)\n",
    "\n",
    "#Accuracy Score on Training\n",
    "\n",
    "print(\"Accuracy Score on Training:\", nb_best_model.score(X_train, y_train))"
   ]
  },
  {
   "cell_type": "markdown",
   "metadata": {},
   "source": [
    "## Multiclass Random Forest Model"
   ]
  },
  {
   "cell_type": "markdown",
   "metadata": {},
   "source": [
    "### Pipeline"
   ]
  },
  {
   "cell_type": "code",
   "execution_count": 98,
   "metadata": {},
   "outputs": [],
   "source": [
    "#Random Forest Pipeline\n",
    "\n",
    "#Instantiating our Tfidf vectorizer with our preprocessor in the pipeline\n",
    "\n",
    "\n",
    "rf_pipeline = Pipeline([\n",
    "    ('tfidf', TfidfVectorizer(preprocessor=doc_preparer)),\n",
    "    ('rf', RandomForestClassifier())])"
   ]
  },
  {
   "cell_type": "markdown",
   "metadata": {},
   "source": [
    "### Grid Searching"
   ]
  },
  {
   "cell_type": "code",
   "execution_count": 99,
   "metadata": {},
   "outputs": [],
   "source": [
    "#Grid Search Parameters for Random Forest\n",
    "\n",
    "rf_param_grid = {\n",
    "    'tfidf__max_df': [.8],\n",
    "    'tfidf__min_df': [1],\n",
    "    'tfidf__ngram_range': [(1, 1)],\n",
    "    'rf__n_estimators': [150], \n",
    "    'rf__max_depth': [120],\n",
    " 'rf__min_samples_split':[5],\n",
    "   'rf__min_samples_leaf':[1],\n",
    "'rf__max_features': [100],\n",
    "'rf__class_weight': [None]}"
   ]
  },
  {
   "cell_type": "code",
   "execution_count": 100,
   "metadata": {
    "scrolled": false
   },
   "outputs": [
    {
     "name": "stdout",
     "output_type": "stream",
     "text": [
      "Fitting 3 folds for each of 1 candidates, totalling 3 fits\n",
      "[CV] rf__class_weight=None, rf__max_depth=120, rf__max_features=100, rf__min_samples_leaf=1, rf__min_samples_split=5, rf__n_estimators=150, tfidf__max_df=0.8, tfidf__min_df=1, tfidf__ngram_range=(1, 1) \n"
     ]
    },
    {
     "name": "stderr",
     "output_type": "stream",
     "text": [
      "[Parallel(n_jobs=1)]: Using backend SequentialBackend with 1 concurrent workers.\n"
     ]
    },
    {
     "name": "stdout",
     "output_type": "stream",
     "text": [
      "[CV]  rf__class_weight=None, rf__max_depth=120, rf__max_features=100, rf__min_samples_leaf=1, rf__min_samples_split=5, rf__n_estimators=150, tfidf__max_df=0.8, tfidf__min_df=1, tfidf__ngram_range=(1, 1), total=   4.4s\n",
      "[CV] rf__class_weight=None, rf__max_depth=120, rf__max_features=100, rf__min_samples_leaf=1, rf__min_samples_split=5, rf__n_estimators=150, tfidf__max_df=0.8, tfidf__min_df=1, tfidf__ngram_range=(1, 1) \n"
     ]
    },
    {
     "name": "stderr",
     "output_type": "stream",
     "text": [
      "[Parallel(n_jobs=1)]: Done   1 out of   1 | elapsed:    4.4s remaining:    0.0s\n"
     ]
    },
    {
     "name": "stdout",
     "output_type": "stream",
     "text": [
      "[CV]  rf__class_weight=None, rf__max_depth=120, rf__max_features=100, rf__min_samples_leaf=1, rf__min_samples_split=5, rf__n_estimators=150, tfidf__max_df=0.8, tfidf__min_df=1, tfidf__ngram_range=(1, 1), total=   4.4s\n",
      "[CV] rf__class_weight=None, rf__max_depth=120, rf__max_features=100, rf__min_samples_leaf=1, rf__min_samples_split=5, rf__n_estimators=150, tfidf__max_df=0.8, tfidf__min_df=1, tfidf__ngram_range=(1, 1) \n",
      "[CV]  rf__class_weight=None, rf__max_depth=120, rf__max_features=100, rf__min_samples_leaf=1, rf__min_samples_split=5, rf__n_estimators=150, tfidf__max_df=0.8, tfidf__min_df=1, tfidf__ngram_range=(1, 1), total=   4.6s\n"
     ]
    },
    {
     "name": "stderr",
     "output_type": "stream",
     "text": [
      "[Parallel(n_jobs=1)]: Done   3 out of   3 | elapsed:   13.4s finished\n"
     ]
    },
    {
     "data": {
      "text/plain": [
       "GridSearchCV(cv=3,\n",
       "             estimator=Pipeline(steps=[('tfidf',\n",
       "                                        TfidfVectorizer(preprocessor=<function doc_preparer at 0x7f936a1f88b0>)),\n",
       "                                       ('rf', RandomForestClassifier())]),\n",
       "             n_jobs=1,\n",
       "             param_grid={'rf__class_weight': [None], 'rf__max_depth': [120],\n",
       "                         'rf__max_features': [100], 'rf__min_samples_leaf': [1],\n",
       "                         'rf__min_samples_split': [5],\n",
       "                         'rf__n_estimators': [150], 'tfidf__max_df': [0.8],\n",
       "                         'tfidf__min_df': [1], 'tfidf__ngram_range': [(1, 1)]},\n",
       "             verbose=2)"
      ]
     },
     "execution_count": 100,
     "metadata": {},
     "output_type": "execute_result"
    }
   ],
   "source": [
    "# Running our random forest grid search with pipeline and param grid\n",
    "\n",
    "rf_grid_search = GridSearchCV(rf_pipeline, rf_param_grid, cv=3, n_jobs=1, verbose=2)\n",
    "\n",
    "#Fitting on our training data\n",
    "\n",
    "rf_grid_search.fit(X_train, y_train) "
   ]
  },
  {
   "cell_type": "code",
   "execution_count": 101,
   "metadata": {
    "scrolled": false
   },
   "outputs": [
    {
     "name": "stdout",
     "output_type": "stream",
     "text": [
      "Best Parameters for Random Forest: {'rf__class_weight': None, 'rf__max_depth': 120, 'rf__max_features': 100, 'rf__min_samples_leaf': 1, 'rf__min_samples_split': 5, 'rf__n_estimators': 150, 'tfidf__max_df': 0.8, 'tfidf__min_df': 1, 'tfidf__ngram_range': (1, 1)}\n",
      "Grid Search Best Score: 0.6776718873154476\n",
      "Accuracy Score on Training: 0.9015109121432568\n"
     ]
    }
   ],
   "source": [
    "#Evaluation for Random Forest cross validation\n",
    "\n",
    "rf_best_model = rf_grid_search.best_estimator_\n",
    "print(\"Best Parameters for Random Forest:\", rf_grid_search.best_params_)\n",
    "print(\"Grid Search Best Score:\", rf_grid_search.best_score_)\n",
    "\n",
    "#Accuracy Score on Training\n",
    "\n",
    "print(\"Accuracy Score on Training:\", rf_best_model.score(X_train, y_train))"
   ]
  },
  {
   "cell_type": "markdown",
   "metadata": {},
   "source": [
    "## Best Model Evaluation"
   ]
  },
  {
   "cell_type": "markdown",
   "metadata": {},
   "source": [
    "We will now take our best model on cross validation (multiclass random forest) and predict on the test set. We can then plot a confusion matrix to see how it is predicting each class."
   ]
  },
  {
   "cell_type": "code",
   "execution_count": 102,
   "metadata": {
    "scrolled": true
   },
   "outputs": [
    {
     "name": "stdout",
     "output_type": "stream",
     "text": [
      "Accuracy Score on Test set 0.6862416107382551\n"
     ]
    }
   ],
   "source": [
    "y_pred_rf = rf_best_model.predict(X_test)\n",
    "rf_accuracy = accuracy_score(y_test, y_pred_rf)\n",
    "print(\"Accuracy Score on Test set\", rf_accuracy)\n"
   ]
  },
  {
   "cell_type": "code",
   "execution_count": 103,
   "metadata": {},
   "outputs": [
    {
     "data": {
      "image/png": "[encoded data removed]",
      "text/plain": [
       "<Figure size 288x288 with 2 Axes>"
      ]
     },
     "metadata": {
      "needs_background": "light"
     },
     "output_type": "display_data"
    }
   ],
   "source": [
    "cm_rf = confusion_matrix(y_test, y_pred_rf)\n",
    "# Plot the Confusion Matrix with a smaller size\n",
    "fig, ax = plt.subplots(figsize=(4, 4))  \n",
    "ConfusionMatrixDisplay(confusion_matrix=cm_rf, display_labels= rf_best_model.classes_).plot(ax=ax)\n",
    "\n",
    "# Show the plot\n",
    "plt.show()"
   ]
  },
  {
   "cell_type": "markdown",
   "metadata": {},
   "source": [
    "# Features Importance Analysis"
   ]
  },
  {
   "cell_type": "markdown",
   "metadata": {},
   "source": [
    "After determining our best model and evaluating it on the test set, we looked at its feature importance and compared this the td-idf frequencies for each words by sentiment. This way, we can attempt to draw some conclusions and recommendations based on which words are most preditictive of sentiment in our model, and if they are associated with positive sentiment in tweets or negative sentiment in tweets."
   ]
  },
  {
   "cell_type": "markdown",
   "metadata": {},
   "source": [
    "## Multiclass Random Forest Feature Importance"
   ]
  },
  {
   "cell_type": "code",
   "execution_count": 104,
   "metadata": {
    "scrolled": true
   },
   "outputs": [],
   "source": [
    "rf_tfidf_vectorizer = rf_best_model.named_steps['tfidf']\n",
    "rf_tfidf_feature_names = rf_tfidf_vectorizer.get_feature_names()\n",
    "rf_tfidf_feature_importances = rf_tfidf_vectorizer.idf_"
   ]
  },
  {
   "cell_type": "code",
   "execution_count": 105,
   "metadata": {},
   "outputs": [],
   "source": [
    "rf_model = rf_best_model.named_steps['rf']\n",
    "rf_feature_importances = rf_model.feature_importances_"
   ]
  },
  {
   "cell_type": "code",
   "execution_count": 106,
   "metadata": {
    "scrolled": true
   },
   "outputs": [
    {
     "name": "stdout",
     "output_type": "stream",
     "text": [
      "        Feature  Importance\n",
      "3155       ipad    0.022421\n",
      "281       apple    0.011988\n",
      "1277       cool    0.011718\n",
      "2602      great    0.011281\n",
      "274         app    0.010184\n",
      "2556     google    0.010015\n",
      "3159     iphone    0.008929\n",
      "3596       love    0.008379\n",
      "451     awesome    0.008015\n",
      "5781      store    0.007938\n",
      "210         amp    0.007238\n",
      "403      austin    0.006622\n",
      "4055        new    0.006599\n",
      "2550       good    0.006485\n",
      "5520      smart    0.005864\n",
      "2493        get    0.005774\n",
      "3416     launch    0.005674\n",
      "4597        pop    0.005592\n",
      "2010       even    0.004706\n",
      "6757        win    0.004659\n",
      "6830        wow    0.004551\n",
      "1042     circle    0.004440\n",
      "4224        one    0.004388\n",
      "6203      today    0.004302\n",
      "4239       open    0.004061\n",
      "5279        see    0.003997\n",
      "2531         go    0.003993\n",
      "5576     social    0.003976\n",
      "6180       time    0.003760\n",
      "3517       line    0.003735\n",
      "3506       like    0.003735\n",
      "2397        fun    0.003705\n",
      "223     android    0.003699\n",
      "4079       nice    0.003677\n",
      "6553        via    0.003535\n",
      "3493       life    0.003432\n",
      "4379      party    0.003393\n",
      "1483        day    0.003335\n",
      "6620       wait    0.003275\n",
      "4439     people    0.003255\n",
      "4688     pretty    0.003247\n",
      "4049    network    0.003230\n",
      "2878        hot    0.003137\n",
      "5991       take    0.003039\n",
      "3891     mobile    0.003039\n",
      "2117       fail    0.003015\n",
      "2750   headache    0.002992\n",
      "6693       week    0.002955\n",
      "3711  marketing    0.002890\n",
      "6496        use    0.002854\n"
     ]
    }
   ],
   "source": [
    "feature_importance_df = pd.DataFrame({'Feature': rf_tfidf_feature_names, 'Importance': rf_feature_importances})\n",
    "feature_importance_df = feature_importance_df.sort_values(by='Importance', ascending=False)\n",
    "print(feature_importance_df.head(50)) "
   ]
  },
  {
   "cell_type": "code",
   "execution_count": 107,
   "metadata": {
    "scrolled": true
   },
   "outputs": [
    {
     "data": {
      "image/png": "[encoded data removed]",
      "text/plain": [
       "<Figure size 720x432 with 1 Axes>"
      ]
     },
     "metadata": {
      "needs_background": "light"
     },
     "output_type": "display_data"
    }
   ],
   "source": [
    "# Get the top 15 features and their importance scores\n",
    "top_features = feature_importance_df.head(15)\n",
    "\n",
    "# Create a bar chart\n",
    "plt.figure(figsize=(10, 6))\n",
    "plt.barh(top_features['Feature'], top_features['Importance'], color='green')\n",
    "plt.xlabel('Importance Score')\n",
    "plt.ylabel('Feature')\n",
    "plt.title('Top 15 Features by Importance to Model')\n",
    "plt.gca().invert_yaxis()  # Invert the y-axis to display the highest importance at the top\n",
    "plt.show()"
   ]
  },
  {
   "cell_type": "markdown",
   "metadata": {},
   "source": [
    "Some of the words that stand out in terms of feature importance are apple and google, as apple is more predictive of sentiment than google. Store and pop also appear in the top 15, which makes sense considering Apple opened a temporary pop-up store at SXSW. However, the feature importances do not tell which target the words are more predictive for, whether it is positive, neutral, or negative. In order to find out which of the words that are important features are associated with positive, neutral, or negative sentiment tweets, we will find the TD-IDF scores for each word by tweet sentiment. This will help us determine conclusions and recommendations for our marketing strategy at Apple."
   ]
  },
  {
   "cell_type": "markdown",
   "metadata": {},
   "source": [
    "## Word Frequency By Target"
   ]
  },
  {
   "cell_type": "code",
   "execution_count": 108,
   "metadata": {},
   "outputs": [],
   "source": [
    "# Create a new column in your DataFrame for the preprocessed text\n",
    "\n",
    "# Need to preprocess our text outside of our pipeline for this analysis\n",
    "\n",
    "df['preprocessed_text'] = df['tweet_text'].apply(lambda x: doc_preparer(x))"
   ]
  },
  {
   "cell_type": "code",
   "execution_count": 109,
   "metadata": {},
   "outputs": [],
   "source": [
    "#.loc to create dataframes based on target class\n",
    "\n",
    "positive_df = df[df['emotions']=='Positive']\n",
    "neutral_df = df[df['emotions']== 'Neutral']\n",
    "negative_df = df[df['emotions']=='Negative']"
   ]
  },
  {
   "cell_type": "code",
   "execution_count": 110,
   "metadata": {},
   "outputs": [
    {
     "name": "stdout",
     "output_type": "stream",
     "text": [
      "<class 'pandas.core.frame.DataFrame'>\n",
      "Int64Index: 2978 entries, 1 to 9088\n",
      "Data columns (total 4 columns):\n",
      " #   Column             Non-Null Count  Dtype \n",
      "---  ------             --------------  ----- \n",
      " 0   tweet_text         2978 non-null   object\n",
      " 1   products           2672 non-null   object\n",
      " 2   emotions           2978 non-null   object\n",
      " 3   preprocessed_text  2978 non-null   object\n",
      "dtypes: object(4)\n",
      "memory usage: 116.3+ KB\n"
     ]
    }
   ],
   "source": [
    "positive_df.info()"
   ]
  },
  {
   "cell_type": "code",
   "execution_count": 111,
   "metadata": {},
   "outputs": [
    {
     "name": "stdout",
     "output_type": "stream",
     "text": [
      "           Word  Positive TF-IDF Score\n",
      "1884       ipad               0.051810\n",
      "165       apple               0.048227\n",
      "3429      store               0.035139\n",
      "1514     google               0.034988\n",
      "1887     iphone               0.029093\n",
      "158         app               0.024743\n",
      "2434        new               0.022915\n",
      "230      austin               0.021643\n",
      "1469        get               0.020174\n",
      "2738        pop               0.017853\n",
      "2526       open               0.016348\n",
      "2035     launch               0.015894\n",
      "128     android               0.015218\n",
      "1496         go               0.014502\n",
      "4015        win               0.014474\n",
      "122         amp               0.013966\n",
      "2092       line               0.013074\n",
      "3907        via               0.012632\n",
      "2608      party               0.012402\n",
      "2521        one               0.012234\n",
      "678        come               0.011998\n",
      "613      circle               0.011132\n",
      "3681       time               0.011027\n",
      "759        cool               0.010880\n",
      "1546      great               0.010773\n",
      "3312     social               0.010538\n",
      "2206        map               0.010306\n",
      "3609  temporary               0.010282\n",
      "878         day               0.010225\n",
      "1377       free               0.010213\n",
      "3875        use               0.010204\n",
      "3701      today               0.009891\n",
      "2146       love               0.009764\n",
      "1024   downtown               0.009590\n",
      "257     awesome               0.009389\n",
      "579       check               0.009382\n",
      "3145        see               0.009333\n",
      "2333     mobile               0.009198\n",
      "2085       like               0.009195\n",
      "1508       good               0.009074\n",
      "2430    network               0.008882\n",
      "3529      sxswi               0.008804\n",
      "1164       even               0.008596\n",
      "2128       look               0.008224\n",
      "2742      popup               0.008029\n",
      "3560       take               0.008027\n",
      "178        apps               0.007589\n",
      "2193       make               0.007287\n",
      "2647     people               0.007217\n",
      "3627     thanks               0.007198\n"
     ]
    }
   ],
   "source": [
    "#Getting the tf-idf scores for the\n",
    "#words in tweets with positive sentiment\n",
    "\n",
    "pos_documents = positive_df['preprocessed_text']\n",
    "pos_tfidf_vectorizer = TfidfVectorizer()\n",
    "pos_tfidf_matrix = pos_tfidf_vectorizer.fit_transform(pos_documents)\n",
    "\n",
    "pos_feature_names = pos_tfidf_vectorizer.get_feature_names()\n",
    "pos_feature_names\n",
    "pos_tfidf_scores = pos_tfidf_matrix.mean(axis=0).A1\n",
    "\n",
    "pos_tfidf_df = pd.DataFrame({'Word': pos_feature_names, 'Positive TF-IDF Score': pos_tfidf_scores})\n",
    "pos_tfidf_df = pos_tfidf_df.sort_values(by='Positive TF-IDF Score', ascending=False)\n",
    "\n",
    "print(pos_tfidf_df.head(50)) "
   ]
  },
  {
   "cell_type": "code",
   "execution_count": 112,
   "metadata": {},
   "outputs": [
    {
     "data": {
      "image/png": "[encoded data removed]",
      "text/plain": [
       "<Figure size 720x432 with 1 Axes>"
      ]
     },
     "metadata": {
      "needs_background": "light"
     },
     "output_type": "display_data"
    }
   ],
   "source": [
    "#Graphing the top 15 words in positive tweets\n",
    "#and their TF-IDF scores\n",
    "\n",
    "p_top_terms = pos_tfidf_df.head(15)\n",
    "\n",
    "plt.figure(figsize=(10, 6))\n",
    "plt.barh(p_top_terms['Word'], p_top_terms['Positive TF-IDF Score'], color='blue')\n",
    "plt.xlabel('TF-IDF Score')\n",
    "plt.ylabel('Word')\n",
    "plt.title('Top 15 Words in Positive Tweets by TF-IDF Score')\n",
    "plt.gca().invert_yaxis()  # Invert the y-axis to display the highest score at the top\n",
    "plt.show()"
   ]
  },
  {
   "cell_type": "code",
   "execution_count": 113,
   "metadata": {},
   "outputs": [
    {
     "name": "stdout",
     "output_type": "stream",
     "text": [
      "           Word  Neutral TF-IDF Score\n",
      "2181     google              0.045073\n",
      "232       apple              0.041290\n",
      "2667       ipad              0.040956\n",
      "4872      store              0.035034\n",
      "2886     launch              0.026663\n",
      "3440        new              0.026190\n",
      "2671     iphone              0.025424\n",
      "338      austin              0.025278\n",
      "900      circle              0.024632\n",
      "4706     social              0.023099\n",
      "5218      today              0.020048\n",
      "174         amp              0.019936\n",
      "3897        pop              0.019434\n",
      "3435    network              0.019349\n",
      "3596       open              0.017592\n",
      "738        call              0.016203\n",
      "227         app              0.014592\n",
      "2126        get              0.014498\n",
      "183     android              0.014397\n",
      "2971       line              0.014308\n",
      "5519        via              0.014024\n",
      "3093      major              0.013674\n",
      "3922   possibly              0.011961\n",
      "2162         go              0.011589\n",
      "2002       free              0.011474\n",
      "3296     mobile              0.011245\n",
      "5103  temporary              0.010968\n",
      "3708      party              0.010743\n",
      "5003      sxswi              0.010482\n",
      "850       check              0.009877\n",
      "1496   downtown              0.008860\n",
      "983        come              0.008242\n",
      "4464        see              0.008188\n",
      "3902      popup              0.007930\n",
      "3095       make              0.007789\n",
      "5695        win              0.007457\n",
      "4355      rumor              0.007350\n",
      "3114        map              0.007341\n",
      "2838       know              0.007285\n",
      "4501        set              0.007141\n",
      "3166      mayer              0.007031\n",
      "1320     design              0.006977\n",
      "5199       time              0.006880\n",
      "1254        day              0.006663\n",
      "3578        one              0.006581\n",
      "3128    marissa              0.006572\n",
      "5464        use              0.006557\n",
      "3417       need              0.006552\n",
      "4402        say              0.006430\n",
      "2962       like              0.006185\n"
     ]
    }
   ],
   "source": [
    "#Getting the tf-idf scores for the\n",
    "#words in tweets with neutral sentiment\n",
    "\n",
    "neut_documents = neutral_df['preprocessed_text']\n",
    "neut_tfidf_vectorizer = TfidfVectorizer()\n",
    "neut_tfidf_matrix = neut_tfidf_vectorizer.fit_transform(neut_documents)\n",
    "\n",
    "neut_feature_names = neut_tfidf_vectorizer.get_feature_names()\n",
    "neut_tfidf_scores = neut_tfidf_matrix.mean(axis=0).A1\n",
    "\n",
    "neut_tfidf_df = pd.DataFrame({'Word': neut_feature_names, 'Neutral TF-IDF Score': neut_tfidf_scores})\n",
    "neut_tfidf_df = neut_tfidf_df.sort_values(by='Neutral TF-IDF Score', ascending=False)\n",
    "\n",
    "print(neut_tfidf_df.head(50)) "
   ]
  },
  {
   "cell_type": "code",
   "execution_count": 114,
   "metadata": {},
   "outputs": [
    {
     "data": {
      "image/png": "[encoded data removed]",
      "text/plain": [
       "<Figure size 720x432 with 1 Axes>"
      ]
     },
     "metadata": {
      "needs_background": "light"
     },
     "output_type": "display_data"
    }
   ],
   "source": [
    "#Graphing the top 15 words in neutral tweets\n",
    "#and their TF-IDF scores\n",
    "\n",
    "neutral_top_terms = neut_tfidf_df.head(15)\n",
    "\n",
    "\n",
    "plt.figure(figsize=(10, 6))\n",
    "plt.barh(neutral_top_terms['Word'], neutral_top_terms['Neutral TF-IDF Score'], color='orange')\n",
    "plt.xlabel('TF-IDF Score')\n",
    "plt.ylabel('Word')\n",
    "plt.title('Top 15 Words in Neutral Tweets by TF-IDF Score')\n",
    "plt.gca().invert_yaxis()  # Invert the y-axis to display the highest score at the top\n",
    "plt.show()"
   ]
  },
  {
   "cell_type": "code",
   "execution_count": 115,
   "metadata": {},
   "outputs": [
    {
     "name": "stdout",
     "output_type": "stream",
     "text": [
      "          Word  Negative TF-IDF Score\n",
      "803       ipad               0.051201\n",
      "807     iphone               0.042071\n",
      "660     google               0.039108\n",
      "76       apple               0.035982\n",
      "72         app               0.023019\n",
      "1456     store               0.018800\n",
      "1017       new               0.016882\n",
      "242     circle               0.016610\n",
      "881       like               0.016608\n",
      "642        get               0.015943\n",
      "388     design               0.015260\n",
      "1407    social               0.014395\n",
      "1008      need               0.013514\n",
      "80        apps               0.013511\n",
      "651         go               0.013469\n",
      "861     launch               0.013144\n",
      "1111    people               0.012549\n",
      "1533     think               0.012446\n",
      "96      austin               0.012027\n",
      "54     android               0.011446\n",
      "901       look               0.011415\n",
      "885       line               0.011273\n",
      "706   headache               0.010829\n",
      "1622       use               0.010820\n",
      "1502      take               0.010468\n",
      "1545      time               0.010315\n",
      "206       call               0.010236\n",
      "1552     today               0.010116\n",
      "267       come               0.010072\n",
      "1061       one               0.009942\n",
      "1157       pop               0.009925\n",
      "366        day               0.009759\n",
      "538       fail               0.009647\n",
      "51         amp               0.009354\n",
      "1319       say               0.009300\n",
      "898       long               0.009203\n",
      "273    company               0.009183\n",
      "48     america               0.009182\n",
      "1018      news               0.009132\n",
      "133    battery               0.008927\n",
      "549    fascist               0.008893\n",
      "1728      year               0.008847\n",
      "1332       see               0.008723\n",
      "646       give               0.008529\n",
      "1015   network               0.008493\n",
      "921       make               0.008381\n",
      "1504      talk               0.008321\n",
      "1712     would               0.008220\n",
      "1117     phone               0.008047\n",
      "1655      wait               0.007964\n"
     ]
    }
   ],
   "source": [
    "#Getting the tf-idf scores for the\n",
    "#words in tweets with negative sentiment\n",
    "\n",
    "neg_documents = negative_df['preprocessed_text']\n",
    "neg_tfidf_vectorizer = TfidfVectorizer()\n",
    "neg_tfidf_matrix = neg_tfidf_vectorizer.fit_transform(neg_documents)\n",
    "\n",
    "neg_feature_names = neg_tfidf_vectorizer.get_feature_names()\n",
    "neg_tfidf_scores = neg_tfidf_matrix.mean(axis=0).A1\n",
    "\n",
    "neg_tfidf_df = pd.DataFrame({'Word': neg_feature_names, 'Negative TF-IDF Score': neg_tfidf_scores})\n",
    "neg_tfidf_df = neg_tfidf_df.sort_values(by='Negative TF-IDF Score', ascending=False)\n",
    "\n",
    "print(neg_tfidf_df.head(50)) "
   ]
  },
  {
   "cell_type": "code",
   "execution_count": 116,
   "metadata": {},
   "outputs": [
    {
     "data": {
      "image/png": "[encoded data removed]",
      "text/plain": [
       "<Figure size 720x432 with 1 Axes>"
      ]
     },
     "metadata": {
      "needs_background": "light"
     },
     "output_type": "display_data"
    }
   ],
   "source": [
    "#Graphing the top 15 words in neutral tweets\n",
    "#and their TF-IDF scores\n",
    "\n",
    "n_top_terms = neg_tfidf_df.head(15)\n",
    "\n",
    "plt.figure(figsize=(10, 6))\n",
    "plt.barh(n_top_terms['Word'], n_top_terms['Negative TF-IDF Score'], color='red')\n",
    "plt.xlabel('TF-IDF Score')\n",
    "plt.ylabel('Word')\n",
    "plt.title('Top 15 Words in Negative Tweets by TF-IDF Score')\n",
    "plt.gca().invert_yaxis()  # Invert the y-axis to display the highest score at the top\n",
    "plt.show()"
   ]
  },
  {
   "cell_type": "markdown",
   "metadata": {},
   "source": [
    "Focusing on the positive and negative tweets, as these tweets are more pertinent to our marketing strategy, we noticed that Apple is much more prevalent in positive tweets compared to our competitor Google, and Google is more associated with negative sentiment tweets. We also saw that the words Store and pop are more common in positive tweets than negative tweets, likely referring to the temporary pop-up Apple Store at SXSW. We also noticed the word ‘launch’ is more common in positive sentiment tweets, and iPhone seems relatively more frequent in negative tweets than positive.\n",
    "\n"
   ]
  },
  {
   "cell_type": "markdown",
   "metadata": {},
   "source": [
    "# Conclusions and Recommendations"
   ]
  },
  {
   "cell_type": "markdown",
   "metadata": {},
   "source": [
    "Based on the the most important features in our model and their association to positive or negative tweets, we have made some conclusions and recommendations for our marketing strategy going forward.\n",
    "\n",
    "1. Continue overall marketing strategy, as we are outperforming Google, our competitor, in terms of tweets with positive sentiment. Apple should consider continuing to have a presence with speakers and presentations, as well as with social media interaction with the event.\n",
    "\n",
    "\n",
    "2. The temporary pop-up store was a success based on the overall positive sentiment on twitter. Therefore, Apple should continuing implementing the pop-up store at SXSW and similar types of events.\n",
    "\n",
    "\n",
    "3. Because 'Launch' was particularly associated with positive tweets at SXSW, Apple should continue heavily marketing its new and forthcoming products by marketing and showing its launches both at events and on social media. \n",
    "\n",
    "\n",
    "4. Address the negative sentiment around iPhone. Apple specifically could look at the tweets with negative sentiment directed at iPhone, and try to address the issues that people have had with the product. For example, iPhone battery seems to have been a common topic among negative tweets about the iPhone. Apple could use information like this to improve its marketing strategy for improved battery technology and performance in the future."
   ]
  }
 ],
 "metadata": {
  "kernelspec": {
   "display_name": "Python (learn-env)",
   "language": "python",
   "name": "learn-env"
  },
  "language_info": {
   "codemirror_mode": {
    "name": "ipython",
    "version": 3
   },
   "file_extension": ".py",
   "mimetype": "text/x-python",
   "name": "python",
   "nbconvert_exporter": "python",
   "pygments_lexer": "ipython3",
   "version": "3.8.5"
  }
 },
 "nbformat": 4,
 "nbformat_minor": 4
}
