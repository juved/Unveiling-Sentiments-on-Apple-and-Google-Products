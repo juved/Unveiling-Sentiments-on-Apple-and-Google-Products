{
 "cells": [
  {
   "cell_type": "code",
   "execution_count": 130,
   "metadata": {
    "scrolled": true
   },
   "outputs": [
    {
     "name": "stderr",
     "output_type": "stream",
     "text": [
      "[nltk_data] Downloading package wordnet to /Users/jayiraj/nltk_data...\n",
      "[nltk_data]   Package wordnet is already up-to-date!\n",
      "[nltk_data] Downloading package tagsets to /Users/jayiraj/nltk_data...\n",
      "[nltk_data]   Package tagsets is already up-to-date!\n",
      "[nltk_data] Downloading package averaged_perceptron_tagger to\n",
      "[nltk_data]     /Users/jayiraj/nltk_data...\n",
      "[nltk_data]   Package averaged_perceptron_tagger is already up-to-\n",
      "[nltk_data]       date!\n"
     ]
    },
    {
     "data": {
      "text/plain": [
       "True"
      ]
     },
     "execution_count": 130,
     "metadata": {},
     "output_type": "execute_result"
    }
   ],
   "source": [
    "from collections import defaultdict\n",
    "import numpy as np\n",
    "import pandas as pd\n",
    "from sklearn.model_selection import train_test_split\n",
    "from nltk.probability import FreqDist\n",
    "from nltk.corpus import stopwords\n",
    "from nltk.tokenize import regexp_tokenize, word_tokenize, RegexpTokenizer, TweetTokenizer \n",
    "  \n",
    "from nltk import pos_tag\n",
    "from nltk.corpus import stopwords, wordnet\n",
    "from nltk.stem import WordNetLemmatizer\n",
    "import matplotlib.pyplot as plt\n",
    "import string\n",
    "import re\n",
    "from sklearn.ensemble import RandomForestClassifier\n",
    "from sklearn.naive_bayes import MultinomialNB\n",
    "from sklearn.metrics import accuracy_score, precision_score, ConfusionMatrixDisplay, confusion_matrix, recall_score, f1_score\n",
    "from sklearn.utils.class_weight import compute_sample_weight\n",
    "from sklearn.preprocessing import LabelEncoder\n",
    "from sklearn.model_selection import cross_val_score\n",
    "\n",
    "# Notice that these vectorizers are from `sklearn` and not `nltk`!\n",
    "from sklearn.feature_extraction.text import CountVectorizer, TfidfVectorizer,HashingVectorizer\n",
    "\n",
    "from sklearn.pipeline import Pipeline\n",
    "from sklearn.model_selection import GridSearchCV\n",
    "\n",
    "import nltk\n",
    "nltk.download('wordnet')\n",
    "nltk.download('tagsets')\n",
    "nltk.download('averaged_perceptron_tagger')"
   ]
  },
  {
   "cell_type": "code",
   "execution_count": 131,
   "metadata": {},
   "outputs": [],
   "source": [
    "df= pd.read_csv('../data/judge-1377884607_tweet_product_company.csv', encoding='latin1')"
   ]
  },
  {
   "cell_type": "code",
   "execution_count": 132,
   "metadata": {
    "scrolled": true
   },
   "outputs": [
    {
     "data": {
      "text/html": [
       "<div>\n",
       "<style scoped>\n",
       "    .dataframe tbody tr th:only-of-type {\n",
       "        vertical-align: middle;\n",
       "    }\n",
       "\n",
       "    .dataframe tbody tr th {\n",
       "        vertical-align: top;\n",
       "    }\n",
       "\n",
       "    .dataframe thead th {\n",
       "        text-align: right;\n",
       "    }\n",
       "</style>\n",
       "<table border=\"1\" class=\"dataframe\">\n",
       "  <thead>\n",
       "    <tr style=\"text-align: right;\">\n",
       "      <th></th>\n",
       "      <th>tweet_text</th>\n",
       "      <th>emotion_in_tweet_is_directed_at</th>\n",
       "      <th>is_there_an_emotion_directed_at_a_brand_or_product</th>\n",
       "    </tr>\n",
       "  </thead>\n",
       "  <tbody>\n",
       "    <tr>\n",
       "      <th>0</th>\n",
       "      <td>.@wesley83 I have a 3G iPhone. After 3 hrs twe...</td>\n",
       "      <td>iPhone</td>\n",
       "      <td>Negative emotion</td>\n",
       "    </tr>\n",
       "    <tr>\n",
       "      <th>1</th>\n",
       "      <td>@jessedee Know about @fludapp ? Awesome iPad/i...</td>\n",
       "      <td>iPad or iPhone App</td>\n",
       "      <td>Positive emotion</td>\n",
       "    </tr>\n",
       "    <tr>\n",
       "      <th>2</th>\n",
       "      <td>@swonderlin Can not wait for #iPad 2 also. The...</td>\n",
       "      <td>iPad</td>\n",
       "      <td>Positive emotion</td>\n",
       "    </tr>\n",
       "    <tr>\n",
       "      <th>3</th>\n",
       "      <td>@sxsw I hope this year's festival isn't as cra...</td>\n",
       "      <td>iPad or iPhone App</td>\n",
       "      <td>Negative emotion</td>\n",
       "    </tr>\n",
       "    <tr>\n",
       "      <th>4</th>\n",
       "      <td>@sxtxstate great stuff on Fri #SXSW: Marissa M...</td>\n",
       "      <td>Google</td>\n",
       "      <td>Positive emotion</td>\n",
       "    </tr>\n",
       "  </tbody>\n",
       "</table>\n",
       "</div>"
      ],
      "text/plain": [
       "                                          tweet_text  \\\n",
       "0  .@wesley83 I have a 3G iPhone. After 3 hrs twe...   \n",
       "1  @jessedee Know about @fludapp ? Awesome iPad/i...   \n",
       "2  @swonderlin Can not wait for #iPad 2 also. The...   \n",
       "3  @sxsw I hope this year's festival isn't as cra...   \n",
       "4  @sxtxstate great stuff on Fri #SXSW: Marissa M...   \n",
       "\n",
       "  emotion_in_tweet_is_directed_at  \\\n",
       "0                          iPhone   \n",
       "1              iPad or iPhone App   \n",
       "2                            iPad   \n",
       "3              iPad or iPhone App   \n",
       "4                          Google   \n",
       "\n",
       "  is_there_an_emotion_directed_at_a_brand_or_product  \n",
       "0                                   Negative emotion  \n",
       "1                                   Positive emotion  \n",
       "2                                   Positive emotion  \n",
       "3                                   Negative emotion  \n",
       "4                                   Positive emotion  "
      ]
     },
     "execution_count": 132,
     "metadata": {},
     "output_type": "execute_result"
    }
   ],
   "source": [
    "df.head()"
   ]
  },
  {
   "cell_type": "code",
   "execution_count": 133,
   "metadata": {
    "scrolled": false
   },
   "outputs": [
    {
     "data": {
      "text/html": [
       "<div>\n",
       "<style scoped>\n",
       "    .dataframe tbody tr th:only-of-type {\n",
       "        vertical-align: middle;\n",
       "    }\n",
       "\n",
       "    .dataframe tbody tr th {\n",
       "        vertical-align: top;\n",
       "    }\n",
       "\n",
       "    .dataframe thead th {\n",
       "        text-align: right;\n",
       "    }\n",
       "</style>\n",
       "<table border=\"1\" class=\"dataframe\">\n",
       "  <thead>\n",
       "    <tr style=\"text-align: right;\">\n",
       "      <th></th>\n",
       "      <th>tweet_text</th>\n",
       "      <th>products</th>\n",
       "      <th>emotions</th>\n",
       "    </tr>\n",
       "  </thead>\n",
       "  <tbody>\n",
       "    <tr>\n",
       "      <th>0</th>\n",
       "      <td>.@wesley83 I have a 3G iPhone. After 3 hrs twe...</td>\n",
       "      <td>iPhone</td>\n",
       "      <td>Negative emotion</td>\n",
       "    </tr>\n",
       "    <tr>\n",
       "      <th>1</th>\n",
       "      <td>@jessedee Know about @fludapp ? Awesome iPad/i...</td>\n",
       "      <td>iPad or iPhone App</td>\n",
       "      <td>Positive emotion</td>\n",
       "    </tr>\n",
       "    <tr>\n",
       "      <th>2</th>\n",
       "      <td>@swonderlin Can not wait for #iPad 2 also. The...</td>\n",
       "      <td>iPad</td>\n",
       "      <td>Positive emotion</td>\n",
       "    </tr>\n",
       "    <tr>\n",
       "      <th>3</th>\n",
       "      <td>@sxsw I hope this year's festival isn't as cra...</td>\n",
       "      <td>iPad or iPhone App</td>\n",
       "      <td>Negative emotion</td>\n",
       "    </tr>\n",
       "    <tr>\n",
       "      <th>4</th>\n",
       "      <td>@sxtxstate great stuff on Fri #SXSW: Marissa M...</td>\n",
       "      <td>Google</td>\n",
       "      <td>Positive emotion</td>\n",
       "    </tr>\n",
       "  </tbody>\n",
       "</table>\n",
       "</div>"
      ],
      "text/plain": [
       "                                          tweet_text            products  \\\n",
       "0  .@wesley83 I have a 3G iPhone. After 3 hrs twe...              iPhone   \n",
       "1  @jessedee Know about @fludapp ? Awesome iPad/i...  iPad or iPhone App   \n",
       "2  @swonderlin Can not wait for #iPad 2 also. The...                iPad   \n",
       "3  @sxsw I hope this year's festival isn't as cra...  iPad or iPhone App   \n",
       "4  @sxtxstate great stuff on Fri #SXSW: Marissa M...              Google   \n",
       "\n",
       "           emotions  \n",
       "0  Negative emotion  \n",
       "1  Positive emotion  \n",
       "2  Positive emotion  \n",
       "3  Negative emotion  \n",
       "4  Positive emotion  "
      ]
     },
     "execution_count": 133,
     "metadata": {},
     "output_type": "execute_result"
    }
   ],
   "source": [
    "# Rename the columns\n",
    "df = df.rename(columns={\n",
    "    'emotion_in_tweet_is_directed_at': 'products',\n",
    "    'is_there_an_emotion_directed_at_a_brand_or_product': 'emotions'\n",
    "})\n",
    "\n",
    "df.head()"
   ]
  },
  {
   "cell_type": "code",
   "execution_count": 134,
   "metadata": {},
   "outputs": [],
   "source": [
    "df['emotions'] = df['emotions'].replace('No emotion toward brand or product', 'Neutral')\n",
    "df['emotions'] = df['emotions'].replace('Positive emotion', 'Positive')\n",
    "df['emotions'] = df['emotions'].replace('Negative emotion', 'Negative')"
   ]
  },
  {
   "cell_type": "code",
   "execution_count": 135,
   "metadata": {},
   "outputs": [],
   "source": [
    "df = df[df['emotions'].isin(['Neutral', 'Negative', 'Positive'])]"
   ]
  },
  {
   "cell_type": "code",
   "execution_count": 136,
   "metadata": {
    "scrolled": true
   },
   "outputs": [
    {
     "data": {
      "text/plain": [
       "Neutral     5389\n",
       "Positive    2978\n",
       "Negative     570\n",
       "Name: emotions, dtype: int64"
      ]
     },
     "execution_count": 136,
     "metadata": {},
     "output_type": "execute_result"
    }
   ],
   "source": [
    "df['emotions'].value_counts()"
   ]
  },
  {
   "cell_type": "code",
   "execution_count": 137,
   "metadata": {
    "scrolled": true
   },
   "outputs": [],
   "source": [
    "#Map emotions to target values\n",
    "#label_encoder = LabelEncoder()\n",
    "\n",
    "# Fitting the encoder to the 'emotions' column and transforming it\n",
    "#df['target'] = label_encoder.fit_transform(df['emotions'])\n",
    "\n",
    "# Checking the first few rows to see the result\n",
    "#df.head()\n"
   ]
  },
  {
   "cell_type": "code",
   "execution_count": 138,
   "metadata": {
    "scrolled": true
   },
   "outputs": [
    {
     "data": {
      "text/plain": [
       "Neutral     5389\n",
       "Positive    2978\n",
       "Negative     570\n",
       "Name: emotions, dtype: int64"
      ]
     },
     "execution_count": 138,
     "metadata": {},
     "output_type": "execute_result"
    }
   ],
   "source": [
    "df['emotions'].value_counts()"
   ]
  },
  {
   "cell_type": "code",
   "execution_count": 139,
   "metadata": {
    "scrolled": false
   },
   "outputs": [
    {
     "data": {
      "text/plain": [
       "tweet_text       1\n",
       "products      5655\n",
       "emotions         0\n",
       "dtype: int64"
      ]
     },
     "execution_count": 139,
     "metadata": {},
     "output_type": "execute_result"
    }
   ],
   "source": [
    "df.isna().sum()"
   ]
  },
  {
   "cell_type": "code",
   "execution_count": 140,
   "metadata": {},
   "outputs": [],
   "source": [
    "df = df.dropna(subset=['tweet_text'])"
   ]
  },
  {
   "cell_type": "code",
   "execution_count": 141,
   "metadata": {},
   "outputs": [
    {
     "data": {
      "text/plain": [
       "tweet_text       0\n",
       "products      5654\n",
       "emotions         0\n",
       "dtype: int64"
      ]
     },
     "execution_count": 141,
     "metadata": {},
     "output_type": "execute_result"
    }
   ],
   "source": [
    "df.isna().sum()"
   ]
  },
  {
   "cell_type": "code",
   "execution_count": 142,
   "metadata": {},
   "outputs": [],
   "source": [
    "# Bring in stopwords\n",
    "\n",
    "sw = stopwords.words('english')"
   ]
  },
  {
   "cell_type": "code",
   "execution_count": 143,
   "metadata": {},
   "outputs": [],
   "source": [
    "# Add custom words to the stopword list\n",
    "custom_stopwords = ['sxsw', 'mention','link','rt', 'for','quot']\n",
    "\n",
    "# Extend the NLTK stopword list with custom stopwords\n",
    "sw.extend(custom_stopwords)"
   ]
  },
  {
   "cell_type": "code",
   "execution_count": 144,
   "metadata": {},
   "outputs": [],
   "source": [
    "def get_wordnet_pos(treebank_tag):\n",
    "    '''\n",
    "    Translate nltk POS to wordnet tags\n",
    "    '''\n",
    "    if treebank_tag.startswith('J'):\n",
    "        return wordnet.ADJ\n",
    "    elif treebank_tag.startswith('V'):\n",
    "        return wordnet.VERB\n",
    "    elif treebank_tag.startswith('N'):\n",
    "        return wordnet.NOUN\n",
    "    elif treebank_tag.startswith('R'):\n",
    "        return wordnet.ADV\n",
    "    else:\n",
    "        return wordnet.NOUN"
   ]
  },
  {
   "cell_type": "code",
   "execution_count": 145,
   "metadata": {},
   "outputs": [],
   "source": [
    "lemmatizer = WordNetLemmatizer() "
   ]
  },
  {
   "cell_type": "code",
   "execution_count": 146,
   "metadata": {},
   "outputs": [],
   "source": [
    "def doc_preparer(doc, stop_words=sw):\n",
    "    '''\n",
    "    \n",
    "    :param doc: column from database\n",
    "    :return: a document string with words which have been \n",
    "            lemmatized, \n",
    "            parsed for stopwords, \n",
    "            made lowercase,\n",
    "            and stripped of punctuation and numbers.\n",
    "    '''\n",
    "    \n",
    "    regex_token = RegexpTokenizer(r\"([a-zA-Z]+(?:’[a-z]+)?)\")\n",
    "    tokens = regex_token.tokenize(doc)\n",
    "    lowered_t = [word.lower() for word in tokens]\n",
    "    no_sw_t = [word for word in lowered_t if word not in sw]\n",
    "    # print(doc)\n",
    "    tokens_tagged = pos_tag(no_sw_t)\n",
    "    pos_tokens = [(word[0], get_wordnet_pos(word[1])) for word in tokens_tagged] \n",
    "    tokens_lemm = [lemmatizer.lemmatize(word[0], word[1]) for word in pos_tokens]\n",
    "    return ' '.join(tokens_lemm)"
   ]
  },
  {
   "cell_type": "code",
   "execution_count": 165,
   "metadata": {
    "scrolled": false
   },
   "outputs": [],
   "source": [
    "# Create a new column in your DataFrame for the preprocessed text\n",
    "df['preprocessed_text'] = df['tweet_text'].apply(lambda x: doc_preparer(x))\n",
    "\n",
    "# Now you can perform EDA on 'preprocessed_text'\n",
    "# For example, token frequency analysis\n",
    "from collections import Counter\n",
    "all_words = ' '.join(df['preprocessed_text']).split()\n",
    "word_freq = Counter(all_words)\n"
   ]
  },
  {
   "cell_type": "markdown",
   "metadata": {},
   "source": [
    "# Word Frequency By Target"
   ]
  },
  {
   "cell_type": "code",
   "execution_count": 118,
   "metadata": {},
   "outputs": [],
   "source": [
    "positive_df = df[df['emotions']=='Positive']\n",
    "neutral_df = df[df['emotions']== 'Neutral']\n",
    "negative_df = df[df['emotions']=='Negative']"
   ]
  },
  {
   "cell_type": "code",
   "execution_count": 119,
   "metadata": {
    "scrolled": true
   },
   "outputs": [
    {
     "data": {
      "text/html": [
       "<div>\n",
       "<style scoped>\n",
       "    .dataframe tbody tr th:only-of-type {\n",
       "        vertical-align: middle;\n",
       "    }\n",
       "\n",
       "    .dataframe tbody tr th {\n",
       "        vertical-align: top;\n",
       "    }\n",
       "\n",
       "    .dataframe thead th {\n",
       "        text-align: right;\n",
       "    }\n",
       "</style>\n",
       "<table border=\"1\" class=\"dataframe\">\n",
       "  <thead>\n",
       "    <tr style=\"text-align: right;\">\n",
       "      <th></th>\n",
       "      <th>tweet_text</th>\n",
       "      <th>products</th>\n",
       "      <th>emotions</th>\n",
       "      <th>preprocessed_text</th>\n",
       "    </tr>\n",
       "  </thead>\n",
       "  <tbody>\n",
       "    <tr>\n",
       "      <th>5</th>\n",
       "      <td>@teachntech00 New iPad Apps For #SpeechTherapy...</td>\n",
       "      <td>NaN</td>\n",
       "      <td>Neutral</td>\n",
       "      <td>teachntech new ipad apps speechtherapy communi...</td>\n",
       "    </tr>\n",
       "    <tr>\n",
       "      <th>16</th>\n",
       "      <td>Holler Gram for iPad on the iTunes App Store -...</td>\n",
       "      <td>NaN</td>\n",
       "      <td>Neutral</td>\n",
       "      <td>holler gram ipad itunes app store http co kfn ...</td>\n",
       "    </tr>\n",
       "    <tr>\n",
       "      <th>32</th>\n",
       "      <td>Attn: All  #SXSW frineds, @mention Register fo...</td>\n",
       "      <td>NaN</td>\n",
       "      <td>Neutral</td>\n",
       "      <td>attn frineds register gdgtlive see cobra irada...</td>\n",
       "    </tr>\n",
       "    <tr>\n",
       "      <th>33</th>\n",
       "      <td>Anyone at  #sxsw want to sell their old iPad?</td>\n",
       "      <td>NaN</td>\n",
       "      <td>Neutral</td>\n",
       "      <td>anyone want sell old ipad</td>\n",
       "    </tr>\n",
       "    <tr>\n",
       "      <th>34</th>\n",
       "      <td>Anyone at  #SXSW who bought the new iPad want ...</td>\n",
       "      <td>NaN</td>\n",
       "      <td>Neutral</td>\n",
       "      <td>anyone buy new ipad want sell old ipad</td>\n",
       "    </tr>\n",
       "    <tr>\n",
       "      <th>...</th>\n",
       "      <td>...</td>\n",
       "      <td>...</td>\n",
       "      <td>...</td>\n",
       "      <td>...</td>\n",
       "    </tr>\n",
       "    <tr>\n",
       "      <th>9087</th>\n",
       "      <td>@mention Yup, but I don't have a third app yet...</td>\n",
       "      <td>NaN</td>\n",
       "      <td>Neutral</td>\n",
       "      <td>yup third app yet android suggestion cc</td>\n",
       "    </tr>\n",
       "    <tr>\n",
       "      <th>9089</th>\n",
       "      <td>Wave, buzz... RT @mention We interrupt your re...</td>\n",
       "      <td>NaN</td>\n",
       "      <td>Neutral</td>\n",
       "      <td>wave buzz interrupt regularly schedule geek pr...</td>\n",
       "    </tr>\n",
       "    <tr>\n",
       "      <th>9090</th>\n",
       "      <td>Google's Zeiger, a physician never reported po...</td>\n",
       "      <td>NaN</td>\n",
       "      <td>Neutral</td>\n",
       "      <td>google zeiger physician never report potential...</td>\n",
       "    </tr>\n",
       "    <tr>\n",
       "      <th>9091</th>\n",
       "      <td>Some Verizon iPhone customers complained their...</td>\n",
       "      <td>NaN</td>\n",
       "      <td>Neutral</td>\n",
       "      <td>verizon iphone customer complain time fell bac...</td>\n",
       "    </tr>\n",
       "    <tr>\n",
       "      <th>9092</th>\n",
       "      <td>Ï¡Ïàü_ÊÎÒ£Áââ_£â_ÛâRT @...</td>\n",
       "      <td>NaN</td>\n",
       "      <td>Neutral</td>\n",
       "      <td>google test check offer</td>\n",
       "    </tr>\n",
       "  </tbody>\n",
       "</table>\n",
       "<p>5388 rows × 4 columns</p>\n",
       "</div>"
      ],
      "text/plain": [
       "                                             tweet_text products emotions  \\\n",
       "5     @teachntech00 New iPad Apps For #SpeechTherapy...      NaN  Neutral   \n",
       "16    Holler Gram for iPad on the iTunes App Store -...      NaN  Neutral   \n",
       "32    Attn: All  #SXSW frineds, @mention Register fo...      NaN  Neutral   \n",
       "33        Anyone at  #sxsw want to sell their old iPad?      NaN  Neutral   \n",
       "34    Anyone at  #SXSW who bought the new iPad want ...      NaN  Neutral   \n",
       "...                                                 ...      ...      ...   \n",
       "9087  @mention Yup, but I don't have a third app yet...      NaN  Neutral   \n",
       "9089  Wave, buzz... RT @mention We interrupt your re...      NaN  Neutral   \n",
       "9090  Google's Zeiger, a physician never reported po...      NaN  Neutral   \n",
       "9091  Some Verizon iPhone customers complained their...      NaN  Neutral   \n",
       "9092  Ï¡Ïàü_ÊÎÒ£Áââ_£â_ÛâRT @...      NaN  Neutral   \n",
       "\n",
       "                                      preprocessed_text  \n",
       "5     teachntech new ipad apps speechtherapy communi...  \n",
       "16    holler gram ipad itunes app store http co kfn ...  \n",
       "32    attn frineds register gdgtlive see cobra irada...  \n",
       "33                            anyone want sell old ipad  \n",
       "34               anyone buy new ipad want sell old ipad  \n",
       "...                                                 ...  \n",
       "9087            yup third app yet android suggestion cc  \n",
       "9089  wave buzz interrupt regularly schedule geek pr...  \n",
       "9090  google zeiger physician never report potential...  \n",
       "9091  verizon iphone customer complain time fell bac...  \n",
       "9092                            google test check offer  \n",
       "\n",
       "[5388 rows x 4 columns]"
      ]
     },
     "execution_count": 119,
     "metadata": {},
     "output_type": "execute_result"
    }
   ],
   "source": [
    "neutral_df"
   ]
  },
  {
   "cell_type": "code",
   "execution_count": 121,
   "metadata": {},
   "outputs": [
    {
     "name": "stdout",
     "output_type": "stream",
     "text": [
      "[('ipad', 2961), ('google', 2621), ('apple', 2309), ('iphone', 1560), ('store', 1508), ('new', 1086), ('austin', 959), ('amp', 834), ('app', 821), ('launch', 817), ('get', 693), ('circle', 673), ('social', 658), ('pop', 601), ('android', 594), ('today', 576), ('open', 520), ('go', 477), ('network', 473), ('line', 452), ('via', 428), ('party', 401), ('call', 395), ('free', 390), ('mobile', 357), ('come', 347), ('sxswi', 340), ('win', 313), ('one', 313), ('time', 309), ('see', 308), ('check', 305), ('like', 303), ('major', 303), ('use', 291), ('day', 288), ('make', 285), ('map', 273), ('w', 269), ('u', 266), ('temporary', 264), ('need', 240), ('possibly', 240), ('look', 233), ('great', 226), ('people', 226), ('design', 225), ('downtown', 225), ('apps', 223), ('mayer', 219)]\n"
     ]
    }
   ],
   "source": [
    "positive_words = ' '.join(positive_df['preprocessed_text']).split()\n",
    "\n",
    "# Compute the frequency distribution\n",
    "pos_freq_dist = FreqDist(positive_words)\n",
    "\n",
    "# Display the most common words\n",
    "print(freq_dist.most_common(50))"
   ]
  },
  {
   "cell_type": "code",
   "execution_count": 122,
   "metadata": {},
   "outputs": [
    {
     "name": "stdout",
     "output_type": "stream",
     "text": [
      "[('google', 1733), ('ipad', 1501), ('apple', 1249), ('store', 899), ('iphone', 843), ('new', 680), ('austin', 634), ('amp', 601), ('launch', 593), ('circle', 512), ('social', 503), ('today', 441), ('pop', 366), ('network', 362), ('app', 360), ('android', 359), ('get', 359), ('open', 329), ('call', 304), ('via', 282), ('line', 282), ('free', 262), ('go', 261), ('mobile', 242), ('party', 241), ('sxswi', 231), ('major', 230), ('check', 197), ('possibly', 191), ('come', 181), ('make', 178), ('see', 177), ('u', 175), ('temporary', 170), ('win', 155), ('w', 149), ('time', 145), ('use', 143), ('map', 143), ('mayer', 140), ('like', 140), ('design', 140), ('one', 139), ('know', 139), ('day', 138), ('need', 138), ('downtown', 136), ('say', 134), ('popup', 131), ('talk', 129)]\n"
     ]
    }
   ],
   "source": [
    "neutral_words = ' '.join(neutral_df['preprocessed_text']).split()\n",
    "\n",
    "# Compute the frequency distribution\n",
    "neut_freq_dist = FreqDist(neutral_words)\n",
    "\n",
    "# Display the most common words\n",
    "print(neut_freq_dist.most_common(50))"
   ]
  },
  {
   "cell_type": "code",
   "execution_count": 123,
   "metadata": {},
   "outputs": [
    {
     "name": "stdout",
     "output_type": "stream",
     "text": [
      "[('ipad', 211), ('iphone', 166), ('google', 152), ('apple', 123), ('app', 60), ('store', 47), ('new', 45), ('like', 43), ('get', 42), ('circle', 37), ('need', 35), ('go', 32), ('social', 31), ('design', 30), ('apps', 30), ('people', 29), ('launch', 29), ('austin', 28), ('think', 28), ('android', 24), ('use', 24), ('take', 24), ('look', 24), ('line', 23), ('one', 23), ('time', 23), ('come', 22), ('amp', 22), ('day', 22), ('say', 21), ('call', 21), ('today', 21), ('fail', 20), ('would', 19), ('see', 18), ('news', 18), ('give', 18), ('pop', 18), ('good', 18), ('network', 18), ('long', 18), ('phone', 18), ('make', 18), ('year', 17), ('headache', 17), ('battery', 17), ('product', 17), ('talk', 17), ('user', 16), ('wait', 16)]\n"
     ]
    }
   ],
   "source": [
    "negative_words = ' '.join(negative_df['preprocessed_text']).split()\n",
    "\n",
    "# Compute the frequency distribution\n",
    "neg_freq_dist = FreqDist(negative_words)\n",
    "\n",
    "# Display the most common words\n",
    "print(neg_freq_dist.most_common(50))"
   ]
  },
  {
   "cell_type": "code",
   "execution_count": 125,
   "metadata": {
    "scrolled": true
   },
   "outputs": [
    {
     "name": "stdout",
     "output_type": "stream",
     "text": [
      "           Term  Positive TF-IDF Score\n",
      "1884       ipad             154.291213\n",
      "165       apple             143.620946\n",
      "3429      store             104.645227\n",
      "1514     google             104.193839\n",
      "1887     iphone              86.639628\n",
      "158         app              73.683742\n",
      "2434        new              68.241995\n",
      "230      austin              64.453059\n",
      "1469        get              60.077230\n",
      "2738        pop              53.166658\n",
      "2526       open              48.685327\n",
      "2035     launch              47.332573\n",
      "128     android              45.319248\n",
      "1496         go              43.185552\n",
      "4015        win              43.103401\n",
      "122         amp              41.590144\n",
      "2092       line              38.933030\n",
      "3907        via              37.617989\n",
      "2608      party              36.932484\n",
      "2521        one              36.432634\n",
      "678        come              35.729378\n",
      "613      circle              33.151687\n",
      "3681       time              32.838021\n",
      "759        cool              32.399849\n",
      "1546      great              32.083111\n",
      "3312     social              31.382206\n",
      "2206        map              30.691552\n",
      "3609  temporary              30.619439\n",
      "878         day              30.450242\n",
      "1377       free              30.414387\n",
      "3875        use              30.388435\n",
      "3701      today              29.456471\n",
      "2146       love              29.078031\n",
      "1024   downtown              28.557929\n",
      "257     awesome              27.960864\n",
      "579       check              27.938879\n",
      "3145        see              27.793108\n",
      "2333     mobile              27.392112\n",
      "2085       like              27.382201\n",
      "1508       good              27.020972\n",
      "2430    network              26.449954\n",
      "3529      sxswi              26.217054\n",
      "1164       even              25.597639\n",
      "2128       look              24.489648\n",
      "2742      popup              23.909375\n",
      "3560       take              23.904670\n",
      "178        apps              22.599102\n",
      "2193       make              21.701186\n",
      "2647     people              21.493423\n",
      "3627     thanks              21.436447\n"
     ]
    }
   ],
   "source": [
    "pos_documents = positive_df['preprocessed_text']\n",
    "pos_tfidf_vectorizer = TfidfVectorizer()\n",
    "pos_tfidf_matrix = pos_tfidf_vectorizer.fit_transform(pos_documents)\n",
    "\n",
    "pos_feature_names = pos_tfidf_vectorizer.get_feature_names()\n",
    "pos_tfidf_scores = pos_tfidf_matrix.sum(axis=0).A1\n",
    "\n",
    "pos_tfidf_df = pd.DataFrame({'Term': pos_feature_names, 'Positive TF-IDF Score': pos_tfidf_scores})\n",
    "pos_tfidf_df = pos_tfidf_df.sort_values(by='Positive TF-IDF Score', ascending=False)\n",
    "\n",
    "print(pos_tfidf_df.head(50)) "
   ]
  },
  {
   "cell_type": "code",
   "execution_count": 164,
   "metadata": {},
   "outputs": [
    {
     "data": {
      "image/png": "[encoded data removed]",
      "text/plain": [
       "<Figure size 720x432 with 1 Axes>"
      ]
     },
     "metadata": {
      "needs_background": "light"
     },
     "output_type": "display_data"
    }
   ],
   "source": [
    "\n",
    "# Get the top 15 terms and scores\n",
    "p_top_terms = pos_tfidf_df.head(15)\n",
    "\n",
    "# Create a bar chart\n",
    "plt.figure(figsize=(10, 6))\n",
    "plt.barh(p_top_terms['Term'], p_top_terms['Positive TF-IDF Score'], color='blue')\n",
    "plt.xlabel('TF-IDF Score')\n",
    "plt.ylabel('Word')\n",
    "plt.title('Top 15 Words in Positive Tweets by TF-IDF Score')\n",
    "plt.gca().invert_yaxis()  # Invert the y-axis to display the highest score at the top\n",
    "plt.show()"
   ]
  },
  {
   "cell_type": "code",
   "execution_count": 129,
   "metadata": {
    "scrolled": true
   },
   "outputs": [
    {
     "name": "stdout",
     "output_type": "stream",
     "text": [
      "           Term  Neutral TF-IDF Score\n",
      "2181     google            242.853670\n",
      "232       apple            222.468168\n",
      "2667       ipad            220.671304\n",
      "4872      store            188.764133\n",
      "2886     launch            143.658317\n",
      "3440        new            141.111399\n",
      "2671     iphone            136.982466\n",
      "338      austin            136.195986\n",
      "900      circle            132.715950\n",
      "4706     social            124.457316\n",
      "5218      today            108.018917\n",
      "174         amp            107.414224\n",
      "3897        pop            104.710746\n",
      "3435    network            104.254628\n",
      "3596       open             94.784958\n",
      "738        call             87.299676\n",
      "227         app             78.623975\n",
      "2126        get             78.114264\n",
      "183     android             77.569490\n",
      "2971       line             77.091749\n",
      "5519        via             75.562377\n",
      "3093      major             73.674919\n",
      "3922   possibly             64.446633\n",
      "2162         go             62.442548\n",
      "2002       free             61.823076\n",
      "3296     mobile             60.588467\n",
      "5103  temporary             59.096579\n",
      "3708      party             57.882058\n",
      "5003      sxswi             56.477337\n",
      "850       check             53.219105\n",
      "1496   downtown             47.738221\n",
      "983        come             44.408482\n",
      "4464        see             44.117524\n",
      "3902      popup             42.728967\n",
      "3095       make             41.965598\n",
      "5695        win             40.179686\n",
      "4355      rumor             39.599304\n",
      "3114        map             39.553148\n",
      "2838       know             39.253610\n",
      "4501        set             38.478395\n",
      "3166      mayer             37.881789\n",
      "1320     design             37.590521\n",
      "5199       time             37.071017\n",
      "1254        day             35.897923\n",
      "3578        one             35.456498\n",
      "3128    marissa             35.408094\n",
      "5464        use             35.330414\n",
      "3417       need             35.299891\n",
      "4402        say             34.643992\n",
      "2962       like             33.322525\n"
     ]
    }
   ],
   "source": [
    "neut_documents = neutral_df['preprocessed_text']\n",
    "neut_tfidf_vectorizer = TfidfVectorizer()\n",
    "neut_tfidf_matrix = neut_tfidf_vectorizer.fit_transform(neut_documents)\n",
    "\n",
    "neut_feature_names = neut_tfidf_vectorizer.get_feature_names()\n",
    "neut_tfidf_scores = neut_tfidf_matrix.sum(axis=0).A1\n",
    "\n",
    "neut_tfidf_df = pd.DataFrame({'Term': neut_feature_names, 'Neutral TF-IDF Score': neut_tfidf_scores})\n",
    "neut_tfidf_df = neut_tfidf_df.sort_values(by='Neutral TF-IDF Score', ascending=False)\n",
    "\n",
    "print(neut_tfidf_df.head(50)) "
   ]
  },
  {
   "cell_type": "code",
   "execution_count": 163,
   "metadata": {},
   "outputs": [
    {
     "data": {
      "image/png": "[encoded data removed]",
      "text/plain": [
       "<Figure size 720x432 with 1 Axes>"
      ]
     },
     "metadata": {
      "needs_background": "light"
     },
     "output_type": "display_data"
    }
   ],
   "source": [
    "import matplotlib.pyplot as plt\n",
    "\n",
    "# Get the top 15 terms and scores\n",
    "neutral_top_terms = neut_tfidf_df.head(15)\n",
    "\n",
    "# Create a bar chart\n",
    "plt.figure(figsize=(10, 6))\n",
    "plt.barh(neutral_top_terms['Term'], neutral_top_terms['Neutral TF-IDF Score'], color='orange')\n",
    "plt.xlabel('TF-IDF Score')\n",
    "plt.ylabel('Word')\n",
    "plt.title('Top 15 Words in Neutral Tweets by TF-IDF Score')\n",
    "plt.gca().invert_yaxis()  # Invert the y-axis to display the highest score at the top\n",
    "plt.show()"
   ]
  },
  {
   "cell_type": "code",
   "execution_count": 128,
   "metadata": {
    "scrolled": true
   },
   "outputs": [
    {
     "name": "stdout",
     "output_type": "stream",
     "text": [
      "          Term  Negative TF-IDF Score\n",
      "803       ipad              29.184340\n",
      "807     iphone              23.980497\n",
      "660     google              22.291693\n",
      "76       apple              20.509869\n",
      "72         app              13.120671\n",
      "1456     store              10.716217\n",
      "1017       new               9.622512\n",
      "242     circle               9.467943\n",
      "881       like               9.466544\n",
      "642        get               9.087582\n",
      "388     design               8.697925\n",
      "1407    social               8.205424\n",
      "1008      need               7.702755\n",
      "80        apps               7.700989\n",
      "651         go               7.677360\n",
      "861     launch               7.492156\n",
      "1111    people               7.152733\n",
      "1533     think               7.094180\n",
      "96      austin               6.855483\n",
      "54     android               6.524456\n",
      "901       look               6.506600\n",
      "885       line               6.425563\n",
      "706   headache               6.172291\n",
      "1622       use               6.167538\n",
      "1502      take               5.966912\n",
      "1545      time               5.879829\n",
      "206       call               5.834306\n",
      "1552     today               5.766162\n",
      "267       come               5.741131\n",
      "1061       one               5.666880\n",
      "1157       pop               5.657193\n",
      "366        day               5.562489\n",
      "538       fail               5.498531\n",
      "51         amp               5.331927\n",
      "1319       say               5.301086\n",
      "898       long               5.245864\n",
      "273    company               5.234485\n",
      "48     america               5.233557\n",
      "1018      news               5.205364\n",
      "133    battery               5.088584\n",
      "549    fascist               5.068950\n",
      "1728      year               5.042669\n",
      "1332       see               4.972107\n",
      "646       give               4.861317\n",
      "1015   network               4.841260\n",
      "921       make               4.777052\n",
      "1504      talk               4.743040\n",
      "1712     would               4.685386\n",
      "1117     phone               4.586734\n",
      "1655      wait               4.539645\n"
     ]
    }
   ],
   "source": [
    "neg_documents = negative_df['preprocessed_text']\n",
    "neg_tfidf_vectorizer = TfidfVectorizer()\n",
    "neg_tfidf_matrix = neg_tfidf_vectorizer.fit_transform(neg_documents)\n",
    "\n",
    "neg_feature_names = neg_tfidf_vectorizer.get_feature_names()\n",
    "neg_tfidf_scores = neg_tfidf_matrix.sum(axis=0).A1\n",
    "\n",
    "neg_tfidf_df = pd.DataFrame({'Term': neg_feature_names, 'Negative TF-IDF Score': neg_tfidf_scores})\n",
    "neg_tfidf_df = neg_tfidf_df.sort_values(by='Negative TF-IDF Score', ascending=False)\n",
    "\n",
    "print(neg_tfidf_df.head(50)) "
   ]
  },
  {
   "cell_type": "code",
   "execution_count": 161,
   "metadata": {},
   "outputs": [
    {
     "data": {
      "image/png": "[encoded data removed]",
      "text/plain": [
       "<Figure size 720x432 with 1 Axes>"
      ]
     },
     "metadata": {
      "needs_background": "light"
     },
     "output_type": "display_data"
    }
   ],
   "source": [
    "\n",
    "# Get the top 15 terms and scores\n",
    "n_top_terms = neg_tfidf_df.head(15)\n",
    "\n",
    "# Create a bar chart\n",
    "plt.figure(figsize=(10, 6))\n",
    "plt.barh(n_top_terms['Term'], n_top_terms['Negative TF-IDF Score'], color='red')\n",
    "plt.xlabel('TF-IDF Score')\n",
    "plt.ylabel('Word')\n",
    "plt.title('Top 15 Words in Negative Tweets by TF-IDF Score')\n",
    "plt.gca().invert_yaxis()  # Invert the y-axis to display the highest score at the top\n",
    "plt.show()"
   ]
  },
  {
   "cell_type": "code",
   "execution_count": 62,
   "metadata": {
    "scrolled": false
   },
   "outputs": [
    {
     "name": "stdout",
     "output_type": "stream",
     "text": [
      "[('ipad', 2961), ('google', 2621), ('apple', 2309), ('iphone', 1560), ('store', 1508), ('new', 1086), ('austin', 959), ('amp', 834), ('app', 821), ('launch', 817), ('get', 693), ('circle', 673), ('social', 658), ('pop', 601), ('android', 594), ('today', 576), ('open', 520), ('go', 477), ('network', 473), ('line', 452), ('via', 428), ('party', 401), ('call', 395), ('free', 390), ('mobile', 357), ('come', 347), ('sxswi', 340), ('win', 313), ('one', 313), ('time', 309), ('see', 308), ('check', 305), ('like', 303), ('major', 303), ('use', 291), ('day', 288), ('make', 285), ('map', 273), ('w', 269), ('u', 266), ('temporary', 264), ('need', 240), ('possibly', 240), ('look', 233), ('great', 226), ('people', 226), ('design', 225), ('downtown', 225), ('apps', 223), ('mayer', 219)]\n"
     ]
    }
   ],
   "source": [
    "all_words = ' '.join(df['preprocessed_text']).split()\n",
    "\n",
    "# Compute the frequency distribution\n",
    "freq_dist = FreqDist(all_words)\n",
    "\n",
    "# Display the most common words\n",
    "print(freq_dist.most_common(50))"
   ]
  },
  {
   "cell_type": "code",
   "execution_count": 96,
   "metadata": {},
   "outputs": [
    {
     "data": {
      "text/html": [
       "<div>\n",
       "<style scoped>\n",
       "    .dataframe tbody tr th:only-of-type {\n",
       "        vertical-align: middle;\n",
       "    }\n",
       "\n",
       "    .dataframe tbody tr th {\n",
       "        vertical-align: top;\n",
       "    }\n",
       "\n",
       "    .dataframe thead th {\n",
       "        text-align: right;\n",
       "    }\n",
       "</style>\n",
       "<table border=\"1\" class=\"dataframe\">\n",
       "  <thead>\n",
       "    <tr style=\"text-align: right;\">\n",
       "      <th></th>\n",
       "      <th>tweet_text</th>\n",
       "      <th>products</th>\n",
       "      <th>emotions</th>\n",
       "      <th>preprocessed_text</th>\n",
       "    </tr>\n",
       "  </thead>\n",
       "  <tbody>\n",
       "    <tr>\n",
       "      <th>0</th>\n",
       "      <td>.@wesley83 I have a 3G iPhone. After 3 hrs twe...</td>\n",
       "      <td>iPhone</td>\n",
       "      <td>Negative</td>\n",
       "      <td>wesley g iphone hr tweet rise austin dead need...</td>\n",
       "    </tr>\n",
       "    <tr>\n",
       "      <th>1</th>\n",
       "      <td>@jessedee Know about @fludapp ? Awesome iPad/i...</td>\n",
       "      <td>iPad or iPhone App</td>\n",
       "      <td>Positive</td>\n",
       "      <td>jessedee know fludapp awesome ipad iphone app ...</td>\n",
       "    </tr>\n",
       "    <tr>\n",
       "      <th>2</th>\n",
       "      <td>@swonderlin Can not wait for #iPad 2 also. The...</td>\n",
       "      <td>iPad</td>\n",
       "      <td>Positive</td>\n",
       "      <td>swonderlin wait ipad also sale</td>\n",
       "    </tr>\n",
       "    <tr>\n",
       "      <th>3</th>\n",
       "      <td>@sxsw I hope this year's festival isn't as cra...</td>\n",
       "      <td>iPad or iPhone App</td>\n",
       "      <td>Negative</td>\n",
       "      <td>hope year festival crashy year iphone app</td>\n",
       "    </tr>\n",
       "    <tr>\n",
       "      <th>4</th>\n",
       "      <td>@sxtxstate great stuff on Fri #SXSW: Marissa M...</td>\n",
       "      <td>Google</td>\n",
       "      <td>Positive</td>\n",
       "      <td>sxtxstate great stuff fri marissa mayer google...</td>\n",
       "    </tr>\n",
       "    <tr>\n",
       "      <th>...</th>\n",
       "      <td>...</td>\n",
       "      <td>...</td>\n",
       "      <td>...</td>\n",
       "      <td>...</td>\n",
       "    </tr>\n",
       "    <tr>\n",
       "      <th>9088</th>\n",
       "      <td>Ipad everywhere. #SXSW {link}</td>\n",
       "      <td>iPad</td>\n",
       "      <td>Positive</td>\n",
       "      <td>ipad everywhere</td>\n",
       "    </tr>\n",
       "    <tr>\n",
       "      <th>9089</th>\n",
       "      <td>Wave, buzz... RT @mention We interrupt your re...</td>\n",
       "      <td>NaN</td>\n",
       "      <td>Neutral</td>\n",
       "      <td>wave buzz interrupt regularly schedule geek pr...</td>\n",
       "    </tr>\n",
       "    <tr>\n",
       "      <th>9090</th>\n",
       "      <td>Google's Zeiger, a physician never reported po...</td>\n",
       "      <td>NaN</td>\n",
       "      <td>Neutral</td>\n",
       "      <td>google zeiger physician never report potential...</td>\n",
       "    </tr>\n",
       "    <tr>\n",
       "      <th>9091</th>\n",
       "      <td>Some Verizon iPhone customers complained their...</td>\n",
       "      <td>NaN</td>\n",
       "      <td>Neutral</td>\n",
       "      <td>verizon iphone customer complain time fell bac...</td>\n",
       "    </tr>\n",
       "    <tr>\n",
       "      <th>9092</th>\n",
       "      <td>Ï¡Ïàü_ÊÎÒ£Áââ_£â_ÛâRT @...</td>\n",
       "      <td>NaN</td>\n",
       "      <td>Neutral</td>\n",
       "      <td>google test check offer</td>\n",
       "    </tr>\n",
       "  </tbody>\n",
       "</table>\n",
       "<p>8936 rows × 4 columns</p>\n",
       "</div>"
      ],
      "text/plain": [
       "                                             tweet_text            products  \\\n",
       "0     .@wesley83 I have a 3G iPhone. After 3 hrs twe...              iPhone   \n",
       "1     @jessedee Know about @fludapp ? Awesome iPad/i...  iPad or iPhone App   \n",
       "2     @swonderlin Can not wait for #iPad 2 also. The...                iPad   \n",
       "3     @sxsw I hope this year's festival isn't as cra...  iPad or iPhone App   \n",
       "4     @sxtxstate great stuff on Fri #SXSW: Marissa M...              Google   \n",
       "...                                                 ...                 ...   \n",
       "9088                      Ipad everywhere. #SXSW {link}                iPad   \n",
       "9089  Wave, buzz... RT @mention We interrupt your re...                 NaN   \n",
       "9090  Google's Zeiger, a physician never reported po...                 NaN   \n",
       "9091  Some Verizon iPhone customers complained their...                 NaN   \n",
       "9092  Ï¡Ïàü_ÊÎÒ£Áââ_£â_ÛâRT @...                 NaN   \n",
       "\n",
       "      emotions                                  preprocessed_text  \n",
       "0     Negative  wesley g iphone hr tweet rise austin dead need...  \n",
       "1     Positive  jessedee know fludapp awesome ipad iphone app ...  \n",
       "2     Positive                     swonderlin wait ipad also sale  \n",
       "3     Negative          hope year festival crashy year iphone app  \n",
       "4     Positive  sxtxstate great stuff fri marissa mayer google...  \n",
       "...        ...                                                ...  \n",
       "9088  Positive                                    ipad everywhere  \n",
       "9089   Neutral  wave buzz interrupt regularly schedule geek pr...  \n",
       "9090   Neutral  google zeiger physician never report potential...  \n",
       "9091   Neutral  verizon iphone customer complain time fell bac...  \n",
       "9092   Neutral                            google test check offer  \n",
       "\n",
       "[8936 rows x 4 columns]"
      ]
     },
     "execution_count": 96,
     "metadata": {},
     "output_type": "execute_result"
    }
   ],
   "source": [
    "df"
   ]
  },
  {
   "cell_type": "code",
   "execution_count": 98,
   "metadata": {},
   "outputs": [
    {
     "data": {
      "image/png": "[encoded data removed]",
      "text/plain": [
       "<Figure size 432x288 with 1 Axes>"
      ]
     },
     "metadata": {
      "needs_background": "light"
     },
     "output_type": "display_data"
    }
   ],
   "source": [
    "import matplotlib.pyplot as plt\n",
    "\n",
    "# Get the most common words and their counts\n",
    "common_words = freq_dist.most_common(15)\n",
    "words, counts = zip(*common_words)\n",
    "\n",
    "# Create a bar chart\n",
    "plt.bar(words, counts)\n",
    "plt.xlabel('Words')\n",
    "plt.ylabel('Frequency')\n",
    "plt.title('Top 15 Most Common Words')\n",
    "plt.xticks(rotation=45)\n",
    "plt.show()"
   ]
  },
  {
   "cell_type": "markdown",
   "metadata": {},
   "source": [
    "# Splitting our Data"
   ]
  },
  {
   "cell_type": "code",
   "execution_count": 64,
   "metadata": {},
   "outputs": [],
   "source": [
    "X = df['tweet_text'] \n",
    "y = df['emotions'] "
   ]
  },
  {
   "cell_type": "code",
   "execution_count": 65,
   "metadata": {},
   "outputs": [],
   "source": [
    "X_train, X_test, y_train, y_test = train_test_split(X, y, test_size=0.2, random_state=42)\n"
   ]
  },
  {
   "cell_type": "markdown",
   "metadata": {},
   "source": [
    "# Creating Pipelines"
   ]
  },
  {
   "cell_type": "code",
   "execution_count": 66,
   "metadata": {},
   "outputs": [],
   "source": [
    "\n",
    "#Multinomial Naive Bayes Pipeline\n",
    "nb_pipeline = Pipeline([\n",
    "    ('tfidf', TfidfVectorizer(preprocessor=doc_preparer)),\n",
    "    ('nb', MultinomialNB())\n",
    "])"
   ]
  },
  {
   "cell_type": "code",
   "execution_count": 67,
   "metadata": {},
   "outputs": [],
   "source": [
    "#Random Forest Pipeline\n",
    "rf_pipeline = Pipeline([\n",
    "    ('tfidf', TfidfVectorizer(preprocessor=doc_preparer)),\n",
    "    ('rf', RandomForestClassifier(random_state = 42, class_weight='balanced'))\n",
    "])"
   ]
  },
  {
   "cell_type": "markdown",
   "metadata": {},
   "source": [
    "# Grid Search Set Up"
   ]
  },
  {
   "cell_type": "code",
   "execution_count": 68,
   "metadata": {},
   "outputs": [],
   "source": [
    "nb_param_grid = {\n",
    "    'tfidf__max_df': [0.75],\n",
    "    'tfidf__min_df': [.01,.05,.1],\n",
    "    'tfidf__ngram_range': [(1, 2)],\n",
    "}"
   ]
  },
  {
   "cell_type": "code",
   "execution_count": 111,
   "metadata": {},
   "outputs": [],
   "source": [
    "rf_param_grid = {\n",
    "    'tfidf__max_df': [.6, .62],\n",
    "    'tfidf__min_df': [1],\n",
    "    'tfidf__ngram_range': [(1, 1)],\n",
    "    'rf__n_estimators': [150], \n",
    "    'rf__max_depth': [None, 30],\n",
    " 'rf__min_samples_split':[4],\n",
    "   'rf__min_samples_leaf':[1],\n",
    "'rf__max_features': [60, 80]}"
   ]
  },
  {
   "cell_type": "markdown",
   "metadata": {},
   "source": [
    "# Naive Bayes Grid Search"
   ]
  },
  {
   "cell_type": "code",
   "execution_count": 85,
   "metadata": {},
   "outputs": [
    {
     "name": "stdout",
     "output_type": "stream",
     "text": [
      "Fitting 3 folds for each of 3 candidates, totalling 9 fits\n",
      "[CV] tfidf__max_df=0.75, tfidf__min_df=0.01, tfidf__ngram_range=(1, 2) \n"
     ]
    },
    {
     "name": "stderr",
     "output_type": "stream",
     "text": [
      "[Parallel(n_jobs=1)]: Using backend SequentialBackend with 1 concurrent workers.\n"
     ]
    },
    {
     "name": "stdout",
     "output_type": "stream",
     "text": [
      "[CV]  tfidf__max_df=0.75, tfidf__min_df=0.01, tfidf__ngram_range=(1, 2), total=   2.8s\n",
      "[CV] tfidf__max_df=0.75, tfidf__min_df=0.01, tfidf__ngram_range=(1, 2) \n"
     ]
    },
    {
     "name": "stderr",
     "output_type": "stream",
     "text": [
      "[Parallel(n_jobs=1)]: Done   1 out of   1 | elapsed:    2.8s remaining:    0.0s\n"
     ]
    },
    {
     "name": "stdout",
     "output_type": "stream",
     "text": [
      "[CV]  tfidf__max_df=0.75, tfidf__min_df=0.01, tfidf__ngram_range=(1, 2), total=   2.8s\n",
      "[CV] tfidf__max_df=0.75, tfidf__min_df=0.01, tfidf__ngram_range=(1, 2) \n",
      "[CV]  tfidf__max_df=0.75, tfidf__min_df=0.01, tfidf__ngram_range=(1, 2), total=   2.9s\n",
      "[CV] tfidf__max_df=0.75, tfidf__min_df=0.05, tfidf__ngram_range=(1, 2) \n",
      "[CV]  tfidf__max_df=0.75, tfidf__min_df=0.05, tfidf__ngram_range=(1, 2), total=   2.9s\n",
      "[CV] tfidf__max_df=0.75, tfidf__min_df=0.05, tfidf__ngram_range=(1, 2) \n",
      "[CV]  tfidf__max_df=0.75, tfidf__min_df=0.05, tfidf__ngram_range=(1, 2), total=   2.8s\n",
      "[CV] tfidf__max_df=0.75, tfidf__min_df=0.05, tfidf__ngram_range=(1, 2) \n",
      "[CV]  tfidf__max_df=0.75, tfidf__min_df=0.05, tfidf__ngram_range=(1, 2), total=   2.9s\n",
      "[CV] tfidf__max_df=0.75, tfidf__min_df=0.1, tfidf__ngram_range=(1, 2) \n",
      "[CV]  tfidf__max_df=0.75, tfidf__min_df=0.1, tfidf__ngram_range=(1, 2), total=   2.9s\n",
      "[CV] tfidf__max_df=0.75, tfidf__min_df=0.1, tfidf__ngram_range=(1, 2) \n",
      "[CV]  tfidf__max_df=0.75, tfidf__min_df=0.1, tfidf__ngram_range=(1, 2), total=   2.8s\n",
      "[CV] tfidf__max_df=0.75, tfidf__min_df=0.1, tfidf__ngram_range=(1, 2) \n",
      "[CV]  tfidf__max_df=0.75, tfidf__min_df=0.1, tfidf__ngram_range=(1, 2), total=   2.9s\n"
     ]
    },
    {
     "name": "stderr",
     "output_type": "stream",
     "text": [
      "[Parallel(n_jobs=1)]: Done   9 out of   9 | elapsed:   25.7s finished\n"
     ]
    },
    {
     "data": {
      "text/plain": [
       "GridSearchCV(cv=3,\n",
       "             estimator=Pipeline(steps=[('tfidf',\n",
       "                                        TfidfVectorizer(preprocessor=<function doc_preparer at 0x7fdaa9ec6ee0>)),\n",
       "                                       ('nb', MultinomialNB())]),\n",
       "             n_jobs=1,\n",
       "             param_grid={'tfidf__max_df': [0.75],\n",
       "                         'tfidf__min_df': [0.01, 0.05, 0.1],\n",
       "                         'tfidf__ngram_range': [(1, 2)]},\n",
       "             verbose=2)"
      ]
     },
     "execution_count": 85,
     "metadata": {},
     "output_type": "execute_result"
    }
   ],
   "source": [
    "nb_grid_search = GridSearchCV(nb_pipeline, nb_param_grid, cv=3, n_jobs=1, verbose=2)\n",
    "nb_grid_search.fit(X_train, y_train) "
   ]
  },
  {
   "cell_type": "markdown",
   "metadata": {},
   "source": [
    "# Random Forest Grid Search"
   ]
  },
  {
   "cell_type": "code",
   "execution_count": 108,
   "metadata": {},
   "outputs": [
    {
     "name": "stdout",
     "output_type": "stream",
     "text": [
      "Fitting 3 folds for each of 72 candidates, totalling 216 fits\n",
      "[CV] rf__max_depth=None, rf__max_features=80, rf__min_samples_leaf=1, rf__min_samples_split=4, rf__n_estimators=140, tfidf__max_df=0.6, tfidf__min_df=1, tfidf__ngram_range=(1, 1) \n"
     ]
    },
    {
     "name": "stderr",
     "output_type": "stream",
     "text": [
      "[Parallel(n_jobs=1)]: Using backend SequentialBackend with 1 concurrent workers.\n"
     ]
    },
    {
     "name": "stdout",
     "output_type": "stream",
     "text": [
      "[CV]  rf__max_depth=None, rf__max_features=80, rf__min_samples_leaf=1, rf__min_samples_split=4, rf__n_estimators=140, tfidf__max_df=0.6, tfidf__min_df=1, tfidf__ngram_range=(1, 1), total=   4.9s\n",
      "[CV] rf__max_depth=None, rf__max_features=80, rf__min_samples_leaf=1, rf__min_samples_split=4, rf__n_estimators=140, tfidf__max_df=0.6, tfidf__min_df=1, tfidf__ngram_range=(1, 1) \n"
     ]
    },
    {
     "name": "stderr",
     "output_type": "stream",
     "text": [
      "[Parallel(n_jobs=1)]: Done   1 out of   1 | elapsed:    4.9s remaining:    0.0s\n"
     ]
    },
    {
     "name": "stdout",
     "output_type": "stream",
     "text": [
      "[CV]  rf__max_depth=None, rf__max_features=80, rf__min_samples_leaf=1, rf__min_samples_split=4, rf__n_estimators=140, tfidf__max_df=0.6, tfidf__min_df=1, tfidf__ngram_range=(1, 1), total=   4.8s\n",
      "[CV] rf__max_depth=None, rf__max_features=80, rf__min_samples_leaf=1, rf__min_samples_split=4, rf__n_estimators=140, tfidf__max_df=0.6, tfidf__min_df=1, tfidf__ngram_range=(1, 1) \n",
      "[CV]  rf__max_depth=None, rf__max_features=80, rf__min_samples_leaf=1, rf__min_samples_split=4, rf__n_estimators=140, tfidf__max_df=0.6, tfidf__min_df=1, tfidf__ngram_range=(1, 1), total=   4.8s\n",
      "[CV] rf__max_depth=None, rf__max_features=80, rf__min_samples_leaf=1, rf__min_samples_split=4, rf__n_estimators=140, tfidf__max_df=0.7, tfidf__min_df=1, tfidf__ngram_range=(1, 1) \n",
      "[CV]  rf__max_depth=None, rf__max_features=80, rf__min_samples_leaf=1, rf__min_samples_split=4, rf__n_estimators=140, tfidf__max_df=0.7, tfidf__min_df=1, tfidf__ngram_range=(1, 1), total=   4.8s\n",
      "[CV] rf__max_depth=None, rf__max_features=80, rf__min_samples_leaf=1, rf__min_samples_split=4, rf__n_estimators=140, tfidf__max_df=0.7, tfidf__min_df=1, tfidf__ngram_range=(1, 1) \n",
      "[CV]  rf__max_depth=None, rf__max_features=80, rf__min_samples_leaf=1, rf__min_samples_split=4, rf__n_estimators=140, tfidf__max_df=0.7, tfidf__min_df=1, tfidf__ngram_range=(1, 1), total=   4.9s\n",
      "[CV] rf__max_depth=None, rf__max_features=80, rf__min_samples_leaf=1, rf__min_samples_split=4, rf__n_estimators=140, tfidf__max_df=0.7, tfidf__min_df=1, tfidf__ngram_range=(1, 1) \n",
      "[CV]  rf__max_depth=None, rf__max_features=80, rf__min_samples_leaf=1, rf__min_samples_split=4, rf__n_estimators=140, tfidf__max_df=0.7, tfidf__min_df=1, tfidf__ngram_range=(1, 1), total=   4.9s\n",
      "[CV] rf__max_depth=None, rf__max_features=80, rf__min_samples_leaf=1, rf__min_samples_split=4, rf__n_estimators=140, tfidf__max_df=0.9, tfidf__min_df=1, tfidf__ngram_range=(1, 1) \n",
      "[CV]  rf__max_depth=None, rf__max_features=80, rf__min_samples_leaf=1, rf__min_samples_split=4, rf__n_estimators=140, tfidf__max_df=0.9, tfidf__min_df=1, tfidf__ngram_range=(1, 1), total=   4.8s\n",
      "[CV] rf__max_depth=None, rf__max_features=80, rf__min_samples_leaf=1, rf__min_samples_split=4, rf__n_estimators=140, tfidf__max_df=0.9, tfidf__min_df=1, tfidf__ngram_range=(1, 1) \n",
      "[CV]  rf__max_depth=None, rf__max_features=80, rf__min_samples_leaf=1, rf__min_samples_split=4, rf__n_estimators=140, tfidf__max_df=0.9, tfidf__min_df=1, tfidf__ngram_range=(1, 1), total=   4.9s\n",
      "[CV] rf__max_depth=None, rf__max_features=80, rf__min_samples_leaf=1, rf__min_samples_split=4, rf__n_estimators=140, tfidf__max_df=0.9, tfidf__min_df=1, tfidf__ngram_range=(1, 1) \n",
      "[CV]  rf__max_depth=None, rf__max_features=80, rf__min_samples_leaf=1, rf__min_samples_split=4, rf__n_estimators=140, tfidf__max_df=0.9, tfidf__min_df=1, tfidf__ngram_range=(1, 1), total=   4.9s\n",
      "[CV] rf__max_depth=None, rf__max_features=80, rf__min_samples_leaf=1, rf__min_samples_split=4, rf__n_estimators=150, tfidf__max_df=0.6, tfidf__min_df=1, tfidf__ngram_range=(1, 1) \n",
      "[CV]  rf__max_depth=None, rf__max_features=80, rf__min_samples_leaf=1, rf__min_samples_split=4, rf__n_estimators=150, tfidf__max_df=0.6, tfidf__min_df=1, tfidf__ngram_range=(1, 1), total=   5.0s\n",
      "[CV] rf__max_depth=None, rf__max_features=80, rf__min_samples_leaf=1, rf__min_samples_split=4, rf__n_estimators=150, tfidf__max_df=0.6, tfidf__min_df=1, tfidf__ngram_range=(1, 1) \n",
      "[CV]  rf__max_depth=None, rf__max_features=80, rf__min_samples_leaf=1, rf__min_samples_split=4, rf__n_estimators=150, tfidf__max_df=0.6, tfidf__min_df=1, tfidf__ngram_range=(1, 1), total=   5.1s\n",
      "[CV] rf__max_depth=None, rf__max_features=80, rf__min_samples_leaf=1, rf__min_samples_split=4, rf__n_estimators=150, tfidf__max_df=0.6, tfidf__min_df=1, tfidf__ngram_range=(1, 1) \n",
      "[CV]  rf__max_depth=None, rf__max_features=80, rf__min_samples_leaf=1, rf__min_samples_split=4, rf__n_estimators=150, tfidf__max_df=0.6, tfidf__min_df=1, tfidf__ngram_range=(1, 1), total=   5.1s\n",
      "[CV] rf__max_depth=None, rf__max_features=80, rf__min_samples_leaf=1, rf__min_samples_split=4, rf__n_estimators=150, tfidf__max_df=0.7, tfidf__min_df=1, tfidf__ngram_range=(1, 1) \n",
      "[CV]  rf__max_depth=None, rf__max_features=80, rf__min_samples_leaf=1, rf__min_samples_split=4, rf__n_estimators=150, tfidf__max_df=0.7, tfidf__min_df=1, tfidf__ngram_range=(1, 1), total=   5.0s\n",
      "[CV] rf__max_depth=None, rf__max_features=80, rf__min_samples_leaf=1, rf__min_samples_split=4, rf__n_estimators=150, tfidf__max_df=0.7, tfidf__min_df=1, tfidf__ngram_range=(1, 1) \n",
      "[CV]  rf__max_depth=None, rf__max_features=80, rf__min_samples_leaf=1, rf__min_samples_split=4, rf__n_estimators=150, tfidf__max_df=0.7, tfidf__min_df=1, tfidf__ngram_range=(1, 1), total=   5.1s\n",
      "[CV] rf__max_depth=None, rf__max_features=80, rf__min_samples_leaf=1, rf__min_samples_split=4, rf__n_estimators=150, tfidf__max_df=0.7, tfidf__min_df=1, tfidf__ngram_range=(1, 1) \n",
      "[CV]  rf__max_depth=None, rf__max_features=80, rf__min_samples_leaf=1, rf__min_samples_split=4, rf__n_estimators=150, tfidf__max_df=0.7, tfidf__min_df=1, tfidf__ngram_range=(1, 1), total=   5.1s\n",
      "[CV] rf__max_depth=None, rf__max_features=80, rf__min_samples_leaf=1, rf__min_samples_split=4, rf__n_estimators=150, tfidf__max_df=0.9, tfidf__min_df=1, tfidf__ngram_range=(1, 1) \n",
      "[CV]  rf__max_depth=None, rf__max_features=80, rf__min_samples_leaf=1, rf__min_samples_split=4, rf__n_estimators=150, tfidf__max_df=0.9, tfidf__min_df=1, tfidf__ngram_range=(1, 1), total=   5.1s\n",
      "[CV] rf__max_depth=None, rf__max_features=80, rf__min_samples_leaf=1, rf__min_samples_split=4, rf__n_estimators=150, tfidf__max_df=0.9, tfidf__min_df=1, tfidf__ngram_range=(1, 1) \n",
      "[CV]  rf__max_depth=None, rf__max_features=80, rf__min_samples_leaf=1, rf__min_samples_split=4, rf__n_estimators=150, tfidf__max_df=0.9, tfidf__min_df=1, tfidf__ngram_range=(1, 1), total=   5.1s\n",
      "[CV] rf__max_depth=None, rf__max_features=80, rf__min_samples_leaf=1, rf__min_samples_split=4, rf__n_estimators=150, tfidf__max_df=0.9, tfidf__min_df=1, tfidf__ngram_range=(1, 1) \n",
      "[CV]  rf__max_depth=None, rf__max_features=80, rf__min_samples_leaf=1, rf__min_samples_split=4, rf__n_estimators=150, tfidf__max_df=0.9, tfidf__min_df=1, tfidf__ngram_range=(1, 1), total=   5.1s\n",
      "[CV] rf__max_depth=None, rf__max_features=80, rf__min_samples_leaf=1, rf__min_samples_split=8, rf__n_estimators=140, tfidf__max_df=0.6, tfidf__min_df=1, tfidf__ngram_range=(1, 1) \n",
      "[CV]  rf__max_depth=None, rf__max_features=80, rf__min_samples_leaf=1, rf__min_samples_split=8, rf__n_estimators=140, tfidf__max_df=0.6, tfidf__min_df=1, tfidf__ngram_range=(1, 1), total=   4.4s\n",
      "[CV] rf__max_depth=None, rf__max_features=80, rf__min_samples_leaf=1, rf__min_samples_split=8, rf__n_estimators=140, tfidf__max_df=0.6, tfidf__min_df=1, tfidf__ngram_range=(1, 1) \n",
      "[CV]  rf__max_depth=None, rf__max_features=80, rf__min_samples_leaf=1, rf__min_samples_split=8, rf__n_estimators=140, tfidf__max_df=0.6, tfidf__min_df=1, tfidf__ngram_range=(1, 1), total=   4.4s\n",
      "[CV] rf__max_depth=None, rf__max_features=80, rf__min_samples_leaf=1, rf__min_samples_split=8, rf__n_estimators=140, tfidf__max_df=0.6, tfidf__min_df=1, tfidf__ngram_range=(1, 1) \n",
      "[CV]  rf__max_depth=None, rf__max_features=80, rf__min_samples_leaf=1, rf__min_samples_split=8, rf__n_estimators=140, tfidf__max_df=0.6, tfidf__min_df=1, tfidf__ngram_range=(1, 1), total=   4.5s\n",
      "[CV] rf__max_depth=None, rf__max_features=80, rf__min_samples_leaf=1, rf__min_samples_split=8, rf__n_estimators=140, tfidf__max_df=0.7, tfidf__min_df=1, tfidf__ngram_range=(1, 1) \n",
      "[CV]  rf__max_depth=None, rf__max_features=80, rf__min_samples_leaf=1, rf__min_samples_split=8, rf__n_estimators=140, tfidf__max_df=0.7, tfidf__min_df=1, tfidf__ngram_range=(1, 1), total=   4.4s\n",
      "[CV] rf__max_depth=None, rf__max_features=80, rf__min_samples_leaf=1, rf__min_samples_split=8, rf__n_estimators=140, tfidf__max_df=0.7, tfidf__min_df=1, tfidf__ngram_range=(1, 1) \n",
      "[CV]  rf__max_depth=None, rf__max_features=80, rf__min_samples_leaf=1, rf__min_samples_split=8, rf__n_estimators=140, tfidf__max_df=0.7, tfidf__min_df=1, tfidf__ngram_range=(1, 1), total=   4.4s\n",
      "[CV] rf__max_depth=None, rf__max_features=80, rf__min_samples_leaf=1, rf__min_samples_split=8, rf__n_estimators=140, tfidf__max_df=0.7, tfidf__min_df=1, tfidf__ngram_range=(1, 1) \n"
     ]
    },
    {
     "name": "stdout",
     "output_type": "stream",
     "text": [
      "[CV]  rf__max_depth=None, rf__max_features=80, rf__min_samples_leaf=1, rf__min_samples_split=8, rf__n_estimators=140, tfidf__max_df=0.7, tfidf__min_df=1, tfidf__ngram_range=(1, 1), total=   4.5s\n",
      "[CV] rf__max_depth=None, rf__max_features=80, rf__min_samples_leaf=1, rf__min_samples_split=8, rf__n_estimators=140, tfidf__max_df=0.9, tfidf__min_df=1, tfidf__ngram_range=(1, 1) \n",
      "[CV]  rf__max_depth=None, rf__max_features=80, rf__min_samples_leaf=1, rf__min_samples_split=8, rf__n_estimators=140, tfidf__max_df=0.9, tfidf__min_df=1, tfidf__ngram_range=(1, 1), total=   4.5s\n",
      "[CV] rf__max_depth=None, rf__max_features=80, rf__min_samples_leaf=1, rf__min_samples_split=8, rf__n_estimators=140, tfidf__max_df=0.9, tfidf__min_df=1, tfidf__ngram_range=(1, 1) \n",
      "[CV]  rf__max_depth=None, rf__max_features=80, rf__min_samples_leaf=1, rf__min_samples_split=8, rf__n_estimators=140, tfidf__max_df=0.9, tfidf__min_df=1, tfidf__ngram_range=(1, 1), total=   4.5s\n",
      "[CV] rf__max_depth=None, rf__max_features=80, rf__min_samples_leaf=1, rf__min_samples_split=8, rf__n_estimators=140, tfidf__max_df=0.9, tfidf__min_df=1, tfidf__ngram_range=(1, 1) \n",
      "[CV]  rf__max_depth=None, rf__max_features=80, rf__min_samples_leaf=1, rf__min_samples_split=8, rf__n_estimators=140, tfidf__max_df=0.9, tfidf__min_df=1, tfidf__ngram_range=(1, 1), total=   4.5s\n",
      "[CV] rf__max_depth=None, rf__max_features=80, rf__min_samples_leaf=1, rf__min_samples_split=8, rf__n_estimators=150, tfidf__max_df=0.6, tfidf__min_df=1, tfidf__ngram_range=(1, 1) \n",
      "[CV]  rf__max_depth=None, rf__max_features=80, rf__min_samples_leaf=1, rf__min_samples_split=8, rf__n_estimators=150, tfidf__max_df=0.6, tfidf__min_df=1, tfidf__ngram_range=(1, 1), total=   4.5s\n",
      "[CV] rf__max_depth=None, rf__max_features=80, rf__min_samples_leaf=1, rf__min_samples_split=8, rf__n_estimators=150, tfidf__max_df=0.6, tfidf__min_df=1, tfidf__ngram_range=(1, 1) \n",
      "[CV]  rf__max_depth=None, rf__max_features=80, rf__min_samples_leaf=1, rf__min_samples_split=8, rf__n_estimators=150, tfidf__max_df=0.6, tfidf__min_df=1, tfidf__ngram_range=(1, 1), total=   4.7s\n",
      "[CV] rf__max_depth=None, rf__max_features=80, rf__min_samples_leaf=1, rf__min_samples_split=8, rf__n_estimators=150, tfidf__max_df=0.6, tfidf__min_df=1, tfidf__ngram_range=(1, 1) \n",
      "[CV]  rf__max_depth=None, rf__max_features=80, rf__min_samples_leaf=1, rf__min_samples_split=8, rf__n_estimators=150, tfidf__max_df=0.6, tfidf__min_df=1, tfidf__ngram_range=(1, 1), total=   4.6s\n",
      "[CV] rf__max_depth=None, rf__max_features=80, rf__min_samples_leaf=1, rf__min_samples_split=8, rf__n_estimators=150, tfidf__max_df=0.7, tfidf__min_df=1, tfidf__ngram_range=(1, 1) \n",
      "[CV]  rf__max_depth=None, rf__max_features=80, rf__min_samples_leaf=1, rf__min_samples_split=8, rf__n_estimators=150, tfidf__max_df=0.7, tfidf__min_df=1, tfidf__ngram_range=(1, 1), total=   4.6s\n",
      "[CV] rf__max_depth=None, rf__max_features=80, rf__min_samples_leaf=1, rf__min_samples_split=8, rf__n_estimators=150, tfidf__max_df=0.7, tfidf__min_df=1, tfidf__ngram_range=(1, 1) \n",
      "[CV]  rf__max_depth=None, rf__max_features=80, rf__min_samples_leaf=1, rf__min_samples_split=8, rf__n_estimators=150, tfidf__max_df=0.7, tfidf__min_df=1, tfidf__ngram_range=(1, 1), total=   4.6s\n",
      "[CV] rf__max_depth=None, rf__max_features=80, rf__min_samples_leaf=1, rf__min_samples_split=8, rf__n_estimators=150, tfidf__max_df=0.7, tfidf__min_df=1, tfidf__ngram_range=(1, 1) \n",
      "[CV]  rf__max_depth=None, rf__max_features=80, rf__min_samples_leaf=1, rf__min_samples_split=8, rf__n_estimators=150, tfidf__max_df=0.7, tfidf__min_df=1, tfidf__ngram_range=(1, 1), total=   4.6s\n",
      "[CV] rf__max_depth=None, rf__max_features=80, rf__min_samples_leaf=1, rf__min_samples_split=8, rf__n_estimators=150, tfidf__max_df=0.9, tfidf__min_df=1, tfidf__ngram_range=(1, 1) \n",
      "[CV]  rf__max_depth=None, rf__max_features=80, rf__min_samples_leaf=1, rf__min_samples_split=8, rf__n_estimators=150, tfidf__max_df=0.9, tfidf__min_df=1, tfidf__ngram_range=(1, 1), total=   4.6s\n",
      "[CV] rf__max_depth=None, rf__max_features=80, rf__min_samples_leaf=1, rf__min_samples_split=8, rf__n_estimators=150, tfidf__max_df=0.9, tfidf__min_df=1, tfidf__ngram_range=(1, 1) \n",
      "[CV]  rf__max_depth=None, rf__max_features=80, rf__min_samples_leaf=1, rf__min_samples_split=8, rf__n_estimators=150, tfidf__max_df=0.9, tfidf__min_df=1, tfidf__ngram_range=(1, 1), total=   4.5s\n",
      "[CV] rf__max_depth=None, rf__max_features=80, rf__min_samples_leaf=1, rf__min_samples_split=8, rf__n_estimators=150, tfidf__max_df=0.9, tfidf__min_df=1, tfidf__ngram_range=(1, 1) \n",
      "[CV]  rf__max_depth=None, rf__max_features=80, rf__min_samples_leaf=1, rf__min_samples_split=8, rf__n_estimators=150, tfidf__max_df=0.9, tfidf__min_df=1, tfidf__ngram_range=(1, 1), total=   4.6s\n",
      "[CV] rf__max_depth=None, rf__max_features=100, rf__min_samples_leaf=1, rf__min_samples_split=4, rf__n_estimators=140, tfidf__max_df=0.6, tfidf__min_df=1, tfidf__ngram_range=(1, 1) \n",
      "[CV]  rf__max_depth=None, rf__max_features=100, rf__min_samples_leaf=1, rf__min_samples_split=4, rf__n_estimators=140, tfidf__max_df=0.6, tfidf__min_df=1, tfidf__ngram_range=(1, 1), total=   5.0s\n",
      "[CV] rf__max_depth=None, rf__max_features=100, rf__min_samples_leaf=1, rf__min_samples_split=4, rf__n_estimators=140, tfidf__max_df=0.6, tfidf__min_df=1, tfidf__ngram_range=(1, 1) \n",
      "[CV]  rf__max_depth=None, rf__max_features=100, rf__min_samples_leaf=1, rf__min_samples_split=4, rf__n_estimators=140, tfidf__max_df=0.6, tfidf__min_df=1, tfidf__ngram_range=(1, 1), total=   5.1s\n",
      "[CV] rf__max_depth=None, rf__max_features=100, rf__min_samples_leaf=1, rf__min_samples_split=4, rf__n_estimators=140, tfidf__max_df=0.6, tfidf__min_df=1, tfidf__ngram_range=(1, 1) \n",
      "[CV]  rf__max_depth=None, rf__max_features=100, rf__min_samples_leaf=1, rf__min_samples_split=4, rf__n_estimators=140, tfidf__max_df=0.6, tfidf__min_df=1, tfidf__ngram_range=(1, 1), total=   5.2s\n",
      "[CV] rf__max_depth=None, rf__max_features=100, rf__min_samples_leaf=1, rf__min_samples_split=4, rf__n_estimators=140, tfidf__max_df=0.7, tfidf__min_df=1, tfidf__ngram_range=(1, 1) \n",
      "[CV]  rf__max_depth=None, rf__max_features=100, rf__min_samples_leaf=1, rf__min_samples_split=4, rf__n_estimators=140, tfidf__max_df=0.7, tfidf__min_df=1, tfidf__ngram_range=(1, 1), total=   5.2s\n",
      "[CV] rf__max_depth=None, rf__max_features=100, rf__min_samples_leaf=1, rf__min_samples_split=4, rf__n_estimators=140, tfidf__max_df=0.7, tfidf__min_df=1, tfidf__ngram_range=(1, 1) \n",
      "[CV]  rf__max_depth=None, rf__max_features=100, rf__min_samples_leaf=1, rf__min_samples_split=4, rf__n_estimators=140, tfidf__max_df=0.7, tfidf__min_df=1, tfidf__ngram_range=(1, 1), total=   5.4s\n",
      "[CV] rf__max_depth=None, rf__max_features=100, rf__min_samples_leaf=1, rf__min_samples_split=4, rf__n_estimators=140, tfidf__max_df=0.7, tfidf__min_df=1, tfidf__ngram_range=(1, 1) \n",
      "[CV]  rf__max_depth=None, rf__max_features=100, rf__min_samples_leaf=1, rf__min_samples_split=4, rf__n_estimators=140, tfidf__max_df=0.7, tfidf__min_df=1, tfidf__ngram_range=(1, 1), total=   5.1s\n",
      "[CV] rf__max_depth=None, rf__max_features=100, rf__min_samples_leaf=1, rf__min_samples_split=4, rf__n_estimators=140, tfidf__max_df=0.9, tfidf__min_df=1, tfidf__ngram_range=(1, 1) \n",
      "[CV]  rf__max_depth=None, rf__max_features=100, rf__min_samples_leaf=1, rf__min_samples_split=4, rf__n_estimators=140, tfidf__max_df=0.9, tfidf__min_df=1, tfidf__ngram_range=(1, 1), total=   5.0s\n",
      "[CV] rf__max_depth=None, rf__max_features=100, rf__min_samples_leaf=1, rf__min_samples_split=4, rf__n_estimators=140, tfidf__max_df=0.9, tfidf__min_df=1, tfidf__ngram_range=(1, 1) \n",
      "[CV]  rf__max_depth=None, rf__max_features=100, rf__min_samples_leaf=1, rf__min_samples_split=4, rf__n_estimators=140, tfidf__max_df=0.9, tfidf__min_df=1, tfidf__ngram_range=(1, 1), total=   5.0s\n",
      "[CV] rf__max_depth=None, rf__max_features=100, rf__min_samples_leaf=1, rf__min_samples_split=4, rf__n_estimators=140, tfidf__max_df=0.9, tfidf__min_df=1, tfidf__ngram_range=(1, 1) \n",
      "[CV]  rf__max_depth=None, rf__max_features=100, rf__min_samples_leaf=1, rf__min_samples_split=4, rf__n_estimators=140, tfidf__max_df=0.9, tfidf__min_df=1, tfidf__ngram_range=(1, 1), total=   5.0s\n",
      "[CV] rf__max_depth=None, rf__max_features=100, rf__min_samples_leaf=1, rf__min_samples_split=4, rf__n_estimators=150, tfidf__max_df=0.6, tfidf__min_df=1, tfidf__ngram_range=(1, 1) \n"
     ]
    },
    {
     "name": "stdout",
     "output_type": "stream",
     "text": [
      "[CV]  rf__max_depth=None, rf__max_features=100, rf__min_samples_leaf=1, rf__min_samples_split=4, rf__n_estimators=150, tfidf__max_df=0.6, tfidf__min_df=1, tfidf__ngram_range=(1, 1), total=   5.1s\n",
      "[CV] rf__max_depth=None, rf__max_features=100, rf__min_samples_leaf=1, rf__min_samples_split=4, rf__n_estimators=150, tfidf__max_df=0.6, tfidf__min_df=1, tfidf__ngram_range=(1, 1) \n",
      "[CV]  rf__max_depth=None, rf__max_features=100, rf__min_samples_leaf=1, rf__min_samples_split=4, rf__n_estimators=150, tfidf__max_df=0.6, tfidf__min_df=1, tfidf__ngram_range=(1, 1), total=   5.2s\n",
      "[CV] rf__max_depth=None, rf__max_features=100, rf__min_samples_leaf=1, rf__min_samples_split=4, rf__n_estimators=150, tfidf__max_df=0.6, tfidf__min_df=1, tfidf__ngram_range=(1, 1) \n",
      "[CV]  rf__max_depth=None, rf__max_features=100, rf__min_samples_leaf=1, rf__min_samples_split=4, rf__n_estimators=150, tfidf__max_df=0.6, tfidf__min_df=1, tfidf__ngram_range=(1, 1), total=   5.2s\n",
      "[CV] rf__max_depth=None, rf__max_features=100, rf__min_samples_leaf=1, rf__min_samples_split=4, rf__n_estimators=150, tfidf__max_df=0.7, tfidf__min_df=1, tfidf__ngram_range=(1, 1) \n",
      "[CV]  rf__max_depth=None, rf__max_features=100, rf__min_samples_leaf=1, rf__min_samples_split=4, rf__n_estimators=150, tfidf__max_df=0.7, tfidf__min_df=1, tfidf__ngram_range=(1, 1), total=   5.2s\n",
      "[CV] rf__max_depth=None, rf__max_features=100, rf__min_samples_leaf=1, rf__min_samples_split=4, rf__n_estimators=150, tfidf__max_df=0.7, tfidf__min_df=1, tfidf__ngram_range=(1, 1) \n",
      "[CV]  rf__max_depth=None, rf__max_features=100, rf__min_samples_leaf=1, rf__min_samples_split=4, rf__n_estimators=150, tfidf__max_df=0.7, tfidf__min_df=1, tfidf__ngram_range=(1, 1), total=   5.2s\n",
      "[CV] rf__max_depth=None, rf__max_features=100, rf__min_samples_leaf=1, rf__min_samples_split=4, rf__n_estimators=150, tfidf__max_df=0.7, tfidf__min_df=1, tfidf__ngram_range=(1, 1) \n",
      "[CV]  rf__max_depth=None, rf__max_features=100, rf__min_samples_leaf=1, rf__min_samples_split=4, rf__n_estimators=150, tfidf__max_df=0.7, tfidf__min_df=1, tfidf__ngram_range=(1, 1), total=   5.2s\n",
      "[CV] rf__max_depth=None, rf__max_features=100, rf__min_samples_leaf=1, rf__min_samples_split=4, rf__n_estimators=150, tfidf__max_df=0.9, tfidf__min_df=1, tfidf__ngram_range=(1, 1) \n",
      "[CV]  rf__max_depth=None, rf__max_features=100, rf__min_samples_leaf=1, rf__min_samples_split=4, rf__n_estimators=150, tfidf__max_df=0.9, tfidf__min_df=1, tfidf__ngram_range=(1, 1), total=   5.1s\n",
      "[CV] rf__max_depth=None, rf__max_features=100, rf__min_samples_leaf=1, rf__min_samples_split=4, rf__n_estimators=150, tfidf__max_df=0.9, tfidf__min_df=1, tfidf__ngram_range=(1, 1) \n",
      "[CV]  rf__max_depth=None, rf__max_features=100, rf__min_samples_leaf=1, rf__min_samples_split=4, rf__n_estimators=150, tfidf__max_df=0.9, tfidf__min_df=1, tfidf__ngram_range=(1, 1), total=   5.2s\n",
      "[CV] rf__max_depth=None, rf__max_features=100, rf__min_samples_leaf=1, rf__min_samples_split=4, rf__n_estimators=150, tfidf__max_df=0.9, tfidf__min_df=1, tfidf__ngram_range=(1, 1) \n",
      "[CV]  rf__max_depth=None, rf__max_features=100, rf__min_samples_leaf=1, rf__min_samples_split=4, rf__n_estimators=150, tfidf__max_df=0.9, tfidf__min_df=1, tfidf__ngram_range=(1, 1), total=   5.2s\n",
      "[CV] rf__max_depth=None, rf__max_features=100, rf__min_samples_leaf=1, rf__min_samples_split=8, rf__n_estimators=140, tfidf__max_df=0.6, tfidf__min_df=1, tfidf__ngram_range=(1, 1) \n",
      "[CV]  rf__max_depth=None, rf__max_features=100, rf__min_samples_leaf=1, rf__min_samples_split=8, rf__n_estimators=140, tfidf__max_df=0.6, tfidf__min_df=1, tfidf__ngram_range=(1, 1), total=   4.5s\n",
      "[CV] rf__max_depth=None, rf__max_features=100, rf__min_samples_leaf=1, rf__min_samples_split=8, rf__n_estimators=140, tfidf__max_df=0.6, tfidf__min_df=1, tfidf__ngram_range=(1, 1) \n",
      "[CV]  rf__max_depth=None, rf__max_features=100, rf__min_samples_leaf=1, rf__min_samples_split=8, rf__n_estimators=140, tfidf__max_df=0.6, tfidf__min_df=1, tfidf__ngram_range=(1, 1), total=   4.5s\n",
      "[CV] rf__max_depth=None, rf__max_features=100, rf__min_samples_leaf=1, rf__min_samples_split=8, rf__n_estimators=140, tfidf__max_df=0.6, tfidf__min_df=1, tfidf__ngram_range=(1, 1) \n",
      "[CV]  rf__max_depth=None, rf__max_features=100, rf__min_samples_leaf=1, rf__min_samples_split=8, rf__n_estimators=140, tfidf__max_df=0.6, tfidf__min_df=1, tfidf__ngram_range=(1, 1), total=   4.6s\n",
      "[CV] rf__max_depth=None, rf__max_features=100, rf__min_samples_leaf=1, rf__min_samples_split=8, rf__n_estimators=140, tfidf__max_df=0.7, tfidf__min_df=1, tfidf__ngram_range=(1, 1) \n",
      "[CV]  rf__max_depth=None, rf__max_features=100, rf__min_samples_leaf=1, rf__min_samples_split=8, rf__n_estimators=140, tfidf__max_df=0.7, tfidf__min_df=1, tfidf__ngram_range=(1, 1), total=   4.5s\n",
      "[CV] rf__max_depth=None, rf__max_features=100, rf__min_samples_leaf=1, rf__min_samples_split=8, rf__n_estimators=140, tfidf__max_df=0.7, tfidf__min_df=1, tfidf__ngram_range=(1, 1) \n",
      "[CV]  rf__max_depth=None, rf__max_features=100, rf__min_samples_leaf=1, rf__min_samples_split=8, rf__n_estimators=140, tfidf__max_df=0.7, tfidf__min_df=1, tfidf__ngram_range=(1, 1), total=   4.5s\n",
      "[CV] rf__max_depth=None, rf__max_features=100, rf__min_samples_leaf=1, rf__min_samples_split=8, rf__n_estimators=140, tfidf__max_df=0.7, tfidf__min_df=1, tfidf__ngram_range=(1, 1) \n",
      "[CV]  rf__max_depth=None, rf__max_features=100, rf__min_samples_leaf=1, rf__min_samples_split=8, rf__n_estimators=140, tfidf__max_df=0.7, tfidf__min_df=1, tfidf__ngram_range=(1, 1), total=   4.6s\n",
      "[CV] rf__max_depth=None, rf__max_features=100, rf__min_samples_leaf=1, rf__min_samples_split=8, rf__n_estimators=140, tfidf__max_df=0.9, tfidf__min_df=1, tfidf__ngram_range=(1, 1) \n",
      "[CV]  rf__max_depth=None, rf__max_features=100, rf__min_samples_leaf=1, rf__min_samples_split=8, rf__n_estimators=140, tfidf__max_df=0.9, tfidf__min_df=1, tfidf__ngram_range=(1, 1), total=   4.5s\n",
      "[CV] rf__max_depth=None, rf__max_features=100, rf__min_samples_leaf=1, rf__min_samples_split=8, rf__n_estimators=140, tfidf__max_df=0.9, tfidf__min_df=1, tfidf__ngram_range=(1, 1) \n",
      "[CV]  rf__max_depth=None, rf__max_features=100, rf__min_samples_leaf=1, rf__min_samples_split=8, rf__n_estimators=140, tfidf__max_df=0.9, tfidf__min_df=1, tfidf__ngram_range=(1, 1), total=   4.5s\n",
      "[CV] rf__max_depth=None, rf__max_features=100, rf__min_samples_leaf=1, rf__min_samples_split=8, rf__n_estimators=140, tfidf__max_df=0.9, tfidf__min_df=1, tfidf__ngram_range=(1, 1) \n",
      "[CV]  rf__max_depth=None, rf__max_features=100, rf__min_samples_leaf=1, rf__min_samples_split=8, rf__n_estimators=140, tfidf__max_df=0.9, tfidf__min_df=1, tfidf__ngram_range=(1, 1), total=   4.6s\n",
      "[CV] rf__max_depth=None, rf__max_features=100, rf__min_samples_leaf=1, rf__min_samples_split=8, rf__n_estimators=150, tfidf__max_df=0.6, tfidf__min_df=1, tfidf__ngram_range=(1, 1) \n",
      "[CV]  rf__max_depth=None, rf__max_features=100, rf__min_samples_leaf=1, rf__min_samples_split=8, rf__n_estimators=150, tfidf__max_df=0.6, tfidf__min_df=1, tfidf__ngram_range=(1, 1), total=   4.6s\n",
      "[CV] rf__max_depth=None, rf__max_features=100, rf__min_samples_leaf=1, rf__min_samples_split=8, rf__n_estimators=150, tfidf__max_df=0.6, tfidf__min_df=1, tfidf__ngram_range=(1, 1) \n",
      "[CV]  rf__max_depth=None, rf__max_features=100, rf__min_samples_leaf=1, rf__min_samples_split=8, rf__n_estimators=150, tfidf__max_df=0.6, tfidf__min_df=1, tfidf__ngram_range=(1, 1), total=   4.6s\n",
      "[CV] rf__max_depth=None, rf__max_features=100, rf__min_samples_leaf=1, rf__min_samples_split=8, rf__n_estimators=150, tfidf__max_df=0.6, tfidf__min_df=1, tfidf__ngram_range=(1, 1) \n",
      "[CV]  rf__max_depth=None, rf__max_features=100, rf__min_samples_leaf=1, rf__min_samples_split=8, rf__n_estimators=150, tfidf__max_df=0.6, tfidf__min_df=1, tfidf__ngram_range=(1, 1), total=   4.7s\n",
      "[CV] rf__max_depth=None, rf__max_features=100, rf__min_samples_leaf=1, rf__min_samples_split=8, rf__n_estimators=150, tfidf__max_df=0.7, tfidf__min_df=1, tfidf__ngram_range=(1, 1) \n",
      "[CV]  rf__max_depth=None, rf__max_features=100, rf__min_samples_leaf=1, rf__min_samples_split=8, rf__n_estimators=150, tfidf__max_df=0.7, tfidf__min_df=1, tfidf__ngram_range=(1, 1), total=   4.7s\n",
      "[CV] rf__max_depth=None, rf__max_features=100, rf__min_samples_leaf=1, rf__min_samples_split=8, rf__n_estimators=150, tfidf__max_df=0.7, tfidf__min_df=1, tfidf__ngram_range=(1, 1) \n"
     ]
    },
    {
     "name": "stdout",
     "output_type": "stream",
     "text": [
      "[CV]  rf__max_depth=None, rf__max_features=100, rf__min_samples_leaf=1, rf__min_samples_split=8, rf__n_estimators=150, tfidf__max_df=0.7, tfidf__min_df=1, tfidf__ngram_range=(1, 1), total=   4.6s\n",
      "[CV] rf__max_depth=None, rf__max_features=100, rf__min_samples_leaf=1, rf__min_samples_split=8, rf__n_estimators=150, tfidf__max_df=0.7, tfidf__min_df=1, tfidf__ngram_range=(1, 1) \n",
      "[CV]  rf__max_depth=None, rf__max_features=100, rf__min_samples_leaf=1, rf__min_samples_split=8, rf__n_estimators=150, tfidf__max_df=0.7, tfidf__min_df=1, tfidf__ngram_range=(1, 1), total=   4.7s\n",
      "[CV] rf__max_depth=None, rf__max_features=100, rf__min_samples_leaf=1, rf__min_samples_split=8, rf__n_estimators=150, tfidf__max_df=0.9, tfidf__min_df=1, tfidf__ngram_range=(1, 1) \n",
      "[CV]  rf__max_depth=None, rf__max_features=100, rf__min_samples_leaf=1, rf__min_samples_split=8, rf__n_estimators=150, tfidf__max_df=0.9, tfidf__min_df=1, tfidf__ngram_range=(1, 1), total=   4.7s\n",
      "[CV] rf__max_depth=None, rf__max_features=100, rf__min_samples_leaf=1, rf__min_samples_split=8, rf__n_estimators=150, tfidf__max_df=0.9, tfidf__min_df=1, tfidf__ngram_range=(1, 1) \n",
      "[CV]  rf__max_depth=None, rf__max_features=100, rf__min_samples_leaf=1, rf__min_samples_split=8, rf__n_estimators=150, tfidf__max_df=0.9, tfidf__min_df=1, tfidf__ngram_range=(1, 1), total=   4.6s\n",
      "[CV] rf__max_depth=None, rf__max_features=100, rf__min_samples_leaf=1, rf__min_samples_split=8, rf__n_estimators=150, tfidf__max_df=0.9, tfidf__min_df=1, tfidf__ngram_range=(1, 1) \n",
      "[CV]  rf__max_depth=None, rf__max_features=100, rf__min_samples_leaf=1, rf__min_samples_split=8, rf__n_estimators=150, tfidf__max_df=0.9, tfidf__min_df=1, tfidf__ngram_range=(1, 1), total=   4.7s\n",
      "[CV] rf__max_depth=None, rf__max_features=110, rf__min_samples_leaf=1, rf__min_samples_split=4, rf__n_estimators=140, tfidf__max_df=0.6, tfidf__min_df=1, tfidf__ngram_range=(1, 1) \n",
      "[CV]  rf__max_depth=None, rf__max_features=110, rf__min_samples_leaf=1, rf__min_samples_split=4, rf__n_estimators=140, tfidf__max_df=0.6, tfidf__min_df=1, tfidf__ngram_range=(1, 1), total=   5.0s\n",
      "[CV] rf__max_depth=None, rf__max_features=110, rf__min_samples_leaf=1, rf__min_samples_split=4, rf__n_estimators=140, tfidf__max_df=0.6, tfidf__min_df=1, tfidf__ngram_range=(1, 1) \n",
      "[CV]  rf__max_depth=None, rf__max_features=110, rf__min_samples_leaf=1, rf__min_samples_split=4, rf__n_estimators=140, tfidf__max_df=0.6, tfidf__min_df=1, tfidf__ngram_range=(1, 1), total=   5.1s\n",
      "[CV] rf__max_depth=None, rf__max_features=110, rf__min_samples_leaf=1, rf__min_samples_split=4, rf__n_estimators=140, tfidf__max_df=0.6, tfidf__min_df=1, tfidf__ngram_range=(1, 1) \n",
      "[CV]  rf__max_depth=None, rf__max_features=110, rf__min_samples_leaf=1, rf__min_samples_split=4, rf__n_estimators=140, tfidf__max_df=0.6, tfidf__min_df=1, tfidf__ngram_range=(1, 1), total=   5.1s\n",
      "[CV] rf__max_depth=None, rf__max_features=110, rf__min_samples_leaf=1, rf__min_samples_split=4, rf__n_estimators=140, tfidf__max_df=0.7, tfidf__min_df=1, tfidf__ngram_range=(1, 1) \n",
      "[CV]  rf__max_depth=None, rf__max_features=110, rf__min_samples_leaf=1, rf__min_samples_split=4, rf__n_estimators=140, tfidf__max_df=0.7, tfidf__min_df=1, tfidf__ngram_range=(1, 1), total=   5.0s\n",
      "[CV] rf__max_depth=None, rf__max_features=110, rf__min_samples_leaf=1, rf__min_samples_split=4, rf__n_estimators=140, tfidf__max_df=0.7, tfidf__min_df=1, tfidf__ngram_range=(1, 1) \n",
      "[CV]  rf__max_depth=None, rf__max_features=110, rf__min_samples_leaf=1, rf__min_samples_split=4, rf__n_estimators=140, tfidf__max_df=0.7, tfidf__min_df=1, tfidf__ngram_range=(1, 1), total=   5.1s\n",
      "[CV] rf__max_depth=None, rf__max_features=110, rf__min_samples_leaf=1, rf__min_samples_split=4, rf__n_estimators=140, tfidf__max_df=0.7, tfidf__min_df=1, tfidf__ngram_range=(1, 1) \n",
      "[CV]  rf__max_depth=None, rf__max_features=110, rf__min_samples_leaf=1, rf__min_samples_split=4, rf__n_estimators=140, tfidf__max_df=0.7, tfidf__min_df=1, tfidf__ngram_range=(1, 1), total=   5.1s\n",
      "[CV] rf__max_depth=None, rf__max_features=110, rf__min_samples_leaf=1, rf__min_samples_split=4, rf__n_estimators=140, tfidf__max_df=0.9, tfidf__min_df=1, tfidf__ngram_range=(1, 1) \n",
      "[CV]  rf__max_depth=None, rf__max_features=110, rf__min_samples_leaf=1, rf__min_samples_split=4, rf__n_estimators=140, tfidf__max_df=0.9, tfidf__min_df=1, tfidf__ngram_range=(1, 1), total=   5.0s\n",
      "[CV] rf__max_depth=None, rf__max_features=110, rf__min_samples_leaf=1, rf__min_samples_split=4, rf__n_estimators=140, tfidf__max_df=0.9, tfidf__min_df=1, tfidf__ngram_range=(1, 1) \n",
      "[CV]  rf__max_depth=None, rf__max_features=110, rf__min_samples_leaf=1, rf__min_samples_split=4, rf__n_estimators=140, tfidf__max_df=0.9, tfidf__min_df=1, tfidf__ngram_range=(1, 1), total=   5.1s\n",
      "[CV] rf__max_depth=None, rf__max_features=110, rf__min_samples_leaf=1, rf__min_samples_split=4, rf__n_estimators=140, tfidf__max_df=0.9, tfidf__min_df=1, tfidf__ngram_range=(1, 1) \n",
      "[CV]  rf__max_depth=None, rf__max_features=110, rf__min_samples_leaf=1, rf__min_samples_split=4, rf__n_estimators=140, tfidf__max_df=0.9, tfidf__min_df=1, tfidf__ngram_range=(1, 1), total=   5.1s\n",
      "[CV] rf__max_depth=None, rf__max_features=110, rf__min_samples_leaf=1, rf__min_samples_split=4, rf__n_estimators=150, tfidf__max_df=0.6, tfidf__min_df=1, tfidf__ngram_range=(1, 1) \n",
      "[CV]  rf__max_depth=None, rf__max_features=110, rf__min_samples_leaf=1, rf__min_samples_split=4, rf__n_estimators=150, tfidf__max_df=0.6, tfidf__min_df=1, tfidf__ngram_range=(1, 1), total=   5.2s\n",
      "[CV] rf__max_depth=None, rf__max_features=110, rf__min_samples_leaf=1, rf__min_samples_split=4, rf__n_estimators=150, tfidf__max_df=0.6, tfidf__min_df=1, tfidf__ngram_range=(1, 1) \n",
      "[CV]  rf__max_depth=None, rf__max_features=110, rf__min_samples_leaf=1, rf__min_samples_split=4, rf__n_estimators=150, tfidf__max_df=0.6, tfidf__min_df=1, tfidf__ngram_range=(1, 1), total=   5.2s\n",
      "[CV] rf__max_depth=None, rf__max_features=110, rf__min_samples_leaf=1, rf__min_samples_split=4, rf__n_estimators=150, tfidf__max_df=0.6, tfidf__min_df=1, tfidf__ngram_range=(1, 1) \n",
      "[CV]  rf__max_depth=None, rf__max_features=110, rf__min_samples_leaf=1, rf__min_samples_split=4, rf__n_estimators=150, tfidf__max_df=0.6, tfidf__min_df=1, tfidf__ngram_range=(1, 1), total=   5.2s\n",
      "[CV] rf__max_depth=None, rf__max_features=110, rf__min_samples_leaf=1, rf__min_samples_split=4, rf__n_estimators=150, tfidf__max_df=0.7, tfidf__min_df=1, tfidf__ngram_range=(1, 1) \n",
      "[CV]  rf__max_depth=None, rf__max_features=110, rf__min_samples_leaf=1, rf__min_samples_split=4, rf__n_estimators=150, tfidf__max_df=0.7, tfidf__min_df=1, tfidf__ngram_range=(1, 1), total=   5.2s\n",
      "[CV] rf__max_depth=None, rf__max_features=110, rf__min_samples_leaf=1, rf__min_samples_split=4, rf__n_estimators=150, tfidf__max_df=0.7, tfidf__min_df=1, tfidf__ngram_range=(1, 1) \n",
      "[CV]  rf__max_depth=None, rf__max_features=110, rf__min_samples_leaf=1, rf__min_samples_split=4, rf__n_estimators=150, tfidf__max_df=0.7, tfidf__min_df=1, tfidf__ngram_range=(1, 1), total=   5.2s\n",
      "[CV] rf__max_depth=None, rf__max_features=110, rf__min_samples_leaf=1, rf__min_samples_split=4, rf__n_estimators=150, tfidf__max_df=0.7, tfidf__min_df=1, tfidf__ngram_range=(1, 1) \n",
      "[CV]  rf__max_depth=None, rf__max_features=110, rf__min_samples_leaf=1, rf__min_samples_split=4, rf__n_estimators=150, tfidf__max_df=0.7, tfidf__min_df=1, tfidf__ngram_range=(1, 1), total=   5.2s\n",
      "[CV] rf__max_depth=None, rf__max_features=110, rf__min_samples_leaf=1, rf__min_samples_split=4, rf__n_estimators=150, tfidf__max_df=0.9, tfidf__min_df=1, tfidf__ngram_range=(1, 1) \n",
      "[CV]  rf__max_depth=None, rf__max_features=110, rf__min_samples_leaf=1, rf__min_samples_split=4, rf__n_estimators=150, tfidf__max_df=0.9, tfidf__min_df=1, tfidf__ngram_range=(1, 1), total=   5.2s\n",
      "[CV] rf__max_depth=None, rf__max_features=110, rf__min_samples_leaf=1, rf__min_samples_split=4, rf__n_estimators=150, tfidf__max_df=0.9, tfidf__min_df=1, tfidf__ngram_range=(1, 1) \n",
      "[CV]  rf__max_depth=None, rf__max_features=110, rf__min_samples_leaf=1, rf__min_samples_split=4, rf__n_estimators=150, tfidf__max_df=0.9, tfidf__min_df=1, tfidf__ngram_range=(1, 1), total=   5.2s\n",
      "[CV] rf__max_depth=None, rf__max_features=110, rf__min_samples_leaf=1, rf__min_samples_split=4, rf__n_estimators=150, tfidf__max_df=0.9, tfidf__min_df=1, tfidf__ngram_range=(1, 1) \n"
     ]
    },
    {
     "name": "stdout",
     "output_type": "stream",
     "text": [
      "[CV]  rf__max_depth=None, rf__max_features=110, rf__min_samples_leaf=1, rf__min_samples_split=4, rf__n_estimators=150, tfidf__max_df=0.9, tfidf__min_df=1, tfidf__ngram_range=(1, 1), total=   5.2s\n",
      "[CV] rf__max_depth=None, rf__max_features=110, rf__min_samples_leaf=1, rf__min_samples_split=8, rf__n_estimators=140, tfidf__max_df=0.6, tfidf__min_df=1, tfidf__ngram_range=(1, 1) \n",
      "[CV]  rf__max_depth=None, rf__max_features=110, rf__min_samples_leaf=1, rf__min_samples_split=8, rf__n_estimators=140, tfidf__max_df=0.6, tfidf__min_df=1, tfidf__ngram_range=(1, 1), total=   4.6s\n",
      "[CV] rf__max_depth=None, rf__max_features=110, rf__min_samples_leaf=1, rf__min_samples_split=8, rf__n_estimators=140, tfidf__max_df=0.6, tfidf__min_df=1, tfidf__ngram_range=(1, 1) \n",
      "[CV]  rf__max_depth=None, rf__max_features=110, rf__min_samples_leaf=1, rf__min_samples_split=8, rf__n_estimators=140, tfidf__max_df=0.6, tfidf__min_df=1, tfidf__ngram_range=(1, 1), total=   4.5s\n",
      "[CV] rf__max_depth=None, rf__max_features=110, rf__min_samples_leaf=1, rf__min_samples_split=8, rf__n_estimators=140, tfidf__max_df=0.6, tfidf__min_df=1, tfidf__ngram_range=(1, 1) \n",
      "[CV]  rf__max_depth=None, rf__max_features=110, rf__min_samples_leaf=1, rf__min_samples_split=8, rf__n_estimators=140, tfidf__max_df=0.6, tfidf__min_df=1, tfidf__ngram_range=(1, 1), total=   4.6s\n",
      "[CV] rf__max_depth=None, rf__max_features=110, rf__min_samples_leaf=1, rf__min_samples_split=8, rf__n_estimators=140, tfidf__max_df=0.7, tfidf__min_df=1, tfidf__ngram_range=(1, 1) \n",
      "[CV]  rf__max_depth=None, rf__max_features=110, rf__min_samples_leaf=1, rf__min_samples_split=8, rf__n_estimators=140, tfidf__max_df=0.7, tfidf__min_df=1, tfidf__ngram_range=(1, 1), total=   4.6s\n",
      "[CV] rf__max_depth=None, rf__max_features=110, rf__min_samples_leaf=1, rf__min_samples_split=8, rf__n_estimators=140, tfidf__max_df=0.7, tfidf__min_df=1, tfidf__ngram_range=(1, 1) \n",
      "[CV]  rf__max_depth=None, rf__max_features=110, rf__min_samples_leaf=1, rf__min_samples_split=8, rf__n_estimators=140, tfidf__max_df=0.7, tfidf__min_df=1, tfidf__ngram_range=(1, 1), total=   4.6s\n",
      "[CV] rf__max_depth=None, rf__max_features=110, rf__min_samples_leaf=1, rf__min_samples_split=8, rf__n_estimators=140, tfidf__max_df=0.7, tfidf__min_df=1, tfidf__ngram_range=(1, 1) \n",
      "[CV]  rf__max_depth=None, rf__max_features=110, rf__min_samples_leaf=1, rf__min_samples_split=8, rf__n_estimators=140, tfidf__max_df=0.7, tfidf__min_df=1, tfidf__ngram_range=(1, 1), total=   4.6s\n",
      "[CV] rf__max_depth=None, rf__max_features=110, rf__min_samples_leaf=1, rf__min_samples_split=8, rf__n_estimators=140, tfidf__max_df=0.9, tfidf__min_df=1, tfidf__ngram_range=(1, 1) \n",
      "[CV]  rf__max_depth=None, rf__max_features=110, rf__min_samples_leaf=1, rf__min_samples_split=8, rf__n_estimators=140, tfidf__max_df=0.9, tfidf__min_df=1, tfidf__ngram_range=(1, 1), total=   4.6s\n",
      "[CV] rf__max_depth=None, rf__max_features=110, rf__min_samples_leaf=1, rf__min_samples_split=8, rf__n_estimators=140, tfidf__max_df=0.9, tfidf__min_df=1, tfidf__ngram_range=(1, 1) \n",
      "[CV]  rf__max_depth=None, rf__max_features=110, rf__min_samples_leaf=1, rf__min_samples_split=8, rf__n_estimators=140, tfidf__max_df=0.9, tfidf__min_df=1, tfidf__ngram_range=(1, 1), total=   4.6s\n",
      "[CV] rf__max_depth=None, rf__max_features=110, rf__min_samples_leaf=1, rf__min_samples_split=8, rf__n_estimators=140, tfidf__max_df=0.9, tfidf__min_df=1, tfidf__ngram_range=(1, 1) \n",
      "[CV]  rf__max_depth=None, rf__max_features=110, rf__min_samples_leaf=1, rf__min_samples_split=8, rf__n_estimators=140, tfidf__max_df=0.9, tfidf__min_df=1, tfidf__ngram_range=(1, 1), total=   4.6s\n",
      "[CV] rf__max_depth=None, rf__max_features=110, rf__min_samples_leaf=1, rf__min_samples_split=8, rf__n_estimators=150, tfidf__max_df=0.6, tfidf__min_df=1, tfidf__ngram_range=(1, 1) \n",
      "[CV]  rf__max_depth=None, rf__max_features=110, rf__min_samples_leaf=1, rf__min_samples_split=8, rf__n_estimators=150, tfidf__max_df=0.6, tfidf__min_df=1, tfidf__ngram_range=(1, 1), total=   4.7s\n",
      "[CV] rf__max_depth=None, rf__max_features=110, rf__min_samples_leaf=1, rf__min_samples_split=8, rf__n_estimators=150, tfidf__max_df=0.6, tfidf__min_df=1, tfidf__ngram_range=(1, 1) \n",
      "[CV]  rf__max_depth=None, rf__max_features=110, rf__min_samples_leaf=1, rf__min_samples_split=8, rf__n_estimators=150, tfidf__max_df=0.6, tfidf__min_df=1, tfidf__ngram_range=(1, 1), total=   4.7s\n",
      "[CV] rf__max_depth=None, rf__max_features=110, rf__min_samples_leaf=1, rf__min_samples_split=8, rf__n_estimators=150, tfidf__max_df=0.6, tfidf__min_df=1, tfidf__ngram_range=(1, 1) \n",
      "[CV]  rf__max_depth=None, rf__max_features=110, rf__min_samples_leaf=1, rf__min_samples_split=8, rf__n_estimators=150, tfidf__max_df=0.6, tfidf__min_df=1, tfidf__ngram_range=(1, 1), total=   4.7s\n",
      "[CV] rf__max_depth=None, rf__max_features=110, rf__min_samples_leaf=1, rf__min_samples_split=8, rf__n_estimators=150, tfidf__max_df=0.7, tfidf__min_df=1, tfidf__ngram_range=(1, 1) \n",
      "[CV]  rf__max_depth=None, rf__max_features=110, rf__min_samples_leaf=1, rf__min_samples_split=8, rf__n_estimators=150, tfidf__max_df=0.7, tfidf__min_df=1, tfidf__ngram_range=(1, 1), total=   4.7s\n",
      "[CV] rf__max_depth=None, rf__max_features=110, rf__min_samples_leaf=1, rf__min_samples_split=8, rf__n_estimators=150, tfidf__max_df=0.7, tfidf__min_df=1, tfidf__ngram_range=(1, 1) \n",
      "[CV]  rf__max_depth=None, rf__max_features=110, rf__min_samples_leaf=1, rf__min_samples_split=8, rf__n_estimators=150, tfidf__max_df=0.7, tfidf__min_df=1, tfidf__ngram_range=(1, 1), total=   4.7s\n",
      "[CV] rf__max_depth=None, rf__max_features=110, rf__min_samples_leaf=1, rf__min_samples_split=8, rf__n_estimators=150, tfidf__max_df=0.7, tfidf__min_df=1, tfidf__ngram_range=(1, 1) \n",
      "[CV]  rf__max_depth=None, rf__max_features=110, rf__min_samples_leaf=1, rf__min_samples_split=8, rf__n_estimators=150, tfidf__max_df=0.7, tfidf__min_df=1, tfidf__ngram_range=(1, 1), total=   4.8s\n",
      "[CV] rf__max_depth=None, rf__max_features=110, rf__min_samples_leaf=1, rf__min_samples_split=8, rf__n_estimators=150, tfidf__max_df=0.9, tfidf__min_df=1, tfidf__ngram_range=(1, 1) \n",
      "[CV]  rf__max_depth=None, rf__max_features=110, rf__min_samples_leaf=1, rf__min_samples_split=8, rf__n_estimators=150, tfidf__max_df=0.9, tfidf__min_df=1, tfidf__ngram_range=(1, 1), total=   4.7s\n",
      "[CV] rf__max_depth=None, rf__max_features=110, rf__min_samples_leaf=1, rf__min_samples_split=8, rf__n_estimators=150, tfidf__max_df=0.9, tfidf__min_df=1, tfidf__ngram_range=(1, 1) \n",
      "[CV]  rf__max_depth=None, rf__max_features=110, rf__min_samples_leaf=1, rf__min_samples_split=8, rf__n_estimators=150, tfidf__max_df=0.9, tfidf__min_df=1, tfidf__ngram_range=(1, 1), total=   4.7s\n",
      "[CV] rf__max_depth=None, rf__max_features=110, rf__min_samples_leaf=1, rf__min_samples_split=8, rf__n_estimators=150, tfidf__max_df=0.9, tfidf__min_df=1, tfidf__ngram_range=(1, 1) \n",
      "[CV]  rf__max_depth=None, rf__max_features=110, rf__min_samples_leaf=1, rf__min_samples_split=8, rf__n_estimators=150, tfidf__max_df=0.9, tfidf__min_df=1, tfidf__ngram_range=(1, 1), total=   4.7s\n",
      "[CV] rf__max_depth=60, rf__max_features=80, rf__min_samples_leaf=1, rf__min_samples_split=4, rf__n_estimators=140, tfidf__max_df=0.6, tfidf__min_df=1, tfidf__ngram_range=(1, 1) \n",
      "[CV]  rf__max_depth=60, rf__max_features=80, rf__min_samples_leaf=1, rf__min_samples_split=4, rf__n_estimators=140, tfidf__max_df=0.6, tfidf__min_df=1, tfidf__ngram_range=(1, 1), total=   3.8s\n",
      "[CV] rf__max_depth=60, rf__max_features=80, rf__min_samples_leaf=1, rf__min_samples_split=4, rf__n_estimators=140, tfidf__max_df=0.6, tfidf__min_df=1, tfidf__ngram_range=(1, 1) \n",
      "[CV]  rf__max_depth=60, rf__max_features=80, rf__min_samples_leaf=1, rf__min_samples_split=4, rf__n_estimators=140, tfidf__max_df=0.6, tfidf__min_df=1, tfidf__ngram_range=(1, 1), total=   3.9s\n",
      "[CV] rf__max_depth=60, rf__max_features=80, rf__min_samples_leaf=1, rf__min_samples_split=4, rf__n_estimators=140, tfidf__max_df=0.6, tfidf__min_df=1, tfidf__ngram_range=(1, 1) \n",
      "[CV]  rf__max_depth=60, rf__max_features=80, rf__min_samples_leaf=1, rf__min_samples_split=4, rf__n_estimators=140, tfidf__max_df=0.6, tfidf__min_df=1, tfidf__ngram_range=(1, 1), total=   3.9s\n",
      "[CV] rf__max_depth=60, rf__max_features=80, rf__min_samples_leaf=1, rf__min_samples_split=4, rf__n_estimators=140, tfidf__max_df=0.7, tfidf__min_df=1, tfidf__ngram_range=(1, 1) \n"
     ]
    },
    {
     "name": "stdout",
     "output_type": "stream",
     "text": [
      "[CV]  rf__max_depth=60, rf__max_features=80, rf__min_samples_leaf=1, rf__min_samples_split=4, rf__n_estimators=140, tfidf__max_df=0.7, tfidf__min_df=1, tfidf__ngram_range=(1, 1), total=   3.8s\n",
      "[CV] rf__max_depth=60, rf__max_features=80, rf__min_samples_leaf=1, rf__min_samples_split=4, rf__n_estimators=140, tfidf__max_df=0.7, tfidf__min_df=1, tfidf__ngram_range=(1, 1) \n",
      "[CV]  rf__max_depth=60, rf__max_features=80, rf__min_samples_leaf=1, rf__min_samples_split=4, rf__n_estimators=140, tfidf__max_df=0.7, tfidf__min_df=1, tfidf__ngram_range=(1, 1), total=   3.9s\n",
      "[CV] rf__max_depth=60, rf__max_features=80, rf__min_samples_leaf=1, rf__min_samples_split=4, rf__n_estimators=140, tfidf__max_df=0.7, tfidf__min_df=1, tfidf__ngram_range=(1, 1) \n",
      "[CV]  rf__max_depth=60, rf__max_features=80, rf__min_samples_leaf=1, rf__min_samples_split=4, rf__n_estimators=140, tfidf__max_df=0.7, tfidf__min_df=1, tfidf__ngram_range=(1, 1), total=   3.8s\n",
      "[CV] rf__max_depth=60, rf__max_features=80, rf__min_samples_leaf=1, rf__min_samples_split=4, rf__n_estimators=140, tfidf__max_df=0.9, tfidf__min_df=1, tfidf__ngram_range=(1, 1) \n",
      "[CV]  rf__max_depth=60, rf__max_features=80, rf__min_samples_leaf=1, rf__min_samples_split=4, rf__n_estimators=140, tfidf__max_df=0.9, tfidf__min_df=1, tfidf__ngram_range=(1, 1), total=   3.8s\n",
      "[CV] rf__max_depth=60, rf__max_features=80, rf__min_samples_leaf=1, rf__min_samples_split=4, rf__n_estimators=140, tfidf__max_df=0.9, tfidf__min_df=1, tfidf__ngram_range=(1, 1) \n",
      "[CV]  rf__max_depth=60, rf__max_features=80, rf__min_samples_leaf=1, rf__min_samples_split=4, rf__n_estimators=140, tfidf__max_df=0.9, tfidf__min_df=1, tfidf__ngram_range=(1, 1), total=   3.8s\n",
      "[CV] rf__max_depth=60, rf__max_features=80, rf__min_samples_leaf=1, rf__min_samples_split=4, rf__n_estimators=140, tfidf__max_df=0.9, tfidf__min_df=1, tfidf__ngram_range=(1, 1) \n",
      "[CV]  rf__max_depth=60, rf__max_features=80, rf__min_samples_leaf=1, rf__min_samples_split=4, rf__n_estimators=140, tfidf__max_df=0.9, tfidf__min_df=1, tfidf__ngram_range=(1, 1), total=   3.9s\n",
      "[CV] rf__max_depth=60, rf__max_features=80, rf__min_samples_leaf=1, rf__min_samples_split=4, rf__n_estimators=150, tfidf__max_df=0.6, tfidf__min_df=1, tfidf__ngram_range=(1, 1) \n",
      "[CV]  rf__max_depth=60, rf__max_features=80, rf__min_samples_leaf=1, rf__min_samples_split=4, rf__n_estimators=150, tfidf__max_df=0.6, tfidf__min_df=1, tfidf__ngram_range=(1, 1), total=   3.9s\n",
      "[CV] rf__max_depth=60, rf__max_features=80, rf__min_samples_leaf=1, rf__min_samples_split=4, rf__n_estimators=150, tfidf__max_df=0.6, tfidf__min_df=1, tfidf__ngram_range=(1, 1) \n",
      "[CV]  rf__max_depth=60, rf__max_features=80, rf__min_samples_leaf=1, rf__min_samples_split=4, rf__n_estimators=150, tfidf__max_df=0.6, tfidf__min_df=1, tfidf__ngram_range=(1, 1), total=   4.0s\n",
      "[CV] rf__max_depth=60, rf__max_features=80, rf__min_samples_leaf=1, rf__min_samples_split=4, rf__n_estimators=150, tfidf__max_df=0.6, tfidf__min_df=1, tfidf__ngram_range=(1, 1) \n",
      "[CV]  rf__max_depth=60, rf__max_features=80, rf__min_samples_leaf=1, rf__min_samples_split=4, rf__n_estimators=150, tfidf__max_df=0.6, tfidf__min_df=1, tfidf__ngram_range=(1, 1), total=   4.0s\n",
      "[CV] rf__max_depth=60, rf__max_features=80, rf__min_samples_leaf=1, rf__min_samples_split=4, rf__n_estimators=150, tfidf__max_df=0.7, tfidf__min_df=1, tfidf__ngram_range=(1, 1) \n",
      "[CV]  rf__max_depth=60, rf__max_features=80, rf__min_samples_leaf=1, rf__min_samples_split=4, rf__n_estimators=150, tfidf__max_df=0.7, tfidf__min_df=1, tfidf__ngram_range=(1, 1), total=   3.9s\n",
      "[CV] rf__max_depth=60, rf__max_features=80, rf__min_samples_leaf=1, rf__min_samples_split=4, rf__n_estimators=150, tfidf__max_df=0.7, tfidf__min_df=1, tfidf__ngram_range=(1, 1) \n",
      "[CV]  rf__max_depth=60, rf__max_features=80, rf__min_samples_leaf=1, rf__min_samples_split=4, rf__n_estimators=150, tfidf__max_df=0.7, tfidf__min_df=1, tfidf__ngram_range=(1, 1), total=   3.9s\n",
      "[CV] rf__max_depth=60, rf__max_features=80, rf__min_samples_leaf=1, rf__min_samples_split=4, rf__n_estimators=150, tfidf__max_df=0.7, tfidf__min_df=1, tfidf__ngram_range=(1, 1) \n",
      "[CV]  rf__max_depth=60, rf__max_features=80, rf__min_samples_leaf=1, rf__min_samples_split=4, rf__n_estimators=150, tfidf__max_df=0.7, tfidf__min_df=1, tfidf__ngram_range=(1, 1), total=   3.9s\n",
      "[CV] rf__max_depth=60, rf__max_features=80, rf__min_samples_leaf=1, rf__min_samples_split=4, rf__n_estimators=150, tfidf__max_df=0.9, tfidf__min_df=1, tfidf__ngram_range=(1, 1) \n",
      "[CV]  rf__max_depth=60, rf__max_features=80, rf__min_samples_leaf=1, rf__min_samples_split=4, rf__n_estimators=150, tfidf__max_df=0.9, tfidf__min_df=1, tfidf__ngram_range=(1, 1), total=   3.9s\n",
      "[CV] rf__max_depth=60, rf__max_features=80, rf__min_samples_leaf=1, rf__min_samples_split=4, rf__n_estimators=150, tfidf__max_df=0.9, tfidf__min_df=1, tfidf__ngram_range=(1, 1) \n",
      "[CV]  rf__max_depth=60, rf__max_features=80, rf__min_samples_leaf=1, rf__min_samples_split=4, rf__n_estimators=150, tfidf__max_df=0.9, tfidf__min_df=1, tfidf__ngram_range=(1, 1), total=   3.9s\n",
      "[CV] rf__max_depth=60, rf__max_features=80, rf__min_samples_leaf=1, rf__min_samples_split=4, rf__n_estimators=150, tfidf__max_df=0.9, tfidf__min_df=1, tfidf__ngram_range=(1, 1) \n",
      "[CV]  rf__max_depth=60, rf__max_features=80, rf__min_samples_leaf=1, rf__min_samples_split=4, rf__n_estimators=150, tfidf__max_df=0.9, tfidf__min_df=1, tfidf__ngram_range=(1, 1), total=   3.9s\n",
      "[CV] rf__max_depth=60, rf__max_features=80, rf__min_samples_leaf=1, rf__min_samples_split=8, rf__n_estimators=140, tfidf__max_df=0.6, tfidf__min_df=1, tfidf__ngram_range=(1, 1) \n",
      "[CV]  rf__max_depth=60, rf__max_features=80, rf__min_samples_leaf=1, rf__min_samples_split=8, rf__n_estimators=140, tfidf__max_df=0.6, tfidf__min_df=1, tfidf__ngram_range=(1, 1), total=   3.6s\n",
      "[CV] rf__max_depth=60, rf__max_features=80, rf__min_samples_leaf=1, rf__min_samples_split=8, rf__n_estimators=140, tfidf__max_df=0.6, tfidf__min_df=1, tfidf__ngram_range=(1, 1) \n",
      "[CV]  rf__max_depth=60, rf__max_features=80, rf__min_samples_leaf=1, rf__min_samples_split=8, rf__n_estimators=140, tfidf__max_df=0.6, tfidf__min_df=1, tfidf__ngram_range=(1, 1), total=   3.6s\n",
      "[CV] rf__max_depth=60, rf__max_features=80, rf__min_samples_leaf=1, rf__min_samples_split=8, rf__n_estimators=140, tfidf__max_df=0.6, tfidf__min_df=1, tfidf__ngram_range=(1, 1) \n",
      "[CV]  rf__max_depth=60, rf__max_features=80, rf__min_samples_leaf=1, rf__min_samples_split=8, rf__n_estimators=140, tfidf__max_df=0.6, tfidf__min_df=1, tfidf__ngram_range=(1, 1), total=   3.6s\n",
      "[CV] rf__max_depth=60, rf__max_features=80, rf__min_samples_leaf=1, rf__min_samples_split=8, rf__n_estimators=140, tfidf__max_df=0.7, tfidf__min_df=1, tfidf__ngram_range=(1, 1) \n",
      "[CV]  rf__max_depth=60, rf__max_features=80, rf__min_samples_leaf=1, rf__min_samples_split=8, rf__n_estimators=140, tfidf__max_df=0.7, tfidf__min_df=1, tfidf__ngram_range=(1, 1), total=   3.6s\n",
      "[CV] rf__max_depth=60, rf__max_features=80, rf__min_samples_leaf=1, rf__min_samples_split=8, rf__n_estimators=140, tfidf__max_df=0.7, tfidf__min_df=1, tfidf__ngram_range=(1, 1) \n",
      "[CV]  rf__max_depth=60, rf__max_features=80, rf__min_samples_leaf=1, rf__min_samples_split=8, rf__n_estimators=140, tfidf__max_df=0.7, tfidf__min_df=1, tfidf__ngram_range=(1, 1), total=   3.6s\n",
      "[CV] rf__max_depth=60, rf__max_features=80, rf__min_samples_leaf=1, rf__min_samples_split=8, rf__n_estimators=140, tfidf__max_df=0.7, tfidf__min_df=1, tfidf__ngram_range=(1, 1) \n",
      "[CV]  rf__max_depth=60, rf__max_features=80, rf__min_samples_leaf=1, rf__min_samples_split=8, rf__n_estimators=140, tfidf__max_df=0.7, tfidf__min_df=1, tfidf__ngram_range=(1, 1), total=   3.6s\n",
      "[CV] rf__max_depth=60, rf__max_features=80, rf__min_samples_leaf=1, rf__min_samples_split=8, rf__n_estimators=140, tfidf__max_df=0.9, tfidf__min_df=1, tfidf__ngram_range=(1, 1) \n",
      "[CV]  rf__max_depth=60, rf__max_features=80, rf__min_samples_leaf=1, rf__min_samples_split=8, rf__n_estimators=140, tfidf__max_df=0.9, tfidf__min_df=1, tfidf__ngram_range=(1, 1), total=   3.6s\n",
      "[CV] rf__max_depth=60, rf__max_features=80, rf__min_samples_leaf=1, rf__min_samples_split=8, rf__n_estimators=140, tfidf__max_df=0.9, tfidf__min_df=1, tfidf__ngram_range=(1, 1) \n",
      "[CV]  rf__max_depth=60, rf__max_features=80, rf__min_samples_leaf=1, rf__min_samples_split=8, rf__n_estimators=140, tfidf__max_df=0.9, tfidf__min_df=1, tfidf__ngram_range=(1, 1), total=   3.6s\n",
      "[CV] rf__max_depth=60, rf__max_features=80, rf__min_samples_leaf=1, rf__min_samples_split=8, rf__n_estimators=140, tfidf__max_df=0.9, tfidf__min_df=1, tfidf__ngram_range=(1, 1) \n"
     ]
    },
    {
     "name": "stdout",
     "output_type": "stream",
     "text": [
      "[CV]  rf__max_depth=60, rf__max_features=80, rf__min_samples_leaf=1, rf__min_samples_split=8, rf__n_estimators=140, tfidf__max_df=0.9, tfidf__min_df=1, tfidf__ngram_range=(1, 1), total=   3.6s\n",
      "[CV] rf__max_depth=60, rf__max_features=80, rf__min_samples_leaf=1, rf__min_samples_split=8, rf__n_estimators=150, tfidf__max_df=0.6, tfidf__min_df=1, tfidf__ngram_range=(1, 1) \n",
      "[CV]  rf__max_depth=60, rf__max_features=80, rf__min_samples_leaf=1, rf__min_samples_split=8, rf__n_estimators=150, tfidf__max_df=0.6, tfidf__min_df=1, tfidf__ngram_range=(1, 1), total=   3.7s\n",
      "[CV] rf__max_depth=60, rf__max_features=80, rf__min_samples_leaf=1, rf__min_samples_split=8, rf__n_estimators=150, tfidf__max_df=0.6, tfidf__min_df=1, tfidf__ngram_range=(1, 1) \n",
      "[CV]  rf__max_depth=60, rf__max_features=80, rf__min_samples_leaf=1, rf__min_samples_split=8, rf__n_estimators=150, tfidf__max_df=0.6, tfidf__min_df=1, tfidf__ngram_range=(1, 1), total=   3.7s\n",
      "[CV] rf__max_depth=60, rf__max_features=80, rf__min_samples_leaf=1, rf__min_samples_split=8, rf__n_estimators=150, tfidf__max_df=0.6, tfidf__min_df=1, tfidf__ngram_range=(1, 1) \n",
      "[CV]  rf__max_depth=60, rf__max_features=80, rf__min_samples_leaf=1, rf__min_samples_split=8, rf__n_estimators=150, tfidf__max_df=0.6, tfidf__min_df=1, tfidf__ngram_range=(1, 1), total=   3.7s\n",
      "[CV] rf__max_depth=60, rf__max_features=80, rf__min_samples_leaf=1, rf__min_samples_split=8, rf__n_estimators=150, tfidf__max_df=0.7, tfidf__min_df=1, tfidf__ngram_range=(1, 1) \n",
      "[CV]  rf__max_depth=60, rf__max_features=80, rf__min_samples_leaf=1, rf__min_samples_split=8, rf__n_estimators=150, tfidf__max_df=0.7, tfidf__min_df=1, tfidf__ngram_range=(1, 1), total=   3.7s\n",
      "[CV] rf__max_depth=60, rf__max_features=80, rf__min_samples_leaf=1, rf__min_samples_split=8, rf__n_estimators=150, tfidf__max_df=0.7, tfidf__min_df=1, tfidf__ngram_range=(1, 1) \n",
      "[CV]  rf__max_depth=60, rf__max_features=80, rf__min_samples_leaf=1, rf__min_samples_split=8, rf__n_estimators=150, tfidf__max_df=0.7, tfidf__min_df=1, tfidf__ngram_range=(1, 1), total=   3.6s\n",
      "[CV] rf__max_depth=60, rf__max_features=80, rf__min_samples_leaf=1, rf__min_samples_split=8, rf__n_estimators=150, tfidf__max_df=0.7, tfidf__min_df=1, tfidf__ngram_range=(1, 1) \n",
      "[CV]  rf__max_depth=60, rf__max_features=80, rf__min_samples_leaf=1, rf__min_samples_split=8, rf__n_estimators=150, tfidf__max_df=0.7, tfidf__min_df=1, tfidf__ngram_range=(1, 1), total=   3.7s\n",
      "[CV] rf__max_depth=60, rf__max_features=80, rf__min_samples_leaf=1, rf__min_samples_split=8, rf__n_estimators=150, tfidf__max_df=0.9, tfidf__min_df=1, tfidf__ngram_range=(1, 1) \n",
      "[CV]  rf__max_depth=60, rf__max_features=80, rf__min_samples_leaf=1, rf__min_samples_split=8, rf__n_estimators=150, tfidf__max_df=0.9, tfidf__min_df=1, tfidf__ngram_range=(1, 1), total=   3.7s\n",
      "[CV] rf__max_depth=60, rf__max_features=80, rf__min_samples_leaf=1, rf__min_samples_split=8, rf__n_estimators=150, tfidf__max_df=0.9, tfidf__min_df=1, tfidf__ngram_range=(1, 1) \n",
      "[CV]  rf__max_depth=60, rf__max_features=80, rf__min_samples_leaf=1, rf__min_samples_split=8, rf__n_estimators=150, tfidf__max_df=0.9, tfidf__min_df=1, tfidf__ngram_range=(1, 1), total=   3.7s\n",
      "[CV] rf__max_depth=60, rf__max_features=80, rf__min_samples_leaf=1, rf__min_samples_split=8, rf__n_estimators=150, tfidf__max_df=0.9, tfidf__min_df=1, tfidf__ngram_range=(1, 1) \n",
      "[CV]  rf__max_depth=60, rf__max_features=80, rf__min_samples_leaf=1, rf__min_samples_split=8, rf__n_estimators=150, tfidf__max_df=0.9, tfidf__min_df=1, tfidf__ngram_range=(1, 1), total=   3.7s\n",
      "[CV] rf__max_depth=60, rf__max_features=100, rf__min_samples_leaf=1, rf__min_samples_split=4, rf__n_estimators=140, tfidf__max_df=0.6, tfidf__min_df=1, tfidf__ngram_range=(1, 1) \n",
      "[CV]  rf__max_depth=60, rf__max_features=100, rf__min_samples_leaf=1, rf__min_samples_split=4, rf__n_estimators=140, tfidf__max_df=0.6, tfidf__min_df=1, tfidf__ngram_range=(1, 1), total=   4.0s\n",
      "[CV] rf__max_depth=60, rf__max_features=100, rf__min_samples_leaf=1, rf__min_samples_split=4, rf__n_estimators=140, tfidf__max_df=0.6, tfidf__min_df=1, tfidf__ngram_range=(1, 1) \n",
      "[CV]  rf__max_depth=60, rf__max_features=100, rf__min_samples_leaf=1, rf__min_samples_split=4, rf__n_estimators=140, tfidf__max_df=0.6, tfidf__min_df=1, tfidf__ngram_range=(1, 1), total=   4.0s\n",
      "[CV] rf__max_depth=60, rf__max_features=100, rf__min_samples_leaf=1, rf__min_samples_split=4, rf__n_estimators=140, tfidf__max_df=0.6, tfidf__min_df=1, tfidf__ngram_range=(1, 1) \n",
      "[CV]  rf__max_depth=60, rf__max_features=100, rf__min_samples_leaf=1, rf__min_samples_split=4, rf__n_estimators=140, tfidf__max_df=0.6, tfidf__min_df=1, tfidf__ngram_range=(1, 1), total=   3.9s\n",
      "[CV] rf__max_depth=60, rf__max_features=100, rf__min_samples_leaf=1, rf__min_samples_split=4, rf__n_estimators=140, tfidf__max_df=0.7, tfidf__min_df=1, tfidf__ngram_range=(1, 1) \n",
      "[CV]  rf__max_depth=60, rf__max_features=100, rf__min_samples_leaf=1, rf__min_samples_split=4, rf__n_estimators=140, tfidf__max_df=0.7, tfidf__min_df=1, tfidf__ngram_range=(1, 1), total=   3.9s\n",
      "[CV] rf__max_depth=60, rf__max_features=100, rf__min_samples_leaf=1, rf__min_samples_split=4, rf__n_estimators=140, tfidf__max_df=0.7, tfidf__min_df=1, tfidf__ngram_range=(1, 1) \n",
      "[CV]  rf__max_depth=60, rf__max_features=100, rf__min_samples_leaf=1, rf__min_samples_split=4, rf__n_estimators=140, tfidf__max_df=0.7, tfidf__min_df=1, tfidf__ngram_range=(1, 1), total=   4.0s\n",
      "[CV] rf__max_depth=60, rf__max_features=100, rf__min_samples_leaf=1, rf__min_samples_split=4, rf__n_estimators=140, tfidf__max_df=0.7, tfidf__min_df=1, tfidf__ngram_range=(1, 1) \n",
      "[CV]  rf__max_depth=60, rf__max_features=100, rf__min_samples_leaf=1, rf__min_samples_split=4, rf__n_estimators=140, tfidf__max_df=0.7, tfidf__min_df=1, tfidf__ngram_range=(1, 1), total=   3.9s\n",
      "[CV] rf__max_depth=60, rf__max_features=100, rf__min_samples_leaf=1, rf__min_samples_split=4, rf__n_estimators=140, tfidf__max_df=0.9, tfidf__min_df=1, tfidf__ngram_range=(1, 1) \n",
      "[CV]  rf__max_depth=60, rf__max_features=100, rf__min_samples_leaf=1, rf__min_samples_split=4, rf__n_estimators=140, tfidf__max_df=0.9, tfidf__min_df=1, tfidf__ngram_range=(1, 1), total=   3.9s\n",
      "[CV] rf__max_depth=60, rf__max_features=100, rf__min_samples_leaf=1, rf__min_samples_split=4, rf__n_estimators=140, tfidf__max_df=0.9, tfidf__min_df=1, tfidf__ngram_range=(1, 1) \n",
      "[CV]  rf__max_depth=60, rf__max_features=100, rf__min_samples_leaf=1, rf__min_samples_split=4, rf__n_estimators=140, tfidf__max_df=0.9, tfidf__min_df=1, tfidf__ngram_range=(1, 1), total=   4.0s\n",
      "[CV] rf__max_depth=60, rf__max_features=100, rf__min_samples_leaf=1, rf__min_samples_split=4, rf__n_estimators=140, tfidf__max_df=0.9, tfidf__min_df=1, tfidf__ngram_range=(1, 1) \n",
      "[CV]  rf__max_depth=60, rf__max_features=100, rf__min_samples_leaf=1, rf__min_samples_split=4, rf__n_estimators=140, tfidf__max_df=0.9, tfidf__min_df=1, tfidf__ngram_range=(1, 1), total=   3.9s\n",
      "[CV] rf__max_depth=60, rf__max_features=100, rf__min_samples_leaf=1, rf__min_samples_split=4, rf__n_estimators=150, tfidf__max_df=0.6, tfidf__min_df=1, tfidf__ngram_range=(1, 1) \n",
      "[CV]  rf__max_depth=60, rf__max_features=100, rf__min_samples_leaf=1, rf__min_samples_split=4, rf__n_estimators=150, tfidf__max_df=0.6, tfidf__min_df=1, tfidf__ngram_range=(1, 1), total=   4.1s\n",
      "[CV] rf__max_depth=60, rf__max_features=100, rf__min_samples_leaf=1, rf__min_samples_split=4, rf__n_estimators=150, tfidf__max_df=0.6, tfidf__min_df=1, tfidf__ngram_range=(1, 1) \n",
      "[CV]  rf__max_depth=60, rf__max_features=100, rf__min_samples_leaf=1, rf__min_samples_split=4, rf__n_estimators=150, tfidf__max_df=0.6, tfidf__min_df=1, tfidf__ngram_range=(1, 1), total=   4.1s\n",
      "[CV] rf__max_depth=60, rf__max_features=100, rf__min_samples_leaf=1, rf__min_samples_split=4, rf__n_estimators=150, tfidf__max_df=0.6, tfidf__min_df=1, tfidf__ngram_range=(1, 1) \n",
      "[CV]  rf__max_depth=60, rf__max_features=100, rf__min_samples_leaf=1, rf__min_samples_split=4, rf__n_estimators=150, tfidf__max_df=0.6, tfidf__min_df=1, tfidf__ngram_range=(1, 1), total=   4.2s\n",
      "[CV] rf__max_depth=60, rf__max_features=100, rf__min_samples_leaf=1, rf__min_samples_split=4, rf__n_estimators=150, tfidf__max_df=0.7, tfidf__min_df=1, tfidf__ngram_range=(1, 1) \n",
      "[CV]  rf__max_depth=60, rf__max_features=100, rf__min_samples_leaf=1, rf__min_samples_split=4, rf__n_estimators=150, tfidf__max_df=0.7, tfidf__min_df=1, tfidf__ngram_range=(1, 1), total=   4.1s\n",
      "[CV] rf__max_depth=60, rf__max_features=100, rf__min_samples_leaf=1, rf__min_samples_split=4, rf__n_estimators=150, tfidf__max_df=0.7, tfidf__min_df=1, tfidf__ngram_range=(1, 1) \n"
     ]
    },
    {
     "name": "stdout",
     "output_type": "stream",
     "text": [
      "[CV]  rf__max_depth=60, rf__max_features=100, rf__min_samples_leaf=1, rf__min_samples_split=4, rf__n_estimators=150, tfidf__max_df=0.7, tfidf__min_df=1, tfidf__ngram_range=(1, 1), total=   4.1s\n",
      "[CV] rf__max_depth=60, rf__max_features=100, rf__min_samples_leaf=1, rf__min_samples_split=4, rf__n_estimators=150, tfidf__max_df=0.7, tfidf__min_df=1, tfidf__ngram_range=(1, 1) \n",
      "[CV]  rf__max_depth=60, rf__max_features=100, rf__min_samples_leaf=1, rf__min_samples_split=4, rf__n_estimators=150, tfidf__max_df=0.7, tfidf__min_df=1, tfidf__ngram_range=(1, 1), total=   4.0s\n",
      "[CV] rf__max_depth=60, rf__max_features=100, rf__min_samples_leaf=1, rf__min_samples_split=4, rf__n_estimators=150, tfidf__max_df=0.9, tfidf__min_df=1, tfidf__ngram_range=(1, 1) \n",
      "[CV]  rf__max_depth=60, rf__max_features=100, rf__min_samples_leaf=1, rf__min_samples_split=4, rf__n_estimators=150, tfidf__max_df=0.9, tfidf__min_df=1, tfidf__ngram_range=(1, 1), total=   4.0s\n",
      "[CV] rf__max_depth=60, rf__max_features=100, rf__min_samples_leaf=1, rf__min_samples_split=4, rf__n_estimators=150, tfidf__max_df=0.9, tfidf__min_df=1, tfidf__ngram_range=(1, 1) \n",
      "[CV]  rf__max_depth=60, rf__max_features=100, rf__min_samples_leaf=1, rf__min_samples_split=4, rf__n_estimators=150, tfidf__max_df=0.9, tfidf__min_df=1, tfidf__ngram_range=(1, 1), total=   4.1s\n",
      "[CV] rf__max_depth=60, rf__max_features=100, rf__min_samples_leaf=1, rf__min_samples_split=4, rf__n_estimators=150, tfidf__max_df=0.9, tfidf__min_df=1, tfidf__ngram_range=(1, 1) \n",
      "[CV]  rf__max_depth=60, rf__max_features=100, rf__min_samples_leaf=1, rf__min_samples_split=4, rf__n_estimators=150, tfidf__max_df=0.9, tfidf__min_df=1, tfidf__ngram_range=(1, 1), total=   4.0s\n",
      "[CV] rf__max_depth=60, rf__max_features=100, rf__min_samples_leaf=1, rf__min_samples_split=8, rf__n_estimators=140, tfidf__max_df=0.6, tfidf__min_df=1, tfidf__ngram_range=(1, 1) \n",
      "[CV]  rf__max_depth=60, rf__max_features=100, rf__min_samples_leaf=1, rf__min_samples_split=8, rf__n_estimators=140, tfidf__max_df=0.6, tfidf__min_df=1, tfidf__ngram_range=(1, 1), total=   3.7s\n",
      "[CV] rf__max_depth=60, rf__max_features=100, rf__min_samples_leaf=1, rf__min_samples_split=8, rf__n_estimators=140, tfidf__max_df=0.6, tfidf__min_df=1, tfidf__ngram_range=(1, 1) \n",
      "[CV]  rf__max_depth=60, rf__max_features=100, rf__min_samples_leaf=1, rf__min_samples_split=8, rf__n_estimators=140, tfidf__max_df=0.6, tfidf__min_df=1, tfidf__ngram_range=(1, 1), total=   3.7s\n",
      "[CV] rf__max_depth=60, rf__max_features=100, rf__min_samples_leaf=1, rf__min_samples_split=8, rf__n_estimators=140, tfidf__max_df=0.6, tfidf__min_df=1, tfidf__ngram_range=(1, 1) \n",
      "[CV]  rf__max_depth=60, rf__max_features=100, rf__min_samples_leaf=1, rf__min_samples_split=8, rf__n_estimators=140, tfidf__max_df=0.6, tfidf__min_df=1, tfidf__ngram_range=(1, 1), total=   3.7s\n",
      "[CV] rf__max_depth=60, rf__max_features=100, rf__min_samples_leaf=1, rf__min_samples_split=8, rf__n_estimators=140, tfidf__max_df=0.7, tfidf__min_df=1, tfidf__ngram_range=(1, 1) \n",
      "[CV]  rf__max_depth=60, rf__max_features=100, rf__min_samples_leaf=1, rf__min_samples_split=8, rf__n_estimators=140, tfidf__max_df=0.7, tfidf__min_df=1, tfidf__ngram_range=(1, 1), total=   3.7s\n",
      "[CV] rf__max_depth=60, rf__max_features=100, rf__min_samples_leaf=1, rf__min_samples_split=8, rf__n_estimators=140, tfidf__max_df=0.7, tfidf__min_df=1, tfidf__ngram_range=(1, 1) \n",
      "[CV]  rf__max_depth=60, rf__max_features=100, rf__min_samples_leaf=1, rf__min_samples_split=8, rf__n_estimators=140, tfidf__max_df=0.7, tfidf__min_df=1, tfidf__ngram_range=(1, 1), total=   3.7s\n",
      "[CV] rf__max_depth=60, rf__max_features=100, rf__min_samples_leaf=1, rf__min_samples_split=8, rf__n_estimators=140, tfidf__max_df=0.7, tfidf__min_df=1, tfidf__ngram_range=(1, 1) \n",
      "[CV]  rf__max_depth=60, rf__max_features=100, rf__min_samples_leaf=1, rf__min_samples_split=8, rf__n_estimators=140, tfidf__max_df=0.7, tfidf__min_df=1, tfidf__ngram_range=(1, 1), total=   3.7s\n",
      "[CV] rf__max_depth=60, rf__max_features=100, rf__min_samples_leaf=1, rf__min_samples_split=8, rf__n_estimators=140, tfidf__max_df=0.9, tfidf__min_df=1, tfidf__ngram_range=(1, 1) \n",
      "[CV]  rf__max_depth=60, rf__max_features=100, rf__min_samples_leaf=1, rf__min_samples_split=8, rf__n_estimators=140, tfidf__max_df=0.9, tfidf__min_df=1, tfidf__ngram_range=(1, 1), total=   3.7s\n",
      "[CV] rf__max_depth=60, rf__max_features=100, rf__min_samples_leaf=1, rf__min_samples_split=8, rf__n_estimators=140, tfidf__max_df=0.9, tfidf__min_df=1, tfidf__ngram_range=(1, 1) \n",
      "[CV]  rf__max_depth=60, rf__max_features=100, rf__min_samples_leaf=1, rf__min_samples_split=8, rf__n_estimators=140, tfidf__max_df=0.9, tfidf__min_df=1, tfidf__ngram_range=(1, 1), total=   3.7s\n",
      "[CV] rf__max_depth=60, rf__max_features=100, rf__min_samples_leaf=1, rf__min_samples_split=8, rf__n_estimators=140, tfidf__max_df=0.9, tfidf__min_df=1, tfidf__ngram_range=(1, 1) \n",
      "[CV]  rf__max_depth=60, rf__max_features=100, rf__min_samples_leaf=1, rf__min_samples_split=8, rf__n_estimators=140, tfidf__max_df=0.9, tfidf__min_df=1, tfidf__ngram_range=(1, 1), total=   3.7s\n",
      "[CV] rf__max_depth=60, rf__max_features=100, rf__min_samples_leaf=1, rf__min_samples_split=8, rf__n_estimators=150, tfidf__max_df=0.6, tfidf__min_df=1, tfidf__ngram_range=(1, 1) \n",
      "[CV]  rf__max_depth=60, rf__max_features=100, rf__min_samples_leaf=1, rf__min_samples_split=8, rf__n_estimators=150, tfidf__max_df=0.6, tfidf__min_df=1, tfidf__ngram_range=(1, 1), total=   3.8s\n",
      "[CV] rf__max_depth=60, rf__max_features=100, rf__min_samples_leaf=1, rf__min_samples_split=8, rf__n_estimators=150, tfidf__max_df=0.6, tfidf__min_df=1, tfidf__ngram_range=(1, 1) \n",
      "[CV]  rf__max_depth=60, rf__max_features=100, rf__min_samples_leaf=1, rf__min_samples_split=8, rf__n_estimators=150, tfidf__max_df=0.6, tfidf__min_df=1, tfidf__ngram_range=(1, 1), total=   3.8s\n",
      "[CV] rf__max_depth=60, rf__max_features=100, rf__min_samples_leaf=1, rf__min_samples_split=8, rf__n_estimators=150, tfidf__max_df=0.6, tfidf__min_df=1, tfidf__ngram_range=(1, 1) \n",
      "[CV]  rf__max_depth=60, rf__max_features=100, rf__min_samples_leaf=1, rf__min_samples_split=8, rf__n_estimators=150, tfidf__max_df=0.6, tfidf__min_df=1, tfidf__ngram_range=(1, 1), total=   3.8s\n",
      "[CV] rf__max_depth=60, rf__max_features=100, rf__min_samples_leaf=1, rf__min_samples_split=8, rf__n_estimators=150, tfidf__max_df=0.7, tfidf__min_df=1, tfidf__ngram_range=(1, 1) \n",
      "[CV]  rf__max_depth=60, rf__max_features=100, rf__min_samples_leaf=1, rf__min_samples_split=8, rf__n_estimators=150, tfidf__max_df=0.7, tfidf__min_df=1, tfidf__ngram_range=(1, 1), total=   3.8s\n",
      "[CV] rf__max_depth=60, rf__max_features=100, rf__min_samples_leaf=1, rf__min_samples_split=8, rf__n_estimators=150, tfidf__max_df=0.7, tfidf__min_df=1, tfidf__ngram_range=(1, 1) \n",
      "[CV]  rf__max_depth=60, rf__max_features=100, rf__min_samples_leaf=1, rf__min_samples_split=8, rf__n_estimators=150, tfidf__max_df=0.7, tfidf__min_df=1, tfidf__ngram_range=(1, 1), total=   3.8s\n",
      "[CV] rf__max_depth=60, rf__max_features=100, rf__min_samples_leaf=1, rf__min_samples_split=8, rf__n_estimators=150, tfidf__max_df=0.7, tfidf__min_df=1, tfidf__ngram_range=(1, 1) \n",
      "[CV]  rf__max_depth=60, rf__max_features=100, rf__min_samples_leaf=1, rf__min_samples_split=8, rf__n_estimators=150, tfidf__max_df=0.7, tfidf__min_df=1, tfidf__ngram_range=(1, 1), total=   3.8s\n",
      "[CV] rf__max_depth=60, rf__max_features=100, rf__min_samples_leaf=1, rf__min_samples_split=8, rf__n_estimators=150, tfidf__max_df=0.9, tfidf__min_df=1, tfidf__ngram_range=(1, 1) \n",
      "[CV]  rf__max_depth=60, rf__max_features=100, rf__min_samples_leaf=1, rf__min_samples_split=8, rf__n_estimators=150, tfidf__max_df=0.9, tfidf__min_df=1, tfidf__ngram_range=(1, 1), total=   3.8s\n",
      "[CV] rf__max_depth=60, rf__max_features=100, rf__min_samples_leaf=1, rf__min_samples_split=8, rf__n_estimators=150, tfidf__max_df=0.9, tfidf__min_df=1, tfidf__ngram_range=(1, 1) \n",
      "[CV]  rf__max_depth=60, rf__max_features=100, rf__min_samples_leaf=1, rf__min_samples_split=8, rf__n_estimators=150, tfidf__max_df=0.9, tfidf__min_df=1, tfidf__ngram_range=(1, 1), total=   3.8s\n",
      "[CV] rf__max_depth=60, rf__max_features=100, rf__min_samples_leaf=1, rf__min_samples_split=8, rf__n_estimators=150, tfidf__max_df=0.9, tfidf__min_df=1, tfidf__ngram_range=(1, 1) \n"
     ]
    },
    {
     "name": "stdout",
     "output_type": "stream",
     "text": [
      "[CV]  rf__max_depth=60, rf__max_features=100, rf__min_samples_leaf=1, rf__min_samples_split=8, rf__n_estimators=150, tfidf__max_df=0.9, tfidf__min_df=1, tfidf__ngram_range=(1, 1), total=   3.8s\n",
      "[CV] rf__max_depth=60, rf__max_features=110, rf__min_samples_leaf=1, rf__min_samples_split=4, rf__n_estimators=140, tfidf__max_df=0.6, tfidf__min_df=1, tfidf__ngram_range=(1, 1) \n",
      "[CV]  rf__max_depth=60, rf__max_features=110, rf__min_samples_leaf=1, rf__min_samples_split=4, rf__n_estimators=140, tfidf__max_df=0.6, tfidf__min_df=1, tfidf__ngram_range=(1, 1), total=   4.0s\n",
      "[CV] rf__max_depth=60, rf__max_features=110, rf__min_samples_leaf=1, rf__min_samples_split=4, rf__n_estimators=140, tfidf__max_df=0.6, tfidf__min_df=1, tfidf__ngram_range=(1, 1) \n",
      "[CV]  rf__max_depth=60, rf__max_features=110, rf__min_samples_leaf=1, rf__min_samples_split=4, rf__n_estimators=140, tfidf__max_df=0.6, tfidf__min_df=1, tfidf__ngram_range=(1, 1), total=   4.0s\n",
      "[CV] rf__max_depth=60, rf__max_features=110, rf__min_samples_leaf=1, rf__min_samples_split=4, rf__n_estimators=140, tfidf__max_df=0.6, tfidf__min_df=1, tfidf__ngram_range=(1, 1) \n",
      "[CV]  rf__max_depth=60, rf__max_features=110, rf__min_samples_leaf=1, rf__min_samples_split=4, rf__n_estimators=140, tfidf__max_df=0.6, tfidf__min_df=1, tfidf__ngram_range=(1, 1), total=   4.0s\n",
      "[CV] rf__max_depth=60, rf__max_features=110, rf__min_samples_leaf=1, rf__min_samples_split=4, rf__n_estimators=140, tfidf__max_df=0.7, tfidf__min_df=1, tfidf__ngram_range=(1, 1) \n",
      "[CV]  rf__max_depth=60, rf__max_features=110, rf__min_samples_leaf=1, rf__min_samples_split=4, rf__n_estimators=140, tfidf__max_df=0.7, tfidf__min_df=1, tfidf__ngram_range=(1, 1), total=   4.0s\n",
      "[CV] rf__max_depth=60, rf__max_features=110, rf__min_samples_leaf=1, rf__min_samples_split=4, rf__n_estimators=140, tfidf__max_df=0.7, tfidf__min_df=1, tfidf__ngram_range=(1, 1) \n",
      "[CV]  rf__max_depth=60, rf__max_features=110, rf__min_samples_leaf=1, rf__min_samples_split=4, rf__n_estimators=140, tfidf__max_df=0.7, tfidf__min_df=1, tfidf__ngram_range=(1, 1), total=   4.0s\n",
      "[CV] rf__max_depth=60, rf__max_features=110, rf__min_samples_leaf=1, rf__min_samples_split=4, rf__n_estimators=140, tfidf__max_df=0.7, tfidf__min_df=1, tfidf__ngram_range=(1, 1) \n",
      "[CV]  rf__max_depth=60, rf__max_features=110, rf__min_samples_leaf=1, rf__min_samples_split=4, rf__n_estimators=140, tfidf__max_df=0.7, tfidf__min_df=1, tfidf__ngram_range=(1, 1), total=   4.0s\n",
      "[CV] rf__max_depth=60, rf__max_features=110, rf__min_samples_leaf=1, rf__min_samples_split=4, rf__n_estimators=140, tfidf__max_df=0.9, tfidf__min_df=1, tfidf__ngram_range=(1, 1) \n",
      "[CV]  rf__max_depth=60, rf__max_features=110, rf__min_samples_leaf=1, rf__min_samples_split=4, rf__n_estimators=140, tfidf__max_df=0.9, tfidf__min_df=1, tfidf__ngram_range=(1, 1), total=   4.0s\n",
      "[CV] rf__max_depth=60, rf__max_features=110, rf__min_samples_leaf=1, rf__min_samples_split=4, rf__n_estimators=140, tfidf__max_df=0.9, tfidf__min_df=1, tfidf__ngram_range=(1, 1) \n",
      "[CV]  rf__max_depth=60, rf__max_features=110, rf__min_samples_leaf=1, rf__min_samples_split=4, rf__n_estimators=140, tfidf__max_df=0.9, tfidf__min_df=1, tfidf__ngram_range=(1, 1), total=   4.0s\n",
      "[CV] rf__max_depth=60, rf__max_features=110, rf__min_samples_leaf=1, rf__min_samples_split=4, rf__n_estimators=140, tfidf__max_df=0.9, tfidf__min_df=1, tfidf__ngram_range=(1, 1) \n",
      "[CV]  rf__max_depth=60, rf__max_features=110, rf__min_samples_leaf=1, rf__min_samples_split=4, rf__n_estimators=140, tfidf__max_df=0.9, tfidf__min_df=1, tfidf__ngram_range=(1, 1), total=   4.0s\n",
      "[CV] rf__max_depth=60, rf__max_features=110, rf__min_samples_leaf=1, rf__min_samples_split=4, rf__n_estimators=150, tfidf__max_df=0.6, tfidf__min_df=1, tfidf__ngram_range=(1, 1) \n",
      "[CV]  rf__max_depth=60, rf__max_features=110, rf__min_samples_leaf=1, rf__min_samples_split=4, rf__n_estimators=150, tfidf__max_df=0.6, tfidf__min_df=1, tfidf__ngram_range=(1, 1), total=   4.1s\n",
      "[CV] rf__max_depth=60, rf__max_features=110, rf__min_samples_leaf=1, rf__min_samples_split=4, rf__n_estimators=150, tfidf__max_df=0.6, tfidf__min_df=1, tfidf__ngram_range=(1, 1) \n",
      "[CV]  rf__max_depth=60, rf__max_features=110, rf__min_samples_leaf=1, rf__min_samples_split=4, rf__n_estimators=150, tfidf__max_df=0.6, tfidf__min_df=1, tfidf__ngram_range=(1, 1), total=   4.1s\n",
      "[CV] rf__max_depth=60, rf__max_features=110, rf__min_samples_leaf=1, rf__min_samples_split=4, rf__n_estimators=150, tfidf__max_df=0.6, tfidf__min_df=1, tfidf__ngram_range=(1, 1) \n",
      "[CV]  rf__max_depth=60, rf__max_features=110, rf__min_samples_leaf=1, rf__min_samples_split=4, rf__n_estimators=150, tfidf__max_df=0.6, tfidf__min_df=1, tfidf__ngram_range=(1, 1), total=   4.1s\n",
      "[CV] rf__max_depth=60, rf__max_features=110, rf__min_samples_leaf=1, rf__min_samples_split=4, rf__n_estimators=150, tfidf__max_df=0.7, tfidf__min_df=1, tfidf__ngram_range=(1, 1) \n",
      "[CV]  rf__max_depth=60, rf__max_features=110, rf__min_samples_leaf=1, rf__min_samples_split=4, rf__n_estimators=150, tfidf__max_df=0.7, tfidf__min_df=1, tfidf__ngram_range=(1, 1), total=   4.1s\n",
      "[CV] rf__max_depth=60, rf__max_features=110, rf__min_samples_leaf=1, rf__min_samples_split=4, rf__n_estimators=150, tfidf__max_df=0.7, tfidf__min_df=1, tfidf__ngram_range=(1, 1) \n",
      "[CV]  rf__max_depth=60, rf__max_features=110, rf__min_samples_leaf=1, rf__min_samples_split=4, rf__n_estimators=150, tfidf__max_df=0.7, tfidf__min_df=1, tfidf__ngram_range=(1, 1), total=   4.1s\n",
      "[CV] rf__max_depth=60, rf__max_features=110, rf__min_samples_leaf=1, rf__min_samples_split=4, rf__n_estimators=150, tfidf__max_df=0.7, tfidf__min_df=1, tfidf__ngram_range=(1, 1) \n",
      "[CV]  rf__max_depth=60, rf__max_features=110, rf__min_samples_leaf=1, rf__min_samples_split=4, rf__n_estimators=150, tfidf__max_df=0.7, tfidf__min_df=1, tfidf__ngram_range=(1, 1), total=   4.1s\n",
      "[CV] rf__max_depth=60, rf__max_features=110, rf__min_samples_leaf=1, rf__min_samples_split=4, rf__n_estimators=150, tfidf__max_df=0.9, tfidf__min_df=1, tfidf__ngram_range=(1, 1) \n",
      "[CV]  rf__max_depth=60, rf__max_features=110, rf__min_samples_leaf=1, rf__min_samples_split=4, rf__n_estimators=150, tfidf__max_df=0.9, tfidf__min_df=1, tfidf__ngram_range=(1, 1), total=   4.1s\n",
      "[CV] rf__max_depth=60, rf__max_features=110, rf__min_samples_leaf=1, rf__min_samples_split=4, rf__n_estimators=150, tfidf__max_df=0.9, tfidf__min_df=1, tfidf__ngram_range=(1, 1) \n",
      "[CV]  rf__max_depth=60, rf__max_features=110, rf__min_samples_leaf=1, rf__min_samples_split=4, rf__n_estimators=150, tfidf__max_df=0.9, tfidf__min_df=1, tfidf__ngram_range=(1, 1), total=   4.1s\n",
      "[CV] rf__max_depth=60, rf__max_features=110, rf__min_samples_leaf=1, rf__min_samples_split=4, rf__n_estimators=150, tfidf__max_df=0.9, tfidf__min_df=1, tfidf__ngram_range=(1, 1) \n",
      "[CV]  rf__max_depth=60, rf__max_features=110, rf__min_samples_leaf=1, rf__min_samples_split=4, rf__n_estimators=150, tfidf__max_df=0.9, tfidf__min_df=1, tfidf__ngram_range=(1, 1), total=   4.1s\n",
      "[CV] rf__max_depth=60, rf__max_features=110, rf__min_samples_leaf=1, rf__min_samples_split=8, rf__n_estimators=140, tfidf__max_df=0.6, tfidf__min_df=1, tfidf__ngram_range=(1, 1) \n",
      "[CV]  rf__max_depth=60, rf__max_features=110, rf__min_samples_leaf=1, rf__min_samples_split=8, rf__n_estimators=140, tfidf__max_df=0.6, tfidf__min_df=1, tfidf__ngram_range=(1, 1), total=   3.8s\n",
      "[CV] rf__max_depth=60, rf__max_features=110, rf__min_samples_leaf=1, rf__min_samples_split=8, rf__n_estimators=140, tfidf__max_df=0.6, tfidf__min_df=1, tfidf__ngram_range=(1, 1) \n",
      "[CV]  rf__max_depth=60, rf__max_features=110, rf__min_samples_leaf=1, rf__min_samples_split=8, rf__n_estimators=140, tfidf__max_df=0.6, tfidf__min_df=1, tfidf__ngram_range=(1, 1), total=   3.7s\n",
      "[CV] rf__max_depth=60, rf__max_features=110, rf__min_samples_leaf=1, rf__min_samples_split=8, rf__n_estimators=140, tfidf__max_df=0.6, tfidf__min_df=1, tfidf__ngram_range=(1, 1) \n",
      "[CV]  rf__max_depth=60, rf__max_features=110, rf__min_samples_leaf=1, rf__min_samples_split=8, rf__n_estimators=140, tfidf__max_df=0.6, tfidf__min_df=1, tfidf__ngram_range=(1, 1), total=   3.8s\n",
      "[CV] rf__max_depth=60, rf__max_features=110, rf__min_samples_leaf=1, rf__min_samples_split=8, rf__n_estimators=140, tfidf__max_df=0.7, tfidf__min_df=1, tfidf__ngram_range=(1, 1) \n"
     ]
    },
    {
     "name": "stdout",
     "output_type": "stream",
     "text": [
      "[CV]  rf__max_depth=60, rf__max_features=110, rf__min_samples_leaf=1, rf__min_samples_split=8, rf__n_estimators=140, tfidf__max_df=0.7, tfidf__min_df=1, tfidf__ngram_range=(1, 1), total=   3.7s\n",
      "[CV] rf__max_depth=60, rf__max_features=110, rf__min_samples_leaf=1, rf__min_samples_split=8, rf__n_estimators=140, tfidf__max_df=0.7, tfidf__min_df=1, tfidf__ngram_range=(1, 1) \n",
      "[CV]  rf__max_depth=60, rf__max_features=110, rf__min_samples_leaf=1, rf__min_samples_split=8, rf__n_estimators=140, tfidf__max_df=0.7, tfidf__min_df=1, tfidf__ngram_range=(1, 1), total=   3.8s\n",
      "[CV] rf__max_depth=60, rf__max_features=110, rf__min_samples_leaf=1, rf__min_samples_split=8, rf__n_estimators=140, tfidf__max_df=0.7, tfidf__min_df=1, tfidf__ngram_range=(1, 1) \n",
      "[CV]  rf__max_depth=60, rf__max_features=110, rf__min_samples_leaf=1, rf__min_samples_split=8, rf__n_estimators=140, tfidf__max_df=0.7, tfidf__min_df=1, tfidf__ngram_range=(1, 1), total=   3.8s\n",
      "[CV] rf__max_depth=60, rf__max_features=110, rf__min_samples_leaf=1, rf__min_samples_split=8, rf__n_estimators=140, tfidf__max_df=0.9, tfidf__min_df=1, tfidf__ngram_range=(1, 1) \n",
      "[CV]  rf__max_depth=60, rf__max_features=110, rf__min_samples_leaf=1, rf__min_samples_split=8, rf__n_estimators=140, tfidf__max_df=0.9, tfidf__min_df=1, tfidf__ngram_range=(1, 1), total=   3.8s\n",
      "[CV] rf__max_depth=60, rf__max_features=110, rf__min_samples_leaf=1, rf__min_samples_split=8, rf__n_estimators=140, tfidf__max_df=0.9, tfidf__min_df=1, tfidf__ngram_range=(1, 1) \n",
      "[CV]  rf__max_depth=60, rf__max_features=110, rf__min_samples_leaf=1, rf__min_samples_split=8, rf__n_estimators=140, tfidf__max_df=0.9, tfidf__min_df=1, tfidf__ngram_range=(1, 1), total=   3.7s\n",
      "[CV] rf__max_depth=60, rf__max_features=110, rf__min_samples_leaf=1, rf__min_samples_split=8, rf__n_estimators=140, tfidf__max_df=0.9, tfidf__min_df=1, tfidf__ngram_range=(1, 1) \n",
      "[CV]  rf__max_depth=60, rf__max_features=110, rf__min_samples_leaf=1, rf__min_samples_split=8, rf__n_estimators=140, tfidf__max_df=0.9, tfidf__min_df=1, tfidf__ngram_range=(1, 1), total=   3.8s\n",
      "[CV] rf__max_depth=60, rf__max_features=110, rf__min_samples_leaf=1, rf__min_samples_split=8, rf__n_estimators=150, tfidf__max_df=0.6, tfidf__min_df=1, tfidf__ngram_range=(1, 1) \n",
      "[CV]  rf__max_depth=60, rf__max_features=110, rf__min_samples_leaf=1, rf__min_samples_split=8, rf__n_estimators=150, tfidf__max_df=0.6, tfidf__min_df=1, tfidf__ngram_range=(1, 1), total=   3.8s\n",
      "[CV] rf__max_depth=60, rf__max_features=110, rf__min_samples_leaf=1, rf__min_samples_split=8, rf__n_estimators=150, tfidf__max_df=0.6, tfidf__min_df=1, tfidf__ngram_range=(1, 1) \n",
      "[CV]  rf__max_depth=60, rf__max_features=110, rf__min_samples_leaf=1, rf__min_samples_split=8, rf__n_estimators=150, tfidf__max_df=0.6, tfidf__min_df=1, tfidf__ngram_range=(1, 1), total=   3.8s\n",
      "[CV] rf__max_depth=60, rf__max_features=110, rf__min_samples_leaf=1, rf__min_samples_split=8, rf__n_estimators=150, tfidf__max_df=0.6, tfidf__min_df=1, tfidf__ngram_range=(1, 1) \n",
      "[CV]  rf__max_depth=60, rf__max_features=110, rf__min_samples_leaf=1, rf__min_samples_split=8, rf__n_estimators=150, tfidf__max_df=0.6, tfidf__min_df=1, tfidf__ngram_range=(1, 1), total=   3.8s\n",
      "[CV] rf__max_depth=60, rf__max_features=110, rf__min_samples_leaf=1, rf__min_samples_split=8, rf__n_estimators=150, tfidf__max_df=0.7, tfidf__min_df=1, tfidf__ngram_range=(1, 1) \n",
      "[CV]  rf__max_depth=60, rf__max_features=110, rf__min_samples_leaf=1, rf__min_samples_split=8, rf__n_estimators=150, tfidf__max_df=0.7, tfidf__min_df=1, tfidf__ngram_range=(1, 1), total=   3.8s\n",
      "[CV] rf__max_depth=60, rf__max_features=110, rf__min_samples_leaf=1, rf__min_samples_split=8, rf__n_estimators=150, tfidf__max_df=0.7, tfidf__min_df=1, tfidf__ngram_range=(1, 1) \n",
      "[CV]  rf__max_depth=60, rf__max_features=110, rf__min_samples_leaf=1, rf__min_samples_split=8, rf__n_estimators=150, tfidf__max_df=0.7, tfidf__min_df=1, tfidf__ngram_range=(1, 1), total=   3.8s\n",
      "[CV] rf__max_depth=60, rf__max_features=110, rf__min_samples_leaf=1, rf__min_samples_split=8, rf__n_estimators=150, tfidf__max_df=0.7, tfidf__min_df=1, tfidf__ngram_range=(1, 1) \n",
      "[CV]  rf__max_depth=60, rf__max_features=110, rf__min_samples_leaf=1, rf__min_samples_split=8, rf__n_estimators=150, tfidf__max_df=0.7, tfidf__min_df=1, tfidf__ngram_range=(1, 1), total=   3.8s\n",
      "[CV] rf__max_depth=60, rf__max_features=110, rf__min_samples_leaf=1, rf__min_samples_split=8, rf__n_estimators=150, tfidf__max_df=0.9, tfidf__min_df=1, tfidf__ngram_range=(1, 1) \n",
      "[CV]  rf__max_depth=60, rf__max_features=110, rf__min_samples_leaf=1, rf__min_samples_split=8, rf__n_estimators=150, tfidf__max_df=0.9, tfidf__min_df=1, tfidf__ngram_range=(1, 1), total=   3.8s\n",
      "[CV] rf__max_depth=60, rf__max_features=110, rf__min_samples_leaf=1, rf__min_samples_split=8, rf__n_estimators=150, tfidf__max_df=0.9, tfidf__min_df=1, tfidf__ngram_range=(1, 1) \n",
      "[CV]  rf__max_depth=60, rf__max_features=110, rf__min_samples_leaf=1, rf__min_samples_split=8, rf__n_estimators=150, tfidf__max_df=0.9, tfidf__min_df=1, tfidf__ngram_range=(1, 1), total=   3.8s\n",
      "[CV] rf__max_depth=60, rf__max_features=110, rf__min_samples_leaf=1, rf__min_samples_split=8, rf__n_estimators=150, tfidf__max_df=0.9, tfidf__min_df=1, tfidf__ngram_range=(1, 1) \n",
      "[CV]  rf__max_depth=60, rf__max_features=110, rf__min_samples_leaf=1, rf__min_samples_split=8, rf__n_estimators=150, tfidf__max_df=0.9, tfidf__min_df=1, tfidf__ngram_range=(1, 1), total=   3.8s\n"
     ]
    },
    {
     "name": "stderr",
     "output_type": "stream",
     "text": [
      "[Parallel(n_jobs=1)]: Done 216 out of 216 | elapsed: 15.6min finished\n"
     ]
    },
    {
     "data": {
      "text/plain": [
       "GridSearchCV(cv=3,\n",
       "             estimator=Pipeline(steps=[('tfidf',\n",
       "                                        TfidfVectorizer(preprocessor=<function doc_preparer at 0x7fdaa9ec6ee0>)),\n",
       "                                       ('rf',\n",
       "                                        RandomForestClassifier(class_weight='balanced',\n",
       "                                                               random_state=42))]),\n",
       "             n_jobs=1,\n",
       "             param_grid={'rf__max_depth': [None, 60],\n",
       "                         'rf__max_features': [80, 100, 110],\n",
       "                         'rf__min_samples_leaf': [1],\n",
       "                         'rf__min_samples_split': [4, 8],\n",
       "                         'rf__n_estimators': [140, 150],\n",
       "                         'tfidf__max_df': [0.6, 0.7, 0.9], 'tfidf__min_df': [1],\n",
       "                         'tfidf__ngram_range': [(1, 1)]},\n",
       "             verbose=2)"
      ]
     },
     "execution_count": 108,
     "metadata": {},
     "output_type": "execute_result"
    }
   ],
   "source": [
    "# Grid search with RandomForestClassifier pipeline\n",
    "rf_grid_search = GridSearchCV(rf_pipeline, rf_param_grid, cv=3, n_jobs=1, verbose=2)\n",
    "rf_grid_search.fit(X_train, y_train) "
   ]
  },
  {
   "cell_type": "markdown",
   "metadata": {},
   "source": [
    "# Model Evaluation"
   ]
  },
  {
   "cell_type": "code",
   "execution_count": 87,
   "metadata": {},
   "outputs": [
    {
     "name": "stdout",
     "output_type": "stream",
     "text": [
      "Best Parameters for Naive Bayes: {'tfidf__max_df': 0.75, 'tfidf__min_df': 0.01, 'tfidf__ngram_range': (1, 2)}\n",
      "Grid Search Best Score: 0.6333242664037727\n"
     ]
    }
   ],
   "source": [
    "# Evaluation for Naive Bayes\n",
    "\n",
    "\n",
    "nb_best_model = nb_grid_search.best_estimator_\n",
    "print(\"Best Parameters for Naive Bayes:\", nb_grid_search.best_params_)\n",
    "print(\"Grid Search Best Score:\", nb_grid_search.best_score_)"
   ]
  },
  {
   "cell_type": "code",
   "execution_count": 88,
   "metadata": {},
   "outputs": [
    {
     "data": {
      "text/plain": [
       "0.6484331281477337"
      ]
     },
     "execution_count": 88,
     "metadata": {},
     "output_type": "execute_result"
    }
   ],
   "source": [
    "nb_best_model.score(X_train, y_train)"
   ]
  },
  {
   "cell_type": "code",
   "execution_count": 109,
   "metadata": {
    "scrolled": true
   },
   "outputs": [
    {
     "name": "stdout",
     "output_type": "stream",
     "text": [
      "Best Parameters for Random Forest: {'rf__max_depth': None, 'rf__max_features': 80, 'rf__min_samples_leaf': 1, 'rf__min_samples_split': 4, 'rf__n_estimators': 150, 'tfidf__max_df': 0.6, 'tfidf__min_df': 1, 'tfidf__ngram_range': (1, 1)}\n",
      "Grid Search Best Score: 0.6723556951768749\n"
     ]
    }
   ],
   "source": [
    "#Evaluation for Random Forest\n",
    "rf_best_model = rf_grid_search.best_estimator_\n",
    "print(\"Best Parameters for Random Forest:\", rf_grid_search.best_params_)\n",
    "print(\"Grid Search Best Score:\", rf_grid_search.best_score_)"
   ]
  },
  {
   "cell_type": "code",
   "execution_count": 110,
   "metadata": {
    "scrolled": true
   },
   "outputs": [
    {
     "data": {
      "text/plain": [
       "0.9570509233351987"
      ]
     },
     "execution_count": 110,
     "metadata": {},
     "output_type": "execute_result"
    }
   ],
   "source": [
    "rf_best_model.score(X_train, y_train)"
   ]
  },
  {
   "cell_type": "markdown",
   "metadata": {},
   "source": [
    "# Confusion Matrix"
   ]
  },
  {
   "cell_type": "code",
   "execution_count": 91,
   "metadata": {
    "scrolled": false
   },
   "outputs": [
    {
     "data": {
      "image/png": "[encoded data removed]",
      "text/plain": [
       "<Figure size 288x288 with 2 Axes>"
      ]
     },
     "metadata": {
      "needs_background": "light"
     },
     "output_type": "display_data"
    }
   ],
   "source": [
    "y_pred_nb = nb_best_model.predict(X_test)\n",
    "cm_nb = confusion_matrix(y_test, y_pred_nb)\n",
    "# Plot the Confusion Matrix with a smaller size\n",
    "fig, ax = plt.subplots(figsize=(4, 4))  \n",
    "ConfusionMatrixDisplay(confusion_matrix=cm_nb, display_labels= nb_best_model.classes_).plot(ax=ax)\n",
    "\n",
    "# Show the plot\n",
    "plt.show()"
   ]
  },
  {
   "cell_type": "code",
   "execution_count": 112,
   "metadata": {
    "scrolled": true
   },
   "outputs": [
    {
     "data": {
      "text/plain": [
       "0.6817673378076062"
      ]
     },
     "execution_count": 112,
     "metadata": {},
     "output_type": "execute_result"
    }
   ],
   "source": [
    "y_pred_rf = rf_best_model.predict(X_test)\n",
    "rf_accuracy = accuracy_score(y_test, y_pred_rf)\n",
    "rf_accuracy"
   ]
  },
  {
   "cell_type": "code",
   "execution_count": 113,
   "metadata": {},
   "outputs": [
    {
     "data": {
      "image/png": "[encoded data removed]",
      "text/plain": [
       "<Figure size 288x288 with 2 Axes>"
      ]
     },
     "metadata": {
      "needs_background": "light"
     },
     "output_type": "display_data"
    }
   ],
   "source": [
    "cm_rf = confusion_matrix(y_test, y_pred_rf)\n",
    "# Plot the Confusion Matrix with a smaller size\n",
    "fig, ax = plt.subplots(figsize=(4, 4))  \n",
    "ConfusionMatrixDisplay(confusion_matrix=cm_rf, display_labels= rf_best_model.classes_).plot(ax=ax)\n",
    "\n",
    "# Show the plot\n",
    "plt.show()"
   ]
  },
  {
   "cell_type": "markdown",
   "metadata": {},
   "source": [
    "## Features importances"
   ]
  },
  {
   "cell_type": "code",
   "execution_count": 73,
   "metadata": {
    "scrolled": true
   },
   "outputs": [],
   "source": [
    "rf_tfidf_vectorizer = rf_best_model.named_steps['tfidf']\n",
    "rf_tfidf_feature_names = rf_tfidf_vectorizer.get_feature_names()\n",
    "rf_tfidf_feature_importances = rf_tfidf_vectorizer.idf_"
   ]
  },
  {
   "cell_type": "code",
   "execution_count": 74,
   "metadata": {},
   "outputs": [],
   "source": [
    "rf_model = rf_best_model.named_steps['rf']\n",
    "rf_feature_importances = rf_model.feature_importances_"
   ]
  },
  {
   "cell_type": "code",
   "execution_count": 114,
   "metadata": {
    "scrolled": true
   },
   "outputs": [
    {
     "name": "stdout",
     "output_type": "stream",
     "text": [
      "       Feature  Importance\n",
      "3155      ipad    0.017192\n",
      "281      apple    0.013287\n",
      "2556    google    0.011467\n",
      "3159    iphone    0.011032\n",
      "5781     store    0.010348\n",
      "274        app    0.008106\n",
      "403     austin    0.006874\n",
      "210        amp    0.006679\n",
      "4055       new    0.006678\n",
      "2493       get    0.005514\n",
      "3416    launch    0.005185\n",
      "4597       pop    0.005119\n",
      "1277      cool    0.005011\n",
      "3506      like    0.004974\n",
      "2117      fail    0.004913\n",
      "4439    people    0.004735\n",
      "2602     great    0.004675\n",
      "1042    circle    0.004643\n",
      "2750  headache    0.004611\n",
      "3517      line    0.004436\n",
      "223    android    0.004320\n",
      "4239      open    0.004229\n",
      "5842      suck    0.004102\n",
      "6203     today    0.004044\n",
      "2349      free    0.003936\n",
      "5576    social    0.003931\n",
      "1559    design    0.003799\n",
      "4379     party    0.003750\n",
      "451    awesome    0.003731\n",
      "4029      need    0.003714\n",
      "2531        go    0.003671\n",
      "4224       one    0.003640\n",
      "6132     think    0.003545\n",
      "6757       win    0.003491\n",
      "3576      look    0.003475\n",
      "3596      love    0.003455\n",
      "302       apps    0.003452\n",
      "6553       via    0.003446\n",
      "2550      good    0.003430\n",
      "198    america    0.003169\n",
      "4049   network    0.003127\n",
      "859       call    0.003119\n",
      "6180      time    0.003081\n",
      "3891    mobile    0.003021\n",
      "835     button    0.002968\n",
      "3573      long    0.002964\n",
      "6829     would    0.002961\n",
      "5279       see    0.002939\n",
      "5944     sxswi    0.002870\n",
      "2115      fade    0.002843\n"
     ]
    }
   ],
   "source": [
    "feature_importance_df = pd.DataFrame({'Feature': rf_tfidf_feature_names, 'Importance': rf_feature_importances})\n",
    "feature_importance_df = feature_importance_df.sort_values(by='Importance', ascending=False)\n",
    "print(feature_importance_df.head(50)) "
   ]
  },
  {
   "cell_type": "code",
   "execution_count": 160,
   "metadata": {},
   "outputs": [
    {
     "data": {
      "image/png": "[encoded data removed]",
      "text/plain": [
       "<Figure size 720x432 with 1 Axes>"
      ]
     },
     "metadata": {
      "needs_background": "light"
     },
     "output_type": "display_data"
    }
   ],
   "source": [
    "# Get the top 15 features and their importance scores\n",
    "top_features = feature_importance_df.head(15)\n",
    "\n",
    "# Create a bar chart\n",
    "plt.figure(figsize=(10, 6))\n",
    "plt.barh(top_features['Feature'], top_features['Importance'], color='green')\n",
    "plt.xlabel('Importance Score')\n",
    "plt.ylabel('Feature')\n",
    "plt.title('Top 15 Features by Importance to Model')\n",
    "plt.gca().invert_yaxis()  # Invert the y-axis to display the highest importance at the top\n",
    "plt.show()"
   ]
  },
  {
   "cell_type": "code",
   "execution_count": 115,
   "metadata": {},
   "outputs": [
    {
     "name": "stdout",
     "output_type": "stream",
     "text": [
      "           Term  TF-IDF Score\n",
      "3482       ipad    393.706915\n",
      "310       apple    376.081488\n",
      "2822     google    359.336209\n",
      "6395      store    299.138856\n",
      "3489     iphone    239.375512\n",
      "4510        new    213.162008\n",
      "441      austin    204.370285\n",
      "3787     launch    195.979945\n",
      "1157     circle    174.148013\n",
      "6181     social    162.560269\n",
      "300         app    161.070850\n",
      "5116        pop    160.827025\n",
      "228         amp    151.833258\n",
      "4718       open    144.916383\n",
      "2748        get    143.244584\n",
      "6863      today    141.818031\n",
      "4503    network    134.492131\n",
      "242     android    125.641611\n",
      "3896       line    120.142966\n",
      "7258        via    114.108774\n",
      "953        call    112.411049\n",
      "2794         go    109.715918\n",
      "4059      major     95.048426\n",
      "4874      party     94.983691\n",
      "2586       free     91.938646\n",
      "6706  temporary     90.543664\n",
      "4321     mobile     90.078535\n",
      "6568      sxswi     84.255925\n",
      "7479        win     83.082897\n",
      "1268       come     83.020958\n",
      "1093      check     81.569801\n",
      "5147   possibly     80.422134\n",
      "1935   downtown     76.286268\n",
      "4698        one     75.608283\n",
      "5863        see     74.886545\n",
      "6832       time     73.646128\n",
      "4086        map     71.421461\n",
      "1632        day     69.811498\n",
      "7191        use     69.729119\n",
      "3885       like     68.316884\n",
      "5124      popup     66.759980\n",
      "4061       make     66.420425\n",
      "3961       look     61.791477\n",
      "4480       need     60.977935\n",
      "1713     design     59.652094\n",
      "5909        set     59.369742\n",
      "331        apps     59.215410\n",
      "3726       know     58.681311\n",
      "4152      mayer     57.894313\n",
      "4943     people     57.849077\n"
     ]
    }
   ],
   "source": [
    "documents = df['preprocessed_text']\n",
    "tfidf_vectorizer = TfidfVectorizer()\n",
    "tfidf_matrix = tfidf_vectorizer.fit_transform(documents)\n",
    "\n",
    "feature_names = tfidf_vectorizer.get_feature_names()\n",
    "tfidf_scores = tfidf_matrix.sum(axis=0).A1\n",
    "\n",
    "tfidf_df = pd.DataFrame({'Term': feature_names, 'TF-IDF Score': tfidf_scores})\n",
    "tfidf_df = tfidf_df.sort_values(by='TF-IDF Score', ascending=False)\n",
    "\n",
    "print(tfidf_df.head(50)) "
   ]
  },
  {
   "cell_type": "markdown",
   "metadata": {},
   "source": [
    "# Model Evaluation on the Test Set"
   ]
  }
 ],
 "metadata": {
  "kernelspec": {
   "display_name": "Python (learn-env)",
   "language": "python",
   "name": "learn-env"
  },
  "language_info": {
   "codemirror_mode": {
    "name": "ipython",
    "version": 3
   },
   "file_extension": ".py",
   "mimetype": "text/x-python",
   "name": "python",
   "nbconvert_exporter": "python",
   "pygments_lexer": "ipython3",
   "version": "3.8.5"
  }
 },
 "nbformat": 4,
 "nbformat_minor": 4
}
