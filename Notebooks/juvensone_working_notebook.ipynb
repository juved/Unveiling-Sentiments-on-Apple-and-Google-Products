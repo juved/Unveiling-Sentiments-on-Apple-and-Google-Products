{
 "cells": [
  {
   "cell_type": "code",
   "execution_count": 2,
   "metadata": {},
   "outputs": [
    {
     "name": "stderr",
     "output_type": "stream",
     "text": [
      "[nltk_data] Downloading package wordnet to /Users/DonJuve/nltk_data...\n",
      "[nltk_data]   Package wordnet is already up-to-date!\n",
      "[nltk_data] Downloading package tagsets to /Users/DonJuve/nltk_data...\n",
      "[nltk_data]   Package tagsets is already up-to-date!\n",
      "[nltk_data] Downloading package averaged_perceptron_tagger to\n",
      "[nltk_data]     /Users/DonJuve/nltk_data...\n",
      "[nltk_data]   Package averaged_perceptron_tagger is already up-to-\n",
      "[nltk_data]       date!\n"
     ]
    },
    {
     "data": {
      "text/plain": [
       "True"
      ]
     },
     "execution_count": 2,
     "metadata": {},
     "output_type": "execute_result"
    }
   ],
   "source": [
    "from collections import defaultdict\n",
    "import numpy as np\n",
    "import pandas as pd\n",
    "from sklearn.model_selection import train_test_split\n",
    "from nltk.probability import FreqDist\n",
    "from nltk.corpus import stopwords\n",
    "from nltk.tokenize import regexp_tokenize, word_tokenize, RegexpTokenizer, TweetTokenizer \n",
    "  \n",
    "from nltk import pos_tag\n",
    "from nltk.corpus import stopwords, wordnet\n",
    "from nltk.stem import WordNetLemmatizer\n",
    "import matplotlib.pyplot as plt\n",
    "import string\n",
    "import re\n",
    "from sklearn.ensemble import RandomForestClassifier\n",
    "from sklearn.naive_bayes import MultinomialNB\n",
    "from sklearn.metrics import accuracy_score, precision_score, ConfusionMatrixDisplay, confusion_matrix, recall_score, f1_score\n",
    "from sklearn.utils.class_weight import compute_sample_weight\n",
    "\n",
    "# Notice that these vectorizers are from `sklearn` and not `nltk`!\n",
    "from sklearn.feature_extraction.text import CountVectorizer, TfidfVectorizer,HashingVectorizer\n",
    "\n",
    "import nltk\n",
    "nltk.download('wordnet')\n",
    "nltk.download('tagsets')\n",
    "nltk.download('averaged_perceptron_tagger')"
   ]
  },
  {
   "cell_type": "code",
   "execution_count": 3,
   "metadata": {},
   "outputs": [],
   "source": [
    "df= pd.read_csv('../data/judge-1377884607_tweet_product_company.csv', encoding='latin1')"
   ]
  },
  {
   "cell_type": "code",
   "execution_count": null,
   "metadata": {
    "scrolled": true
   },
   "outputs": [],
   "source": []
  },
  {
   "cell_type": "code",
   "execution_count": 4,
   "metadata": {
    "scrolled": false
   },
   "outputs": [
    {
     "data": {
      "text/html": [
       "<div>\n",
       "<style scoped>\n",
       "    .dataframe tbody tr th:only-of-type {\n",
       "        vertical-align: middle;\n",
       "    }\n",
       "\n",
       "    .dataframe tbody tr th {\n",
       "        vertical-align: top;\n",
       "    }\n",
       "\n",
       "    .dataframe thead th {\n",
       "        text-align: right;\n",
       "    }\n",
       "</style>\n",
       "<table border=\"1\" class=\"dataframe\">\n",
       "  <thead>\n",
       "    <tr style=\"text-align: right;\">\n",
       "      <th></th>\n",
       "      <th>tweet_text</th>\n",
       "      <th>products</th>\n",
       "      <th>emotions</th>\n",
       "    </tr>\n",
       "  </thead>\n",
       "  <tbody>\n",
       "    <tr>\n",
       "      <th>0</th>\n",
       "      <td>.@wesley83 I have a 3G iPhone. After 3 hrs twe...</td>\n",
       "      <td>iPhone</td>\n",
       "      <td>Negative emotion</td>\n",
       "    </tr>\n",
       "    <tr>\n",
       "      <th>1</th>\n",
       "      <td>@jessedee Know about @fludapp ? Awesome iPad/i...</td>\n",
       "      <td>iPad or iPhone App</td>\n",
       "      <td>Positive emotion</td>\n",
       "    </tr>\n",
       "    <tr>\n",
       "      <th>2</th>\n",
       "      <td>@swonderlin Can not wait for #iPad 2 also. The...</td>\n",
       "      <td>iPad</td>\n",
       "      <td>Positive emotion</td>\n",
       "    </tr>\n",
       "    <tr>\n",
       "      <th>3</th>\n",
       "      <td>@sxsw I hope this year's festival isn't as cra...</td>\n",
       "      <td>iPad or iPhone App</td>\n",
       "      <td>Negative emotion</td>\n",
       "    </tr>\n",
       "    <tr>\n",
       "      <th>4</th>\n",
       "      <td>@sxtxstate great stuff on Fri #SXSW: Marissa M...</td>\n",
       "      <td>Google</td>\n",
       "      <td>Positive emotion</td>\n",
       "    </tr>\n",
       "  </tbody>\n",
       "</table>\n",
       "</div>"
      ],
      "text/plain": [
       "                                          tweet_text            products  \\\n",
       "0  .@wesley83 I have a 3G iPhone. After 3 hrs twe...              iPhone   \n",
       "1  @jessedee Know about @fludapp ? Awesome iPad/i...  iPad or iPhone App   \n",
       "2  @swonderlin Can not wait for #iPad 2 also. The...                iPad   \n",
       "3  @sxsw I hope this year's festival isn't as cra...  iPad or iPhone App   \n",
       "4  @sxtxstate great stuff on Fri #SXSW: Marissa M...              Google   \n",
       "\n",
       "           emotions  \n",
       "0  Negative emotion  \n",
       "1  Positive emotion  \n",
       "2  Positive emotion  \n",
       "3  Negative emotion  \n",
       "4  Positive emotion  "
      ]
     },
     "execution_count": 4,
     "metadata": {},
     "output_type": "execute_result"
    }
   ],
   "source": [
    "# Rename the columns\n",
    "df = df.rename(columns={\n",
    "    'emotion_in_tweet_is_directed_at': 'products',\n",
    "    'is_there_an_emotion_directed_at_a_brand_or_product': 'emotions'\n",
    "})\n",
    "\n",
    "df.head()"
   ]
  },
  {
   "cell_type": "code",
   "execution_count": 5,
   "metadata": {},
   "outputs": [],
   "source": [
    "df2 = df.copy()"
   ]
  },
  {
   "cell_type": "code",
   "execution_count": 6,
   "metadata": {
    "scrolled": true
   },
   "outputs": [
    {
     "data": {
      "text/plain": [
       "No emotion toward brand or product    5389\n",
       "Positive emotion                      2978\n",
       "Negative emotion                       570\n",
       "I can't tell                           156\n",
       "Name: emotions, dtype: int64"
      ]
     },
     "execution_count": 6,
     "metadata": {},
     "output_type": "execute_result"
    }
   ],
   "source": [
    "df['emotions'].value_counts()"
   ]
  },
  {
   "cell_type": "code",
   "execution_count": 7,
   "metadata": {},
   "outputs": [
    {
     "data": {
      "text/html": [
       "<div>\n",
       "<style scoped>\n",
       "    .dataframe tbody tr th:only-of-type {\n",
       "        vertical-align: middle;\n",
       "    }\n",
       "\n",
       "    .dataframe tbody tr th {\n",
       "        vertical-align: top;\n",
       "    }\n",
       "\n",
       "    .dataframe thead th {\n",
       "        text-align: right;\n",
       "    }\n",
       "</style>\n",
       "<table border=\"1\" class=\"dataframe\">\n",
       "  <thead>\n",
       "    <tr style=\"text-align: right;\">\n",
       "      <th></th>\n",
       "      <th>tweet_text</th>\n",
       "      <th>products</th>\n",
       "      <th>emotions</th>\n",
       "    </tr>\n",
       "  </thead>\n",
       "  <tbody>\n",
       "    <tr>\n",
       "      <th>0</th>\n",
       "      <td>.@wesley83 I have a 3G iPhone. After 3 hrs twe...</td>\n",
       "      <td>iPhone</td>\n",
       "      <td>Negative emotion</td>\n",
       "    </tr>\n",
       "    <tr>\n",
       "      <th>1</th>\n",
       "      <td>@jessedee Know about @fludapp ? Awesome iPad/i...</td>\n",
       "      <td>iPad or iPhone App</td>\n",
       "      <td>Positive emotion</td>\n",
       "    </tr>\n",
       "    <tr>\n",
       "      <th>2</th>\n",
       "      <td>@swonderlin Can not wait for #iPad 2 also. The...</td>\n",
       "      <td>iPad</td>\n",
       "      <td>Positive emotion</td>\n",
       "    </tr>\n",
       "    <tr>\n",
       "      <th>3</th>\n",
       "      <td>@sxsw I hope this year's festival isn't as cra...</td>\n",
       "      <td>iPad or iPhone App</td>\n",
       "      <td>Negative emotion</td>\n",
       "    </tr>\n",
       "    <tr>\n",
       "      <th>4</th>\n",
       "      <td>@sxtxstate great stuff on Fri #SXSW: Marissa M...</td>\n",
       "      <td>Google</td>\n",
       "      <td>Positive emotion</td>\n",
       "    </tr>\n",
       "    <tr>\n",
       "      <th>...</th>\n",
       "      <td>...</td>\n",
       "      <td>...</td>\n",
       "      <td>...</td>\n",
       "    </tr>\n",
       "    <tr>\n",
       "      <th>9088</th>\n",
       "      <td>Ipad everywhere. #SXSW {link}</td>\n",
       "      <td>iPad</td>\n",
       "      <td>Positive emotion</td>\n",
       "    </tr>\n",
       "    <tr>\n",
       "      <th>9089</th>\n",
       "      <td>Wave, buzz... RT @mention We interrupt your re...</td>\n",
       "      <td>NaN</td>\n",
       "      <td>No emotion toward brand or product</td>\n",
       "    </tr>\n",
       "    <tr>\n",
       "      <th>9090</th>\n",
       "      <td>Google's Zeiger, a physician never reported po...</td>\n",
       "      <td>NaN</td>\n",
       "      <td>No emotion toward brand or product</td>\n",
       "    </tr>\n",
       "    <tr>\n",
       "      <th>9091</th>\n",
       "      <td>Some Verizon iPhone customers complained their...</td>\n",
       "      <td>NaN</td>\n",
       "      <td>No emotion toward brand or product</td>\n",
       "    </tr>\n",
       "    <tr>\n",
       "      <th>9092</th>\n",
       "      <td>Ï¡Ïàü_ÊÎÒ£Áââ_£â_ÛâRT @...</td>\n",
       "      <td>NaN</td>\n",
       "      <td>No emotion toward brand or product</td>\n",
       "    </tr>\n",
       "  </tbody>\n",
       "</table>\n",
       "<p>9093 rows × 3 columns</p>\n",
       "</div>"
      ],
      "text/plain": [
       "                                             tweet_text            products  \\\n",
       "0     .@wesley83 I have a 3G iPhone. After 3 hrs twe...              iPhone   \n",
       "1     @jessedee Know about @fludapp ? Awesome iPad/i...  iPad or iPhone App   \n",
       "2     @swonderlin Can not wait for #iPad 2 also. The...                iPad   \n",
       "3     @sxsw I hope this year's festival isn't as cra...  iPad or iPhone App   \n",
       "4     @sxtxstate great stuff on Fri #SXSW: Marissa M...              Google   \n",
       "...                                                 ...                 ...   \n",
       "9088                      Ipad everywhere. #SXSW {link}                iPad   \n",
       "9089  Wave, buzz... RT @mention We interrupt your re...                 NaN   \n",
       "9090  Google's Zeiger, a physician never reported po...                 NaN   \n",
       "9091  Some Verizon iPhone customers complained their...                 NaN   \n",
       "9092  Ï¡Ïàü_ÊÎÒ£Áââ_£â_ÛâRT @...                 NaN   \n",
       "\n",
       "                                emotions  \n",
       "0                       Negative emotion  \n",
       "1                       Positive emotion  \n",
       "2                       Positive emotion  \n",
       "3                       Negative emotion  \n",
       "4                       Positive emotion  \n",
       "...                                  ...  \n",
       "9088                    Positive emotion  \n",
       "9089  No emotion toward brand or product  \n",
       "9090  No emotion toward brand or product  \n",
       "9091  No emotion toward brand or product  \n",
       "9092  No emotion toward brand or product  \n",
       "\n",
       "[9093 rows x 3 columns]"
      ]
     },
     "execution_count": 7,
     "metadata": {},
     "output_type": "execute_result"
    }
   ],
   "source": [
    "df2"
   ]
  },
  {
   "cell_type": "code",
   "execution_count": 8,
   "metadata": {},
   "outputs": [],
   "source": [
    "df = df[df['emotions'].isin(['Positive emotion', 'Negative emotion'])]\n",
    "\n"
   ]
  },
  {
   "cell_type": "code",
   "execution_count": 9,
   "metadata": {},
   "outputs": [
    {
     "data": {
      "text/plain": [
       "Positive emotion    2978\n",
       "Negative emotion     570\n",
       "Name: emotions, dtype: int64"
      ]
     },
     "execution_count": 9,
     "metadata": {},
     "output_type": "execute_result"
    }
   ],
   "source": [
    "df['emotions'].value_counts()"
   ]
  },
  {
   "cell_type": "code",
   "execution_count": 10,
   "metadata": {},
   "outputs": [
    {
     "data": {
      "text/html": [
       "<div>\n",
       "<style scoped>\n",
       "    .dataframe tbody tr th:only-of-type {\n",
       "        vertical-align: middle;\n",
       "    }\n",
       "\n",
       "    .dataframe tbody tr th {\n",
       "        vertical-align: top;\n",
       "    }\n",
       "\n",
       "    .dataframe thead th {\n",
       "        text-align: right;\n",
       "    }\n",
       "</style>\n",
       "<table border=\"1\" class=\"dataframe\">\n",
       "  <thead>\n",
       "    <tr style=\"text-align: right;\">\n",
       "      <th></th>\n",
       "      <th>tweet_text</th>\n",
       "      <th>products</th>\n",
       "      <th>emotions</th>\n",
       "    </tr>\n",
       "  </thead>\n",
       "  <tbody>\n",
       "    <tr>\n",
       "      <th>0</th>\n",
       "      <td>.@wesley83 I have a 3G iPhone. After 3 hrs twe...</td>\n",
       "      <td>iPhone</td>\n",
       "      <td>Negative emotion</td>\n",
       "    </tr>\n",
       "    <tr>\n",
       "      <th>1</th>\n",
       "      <td>@jessedee Know about @fludapp ? Awesome iPad/i...</td>\n",
       "      <td>iPad or iPhone App</td>\n",
       "      <td>Positive emotion</td>\n",
       "    </tr>\n",
       "    <tr>\n",
       "      <th>2</th>\n",
       "      <td>@swonderlin Can not wait for #iPad 2 also. The...</td>\n",
       "      <td>iPad</td>\n",
       "      <td>Positive emotion</td>\n",
       "    </tr>\n",
       "    <tr>\n",
       "      <th>3</th>\n",
       "      <td>@sxsw I hope this year's festival isn't as cra...</td>\n",
       "      <td>iPad or iPhone App</td>\n",
       "      <td>Negative emotion</td>\n",
       "    </tr>\n",
       "    <tr>\n",
       "      <th>4</th>\n",
       "      <td>@sxtxstate great stuff on Fri #SXSW: Marissa M...</td>\n",
       "      <td>Google</td>\n",
       "      <td>Positive emotion</td>\n",
       "    </tr>\n",
       "    <tr>\n",
       "      <th>...</th>\n",
       "      <td>...</td>\n",
       "      <td>...</td>\n",
       "      <td>...</td>\n",
       "    </tr>\n",
       "    <tr>\n",
       "      <th>9077</th>\n",
       "      <td>@mention your PR guy just convinced me to swit...</td>\n",
       "      <td>iPhone</td>\n",
       "      <td>Positive emotion</td>\n",
       "    </tr>\n",
       "    <tr>\n",
       "      <th>9079</th>\n",
       "      <td>&amp;quot;papyrus...sort of like the ipad&amp;quot; - ...</td>\n",
       "      <td>iPad</td>\n",
       "      <td>Positive emotion</td>\n",
       "    </tr>\n",
       "    <tr>\n",
       "      <th>9080</th>\n",
       "      <td>Diller says Google TV &amp;quot;might be run over ...</td>\n",
       "      <td>Other Google product or service</td>\n",
       "      <td>Negative emotion</td>\n",
       "    </tr>\n",
       "    <tr>\n",
       "      <th>9085</th>\n",
       "      <td>I've always used Camera+ for my iPhone b/c it ...</td>\n",
       "      <td>iPad or iPhone App</td>\n",
       "      <td>Positive emotion</td>\n",
       "    </tr>\n",
       "    <tr>\n",
       "      <th>9088</th>\n",
       "      <td>Ipad everywhere. #SXSW {link}</td>\n",
       "      <td>iPad</td>\n",
       "      <td>Positive emotion</td>\n",
       "    </tr>\n",
       "  </tbody>\n",
       "</table>\n",
       "<p>3548 rows × 3 columns</p>\n",
       "</div>"
      ],
      "text/plain": [
       "                                             tweet_text  \\\n",
       "0     .@wesley83 I have a 3G iPhone. After 3 hrs twe...   \n",
       "1     @jessedee Know about @fludapp ? Awesome iPad/i...   \n",
       "2     @swonderlin Can not wait for #iPad 2 also. The...   \n",
       "3     @sxsw I hope this year's festival isn't as cra...   \n",
       "4     @sxtxstate great stuff on Fri #SXSW: Marissa M...   \n",
       "...                                                 ...   \n",
       "9077  @mention your PR guy just convinced me to swit...   \n",
       "9079  &quot;papyrus...sort of like the ipad&quot; - ...   \n",
       "9080  Diller says Google TV &quot;might be run over ...   \n",
       "9085  I've always used Camera+ for my iPhone b/c it ...   \n",
       "9088                      Ipad everywhere. #SXSW {link}   \n",
       "\n",
       "                             products          emotions  \n",
       "0                              iPhone  Negative emotion  \n",
       "1                  iPad or iPhone App  Positive emotion  \n",
       "2                                iPad  Positive emotion  \n",
       "3                  iPad or iPhone App  Negative emotion  \n",
       "4                              Google  Positive emotion  \n",
       "...                               ...               ...  \n",
       "9077                           iPhone  Positive emotion  \n",
       "9079                             iPad  Positive emotion  \n",
       "9080  Other Google product or service  Negative emotion  \n",
       "9085               iPad or iPhone App  Positive emotion  \n",
       "9088                             iPad  Positive emotion  \n",
       "\n",
       "[3548 rows x 3 columns]"
      ]
     },
     "execution_count": 10,
     "metadata": {},
     "output_type": "execute_result"
    }
   ],
   "source": [
    "df"
   ]
  },
  {
   "cell_type": "code",
   "execution_count": 11,
   "metadata": {},
   "outputs": [],
   "source": [
    "sw = stopwords.words('english')"
   ]
  },
  {
   "cell_type": "code",
   "execution_count": 12,
   "metadata": {},
   "outputs": [],
   "source": [
    "from nltk.tokenize import RegexpTokenizer\n",
    "from nltk.corpus import stopwords\n",
    "\n",
    "# Text tokenization\n",
    "tokenizer = RegexpTokenizer(r\"([a-zA-Z]+(?:'[a-z]+)?)\")\n",
    "df['tokenized_text'] = df['tweet_text'].apply(lambda x: tokenizer.tokenize(str(x).lower()))\n",
    "\n",
    "# Stopword removal\n",
    "stop_words = set(stopwords.words('english'))\n",
    "#df['cleaned_text'] = df['tokenized_text'].apply(lambda x: [token for token in x if token not in stop_words])\n",
    "df['tokenized_text'] = df['tokenized_text'].apply(lambda x: [token.replace(',', '') for token in x if token not in stop_words])\n"
   ]
  },
  {
   "cell_type": "code",
   "execution_count": 13,
   "metadata": {
    "scrolled": true
   },
   "outputs": [
    {
     "data": {
      "text/html": [
       "<div>\n",
       "<style scoped>\n",
       "    .dataframe tbody tr th:only-of-type {\n",
       "        vertical-align: middle;\n",
       "    }\n",
       "\n",
       "    .dataframe tbody tr th {\n",
       "        vertical-align: top;\n",
       "    }\n",
       "\n",
       "    .dataframe thead th {\n",
       "        text-align: right;\n",
       "    }\n",
       "</style>\n",
       "<table border=\"1\" class=\"dataframe\">\n",
       "  <thead>\n",
       "    <tr style=\"text-align: right;\">\n",
       "      <th></th>\n",
       "      <th>tweet_text</th>\n",
       "      <th>products</th>\n",
       "      <th>emotions</th>\n",
       "      <th>tokenized_text</th>\n",
       "    </tr>\n",
       "  </thead>\n",
       "  <tbody>\n",
       "    <tr>\n",
       "      <th>0</th>\n",
       "      <td>.@wesley83 I have a 3G iPhone. After 3 hrs twe...</td>\n",
       "      <td>iPhone</td>\n",
       "      <td>Negative emotion</td>\n",
       "      <td>[wesley, g, iphone, hrs, tweeting, rise, austi...</td>\n",
       "    </tr>\n",
       "    <tr>\n",
       "      <th>1</th>\n",
       "      <td>@jessedee Know about @fludapp ? Awesome iPad/i...</td>\n",
       "      <td>iPad or iPhone App</td>\n",
       "      <td>Positive emotion</td>\n",
       "      <td>[jessedee, know, fludapp, awesome, ipad, iphon...</td>\n",
       "    </tr>\n",
       "    <tr>\n",
       "      <th>2</th>\n",
       "      <td>@swonderlin Can not wait for #iPad 2 also. The...</td>\n",
       "      <td>iPad</td>\n",
       "      <td>Positive emotion</td>\n",
       "      <td>[swonderlin, wait, ipad, also, sale, sxsw]</td>\n",
       "    </tr>\n",
       "    <tr>\n",
       "      <th>3</th>\n",
       "      <td>@sxsw I hope this year's festival isn't as cra...</td>\n",
       "      <td>iPad or iPhone App</td>\n",
       "      <td>Negative emotion</td>\n",
       "      <td>[sxsw, hope, year's, festival, crashy, year's,...</td>\n",
       "    </tr>\n",
       "    <tr>\n",
       "      <th>4</th>\n",
       "      <td>@sxtxstate great stuff on Fri #SXSW: Marissa M...</td>\n",
       "      <td>Google</td>\n",
       "      <td>Positive emotion</td>\n",
       "      <td>[sxtxstate, great, stuff, fri, sxsw, marissa, ...</td>\n",
       "    </tr>\n",
       "    <tr>\n",
       "      <th>...</th>\n",
       "      <td>...</td>\n",
       "      <td>...</td>\n",
       "      <td>...</td>\n",
       "      <td>...</td>\n",
       "    </tr>\n",
       "    <tr>\n",
       "      <th>9077</th>\n",
       "      <td>@mention your PR guy just convinced me to swit...</td>\n",
       "      <td>iPhone</td>\n",
       "      <td>Positive emotion</td>\n",
       "      <td>[mention, pr, guy, convinced, switch, back, ip...</td>\n",
       "    </tr>\n",
       "    <tr>\n",
       "      <th>9079</th>\n",
       "      <td>&amp;quot;papyrus...sort of like the ipad&amp;quot; - ...</td>\n",
       "      <td>iPad</td>\n",
       "      <td>Positive emotion</td>\n",
       "      <td>[quot, papyrus, sort, like, ipad, quot, nice, ...</td>\n",
       "    </tr>\n",
       "    <tr>\n",
       "      <th>9080</th>\n",
       "      <td>Diller says Google TV &amp;quot;might be run over ...</td>\n",
       "      <td>Other Google product or service</td>\n",
       "      <td>Negative emotion</td>\n",
       "      <td>[diller, says, google, tv, quot, might, run, p...</td>\n",
       "    </tr>\n",
       "    <tr>\n",
       "      <th>9085</th>\n",
       "      <td>I've always used Camera+ for my iPhone b/c it ...</td>\n",
       "      <td>iPad or iPhone App</td>\n",
       "      <td>Positive emotion</td>\n",
       "      <td>[i've, always, used, camera, iphone, b, c, ima...</td>\n",
       "    </tr>\n",
       "    <tr>\n",
       "      <th>9088</th>\n",
       "      <td>Ipad everywhere. #SXSW {link}</td>\n",
       "      <td>iPad</td>\n",
       "      <td>Positive emotion</td>\n",
       "      <td>[ipad, everywhere, sxsw, link]</td>\n",
       "    </tr>\n",
       "  </tbody>\n",
       "</table>\n",
       "<p>3548 rows × 4 columns</p>\n",
       "</div>"
      ],
      "text/plain": [
       "                                             tweet_text  \\\n",
       "0     .@wesley83 I have a 3G iPhone. After 3 hrs twe...   \n",
       "1     @jessedee Know about @fludapp ? Awesome iPad/i...   \n",
       "2     @swonderlin Can not wait for #iPad 2 also. The...   \n",
       "3     @sxsw I hope this year's festival isn't as cra...   \n",
       "4     @sxtxstate great stuff on Fri #SXSW: Marissa M...   \n",
       "...                                                 ...   \n",
       "9077  @mention your PR guy just convinced me to swit...   \n",
       "9079  &quot;papyrus...sort of like the ipad&quot; - ...   \n",
       "9080  Diller says Google TV &quot;might be run over ...   \n",
       "9085  I've always used Camera+ for my iPhone b/c it ...   \n",
       "9088                      Ipad everywhere. #SXSW {link}   \n",
       "\n",
       "                             products          emotions  \\\n",
       "0                              iPhone  Negative emotion   \n",
       "1                  iPad or iPhone App  Positive emotion   \n",
       "2                                iPad  Positive emotion   \n",
       "3                  iPad or iPhone App  Negative emotion   \n",
       "4                              Google  Positive emotion   \n",
       "...                               ...               ...   \n",
       "9077                           iPhone  Positive emotion   \n",
       "9079                             iPad  Positive emotion   \n",
       "9080  Other Google product or service  Negative emotion   \n",
       "9085               iPad or iPhone App  Positive emotion   \n",
       "9088                             iPad  Positive emotion   \n",
       "\n",
       "                                         tokenized_text  \n",
       "0     [wesley, g, iphone, hrs, tweeting, rise, austi...  \n",
       "1     [jessedee, know, fludapp, awesome, ipad, iphon...  \n",
       "2            [swonderlin, wait, ipad, also, sale, sxsw]  \n",
       "3     [sxsw, hope, year's, festival, crashy, year's,...  \n",
       "4     [sxtxstate, great, stuff, fri, sxsw, marissa, ...  \n",
       "...                                                 ...  \n",
       "9077  [mention, pr, guy, convinced, switch, back, ip...  \n",
       "9079  [quot, papyrus, sort, like, ipad, quot, nice, ...  \n",
       "9080  [diller, says, google, tv, quot, might, run, p...  \n",
       "9085  [i've, always, used, camera, iphone, b, c, ima...  \n",
       "9088                     [ipad, everywhere, sxsw, link]  \n",
       "\n",
       "[3548 rows x 4 columns]"
      ]
     },
     "execution_count": 13,
     "metadata": {},
     "output_type": "execute_result"
    }
   ],
   "source": [
    "df"
   ]
  },
  {
   "cell_type": "code",
   "execution_count": null,
   "metadata": {
    "scrolled": true
   },
   "outputs": [],
   "source": []
  },
  {
   "cell_type": "code",
   "execution_count": 14,
   "metadata": {},
   "outputs": [
    {
     "data": {
      "text/plain": [
       "FreqDist({'sxsw': 3739, 'mention': 2507, 'ipad': 1449, 'link': 1319, 'rt': 1075, 'apple': 1011, 'google': 830, 'iphone': 711, 'quot': 639, 'store': 596, ...})"
      ]
     },
     "execution_count": 14,
     "metadata": {},
     "output_type": "execute_result"
    }
   ],
   "source": [
    "from nltk import FreqDist\n",
    "from itertools import chain\n",
    "\n",
    "# Flatten the lists in the \"tokenized_text\" column\n",
    "flat_tokenized_text_1 = list(chain.from_iterable(df[\"tokenized_text\"]))\n",
    "\n",
    "# Create FreqDist from the flattened list\n",
    "freq_dist_1 = FreqDist(flat_tokenized_text_1)\n",
    "\n",
    "freq_dist_1"
   ]
  },
  {
   "cell_type": "code",
   "execution_count": 15,
   "metadata": {},
   "outputs": [],
   "source": [
    "# manual cleaning \n",
    "rem_t = ['sxsw', 'mention','link','rt', 'for', 'apple','quot','circles']\n",
    "# Remove words in rem_t from 'tokenized_text'\n",
    "df['tokenized_text'] = df['tokenized_text'].apply(lambda tokens: [word for word in tokens if word not in rem_t])\n"
   ]
  },
  {
   "cell_type": "code",
   "execution_count": 16,
   "metadata": {},
   "outputs": [
    {
     "data": {
      "text/plain": [
       "FreqDist({'ipad': 1449, 'google': 830, 'iphone': 711, 'store': 596, 'app': 461, 'new': 403, 'austin': 323, 'amp': 233, 'android': 233, 'pop': 231, ...})"
      ]
     },
     "execution_count": 16,
     "metadata": {},
     "output_type": "execute_result"
    }
   ],
   "source": [
    "# Flatten the lists in the \"tokenized_text\" column\n",
    "flat_tokenized_text_2 = list(chain.from_iterable(df[\"tokenized_text\"]))\n",
    "\n",
    "# Create FreqDist from the flattened list\n",
    "freq_dist_2 = FreqDist(flat_tokenized_text_2)\n",
    "\n",
    "freq_dist_2"
   ]
  },
  {
   "cell_type": "code",
   "execution_count": 17,
   "metadata": {},
   "outputs": [
    {
     "data": {
      "image/png": "[encoded data removed]",
      "text/plain": [
       "<Figure size 432x288 with 1 Axes>"
      ]
     },
     "metadata": {
      "needs_background": "light"
     },
     "output_type": "display_data"
    }
   ],
   "source": [
    "from itertools import chain\n",
    "\n",
    "# Visualize the word frequencies using a bar plot\n",
    "plt = freq_dist_2.plot(30, cumulative=False)\n"
   ]
  },
  {
   "cell_type": "code",
   "execution_count": 18,
   "metadata": {},
   "outputs": [
    {
     "data": {
      "text/plain": [
       "Positive emotion    2978\n",
       "Negative emotion     570\n",
       "Name: emotions, dtype: int64"
      ]
     },
     "execution_count": 18,
     "metadata": {},
     "output_type": "execute_result"
    }
   ],
   "source": [
    "df['emotions'].value_counts()"
   ]
  },
  {
   "cell_type": "code",
   "execution_count": 19,
   "metadata": {},
   "outputs": [],
   "source": [
    "# Map emotions to target values\n",
    "emotion_mapping = {'Positive': 1, 'Negative': 0}\n",
    "df['target'] = df['emotions'].map(emotion_mapping)\n"
   ]
  },
  {
   "cell_type": "code",
   "execution_count": 20,
   "metadata": {},
   "outputs": [
    {
     "data": {
      "text/plain": [
       "Series([], Name: target, dtype: int64)"
      ]
     },
     "execution_count": 20,
     "metadata": {},
     "output_type": "execute_result"
    }
   ],
   "source": [
    "df['target'].value_counts()"
   ]
  },
  {
   "cell_type": "code",
   "execution_count": 21,
   "metadata": {
    "scrolled": true
   },
   "outputs": [
    {
     "data": {
      "text/plain": [
       "0"
      ]
     },
     "execution_count": 21,
     "metadata": {},
     "output_type": "execute_result"
    }
   ],
   "source": [
    "df['tweet_text'].isna().sum()"
   ]
  },
  {
   "cell_type": "code",
   "execution_count": 22,
   "metadata": {},
   "outputs": [],
   "source": [
    "df['target'] = df['emotions'].apply(lambda x: 1 if x == 'Positive emotion' else (0 if x == 'Negative emotion' else None))\n",
    "\n",
    "\n",
    "#df['target'].fillna(default_value, inplace=True)"
   ]
  },
  {
   "cell_type": "code",
   "execution_count": 23,
   "metadata": {},
   "outputs": [],
   "source": [
    "# Lemmetization \n",
    "\n",
    "#s_stemmer = nltk.stem.SnowballStemmer(language='english')"
   ]
  },
  {
   "cell_type": "code",
   "execution_count": 24,
   "metadata": {},
   "outputs": [],
   "source": [
    "# Apply stemming to all rows in the 'tokenized_text' column\n",
    "#df['tokenized_text'] = df['tokenized_text'].apply(lambda tokens: [s_stemmer.stem(token) for token in tokens])\n"
   ]
  },
  {
   "cell_type": "code",
   "execution_count": 25,
   "metadata": {},
   "outputs": [
    {
     "data": {
      "text/html": [
       "<div>\n",
       "<style scoped>\n",
       "    .dataframe tbody tr th:only-of-type {\n",
       "        vertical-align: middle;\n",
       "    }\n",
       "\n",
       "    .dataframe tbody tr th {\n",
       "        vertical-align: top;\n",
       "    }\n",
       "\n",
       "    .dataframe thead th {\n",
       "        text-align: right;\n",
       "    }\n",
       "</style>\n",
       "<table border=\"1\" class=\"dataframe\">\n",
       "  <thead>\n",
       "    <tr style=\"text-align: right;\">\n",
       "      <th></th>\n",
       "      <th>tweet_text</th>\n",
       "      <th>products</th>\n",
       "      <th>emotions</th>\n",
       "      <th>tokenized_text</th>\n",
       "      <th>target</th>\n",
       "    </tr>\n",
       "  </thead>\n",
       "  <tbody>\n",
       "    <tr>\n",
       "      <th>0</th>\n",
       "      <td>.@wesley83 I have a 3G iPhone. After 3 hrs twe...</td>\n",
       "      <td>iPhone</td>\n",
       "      <td>Negative emotion</td>\n",
       "      <td>[wesley, g, iphone, hrs, tweeting, rise, austi...</td>\n",
       "      <td>0</td>\n",
       "    </tr>\n",
       "    <tr>\n",
       "      <th>1</th>\n",
       "      <td>@jessedee Know about @fludapp ? Awesome iPad/i...</td>\n",
       "      <td>iPad or iPhone App</td>\n",
       "      <td>Positive emotion</td>\n",
       "      <td>[jessedee, know, fludapp, awesome, ipad, iphon...</td>\n",
       "      <td>1</td>\n",
       "    </tr>\n",
       "    <tr>\n",
       "      <th>2</th>\n",
       "      <td>@swonderlin Can not wait for #iPad 2 also. The...</td>\n",
       "      <td>iPad</td>\n",
       "      <td>Positive emotion</td>\n",
       "      <td>[swonderlin, wait, ipad, also, sale]</td>\n",
       "      <td>1</td>\n",
       "    </tr>\n",
       "    <tr>\n",
       "      <th>3</th>\n",
       "      <td>@sxsw I hope this year's festival isn't as cra...</td>\n",
       "      <td>iPad or iPhone App</td>\n",
       "      <td>Negative emotion</td>\n",
       "      <td>[hope, year's, festival, crashy, year's, iphon...</td>\n",
       "      <td>0</td>\n",
       "    </tr>\n",
       "    <tr>\n",
       "      <th>4</th>\n",
       "      <td>@sxtxstate great stuff on Fri #SXSW: Marissa M...</td>\n",
       "      <td>Google</td>\n",
       "      <td>Positive emotion</td>\n",
       "      <td>[sxtxstate, great, stuff, fri, marissa, mayer,...</td>\n",
       "      <td>1</td>\n",
       "    </tr>\n",
       "    <tr>\n",
       "      <th>...</th>\n",
       "      <td>...</td>\n",
       "      <td>...</td>\n",
       "      <td>...</td>\n",
       "      <td>...</td>\n",
       "      <td>...</td>\n",
       "    </tr>\n",
       "    <tr>\n",
       "      <th>9077</th>\n",
       "      <td>@mention your PR guy just convinced me to swit...</td>\n",
       "      <td>iPhone</td>\n",
       "      <td>Positive emotion</td>\n",
       "      <td>[pr, guy, convinced, switch, back, iphone, gre...</td>\n",
       "      <td>1</td>\n",
       "    </tr>\n",
       "    <tr>\n",
       "      <th>9079</th>\n",
       "      <td>&amp;quot;papyrus...sort of like the ipad&amp;quot; - ...</td>\n",
       "      <td>iPad</td>\n",
       "      <td>Positive emotion</td>\n",
       "      <td>[papyrus, sort, like, ipad, nice, lol, lavelle]</td>\n",
       "      <td>1</td>\n",
       "    </tr>\n",
       "    <tr>\n",
       "      <th>9080</th>\n",
       "      <td>Diller says Google TV &amp;quot;might be run over ...</td>\n",
       "      <td>Other Google product or service</td>\n",
       "      <td>Negative emotion</td>\n",
       "      <td>[diller, says, google, tv, might, run, playsta...</td>\n",
       "      <td>0</td>\n",
       "    </tr>\n",
       "    <tr>\n",
       "      <th>9085</th>\n",
       "      <td>I've always used Camera+ for my iPhone b/c it ...</td>\n",
       "      <td>iPad or iPhone App</td>\n",
       "      <td>Positive emotion</td>\n",
       "      <td>[i've, always, used, camera, iphone, b, c, ima...</td>\n",
       "      <td>1</td>\n",
       "    </tr>\n",
       "    <tr>\n",
       "      <th>9088</th>\n",
       "      <td>Ipad everywhere. #SXSW {link}</td>\n",
       "      <td>iPad</td>\n",
       "      <td>Positive emotion</td>\n",
       "      <td>[ipad, everywhere]</td>\n",
       "      <td>1</td>\n",
       "    </tr>\n",
       "  </tbody>\n",
       "</table>\n",
       "<p>3548 rows × 5 columns</p>\n",
       "</div>"
      ],
      "text/plain": [
       "                                             tweet_text  \\\n",
       "0     .@wesley83 I have a 3G iPhone. After 3 hrs twe...   \n",
       "1     @jessedee Know about @fludapp ? Awesome iPad/i...   \n",
       "2     @swonderlin Can not wait for #iPad 2 also. The...   \n",
       "3     @sxsw I hope this year's festival isn't as cra...   \n",
       "4     @sxtxstate great stuff on Fri #SXSW: Marissa M...   \n",
       "...                                                 ...   \n",
       "9077  @mention your PR guy just convinced me to swit...   \n",
       "9079  &quot;papyrus...sort of like the ipad&quot; - ...   \n",
       "9080  Diller says Google TV &quot;might be run over ...   \n",
       "9085  I've always used Camera+ for my iPhone b/c it ...   \n",
       "9088                      Ipad everywhere. #SXSW {link}   \n",
       "\n",
       "                             products          emotions  \\\n",
       "0                              iPhone  Negative emotion   \n",
       "1                  iPad or iPhone App  Positive emotion   \n",
       "2                                iPad  Positive emotion   \n",
       "3                  iPad or iPhone App  Negative emotion   \n",
       "4                              Google  Positive emotion   \n",
       "...                               ...               ...   \n",
       "9077                           iPhone  Positive emotion   \n",
       "9079                             iPad  Positive emotion   \n",
       "9080  Other Google product or service  Negative emotion   \n",
       "9085               iPad or iPhone App  Positive emotion   \n",
       "9088                             iPad  Positive emotion   \n",
       "\n",
       "                                         tokenized_text  target  \n",
       "0     [wesley, g, iphone, hrs, tweeting, rise, austi...       0  \n",
       "1     [jessedee, know, fludapp, awesome, ipad, iphon...       1  \n",
       "2                  [swonderlin, wait, ipad, also, sale]       1  \n",
       "3     [hope, year's, festival, crashy, year's, iphon...       0  \n",
       "4     [sxtxstate, great, stuff, fri, marissa, mayer,...       1  \n",
       "...                                                 ...     ...  \n",
       "9077  [pr, guy, convinced, switch, back, iphone, gre...       1  \n",
       "9079    [papyrus, sort, like, ipad, nice, lol, lavelle]       1  \n",
       "9080  [diller, says, google, tv, might, run, playsta...       0  \n",
       "9085  [i've, always, used, camera, iphone, b, c, ima...       1  \n",
       "9088                                 [ipad, everywhere]       1  \n",
       "\n",
       "[3548 rows x 5 columns]"
      ]
     },
     "execution_count": 25,
     "metadata": {},
     "output_type": "execute_result"
    }
   ],
   "source": [
    "df"
   ]
  },
  {
   "cell_type": "code",
   "execution_count": 26,
   "metadata": {},
   "outputs": [
    {
     "data": {
      "text/plain": [
       "FreqDist({'ipad': 1449, 'google': 830, 'iphone': 711, 'store': 596, 'app': 461, 'new': 403, 'austin': 323, 'amp': 233, 'android': 233, 'pop': 231, ...})"
      ]
     },
     "execution_count": 26,
     "metadata": {},
     "output_type": "execute_result"
    }
   ],
   "source": [
    "flat_tokenized_text_3 = list(chain.from_iterable(df[\"tokenized_text\"]))\n",
    "\n",
    "# Create FreqDist from the flattened list\n",
    "freq_dist_3 = FreqDist(flat_tokenized_text_3)\n",
    "\n",
    "freq_dist_3"
   ]
  },
  {
   "cell_type": "code",
   "execution_count": 27,
   "metadata": {},
   "outputs": [
    {
     "data": {
      "image/png": "[encoded data removed]",
      "text/plain": [
       "<Figure size 432x288 with 1 Axes>"
      ]
     },
     "metadata": {
      "needs_background": "light"
     },
     "output_type": "display_data"
    }
   ],
   "source": [
    "plt = freq_dist_3.plot(30, cumulative=False)"
   ]
  },
  {
   "cell_type": "code",
   "execution_count": 28,
   "metadata": {},
   "outputs": [
    {
     "data": {
      "text/plain": [
       "'wesley g iphone hrs tweeting rise austin dead need upgrade plugin stations'"
      ]
     },
     "execution_count": 28,
     "metadata": {},
     "output_type": "execute_result"
    }
   ],
   "source": [
    "\" \".join(df['tokenized_text'][0])"
   ]
  },
  {
   "cell_type": "markdown",
   "metadata": {},
   "source": [
    "## CountVectorizer"
   ]
  },
  {
   "cell_type": "code",
   "execution_count": 29,
   "metadata": {},
   "outputs": [
    {
     "data": {
      "text/html": [
       "<div>\n",
       "<style scoped>\n",
       "    .dataframe tbody tr th:only-of-type {\n",
       "        vertical-align: middle;\n",
       "    }\n",
       "\n",
       "    .dataframe tbody tr th {\n",
       "        vertical-align: top;\n",
       "    }\n",
       "\n",
       "    .dataframe thead th {\n",
       "        text-align: right;\n",
       "    }\n",
       "</style>\n",
       "<table border=\"1\" class=\"dataframe\">\n",
       "  <thead>\n",
       "    <tr style=\"text-align: right;\">\n",
       "      <th></th>\n",
       "      <th>austin</th>\n",
       "      <th>dead</th>\n",
       "      <th>hrs</th>\n",
       "      <th>iphone</th>\n",
       "      <th>need</th>\n",
       "      <th>plugin</th>\n",
       "      <th>rise</th>\n",
       "      <th>stations</th>\n",
       "      <th>tweeting</th>\n",
       "      <th>upgrade</th>\n",
       "      <th>wesley</th>\n",
       "    </tr>\n",
       "  </thead>\n",
       "  <tbody>\n",
       "    <tr>\n",
       "      <th>0</th>\n",
       "      <td>1</td>\n",
       "      <td>1</td>\n",
       "      <td>1</td>\n",
       "      <td>1</td>\n",
       "      <td>1</td>\n",
       "      <td>1</td>\n",
       "      <td>1</td>\n",
       "      <td>1</td>\n",
       "      <td>1</td>\n",
       "      <td>1</td>\n",
       "      <td>1</td>\n",
       "    </tr>\n",
       "  </tbody>\n",
       "</table>\n",
       "</div>"
      ],
      "text/plain": [
       "   austin  dead  hrs  iphone  need  plugin  rise  stations  tweeting  upgrade  \\\n",
       "0       1     1    1       1     1       1     1         1         1        1   \n",
       "\n",
       "   wesley  \n",
       "0       1  "
      ]
     },
     "execution_count": 29,
     "metadata": {},
     "output_type": "execute_result"
    }
   ],
   "source": [
    "# Convert a collection of text documents to a matrix of token counts\n",
    "\n",
    "vec = CountVectorizer()\n",
    "X = vec.fit_transform([\" \".join(df['tokenized_text'][0])])\n",
    "\n",
    "\n",
    "dfv = pd.DataFrame(X.toarray(), columns=vec.get_feature_names_out())\n",
    "dfv.head()"
   ]
  },
  {
   "cell_type": "code",
   "execution_count": 30,
   "metadata": {},
   "outputs": [
    {
     "data": {
      "text/plain": [
       "0       [wesley, g, iphone, hrs, tweeting, rise, austi...\n",
       "1       [jessedee, know, fludapp, awesome, ipad, iphon...\n",
       "2                    [swonderlin, wait, ipad, also, sale]\n",
       "3       [hope, year's, festival, crashy, year's, iphon...\n",
       "4       [sxtxstate, great, stuff, fri, marissa, mayer,...\n",
       "                              ...                        \n",
       "9077    [pr, guy, convinced, switch, back, iphone, gre...\n",
       "9079      [papyrus, sort, like, ipad, nice, lol, lavelle]\n",
       "9080    [diller, says, google, tv, might, run, playsta...\n",
       "9085    [i've, always, used, camera, iphone, b, c, ima...\n",
       "9088                                   [ipad, everywhere]\n",
       "Name: tokenized_text, Length: 3548, dtype: object"
      ]
     },
     "execution_count": 30,
     "metadata": {},
     "output_type": "execute_result"
    }
   ],
   "source": [
    "df.tokenized_text"
   ]
  },
  {
   "cell_type": "code",
   "execution_count": 31,
   "metadata": {},
   "outputs": [
    {
     "data": {
      "text/html": [
       "<div>\n",
       "<style scoped>\n",
       "    .dataframe tbody tr th:only-of-type {\n",
       "        vertical-align: middle;\n",
       "    }\n",
       "\n",
       "    .dataframe tbody tr th {\n",
       "        vertical-align: top;\n",
       "    }\n",
       "\n",
       "    .dataframe thead th {\n",
       "        text-align: right;\n",
       "    }\n",
       "</style>\n",
       "<table border=\"1\" class=\"dataframe\">\n",
       "  <thead>\n",
       "    <tr style=\"text-align: right;\">\n",
       "      <th></th>\n",
       "      <th>action</th>\n",
       "      <th>already</th>\n",
       "      <th>also</th>\n",
       "      <th>amazing</th>\n",
       "      <th>amp</th>\n",
       "      <th>android</th>\n",
       "      <th>app</th>\n",
       "      <th>app store</th>\n",
       "      <th>apple's</th>\n",
       "      <th>apps</th>\n",
       "      <th>...</th>\n",
       "      <th>web</th>\n",
       "      <th>week</th>\n",
       "      <th>well</th>\n",
       "      <th>win</th>\n",
       "      <th>wins</th>\n",
       "      <th>work</th>\n",
       "      <th>would</th>\n",
       "      <th>wow</th>\n",
       "      <th>year</th>\n",
       "      <th>yes</th>\n",
       "    </tr>\n",
       "  </thead>\n",
       "  <tbody>\n",
       "    <tr>\n",
       "      <th>0</th>\n",
       "      <td>0</td>\n",
       "      <td>0</td>\n",
       "      <td>0</td>\n",
       "      <td>0</td>\n",
       "      <td>0</td>\n",
       "      <td>0</td>\n",
       "      <td>0</td>\n",
       "      <td>0</td>\n",
       "      <td>0</td>\n",
       "      <td>0</td>\n",
       "      <td>...</td>\n",
       "      <td>0</td>\n",
       "      <td>0</td>\n",
       "      <td>0</td>\n",
       "      <td>0</td>\n",
       "      <td>0</td>\n",
       "      <td>0</td>\n",
       "      <td>0</td>\n",
       "      <td>0</td>\n",
       "      <td>0</td>\n",
       "      <td>0</td>\n",
       "    </tr>\n",
       "    <tr>\n",
       "      <th>1</th>\n",
       "      <td>0</td>\n",
       "      <td>0</td>\n",
       "      <td>1</td>\n",
       "      <td>0</td>\n",
       "      <td>0</td>\n",
       "      <td>0</td>\n",
       "      <td>1</td>\n",
       "      <td>0</td>\n",
       "      <td>0</td>\n",
       "      <td>0</td>\n",
       "      <td>...</td>\n",
       "      <td>0</td>\n",
       "      <td>0</td>\n",
       "      <td>0</td>\n",
       "      <td>0</td>\n",
       "      <td>0</td>\n",
       "      <td>0</td>\n",
       "      <td>0</td>\n",
       "      <td>0</td>\n",
       "      <td>0</td>\n",
       "      <td>0</td>\n",
       "    </tr>\n",
       "    <tr>\n",
       "      <th>2</th>\n",
       "      <td>0</td>\n",
       "      <td>0</td>\n",
       "      <td>1</td>\n",
       "      <td>0</td>\n",
       "      <td>0</td>\n",
       "      <td>0</td>\n",
       "      <td>0</td>\n",
       "      <td>0</td>\n",
       "      <td>0</td>\n",
       "      <td>0</td>\n",
       "      <td>...</td>\n",
       "      <td>0</td>\n",
       "      <td>0</td>\n",
       "      <td>0</td>\n",
       "      <td>0</td>\n",
       "      <td>0</td>\n",
       "      <td>0</td>\n",
       "      <td>0</td>\n",
       "      <td>0</td>\n",
       "      <td>0</td>\n",
       "      <td>0</td>\n",
       "    </tr>\n",
       "    <tr>\n",
       "      <th>3</th>\n",
       "      <td>0</td>\n",
       "      <td>0</td>\n",
       "      <td>0</td>\n",
       "      <td>0</td>\n",
       "      <td>0</td>\n",
       "      <td>0</td>\n",
       "      <td>1</td>\n",
       "      <td>0</td>\n",
       "      <td>0</td>\n",
       "      <td>0</td>\n",
       "      <td>...</td>\n",
       "      <td>0</td>\n",
       "      <td>0</td>\n",
       "      <td>0</td>\n",
       "      <td>0</td>\n",
       "      <td>0</td>\n",
       "      <td>0</td>\n",
       "      <td>0</td>\n",
       "      <td>0</td>\n",
       "      <td>0</td>\n",
       "      <td>0</td>\n",
       "    </tr>\n",
       "    <tr>\n",
       "      <th>4</th>\n",
       "      <td>0</td>\n",
       "      <td>0</td>\n",
       "      <td>0</td>\n",
       "      <td>0</td>\n",
       "      <td>1</td>\n",
       "      <td>0</td>\n",
       "      <td>0</td>\n",
       "      <td>0</td>\n",
       "      <td>0</td>\n",
       "      <td>0</td>\n",
       "      <td>...</td>\n",
       "      <td>0</td>\n",
       "      <td>0</td>\n",
       "      <td>0</td>\n",
       "      <td>0</td>\n",
       "      <td>0</td>\n",
       "      <td>0</td>\n",
       "      <td>0</td>\n",
       "      <td>0</td>\n",
       "      <td>0</td>\n",
       "      <td>0</td>\n",
       "    </tr>\n",
       "    <tr>\n",
       "      <th>...</th>\n",
       "      <td>...</td>\n",
       "      <td>...</td>\n",
       "      <td>...</td>\n",
       "      <td>...</td>\n",
       "      <td>...</td>\n",
       "      <td>...</td>\n",
       "      <td>...</td>\n",
       "      <td>...</td>\n",
       "      <td>...</td>\n",
       "      <td>...</td>\n",
       "      <td>...</td>\n",
       "      <td>...</td>\n",
       "      <td>...</td>\n",
       "      <td>...</td>\n",
       "      <td>...</td>\n",
       "      <td>...</td>\n",
       "      <td>...</td>\n",
       "      <td>...</td>\n",
       "      <td>...</td>\n",
       "      <td>...</td>\n",
       "      <td>...</td>\n",
       "    </tr>\n",
       "    <tr>\n",
       "      <th>3543</th>\n",
       "      <td>0</td>\n",
       "      <td>0</td>\n",
       "      <td>0</td>\n",
       "      <td>0</td>\n",
       "      <td>0</td>\n",
       "      <td>0</td>\n",
       "      <td>0</td>\n",
       "      <td>0</td>\n",
       "      <td>0</td>\n",
       "      <td>0</td>\n",
       "      <td>...</td>\n",
       "      <td>0</td>\n",
       "      <td>0</td>\n",
       "      <td>0</td>\n",
       "      <td>0</td>\n",
       "      <td>0</td>\n",
       "      <td>0</td>\n",
       "      <td>0</td>\n",
       "      <td>0</td>\n",
       "      <td>0</td>\n",
       "      <td>0</td>\n",
       "    </tr>\n",
       "    <tr>\n",
       "      <th>3544</th>\n",
       "      <td>0</td>\n",
       "      <td>0</td>\n",
       "      <td>0</td>\n",
       "      <td>0</td>\n",
       "      <td>0</td>\n",
       "      <td>0</td>\n",
       "      <td>0</td>\n",
       "      <td>0</td>\n",
       "      <td>0</td>\n",
       "      <td>0</td>\n",
       "      <td>...</td>\n",
       "      <td>0</td>\n",
       "      <td>0</td>\n",
       "      <td>0</td>\n",
       "      <td>0</td>\n",
       "      <td>0</td>\n",
       "      <td>0</td>\n",
       "      <td>0</td>\n",
       "      <td>0</td>\n",
       "      <td>0</td>\n",
       "      <td>0</td>\n",
       "    </tr>\n",
       "    <tr>\n",
       "      <th>3545</th>\n",
       "      <td>0</td>\n",
       "      <td>0</td>\n",
       "      <td>0</td>\n",
       "      <td>0</td>\n",
       "      <td>0</td>\n",
       "      <td>0</td>\n",
       "      <td>0</td>\n",
       "      <td>0</td>\n",
       "      <td>0</td>\n",
       "      <td>0</td>\n",
       "      <td>...</td>\n",
       "      <td>0</td>\n",
       "      <td>0</td>\n",
       "      <td>0</td>\n",
       "      <td>0</td>\n",
       "      <td>0</td>\n",
       "      <td>0</td>\n",
       "      <td>0</td>\n",
       "      <td>0</td>\n",
       "      <td>0</td>\n",
       "      <td>0</td>\n",
       "    </tr>\n",
       "    <tr>\n",
       "      <th>3546</th>\n",
       "      <td>0</td>\n",
       "      <td>0</td>\n",
       "      <td>0</td>\n",
       "      <td>0</td>\n",
       "      <td>0</td>\n",
       "      <td>0</td>\n",
       "      <td>1</td>\n",
       "      <td>0</td>\n",
       "      <td>0</td>\n",
       "      <td>0</td>\n",
       "      <td>...</td>\n",
       "      <td>0</td>\n",
       "      <td>0</td>\n",
       "      <td>0</td>\n",
       "      <td>0</td>\n",
       "      <td>0</td>\n",
       "      <td>0</td>\n",
       "      <td>0</td>\n",
       "      <td>0</td>\n",
       "      <td>0</td>\n",
       "      <td>0</td>\n",
       "    </tr>\n",
       "    <tr>\n",
       "      <th>3547</th>\n",
       "      <td>0</td>\n",
       "      <td>0</td>\n",
       "      <td>0</td>\n",
       "      <td>0</td>\n",
       "      <td>0</td>\n",
       "      <td>0</td>\n",
       "      <td>0</td>\n",
       "      <td>0</td>\n",
       "      <td>0</td>\n",
       "      <td>0</td>\n",
       "      <td>...</td>\n",
       "      <td>0</td>\n",
       "      <td>0</td>\n",
       "      <td>0</td>\n",
       "      <td>0</td>\n",
       "      <td>0</td>\n",
       "      <td>0</td>\n",
       "      <td>0</td>\n",
       "      <td>0</td>\n",
       "      <td>0</td>\n",
       "      <td>0</td>\n",
       "    </tr>\n",
       "  </tbody>\n",
       "</table>\n",
       "<p>3548 rows × 200 columns</p>\n",
       "</div>"
      ],
      "text/plain": [
       "      action  already  also  amazing  amp  android  app  app store  apple's  \\\n",
       "0          0        0     0        0    0        0    0          0        0   \n",
       "1          0        0     1        0    0        0    1          0        0   \n",
       "2          0        0     1        0    0        0    0          0        0   \n",
       "3          0        0     0        0    0        0    1          0        0   \n",
       "4          0        0     0        0    1        0    0          0        0   \n",
       "...      ...      ...   ...      ...  ...      ...  ...        ...      ...   \n",
       "3543       0        0     0        0    0        0    0          0        0   \n",
       "3544       0        0     0        0    0        0    0          0        0   \n",
       "3545       0        0     0        0    0        0    0          0        0   \n",
       "3546       0        0     0        0    0        0    1          0        0   \n",
       "3547       0        0     0        0    0        0    0          0        0   \n",
       "\n",
       "      apps  ...  web  week  well  win  wins  work  would  wow  year  yes  \n",
       "0        0  ...    0     0     0    0     0     0      0    0     0    0  \n",
       "1        0  ...    0     0     0    0     0     0      0    0     0    0  \n",
       "2        0  ...    0     0     0    0     0     0      0    0     0    0  \n",
       "3        0  ...    0     0     0    0     0     0      0    0     0    0  \n",
       "4        0  ...    0     0     0    0     0     0      0    0     0    0  \n",
       "...    ...  ...  ...   ...   ...  ...   ...   ...    ...  ...   ...  ...  \n",
       "3543     0  ...    0     0     0    0     0     0      0    0     0    0  \n",
       "3544     0  ...    0     0     0    0     0     0      0    0     0    0  \n",
       "3545     0  ...    0     0     0    0     0     0      0    0     0    0  \n",
       "3546     0  ...    0     0     0    0     0     0      0    0     0    0  \n",
       "3547     0  ...    0     0     0    0     0     0      0    0     0    0  \n",
       "\n",
       "[3548 rows x 200 columns]"
      ]
     },
     "execution_count": 31,
     "metadata": {},
     "output_type": "execute_result"
    }
   ],
   "source": [
    "#vectorizing using parameters max_features\n",
    "df['tokenized_text'] = df['tokenized_text'].apply(lambda tokens: ' '.join(tokens))\n",
    "\n",
    "# Create a CountVectorizer\n",
    "vec = CountVectorizer(token_pattern=r\"([a-zA-Z]+(?:'[a-z]+)?)\",\n",
    "                      stop_words=sw, ngram_range=(1, 2),\n",
    "                      max_features=200)\n",
    "X = vec.fit_transform(df['tokenized_text'])\n",
    "\n",
    "# Create a DataFrame with the count vectorized features\n",
    "df_cv = pd.DataFrame(X.toarray(), columns=vec.get_feature_names_out())\n",
    "\n",
    "# Display the DataFrame\n",
    "df_cv"
   ]
  },
  {
   "cell_type": "code",
   "execution_count": null,
   "metadata": {},
   "outputs": [],
   "source": []
  },
  {
   "cell_type": "markdown",
   "metadata": {},
   "source": [
    "vec = CountVectorizer(token_pattern=r\"([a-zA-Z]+(?:'[a-z]+)?)\",\n",
    "                      stop_words=sw, ngram_range=(1, 2), max_features=200)\n",
    "X = vec.fit_transform(df['tokenized_text'])\n",
    "\n",
    "df_cv = pd.DataFrame(X.toarray(), columns=vec.get_feature_names_out())\n",
    "df_cv"
   ]
  },
  {
   "cell_type": "markdown",
   "metadata": {},
   "source": [
    "## TfidfVectorizer"
   ]
  },
  {
   "cell_type": "code",
   "execution_count": 32,
   "metadata": {},
   "outputs": [
    {
     "data": {
      "text/html": [
       "<div>\n",
       "<style scoped>\n",
       "    .dataframe tbody tr th:only-of-type {\n",
       "        vertical-align: middle;\n",
       "    }\n",
       "\n",
       "    .dataframe tbody tr th {\n",
       "        vertical-align: top;\n",
       "    }\n",
       "\n",
       "    .dataframe thead th {\n",
       "        text-align: right;\n",
       "    }\n",
       "</style>\n",
       "<table border=\"1\" class=\"dataframe\">\n",
       "  <thead>\n",
       "    <tr style=\"text-align: right;\">\n",
       "      <th></th>\n",
       "      <th>aapl</th>\n",
       "      <th>abacus</th>\n",
       "      <th>abandoned</th>\n",
       "      <th>aber</th>\n",
       "      <th>ability</th>\n",
       "      <th>able</th>\n",
       "      <th>abroad</th>\n",
       "      <th>absolute</th>\n",
       "      <th>absolutely</th>\n",
       "      <th>abt</th>\n",
       "      <th>...</th>\n",
       "      <th>zimride</th>\n",
       "      <th>zing</th>\n",
       "      <th>zip</th>\n",
       "      <th>zite</th>\n",
       "      <th>zms</th>\n",
       "      <th>zombies</th>\n",
       "      <th>zomg</th>\n",
       "      <th>zone</th>\n",
       "      <th>zoom</th>\n",
       "      <th>zzzs</th>\n",
       "    </tr>\n",
       "  </thead>\n",
       "  <tbody>\n",
       "    <tr>\n",
       "      <th>0</th>\n",
       "      <td>0.0</td>\n",
       "      <td>0.0</td>\n",
       "      <td>0.0</td>\n",
       "      <td>0.0</td>\n",
       "      <td>0.0</td>\n",
       "      <td>0.0</td>\n",
       "      <td>0.0</td>\n",
       "      <td>0.0</td>\n",
       "      <td>0.0</td>\n",
       "      <td>0.0</td>\n",
       "      <td>...</td>\n",
       "      <td>0.0</td>\n",
       "      <td>0.0</td>\n",
       "      <td>0.0</td>\n",
       "      <td>0.0</td>\n",
       "      <td>0.0</td>\n",
       "      <td>0.0</td>\n",
       "      <td>0.0</td>\n",
       "      <td>0.0</td>\n",
       "      <td>0.0</td>\n",
       "      <td>0.0</td>\n",
       "    </tr>\n",
       "    <tr>\n",
       "      <th>1</th>\n",
       "      <td>0.0</td>\n",
       "      <td>0.0</td>\n",
       "      <td>0.0</td>\n",
       "      <td>0.0</td>\n",
       "      <td>0.0</td>\n",
       "      <td>0.0</td>\n",
       "      <td>0.0</td>\n",
       "      <td>0.0</td>\n",
       "      <td>0.0</td>\n",
       "      <td>0.0</td>\n",
       "      <td>...</td>\n",
       "      <td>0.0</td>\n",
       "      <td>0.0</td>\n",
       "      <td>0.0</td>\n",
       "      <td>0.0</td>\n",
       "      <td>0.0</td>\n",
       "      <td>0.0</td>\n",
       "      <td>0.0</td>\n",
       "      <td>0.0</td>\n",
       "      <td>0.0</td>\n",
       "      <td>0.0</td>\n",
       "    </tr>\n",
       "    <tr>\n",
       "      <th>2</th>\n",
       "      <td>0.0</td>\n",
       "      <td>0.0</td>\n",
       "      <td>0.0</td>\n",
       "      <td>0.0</td>\n",
       "      <td>0.0</td>\n",
       "      <td>0.0</td>\n",
       "      <td>0.0</td>\n",
       "      <td>0.0</td>\n",
       "      <td>0.0</td>\n",
       "      <td>0.0</td>\n",
       "      <td>...</td>\n",
       "      <td>0.0</td>\n",
       "      <td>0.0</td>\n",
       "      <td>0.0</td>\n",
       "      <td>0.0</td>\n",
       "      <td>0.0</td>\n",
       "      <td>0.0</td>\n",
       "      <td>0.0</td>\n",
       "      <td>0.0</td>\n",
       "      <td>0.0</td>\n",
       "      <td>0.0</td>\n",
       "    </tr>\n",
       "    <tr>\n",
       "      <th>3</th>\n",
       "      <td>0.0</td>\n",
       "      <td>0.0</td>\n",
       "      <td>0.0</td>\n",
       "      <td>0.0</td>\n",
       "      <td>0.0</td>\n",
       "      <td>0.0</td>\n",
       "      <td>0.0</td>\n",
       "      <td>0.0</td>\n",
       "      <td>0.0</td>\n",
       "      <td>0.0</td>\n",
       "      <td>...</td>\n",
       "      <td>0.0</td>\n",
       "      <td>0.0</td>\n",
       "      <td>0.0</td>\n",
       "      <td>0.0</td>\n",
       "      <td>0.0</td>\n",
       "      <td>0.0</td>\n",
       "      <td>0.0</td>\n",
       "      <td>0.0</td>\n",
       "      <td>0.0</td>\n",
       "      <td>0.0</td>\n",
       "    </tr>\n",
       "    <tr>\n",
       "      <th>4</th>\n",
       "      <td>0.0</td>\n",
       "      <td>0.0</td>\n",
       "      <td>0.0</td>\n",
       "      <td>0.0</td>\n",
       "      <td>0.0</td>\n",
       "      <td>0.0</td>\n",
       "      <td>0.0</td>\n",
       "      <td>0.0</td>\n",
       "      <td>0.0</td>\n",
       "      <td>0.0</td>\n",
       "      <td>...</td>\n",
       "      <td>0.0</td>\n",
       "      <td>0.0</td>\n",
       "      <td>0.0</td>\n",
       "      <td>0.0</td>\n",
       "      <td>0.0</td>\n",
       "      <td>0.0</td>\n",
       "      <td>0.0</td>\n",
       "      <td>0.0</td>\n",
       "      <td>0.0</td>\n",
       "      <td>0.0</td>\n",
       "    </tr>\n",
       "  </tbody>\n",
       "</table>\n",
       "<p>5 rows × 5743 columns</p>\n",
       "</div>"
      ],
      "text/plain": [
       "   aapl  abacus  abandoned  aber  ability  able  abroad  absolute  absolutely  \\\n",
       "0   0.0     0.0        0.0   0.0      0.0   0.0     0.0       0.0         0.0   \n",
       "1   0.0     0.0        0.0   0.0      0.0   0.0     0.0       0.0         0.0   \n",
       "2   0.0     0.0        0.0   0.0      0.0   0.0     0.0       0.0         0.0   \n",
       "3   0.0     0.0        0.0   0.0      0.0   0.0     0.0       0.0         0.0   \n",
       "4   0.0     0.0        0.0   0.0      0.0   0.0     0.0       0.0         0.0   \n",
       "\n",
       "   abt  ...  zimride  zing  zip  zite  zms  zombies  zomg  zone  zoom  zzzs  \n",
       "0  0.0  ...      0.0   0.0  0.0   0.0  0.0      0.0   0.0   0.0   0.0   0.0  \n",
       "1  0.0  ...      0.0   0.0  0.0   0.0  0.0      0.0   0.0   0.0   0.0   0.0  \n",
       "2  0.0  ...      0.0   0.0  0.0   0.0  0.0      0.0   0.0   0.0   0.0   0.0  \n",
       "3  0.0  ...      0.0   0.0  0.0   0.0  0.0      0.0   0.0   0.0   0.0   0.0  \n",
       "4  0.0  ...      0.0   0.0  0.0   0.0  0.0      0.0   0.0   0.0   0.0   0.0  \n",
       "\n",
       "[5 rows x 5743 columns]"
      ]
     },
     "execution_count": 32,
     "metadata": {},
     "output_type": "execute_result"
    }
   ],
   "source": [
    "tf_vec = TfidfVectorizer(token_pattern=r\"([a-zA-Z]+(?:'[a-z]+)?)\", stop_words=sw)\n",
    "X = tf_vec.fit_transform(df['tokenized_text'])\n",
    "\n",
    "df_tv = pd.DataFrame(X.toarray(), columns=tf_vec.get_feature_names_out())\n",
    "df_tv.head()"
   ]
  },
  {
   "cell_type": "code",
   "execution_count": 33,
   "metadata": {},
   "outputs": [
    {
     "data": {
      "text/plain": [
       "jessedee      0.367177\n",
       "fludapp       0.367177\n",
       "ts            0.349623\n",
       "likely        0.337169\n",
       "appreciate    0.327508\n",
       "they're       0.252925\n",
       "giving        0.245812\n",
       "also          0.231433\n",
       "know          0.222151\n",
       "design        0.213879\n",
       "Name: 1, dtype: float64"
      ]
     },
     "execution_count": 33,
     "metadata": {},
     "output_type": "execute_result"
    }
   ],
   "source": [
    "df_tv.iloc[1].sort_values(ascending=False)[:10]"
   ]
  },
  {
   "cell_type": "code",
   "execution_count": 34,
   "metadata": {
    "scrolled": true
   },
   "outputs": [
    {
     "data": {
      "text/plain": [
       "time       1\n",
       "android    1\n",
       "around     1\n",
       "good       1\n",
       "yes        0\n",
       "Name: 5, dtype: int64"
      ]
     },
     "execution_count": 34,
     "metadata": {},
     "output_type": "execute_result"
    }
   ],
   "source": [
    "df_cv.iloc[5].sort_values(ascending=False)[:5]"
   ]
  },
  {
   "cell_type": "code",
   "execution_count": null,
   "metadata": {},
   "outputs": [],
   "source": []
  },
  {
   "cell_type": "markdown",
   "metadata": {},
   "source": [
    "## Performing the split \n"
   ]
  },
  {
   "cell_type": "code",
   "execution_count": 35,
   "metadata": {},
   "outputs": [],
   "source": [
    "X = df[['tokenized_text']]\n",
    "y= df['target']"
   ]
  },
  {
   "cell_type": "code",
   "execution_count": 36,
   "metadata": {},
   "outputs": [
    {
     "data": {
      "text/plain": [
       "(3548, 1)"
      ]
     },
     "execution_count": 36,
     "metadata": {},
     "output_type": "execute_result"
    }
   ],
   "source": [
    "X.shape"
   ]
  },
  {
   "cell_type": "code",
   "execution_count": 37,
   "metadata": {},
   "outputs": [
    {
     "data": {
      "text/plain": [
       "0       0\n",
       "1       1\n",
       "2       1\n",
       "3       0\n",
       "4       1\n",
       "       ..\n",
       "9077    1\n",
       "9079    1\n",
       "9080    0\n",
       "9085    1\n",
       "9088    1\n",
       "Name: target, Length: 3548, dtype: int64"
      ]
     },
     "execution_count": 37,
     "metadata": {},
     "output_type": "execute_result"
    }
   ],
   "source": [
    "y"
   ]
  },
  {
   "cell_type": "code",
   "execution_count": 38,
   "metadata": {},
   "outputs": [],
   "source": [
    "X_train, X_test, y_train, y_test = train_test_split(X,y,random_state=42, test_size=0.25)"
   ]
  },
  {
   "cell_type": "code",
   "execution_count": 39,
   "metadata": {},
   "outputs": [
    {
     "data": {
      "text/html": [
       "<div>\n",
       "<style scoped>\n",
       "    .dataframe tbody tr th:only-of-type {\n",
       "        vertical-align: middle;\n",
       "    }\n",
       "\n",
       "    .dataframe tbody tr th {\n",
       "        vertical-align: top;\n",
       "    }\n",
       "\n",
       "    .dataframe thead th {\n",
       "        text-align: right;\n",
       "    }\n",
       "</style>\n",
       "<table border=\"1\" class=\"dataframe\">\n",
       "  <thead>\n",
       "    <tr style=\"text-align: right;\">\n",
       "      <th></th>\n",
       "      <th>tokenized_text</th>\n",
       "    </tr>\n",
       "  </thead>\n",
       "  <tbody>\n",
       "    <tr>\n",
       "      <th>3944</th>\n",
       "      <td>they're giving away ipad x boxes books techenvy</td>\n",
       "    </tr>\n",
       "    <tr>\n",
       "      <th>7306</th>\n",
       "      <td>setting ipad swift upbeat service morning pop ...</td>\n",
       "    </tr>\n",
       "    <tr>\n",
       "      <th>2730</th>\n",
       "      <td>third time charm gt gt gt google launch new so...</td>\n",
       "    </tr>\n",
       "    <tr>\n",
       "      <th>3568</th>\n",
       "      <td>used think started making great apps official ...</td>\n",
       "    </tr>\n",
       "    <tr>\n",
       "      <th>1146</th>\n",
       "      <td>hopefully best thing comes fact people flew au...</td>\n",
       "    </tr>\n",
       "    <tr>\n",
       "      <th>...</th>\n",
       "      <td>...</td>\n",
       "    </tr>\n",
       "    <tr>\n",
       "      <th>2760</th>\n",
       "      <td>dear could roll hot dog cart full ipad austin ...</td>\n",
       "    </tr>\n",
       "    <tr>\n",
       "      <th>3151</th>\n",
       "      <td>kick sxswi giving away ipad visit fb page enter</td>\n",
       "    </tr>\n",
       "    <tr>\n",
       "      <th>2121</th>\n",
       "      <td>cnngrill rockin iphone cooler</td>\n",
       "    </tr>\n",
       "    <tr>\n",
       "      <th>8989</th>\n",
       "      <td>crazy much culture documented google doodles</td>\n",
       "    </tr>\n",
       "    <tr>\n",
       "      <th>8094</th>\n",
       "      <td>woot google lego hackathon competition startup...</td>\n",
       "    </tr>\n",
       "  </tbody>\n",
       "</table>\n",
       "<p>2661 rows × 1 columns</p>\n",
       "</div>"
      ],
      "text/plain": [
       "                                         tokenized_text\n",
       "3944    they're giving away ipad x boxes books techenvy\n",
       "7306  setting ipad swift upbeat service morning pop ...\n",
       "2730  third time charm gt gt gt google launch new so...\n",
       "3568  used think started making great apps official ...\n",
       "1146  hopefully best thing comes fact people flew au...\n",
       "...                                                 ...\n",
       "2760  dear could roll hot dog cart full ipad austin ...\n",
       "3151    kick sxswi giving away ipad visit fb page enter\n",
       "2121                      cnngrill rockin iphone cooler\n",
       "8989       crazy much culture documented google doodles\n",
       "8094  woot google lego hackathon competition startup...\n",
       "\n",
       "[2661 rows x 1 columns]"
      ]
     },
     "execution_count": 39,
     "metadata": {},
     "output_type": "execute_result"
    }
   ],
   "source": [
    "X_train"
   ]
  },
  {
   "cell_type": "markdown",
   "metadata": {},
   "source": [
    "token_docs = [doc_preparer(doc, sw) for doc in X_train]"
   ]
  },
  {
   "cell_type": "code",
   "execution_count": 40,
   "metadata": {},
   "outputs": [],
   "source": [
    "#token_docs"
   ]
  },
  {
   "cell_type": "code",
   "execution_count": 41,
   "metadata": {
    "scrolled": true
   },
   "outputs": [
    {
     "data": {
      "text/html": [
       "<div>\n",
       "<style scoped>\n",
       "    .dataframe tbody tr th:only-of-type {\n",
       "        vertical-align: middle;\n",
       "    }\n",
       "\n",
       "    .dataframe tbody tr th {\n",
       "        vertical-align: top;\n",
       "    }\n",
       "\n",
       "    .dataframe thead th {\n",
       "        text-align: right;\n",
       "    }\n",
       "</style>\n",
       "<table border=\"1\" class=\"dataframe\">\n",
       "  <thead>\n",
       "    <tr style=\"text-align: right;\">\n",
       "      <th></th>\n",
       "      <th>tweet_text</th>\n",
       "      <th>products</th>\n",
       "      <th>emotions</th>\n",
       "      <th>tokenized_text</th>\n",
       "      <th>target</th>\n",
       "    </tr>\n",
       "  </thead>\n",
       "  <tbody>\n",
       "    <tr>\n",
       "      <th>0</th>\n",
       "      <td>.@wesley83 I have a 3G iPhone. After 3 hrs twe...</td>\n",
       "      <td>iPhone</td>\n",
       "      <td>Negative emotion</td>\n",
       "      <td>wesley g iphone hrs tweeting rise austin dead ...</td>\n",
       "      <td>0</td>\n",
       "    </tr>\n",
       "    <tr>\n",
       "      <th>1</th>\n",
       "      <td>@jessedee Know about @fludapp ? Awesome iPad/i...</td>\n",
       "      <td>iPad or iPhone App</td>\n",
       "      <td>Positive emotion</td>\n",
       "      <td>jessedee know fludapp awesome ipad iphone app ...</td>\n",
       "      <td>1</td>\n",
       "    </tr>\n",
       "    <tr>\n",
       "      <th>2</th>\n",
       "      <td>@swonderlin Can not wait for #iPad 2 also. The...</td>\n",
       "      <td>iPad</td>\n",
       "      <td>Positive emotion</td>\n",
       "      <td>swonderlin wait ipad also sale</td>\n",
       "      <td>1</td>\n",
       "    </tr>\n",
       "    <tr>\n",
       "      <th>3</th>\n",
       "      <td>@sxsw I hope this year's festival isn't as cra...</td>\n",
       "      <td>iPad or iPhone App</td>\n",
       "      <td>Negative emotion</td>\n",
       "      <td>hope year's festival crashy year's iphone app</td>\n",
       "      <td>0</td>\n",
       "    </tr>\n",
       "    <tr>\n",
       "      <th>4</th>\n",
       "      <td>@sxtxstate great stuff on Fri #SXSW: Marissa M...</td>\n",
       "      <td>Google</td>\n",
       "      <td>Positive emotion</td>\n",
       "      <td>sxtxstate great stuff fri marissa mayer google...</td>\n",
       "      <td>1</td>\n",
       "    </tr>\n",
       "  </tbody>\n",
       "</table>\n",
       "</div>"
      ],
      "text/plain": [
       "                                          tweet_text            products  \\\n",
       "0  .@wesley83 I have a 3G iPhone. After 3 hrs twe...              iPhone   \n",
       "1  @jessedee Know about @fludapp ? Awesome iPad/i...  iPad or iPhone App   \n",
       "2  @swonderlin Can not wait for #iPad 2 also. The...                iPad   \n",
       "3  @sxsw I hope this year's festival isn't as cra...  iPad or iPhone App   \n",
       "4  @sxtxstate great stuff on Fri #SXSW: Marissa M...              Google   \n",
       "\n",
       "           emotions                                     tokenized_text  target  \n",
       "0  Negative emotion  wesley g iphone hrs tweeting rise austin dead ...       0  \n",
       "1  Positive emotion  jessedee know fludapp awesome ipad iphone app ...       1  \n",
       "2  Positive emotion                     swonderlin wait ipad also sale       1  \n",
       "3  Negative emotion      hope year's festival crashy year's iphone app       0  \n",
       "4  Positive emotion  sxtxstate great stuff fri marissa mayer google...       1  "
      ]
     },
     "execution_count": 41,
     "metadata": {},
     "output_type": "execute_result"
    }
   ],
   "source": [
    "#df['processed'] = df['tokenized_text'].apply(doc_preparer)\n",
    "df.head()"
   ]
  },
  {
   "cell_type": "code",
   "execution_count": 42,
   "metadata": {},
   "outputs": [],
   "source": [
    "#X_train['cleaned'] = X_train['tokenized_text'].apply(doc_preparer)\n",
    "X_train['cleaned'] = X_train['tokenized_text']"
   ]
  },
  {
   "cell_type": "code",
   "execution_count": 43,
   "metadata": {
    "scrolled": true
   },
   "outputs": [
    {
     "data": {
      "text/html": [
       "<div>\n",
       "<style scoped>\n",
       "    .dataframe tbody tr th:only-of-type {\n",
       "        vertical-align: middle;\n",
       "    }\n",
       "\n",
       "    .dataframe tbody tr th {\n",
       "        vertical-align: top;\n",
       "    }\n",
       "\n",
       "    .dataframe thead th {\n",
       "        text-align: right;\n",
       "    }\n",
       "</style>\n",
       "<table border=\"1\" class=\"dataframe\">\n",
       "  <thead>\n",
       "    <tr style=\"text-align: right;\">\n",
       "      <th></th>\n",
       "      <th>tokenized_text</th>\n",
       "      <th>cleaned</th>\n",
       "    </tr>\n",
       "  </thead>\n",
       "  <tbody>\n",
       "    <tr>\n",
       "      <th>3944</th>\n",
       "      <td>they're giving away ipad x boxes books techenvy</td>\n",
       "      <td>they're giving away ipad x boxes books techenvy</td>\n",
       "    </tr>\n",
       "    <tr>\n",
       "      <th>7306</th>\n",
       "      <td>setting ipad swift upbeat service morning pop ...</td>\n",
       "      <td>setting ipad swift upbeat service morning pop ...</td>\n",
       "    </tr>\n",
       "    <tr>\n",
       "      <th>2730</th>\n",
       "      <td>third time charm gt gt gt google launch new so...</td>\n",
       "      <td>third time charm gt gt gt google launch new so...</td>\n",
       "    </tr>\n",
       "    <tr>\n",
       "      <th>3568</th>\n",
       "      <td>used think started making great apps official ...</td>\n",
       "      <td>used think started making great apps official ...</td>\n",
       "    </tr>\n",
       "    <tr>\n",
       "      <th>1146</th>\n",
       "      <td>hopefully best thing comes fact people flew au...</td>\n",
       "      <td>hopefully best thing comes fact people flew au...</td>\n",
       "    </tr>\n",
       "  </tbody>\n",
       "</table>\n",
       "</div>"
      ],
      "text/plain": [
       "                                         tokenized_text  \\\n",
       "3944    they're giving away ipad x boxes books techenvy   \n",
       "7306  setting ipad swift upbeat service morning pop ...   \n",
       "2730  third time charm gt gt gt google launch new so...   \n",
       "3568  used think started making great apps official ...   \n",
       "1146  hopefully best thing comes fact people flew au...   \n",
       "\n",
       "                                                cleaned  \n",
       "3944    they're giving away ipad x boxes books techenvy  \n",
       "7306  setting ipad swift upbeat service morning pop ...  \n",
       "2730  third time charm gt gt gt google launch new so...  \n",
       "3568  used think started making great apps official ...  \n",
       "1146  hopefully best thing comes fact people flew au...  "
      ]
     },
     "execution_count": 43,
     "metadata": {},
     "output_type": "execute_result"
    }
   ],
   "source": [
    "X_train.head()"
   ]
  },
  {
   "cell_type": "markdown",
   "metadata": {},
   "source": [
    "## Model Evaluation vocabulary limitation (max_features=100)"
   ]
  },
  {
   "cell_type": "code",
   "execution_count": 44,
   "metadata": {},
   "outputs": [],
   "source": [
    "# Secondary train-test split to build our best model\n",
    "X_t, X_val, y_t, y_val = train_test_split(X_train['cleaned'], y_train,\n",
    "                                          test_size=0.25, random_state=42)\n",
    "#stopping our vectorizer at 200 features\n",
    "cv = CountVectorizer(max_features=100)\n",
    "\n",
    "X_t_vec = cv.fit_transform(X_t)\n",
    "# transforming the return sparce matrix into a Dataframe\n",
    "X_t_vec = pd.DataFrame.sparse.from_spmatrix(X_t_vec)\n",
    "#giving the vocabulary as column\n",
    "X_t_vec.columns = sorted(cv.vocabulary_)\n",
    "#Using the index from our training data\n",
    "X_t_vec.set_index(y_t.index, inplace=True)\n",
    "\n",
    "# We then transform (vectorized) the validation set from our #segundary Split \n",
    "X_val_vec = cv.transform(X_val)\n",
    "\n",
    "# transforming the return sparce matrix into a Dataframe\n",
    "X_val_vec  = pd.DataFrame.sparse.from_spmatrix(X_val_vec)\n",
    "\n",
    "#giving the vocabulary as column\n",
    "X_val_vec.columns = sorted(cv.vocabulary_)\n",
    "#Using the index from our training data\n",
    "X_val_vec.set_index(y_val.index, inplace=True)"
   ]
  },
  {
   "cell_type": "code",
   "execution_count": 45,
   "metadata": {
    "scrolled": true
   },
   "outputs": [
    {
     "data": {
      "text/html": [
       "<div>\n",
       "<style scoped>\n",
       "    .dataframe tbody tr th:only-of-type {\n",
       "        vertical-align: middle;\n",
       "    }\n",
       "\n",
       "    .dataframe tbody tr th {\n",
       "        vertical-align: top;\n",
       "    }\n",
       "\n",
       "    .dataframe thead th {\n",
       "        text-align: right;\n",
       "    }\n",
       "</style>\n",
       "<table border=\"1\" class=\"dataframe\">\n",
       "  <thead>\n",
       "    <tr style=\"text-align: right;\">\n",
       "      <th></th>\n",
       "      <th>also</th>\n",
       "      <th>amp</th>\n",
       "      <th>android</th>\n",
       "      <th>app</th>\n",
       "      <th>apps</th>\n",
       "      <th>around</th>\n",
       "      <th>austin</th>\n",
       "      <th>awesome</th>\n",
       "      <th>begins</th>\n",
       "      <th>best</th>\n",
       "      <th>...</th>\n",
       "      <th>via</th>\n",
       "      <th>video</th>\n",
       "      <th>want</th>\n",
       "      <th>way</th>\n",
       "      <th>we</th>\n",
       "      <th>win</th>\n",
       "      <th>wins</th>\n",
       "      <th>would</th>\n",
       "      <th>wow</th>\n",
       "      <th>year</th>\n",
       "    </tr>\n",
       "  </thead>\n",
       "  <tbody>\n",
       "    <tr>\n",
       "      <th>7411</th>\n",
       "      <td>0</td>\n",
       "      <td>0</td>\n",
       "      <td>0</td>\n",
       "      <td>0</td>\n",
       "      <td>0</td>\n",
       "      <td>0</td>\n",
       "      <td>0</td>\n",
       "      <td>0</td>\n",
       "      <td>0</td>\n",
       "      <td>0</td>\n",
       "      <td>...</td>\n",
       "      <td>0</td>\n",
       "      <td>0</td>\n",
       "      <td>0</td>\n",
       "      <td>0</td>\n",
       "      <td>0</td>\n",
       "      <td>0</td>\n",
       "      <td>0</td>\n",
       "      <td>0</td>\n",
       "      <td>0</td>\n",
       "      <td>0</td>\n",
       "    </tr>\n",
       "    <tr>\n",
       "      <th>157</th>\n",
       "      <td>0</td>\n",
       "      <td>0</td>\n",
       "      <td>0</td>\n",
       "      <td>0</td>\n",
       "      <td>0</td>\n",
       "      <td>0</td>\n",
       "      <td>1</td>\n",
       "      <td>0</td>\n",
       "      <td>0</td>\n",
       "      <td>0</td>\n",
       "      <td>...</td>\n",
       "      <td>0</td>\n",
       "      <td>0</td>\n",
       "      <td>0</td>\n",
       "      <td>0</td>\n",
       "      <td>0</td>\n",
       "      <td>0</td>\n",
       "      <td>0</td>\n",
       "      <td>0</td>\n",
       "      <td>0</td>\n",
       "      <td>0</td>\n",
       "    </tr>\n",
       "    <tr>\n",
       "      <th>1762</th>\n",
       "      <td>0</td>\n",
       "      <td>0</td>\n",
       "      <td>0</td>\n",
       "      <td>0</td>\n",
       "      <td>0</td>\n",
       "      <td>0</td>\n",
       "      <td>0</td>\n",
       "      <td>0</td>\n",
       "      <td>0</td>\n",
       "      <td>0</td>\n",
       "      <td>...</td>\n",
       "      <td>0</td>\n",
       "      <td>0</td>\n",
       "      <td>0</td>\n",
       "      <td>0</td>\n",
       "      <td>0</td>\n",
       "      <td>0</td>\n",
       "      <td>0</td>\n",
       "      <td>0</td>\n",
       "      <td>0</td>\n",
       "      <td>0</td>\n",
       "    </tr>\n",
       "    <tr>\n",
       "      <th>5059</th>\n",
       "      <td>0</td>\n",
       "      <td>0</td>\n",
       "      <td>0</td>\n",
       "      <td>0</td>\n",
       "      <td>0</td>\n",
       "      <td>1</td>\n",
       "      <td>0</td>\n",
       "      <td>0</td>\n",
       "      <td>0</td>\n",
       "      <td>0</td>\n",
       "      <td>...</td>\n",
       "      <td>0</td>\n",
       "      <td>0</td>\n",
       "      <td>0</td>\n",
       "      <td>0</td>\n",
       "      <td>0</td>\n",
       "      <td>0</td>\n",
       "      <td>0</td>\n",
       "      <td>0</td>\n",
       "      <td>0</td>\n",
       "      <td>0</td>\n",
       "    </tr>\n",
       "    <tr>\n",
       "      <th>6344</th>\n",
       "      <td>0</td>\n",
       "      <td>0</td>\n",
       "      <td>0</td>\n",
       "      <td>0</td>\n",
       "      <td>0</td>\n",
       "      <td>0</td>\n",
       "      <td>0</td>\n",
       "      <td>0</td>\n",
       "      <td>0</td>\n",
       "      <td>0</td>\n",
       "      <td>...</td>\n",
       "      <td>0</td>\n",
       "      <td>0</td>\n",
       "      <td>0</td>\n",
       "      <td>0</td>\n",
       "      <td>0</td>\n",
       "      <td>0</td>\n",
       "      <td>0</td>\n",
       "      <td>0</td>\n",
       "      <td>0</td>\n",
       "      <td>0</td>\n",
       "    </tr>\n",
       "    <tr>\n",
       "      <th>...</th>\n",
       "      <td>...</td>\n",
       "      <td>...</td>\n",
       "      <td>...</td>\n",
       "      <td>...</td>\n",
       "      <td>...</td>\n",
       "      <td>...</td>\n",
       "      <td>...</td>\n",
       "      <td>...</td>\n",
       "      <td>...</td>\n",
       "      <td>...</td>\n",
       "      <td>...</td>\n",
       "      <td>...</td>\n",
       "      <td>...</td>\n",
       "      <td>...</td>\n",
       "      <td>...</td>\n",
       "      <td>...</td>\n",
       "      <td>...</td>\n",
       "      <td>...</td>\n",
       "      <td>...</td>\n",
       "      <td>...</td>\n",
       "      <td>...</td>\n",
       "    </tr>\n",
       "    <tr>\n",
       "      <th>4615</th>\n",
       "      <td>0</td>\n",
       "      <td>0</td>\n",
       "      <td>0</td>\n",
       "      <td>1</td>\n",
       "      <td>0</td>\n",
       "      <td>0</td>\n",
       "      <td>0</td>\n",
       "      <td>0</td>\n",
       "      <td>0</td>\n",
       "      <td>0</td>\n",
       "      <td>...</td>\n",
       "      <td>0</td>\n",
       "      <td>0</td>\n",
       "      <td>0</td>\n",
       "      <td>0</td>\n",
       "      <td>0</td>\n",
       "      <td>0</td>\n",
       "      <td>0</td>\n",
       "      <td>0</td>\n",
       "      <td>0</td>\n",
       "      <td>0</td>\n",
       "    </tr>\n",
       "    <tr>\n",
       "      <th>6746</th>\n",
       "      <td>0</td>\n",
       "      <td>0</td>\n",
       "      <td>0</td>\n",
       "      <td>0</td>\n",
       "      <td>0</td>\n",
       "      <td>0</td>\n",
       "      <td>0</td>\n",
       "      <td>0</td>\n",
       "      <td>0</td>\n",
       "      <td>0</td>\n",
       "      <td>...</td>\n",
       "      <td>0</td>\n",
       "      <td>1</td>\n",
       "      <td>0</td>\n",
       "      <td>0</td>\n",
       "      <td>0</td>\n",
       "      <td>0</td>\n",
       "      <td>0</td>\n",
       "      <td>0</td>\n",
       "      <td>0</td>\n",
       "      <td>0</td>\n",
       "    </tr>\n",
       "    <tr>\n",
       "      <th>7233</th>\n",
       "      <td>0</td>\n",
       "      <td>0</td>\n",
       "      <td>0</td>\n",
       "      <td>0</td>\n",
       "      <td>0</td>\n",
       "      <td>0</td>\n",
       "      <td>0</td>\n",
       "      <td>0</td>\n",
       "      <td>0</td>\n",
       "      <td>0</td>\n",
       "      <td>...</td>\n",
       "      <td>0</td>\n",
       "      <td>0</td>\n",
       "      <td>0</td>\n",
       "      <td>0</td>\n",
       "      <td>0</td>\n",
       "      <td>0</td>\n",
       "      <td>0</td>\n",
       "      <td>0</td>\n",
       "      <td>0</td>\n",
       "      <td>0</td>\n",
       "    </tr>\n",
       "    <tr>\n",
       "      <th>8256</th>\n",
       "      <td>0</td>\n",
       "      <td>0</td>\n",
       "      <td>0</td>\n",
       "      <td>0</td>\n",
       "      <td>0</td>\n",
       "      <td>0</td>\n",
       "      <td>0</td>\n",
       "      <td>0</td>\n",
       "      <td>0</td>\n",
       "      <td>0</td>\n",
       "      <td>...</td>\n",
       "      <td>0</td>\n",
       "      <td>0</td>\n",
       "      <td>0</td>\n",
       "      <td>0</td>\n",
       "      <td>0</td>\n",
       "      <td>0</td>\n",
       "      <td>0</td>\n",
       "      <td>0</td>\n",
       "      <td>0</td>\n",
       "      <td>0</td>\n",
       "    </tr>\n",
       "    <tr>\n",
       "      <th>297</th>\n",
       "      <td>0</td>\n",
       "      <td>0</td>\n",
       "      <td>0</td>\n",
       "      <td>0</td>\n",
       "      <td>0</td>\n",
       "      <td>0</td>\n",
       "      <td>0</td>\n",
       "      <td>0</td>\n",
       "      <td>0</td>\n",
       "      <td>0</td>\n",
       "      <td>...</td>\n",
       "      <td>0</td>\n",
       "      <td>0</td>\n",
       "      <td>0</td>\n",
       "      <td>0</td>\n",
       "      <td>0</td>\n",
       "      <td>0</td>\n",
       "      <td>0</td>\n",
       "      <td>0</td>\n",
       "      <td>0</td>\n",
       "      <td>0</td>\n",
       "    </tr>\n",
       "  </tbody>\n",
       "</table>\n",
       "<p>1995 rows × 100 columns</p>\n",
       "</div>"
      ],
      "text/plain": [
       "      also  amp  android  app  apps  around  austin  awesome  begins  best  \\\n",
       "7411     0    0        0    0     0       0       0        0       0     0   \n",
       "157      0    0        0    0     0       0       1        0       0     0   \n",
       "1762     0    0        0    0     0       0       0        0       0     0   \n",
       "5059     0    0        0    0     0       1       0        0       0     0   \n",
       "6344     0    0        0    0     0       0       0        0       0     0   \n",
       "...    ...  ...      ...  ...   ...     ...     ...      ...     ...   ...   \n",
       "4615     0    0        0    1     0       0       0        0       0     0   \n",
       "6746     0    0        0    0     0       0       0        0       0     0   \n",
       "7233     0    0        0    0     0       0       0        0       0     0   \n",
       "8256     0    0        0    0     0       0       0        0       0     0   \n",
       "297      0    0        0    0     0       0       0        0       0     0   \n",
       "\n",
       "      ...  via  video  want  way  we  win  wins  would  wow  year  \n",
       "7411  ...    0      0     0    0   0    0     0      0    0     0  \n",
       "157   ...    0      0     0    0   0    0     0      0    0     0  \n",
       "1762  ...    0      0     0    0   0    0     0      0    0     0  \n",
       "5059  ...    0      0     0    0   0    0     0      0    0     0  \n",
       "6344  ...    0      0     0    0   0    0     0      0    0     0  \n",
       "...   ...  ...    ...   ...  ...  ..  ...   ...    ...  ...   ...  \n",
       "4615  ...    0      0     0    0   0    0     0      0    0     0  \n",
       "6746  ...    0      1     0    0   0    0     0      0    0     0  \n",
       "7233  ...    0      0     0    0   0    0     0      0    0     0  \n",
       "8256  ...    0      0     0    0   0    0     0      0    0     0  \n",
       "297   ...    0      0     0    0   0    0     0      0    0     0  \n",
       "\n",
       "[1995 rows x 100 columns]"
      ]
     },
     "execution_count": 45,
     "metadata": {},
     "output_type": "execute_result"
    }
   ],
   "source": [
    "X_t_vec"
   ]
  },
  {
   "cell_type": "code",
   "execution_count": 46,
   "metadata": {
    "scrolled": true
   },
   "outputs": [
    {
     "data": {
      "text/plain": [
       "{'store': 74,\n",
       " 'austin': 6,\n",
       " 'iphone': 37,\n",
       " 'free': 24,\n",
       " 'time': 83,\n",
       " 'google': 31,\n",
       " 'mobile': 50,\n",
       " 'new': 54,\n",
       " 'maps': 45,\n",
       " 'nice': 57,\n",
       " 'around': 5,\n",
       " 'users': 87,\n",
       " 'day': 17,\n",
       " 'ipad': 36,\n",
       " 'get': 27,\n",
       " 'big': 10,\n",
       " 'one': 58,\n",
       " 'wow': 98,\n",
       " 'news': 55,\n",
       " 'thanks': 80,\n",
       " 'going': 29,\n",
       " 'next': 56,\n",
       " 'awesome': 7,\n",
       " 'design': 18,\n",
       " 'panel': 61,\n",
       " 'love': 43,\n",
       " 'downtown': 19,\n",
       " 'got': 32,\n",
       " 'everyone': 22,\n",
       " 'line': 41,\n",
       " 'popup': 66,\n",
       " 'opening': 60,\n",
       " 'temporary': 78,\n",
       " 'launch': 39,\n",
       " 'major': 44,\n",
       " 'social': 72,\n",
       " 'network': 53,\n",
       " 'called': 11,\n",
       " 'via': 90,\n",
       " 'phone': 64,\n",
       " 'really': 68,\n",
       " 'want': 92,\n",
       " 'party': 62,\n",
       " 'may': 48,\n",
       " 'us': 85,\n",
       " 'th': 79,\n",
       " 'we': 94,\n",
       " 'll': 42,\n",
       " 'app': 3,\n",
       " 'cool': 15,\n",
       " 'people': 63,\n",
       " 'would': 97,\n",
       " 'open': 59,\n",
       " 'apps': 4,\n",
       " 'like': 40,\n",
       " 'think': 82,\n",
       " 'music': 51,\n",
       " 'good': 30,\n",
       " 'marissa': 46,\n",
       " 'mayer': 49,\n",
       " 'android': 2,\n",
       " 'best': 9,\n",
       " 'come': 13,\n",
       " 'check': 12,\n",
       " 'sxswi': 75,\n",
       " 'way': 93,\n",
       " 'could': 16,\n",
       " 'see': 70,\n",
       " 'ever': 21,\n",
       " 'also': 0,\n",
       " 'video': 91,\n",
       " 'today': 84,\n",
       " 'still': 73,\n",
       " 'technology': 77,\n",
       " 'heard': 35,\n",
       " 'go': 28,\n",
       " 'pop': 65,\n",
       " 'marketing': 47,\n",
       " 'coming': 14,\n",
       " 'gt': 34,\n",
       " 'great': 33,\n",
       " 'amp': 1,\n",
       " 'smart': 71,\n",
       " 'game': 26,\n",
       " 'they': 81,\n",
       " 've': 89,\n",
       " 'wins': 96,\n",
       " 'tech': 76,\n",
       " 'even': 20,\n",
       " 'begins': 8,\n",
       " 'year': 99,\n",
       " 'win': 95,\n",
       " 'right': 69,\n",
       " 'need': 52,\n",
       " 'use': 86,\n",
       " 'using': 88,\n",
       " 'fun': 25,\n",
       " 're': 67,\n",
       " 'first': 23,\n",
       " 'last': 38}"
      ]
     },
     "execution_count": 46,
     "metadata": {},
     "output_type": "execute_result"
    }
   ],
   "source": [
    "cv.vocabulary_"
   ]
  },
  {
   "cell_type": "code",
   "execution_count": 47,
   "metadata": {},
   "outputs": [
    {
     "data": {
      "text/html": [
       "<div>\n",
       "<style scoped>\n",
       "    .dataframe tbody tr th:only-of-type {\n",
       "        vertical-align: middle;\n",
       "    }\n",
       "\n",
       "    .dataframe tbody tr th {\n",
       "        vertical-align: top;\n",
       "    }\n",
       "\n",
       "    .dataframe thead th {\n",
       "        text-align: right;\n",
       "    }\n",
       "</style>\n",
       "<table border=\"1\" class=\"dataframe\">\n",
       "  <thead>\n",
       "    <tr style=\"text-align: right;\">\n",
       "      <th></th>\n",
       "      <th>also</th>\n",
       "      <th>amp</th>\n",
       "      <th>android</th>\n",
       "      <th>app</th>\n",
       "      <th>apps</th>\n",
       "      <th>around</th>\n",
       "      <th>austin</th>\n",
       "      <th>awesome</th>\n",
       "      <th>begins</th>\n",
       "      <th>best</th>\n",
       "      <th>...</th>\n",
       "      <th>via</th>\n",
       "      <th>video</th>\n",
       "      <th>want</th>\n",
       "      <th>way</th>\n",
       "      <th>we</th>\n",
       "      <th>win</th>\n",
       "      <th>wins</th>\n",
       "      <th>would</th>\n",
       "      <th>wow</th>\n",
       "      <th>year</th>\n",
       "    </tr>\n",
       "  </thead>\n",
       "  <tbody>\n",
       "    <tr>\n",
       "      <th>2932</th>\n",
       "      <td>0</td>\n",
       "      <td>0</td>\n",
       "      <td>0</td>\n",
       "      <td>0</td>\n",
       "      <td>0</td>\n",
       "      <td>0</td>\n",
       "      <td>0</td>\n",
       "      <td>0</td>\n",
       "      <td>0</td>\n",
       "      <td>0</td>\n",
       "      <td>...</td>\n",
       "      <td>0</td>\n",
       "      <td>0</td>\n",
       "      <td>0</td>\n",
       "      <td>0</td>\n",
       "      <td>0</td>\n",
       "      <td>0</td>\n",
       "      <td>0</td>\n",
       "      <td>0</td>\n",
       "      <td>0</td>\n",
       "      <td>0</td>\n",
       "    </tr>\n",
       "    <tr>\n",
       "      <th>5305</th>\n",
       "      <td>0</td>\n",
       "      <td>0</td>\n",
       "      <td>1</td>\n",
       "      <td>0</td>\n",
       "      <td>0</td>\n",
       "      <td>0</td>\n",
       "      <td>0</td>\n",
       "      <td>0</td>\n",
       "      <td>0</td>\n",
       "      <td>0</td>\n",
       "      <td>...</td>\n",
       "      <td>0</td>\n",
       "      <td>0</td>\n",
       "      <td>0</td>\n",
       "      <td>0</td>\n",
       "      <td>0</td>\n",
       "      <td>0</td>\n",
       "      <td>0</td>\n",
       "      <td>0</td>\n",
       "      <td>0</td>\n",
       "      <td>0</td>\n",
       "    </tr>\n",
       "    <tr>\n",
       "      <th>3129</th>\n",
       "      <td>0</td>\n",
       "      <td>1</td>\n",
       "      <td>0</td>\n",
       "      <td>0</td>\n",
       "      <td>1</td>\n",
       "      <td>0</td>\n",
       "      <td>0</td>\n",
       "      <td>0</td>\n",
       "      <td>0</td>\n",
       "      <td>0</td>\n",
       "      <td>...</td>\n",
       "      <td>0</td>\n",
       "      <td>0</td>\n",
       "      <td>0</td>\n",
       "      <td>0</td>\n",
       "      <td>0</td>\n",
       "      <td>0</td>\n",
       "      <td>0</td>\n",
       "      <td>0</td>\n",
       "      <td>0</td>\n",
       "      <td>0</td>\n",
       "    </tr>\n",
       "    <tr>\n",
       "      <th>3934</th>\n",
       "      <td>0</td>\n",
       "      <td>0</td>\n",
       "      <td>0</td>\n",
       "      <td>0</td>\n",
       "      <td>0</td>\n",
       "      <td>0</td>\n",
       "      <td>0</td>\n",
       "      <td>0</td>\n",
       "      <td>0</td>\n",
       "      <td>0</td>\n",
       "      <td>...</td>\n",
       "      <td>0</td>\n",
       "      <td>0</td>\n",
       "      <td>0</td>\n",
       "      <td>0</td>\n",
       "      <td>0</td>\n",
       "      <td>0</td>\n",
       "      <td>0</td>\n",
       "      <td>1</td>\n",
       "      <td>0</td>\n",
       "      <td>0</td>\n",
       "    </tr>\n",
       "    <tr>\n",
       "      <th>3964</th>\n",
       "      <td>0</td>\n",
       "      <td>0</td>\n",
       "      <td>0</td>\n",
       "      <td>0</td>\n",
       "      <td>0</td>\n",
       "      <td>0</td>\n",
       "      <td>0</td>\n",
       "      <td>0</td>\n",
       "      <td>0</td>\n",
       "      <td>0</td>\n",
       "      <td>...</td>\n",
       "      <td>0</td>\n",
       "      <td>0</td>\n",
       "      <td>0</td>\n",
       "      <td>0</td>\n",
       "      <td>0</td>\n",
       "      <td>0</td>\n",
       "      <td>0</td>\n",
       "      <td>0</td>\n",
       "      <td>0</td>\n",
       "      <td>0</td>\n",
       "    </tr>\n",
       "    <tr>\n",
       "      <th>...</th>\n",
       "      <td>...</td>\n",
       "      <td>...</td>\n",
       "      <td>...</td>\n",
       "      <td>...</td>\n",
       "      <td>...</td>\n",
       "      <td>...</td>\n",
       "      <td>...</td>\n",
       "      <td>...</td>\n",
       "      <td>...</td>\n",
       "      <td>...</td>\n",
       "      <td>...</td>\n",
       "      <td>...</td>\n",
       "      <td>...</td>\n",
       "      <td>...</td>\n",
       "      <td>...</td>\n",
       "      <td>...</td>\n",
       "      <td>...</td>\n",
       "      <td>...</td>\n",
       "      <td>...</td>\n",
       "      <td>...</td>\n",
       "      <td>...</td>\n",
       "    </tr>\n",
       "    <tr>\n",
       "      <th>2776</th>\n",
       "      <td>0</td>\n",
       "      <td>0</td>\n",
       "      <td>0</td>\n",
       "      <td>0</td>\n",
       "      <td>0</td>\n",
       "      <td>0</td>\n",
       "      <td>0</td>\n",
       "      <td>0</td>\n",
       "      <td>0</td>\n",
       "      <td>0</td>\n",
       "      <td>...</td>\n",
       "      <td>0</td>\n",
       "      <td>0</td>\n",
       "      <td>0</td>\n",
       "      <td>0</td>\n",
       "      <td>0</td>\n",
       "      <td>0</td>\n",
       "      <td>0</td>\n",
       "      <td>0</td>\n",
       "      <td>0</td>\n",
       "      <td>0</td>\n",
       "    </tr>\n",
       "    <tr>\n",
       "      <th>1778</th>\n",
       "      <td>0</td>\n",
       "      <td>0</td>\n",
       "      <td>0</td>\n",
       "      <td>0</td>\n",
       "      <td>0</td>\n",
       "      <td>0</td>\n",
       "      <td>1</td>\n",
       "      <td>0</td>\n",
       "      <td>0</td>\n",
       "      <td>0</td>\n",
       "      <td>...</td>\n",
       "      <td>0</td>\n",
       "      <td>0</td>\n",
       "      <td>0</td>\n",
       "      <td>0</td>\n",
       "      <td>0</td>\n",
       "      <td>0</td>\n",
       "      <td>0</td>\n",
       "      <td>0</td>\n",
       "      <td>0</td>\n",
       "      <td>0</td>\n",
       "    </tr>\n",
       "    <tr>\n",
       "      <th>1676</th>\n",
       "      <td>0</td>\n",
       "      <td>0</td>\n",
       "      <td>0</td>\n",
       "      <td>0</td>\n",
       "      <td>0</td>\n",
       "      <td>0</td>\n",
       "      <td>0</td>\n",
       "      <td>0</td>\n",
       "      <td>0</td>\n",
       "      <td>0</td>\n",
       "      <td>...</td>\n",
       "      <td>0</td>\n",
       "      <td>0</td>\n",
       "      <td>0</td>\n",
       "      <td>0</td>\n",
       "      <td>0</td>\n",
       "      <td>0</td>\n",
       "      <td>0</td>\n",
       "      <td>0</td>\n",
       "      <td>0</td>\n",
       "      <td>0</td>\n",
       "    </tr>\n",
       "    <tr>\n",
       "      <th>236</th>\n",
       "      <td>1</td>\n",
       "      <td>0</td>\n",
       "      <td>0</td>\n",
       "      <td>0</td>\n",
       "      <td>0</td>\n",
       "      <td>0</td>\n",
       "      <td>0</td>\n",
       "      <td>0</td>\n",
       "      <td>0</td>\n",
       "      <td>0</td>\n",
       "      <td>...</td>\n",
       "      <td>0</td>\n",
       "      <td>0</td>\n",
       "      <td>0</td>\n",
       "      <td>0</td>\n",
       "      <td>0</td>\n",
       "      <td>0</td>\n",
       "      <td>0</td>\n",
       "      <td>0</td>\n",
       "      <td>0</td>\n",
       "      <td>0</td>\n",
       "    </tr>\n",
       "    <tr>\n",
       "      <th>2938</th>\n",
       "      <td>0</td>\n",
       "      <td>0</td>\n",
       "      <td>0</td>\n",
       "      <td>0</td>\n",
       "      <td>0</td>\n",
       "      <td>0</td>\n",
       "      <td>0</td>\n",
       "      <td>0</td>\n",
       "      <td>0</td>\n",
       "      <td>0</td>\n",
       "      <td>...</td>\n",
       "      <td>0</td>\n",
       "      <td>0</td>\n",
       "      <td>0</td>\n",
       "      <td>0</td>\n",
       "      <td>0</td>\n",
       "      <td>0</td>\n",
       "      <td>0</td>\n",
       "      <td>0</td>\n",
       "      <td>0</td>\n",
       "      <td>0</td>\n",
       "    </tr>\n",
       "  </tbody>\n",
       "</table>\n",
       "<p>666 rows × 100 columns</p>\n",
       "</div>"
      ],
      "text/plain": [
       "      also  amp  android  app  apps  around  austin  awesome  begins  best  \\\n",
       "2932     0    0        0    0     0       0       0        0       0     0   \n",
       "5305     0    0        1    0     0       0       0        0       0     0   \n",
       "3129     0    1        0    0     1       0       0        0       0     0   \n",
       "3934     0    0        0    0     0       0       0        0       0     0   \n",
       "3964     0    0        0    0     0       0       0        0       0     0   \n",
       "...    ...  ...      ...  ...   ...     ...     ...      ...     ...   ...   \n",
       "2776     0    0        0    0     0       0       0        0       0     0   \n",
       "1778     0    0        0    0     0       0       1        0       0     0   \n",
       "1676     0    0        0    0     0       0       0        0       0     0   \n",
       "236      1    0        0    0     0       0       0        0       0     0   \n",
       "2938     0    0        0    0     0       0       0        0       0     0   \n",
       "\n",
       "      ...  via  video  want  way  we  win  wins  would  wow  year  \n",
       "2932  ...    0      0     0    0   0    0     0      0    0     0  \n",
       "5305  ...    0      0     0    0   0    0     0      0    0     0  \n",
       "3129  ...    0      0     0    0   0    0     0      0    0     0  \n",
       "3934  ...    0      0     0    0   0    0     0      1    0     0  \n",
       "3964  ...    0      0     0    0   0    0     0      0    0     0  \n",
       "...   ...  ...    ...   ...  ...  ..  ...   ...    ...  ...   ...  \n",
       "2776  ...    0      0     0    0   0    0     0      0    0     0  \n",
       "1778  ...    0      0     0    0   0    0     0      0    0     0  \n",
       "1676  ...    0      0     0    0   0    0     0      0    0     0  \n",
       "236   ...    0      0     0    0   0    0     0      0    0     0  \n",
       "2938  ...    0      0     0    0   0    0     0      0    0     0  \n",
       "\n",
       "[666 rows x 100 columns]"
      ]
     },
     "execution_count": 47,
     "metadata": {},
     "output_type": "execute_result"
    }
   ],
   "source": [
    "X_val_vec"
   ]
  },
  {
   "cell_type": "markdown",
   "metadata": {},
   "source": [
    "## Multinomial Naive Bayes"
   ]
  },
  {
   "cell_type": "code",
   "execution_count": 48,
   "metadata": {},
   "outputs": [
    {
     "data": {
      "text/html": [
       "<style>#sk-container-id-1 {color: black;}#sk-container-id-1 pre{padding: 0;}#sk-container-id-1 div.sk-toggleable {background-color: white;}#sk-container-id-1 label.sk-toggleable__label {cursor: pointer;display: block;width: 100%;margin-bottom: 0;padding: 0.3em;box-sizing: border-box;text-align: center;}#sk-container-id-1 label.sk-toggleable__label-arrow:before {content: \"▸\";float: left;margin-right: 0.25em;color: #696969;}#sk-container-id-1 label.sk-toggleable__label-arrow:hover:before {color: black;}#sk-container-id-1 div.sk-estimator:hover label.sk-toggleable__label-arrow:before {color: black;}#sk-container-id-1 div.sk-toggleable__content {max-height: 0;max-width: 0;overflow: hidden;text-align: left;background-color: #f0f8ff;}#sk-container-id-1 div.sk-toggleable__content pre {margin: 0.2em;color: black;border-radius: 0.25em;background-color: #f0f8ff;}#sk-container-id-1 input.sk-toggleable__control:checked~div.sk-toggleable__content {max-height: 200px;max-width: 100%;overflow: auto;}#sk-container-id-1 input.sk-toggleable__control:checked~label.sk-toggleable__label-arrow:before {content: \"▾\";}#sk-container-id-1 div.sk-estimator input.sk-toggleable__control:checked~label.sk-toggleable__label {background-color: #d4ebff;}#sk-container-id-1 div.sk-label input.sk-toggleable__control:checked~label.sk-toggleable__label {background-color: #d4ebff;}#sk-container-id-1 input.sk-hidden--visually {border: 0;clip: rect(1px 1px 1px 1px);clip: rect(1px, 1px, 1px, 1px);height: 1px;margin: -1px;overflow: hidden;padding: 0;position: absolute;width: 1px;}#sk-container-id-1 div.sk-estimator {font-family: monospace;background-color: #f0f8ff;border: 1px dotted black;border-radius: 0.25em;box-sizing: border-box;margin-bottom: 0.5em;}#sk-container-id-1 div.sk-estimator:hover {background-color: #d4ebff;}#sk-container-id-1 div.sk-parallel-item::after {content: \"\";width: 100%;border-bottom: 1px solid gray;flex-grow: 1;}#sk-container-id-1 div.sk-label:hover label.sk-toggleable__label {background-color: #d4ebff;}#sk-container-id-1 div.sk-serial::before {content: \"\";position: absolute;border-left: 1px solid gray;box-sizing: border-box;top: 0;bottom: 0;left: 50%;z-index: 0;}#sk-container-id-1 div.sk-serial {display: flex;flex-direction: column;align-items: center;background-color: white;padding-right: 0.2em;padding-left: 0.2em;position: relative;}#sk-container-id-1 div.sk-item {position: relative;z-index: 1;}#sk-container-id-1 div.sk-parallel {display: flex;align-items: stretch;justify-content: center;background-color: white;position: relative;}#sk-container-id-1 div.sk-item::before, #sk-container-id-1 div.sk-parallel-item::before {content: \"\";position: absolute;border-left: 1px solid gray;box-sizing: border-box;top: 0;bottom: 0;left: 50%;z-index: -1;}#sk-container-id-1 div.sk-parallel-item {display: flex;flex-direction: column;z-index: 1;position: relative;background-color: white;}#sk-container-id-1 div.sk-parallel-item:first-child::after {align-self: flex-end;width: 50%;}#sk-container-id-1 div.sk-parallel-item:last-child::after {align-self: flex-start;width: 50%;}#sk-container-id-1 div.sk-parallel-item:only-child::after {width: 0;}#sk-container-id-1 div.sk-dashed-wrapped {border: 1px dashed gray;margin: 0 0.4em 0.5em 0.4em;box-sizing: border-box;padding-bottom: 0.4em;background-color: white;}#sk-container-id-1 div.sk-label label {font-family: monospace;font-weight: bold;display: inline-block;line-height: 1.2em;}#sk-container-id-1 div.sk-label-container {text-align: center;}#sk-container-id-1 div.sk-container {/* jupyter's `normalize.less` sets `[hidden] { display: none; }` but bootstrap.min.css set `[hidden] { display: none !important; }` so we also need the `!important` here to be able to override the default hidden behavior on the sphinx rendered scikit-learn.org. See: https://github.com/scikit-learn/scikit-learn/issues/21755 */display: inline-block !important;position: relative;}#sk-container-id-1 div.sk-text-repr-fallback {display: none;}</style><div id=\"sk-container-id-1\" class=\"sk-top-container\"><div class=\"sk-text-repr-fallback\"><pre>MultinomialNB()</pre><b>In a Jupyter environment, please rerun this cell to show the HTML representation or trust the notebook. <br />On GitHub, the HTML representation is unable to render, please try loading this page with nbviewer.org.</b></div><div class=\"sk-container\" hidden><div class=\"sk-item\"><div class=\"sk-estimator sk-toggleable\"><input class=\"sk-toggleable__control sk-hidden--visually\" id=\"sk-estimator-id-1\" type=\"checkbox\" checked><label for=\"sk-estimator-id-1\" class=\"sk-toggleable__label sk-toggleable__label-arrow\">MultinomialNB</label><div class=\"sk-toggleable__content\"><pre>MultinomialNB()</pre></div></div></div></div></div>"
      ],
      "text/plain": [
       "MultinomialNB()"
      ]
     },
     "execution_count": 48,
     "metadata": {},
     "output_type": "execute_result"
    }
   ],
   "source": [
    "#Initiating the Multinomial Naive Bayes\n",
    "mnb = MultinomialNB()\n",
    "\n",
    "#fitting vectorized trainning sets\n",
    "mnb.fit(X_t_vec, y_t)"
   ]
  },
  {
   "cell_type": "code",
   "execution_count": null,
   "metadata": {},
   "outputs": [],
   "source": []
  },
  {
   "cell_type": "code",
   "execution_count": 49,
   "metadata": {},
   "outputs": [
    {
     "data": {
      "text/plain": [
       "1    0.843108\n",
       "0    0.156892\n",
       "Name: target, dtype: float64"
      ]
     },
     "execution_count": 49,
     "metadata": {},
     "output_type": "execute_result"
    }
   ],
   "source": [
    "# Sanity check \n",
    "y_t.value_counts(normalize=True)"
   ]
  },
  {
   "cell_type": "code",
   "execution_count": 50,
   "metadata": {},
   "outputs": [
    {
     "data": {
      "text/plain": [
       "array([-1.85219614, -0.17066049])"
      ]
     },
     "execution_count": 50,
     "metadata": {},
     "output_type": "execute_result"
    }
   ],
   "source": [
    "#empirical log probability for each class\n",
    "mnb.class_log_prior_"
   ]
  },
  {
   "cell_type": "code",
   "execution_count": 51,
   "metadata": {},
   "outputs": [],
   "source": [
    "#np.exp(mnb.class_log_prior_[0])"
   ]
  },
  {
   "cell_type": "code",
   "execution_count": 52,
   "metadata": {},
   "outputs": [
    {
     "name": "stdout",
     "output_type": "stream",
     "text": [
      "Just for 10 features (words) the model is 0.8330827067669173 accurate\n"
     ]
    }
   ],
   "source": [
    "#model Accuracy \n",
    "print(f'Just for 10 features (words) the model is {mnb.score(X_t_vec, y_t)} accurate')"
   ]
  },
  {
   "cell_type": "code",
   "execution_count": 53,
   "metadata": {},
   "outputs": [
    {
     "name": "stdout",
     "output_type": "stream",
     "text": [
      "Just for 10 features (words) the model is validate at 0.7957957957957958 \n"
     ]
    }
   ],
   "source": [
    "#Validation Score \n",
    "y_hat = mnb.predict(X_val_vec)\n",
    "\n",
    "\n",
    "print(f'Just for 10 features (words) the model is validate at {accuracy_score(y_val, y_hat)} ')"
   ]
  },
  {
   "cell_type": "code",
   "execution_count": 54,
   "metadata": {
    "scrolled": false
   },
   "outputs": [
    {
     "data": {
      "image/png": "[encoded data removed]",
      "text/plain": [
       "<Figure size 288x288 with 2 Axes>"
      ]
     },
     "metadata": {
      "needs_background": "light"
     },
     "output_type": "display_data"
    }
   ],
   "source": [
    "from sklearn.metrics import confusion_matrix, ConfusionMatrixDisplay\n",
    "import matplotlib.pyplot as plt\n",
    "\n",
    "# Create the confusion matrix\n",
    "cm1 = confusion_matrix(y_val, mnb.predict(X_val_vec))\n",
    "\n",
    "# Plot the Confusion Matrix with a smaller size\n",
    "fig, ax = plt.subplots(figsize=(4, 4))\n",
    "disp = ConfusionMatrixDisplay(confusion_matrix=cm1, display_labels=mnb.classes_)\n",
    "disp.plot(ax=ax, cmap=plt.cm.Blues, values_format=\".0f\")\n",
    "\n",
    "# Show the plot\n",
    "plt.show()"
   ]
  },
  {
   "cell_type": "code",
   "execution_count": 55,
   "metadata": {},
   "outputs": [
    {
     "data": {
      "image/png": "[encoded data removed]",
      "text/plain": [
       "<Figure size 288x288 with 2 Axes>"
      ]
     },
     "metadata": {
      "needs_background": "light"
     },
     "output_type": "display_data"
    }
   ],
   "source": [
    "# Create the confusion matrix\n",
    "\n",
    "\n",
    "# Plot the Confusion Matrix with a smaller size\n",
    "fig, ax = plt.subplots(figsize=(4, 4))  \n",
    "ConfusionMatrixDisplay(confusion_matrix=cm1, display_labels= mnb.classes_).plot(ax=ax)\n",
    "\n",
    "# Show the plot\n",
    "plt.show()"
   ]
  },
  {
   "cell_type": "code",
   "execution_count": 56,
   "metadata": {},
   "outputs": [
    {
     "data": {
      "text/plain": [
       "0.8264331210191083"
      ]
     },
     "execution_count": 56,
     "metadata": {},
     "output_type": "execute_result"
    }
   ],
   "source": [
    "#Calculating the precision score\n",
    "precision_score(y_val, y_hat)"
   ]
  },
  {
   "cell_type": "code",
   "execution_count": 57,
   "metadata": {},
   "outputs": [
    {
     "data": {
      "text/plain": [
       "0.8180451127819548"
      ]
     },
     "execution_count": 57,
     "metadata": {},
     "output_type": "execute_result"
    }
   ],
   "source": [
    "#Model Cross validation\n",
    "from sklearn.model_selection import cross_val_score\n",
    "cross_val_score(mnb,X_t_vec, y_t).mean()"
   ]
  },
  {
   "cell_type": "markdown",
   "metadata": {},
   "source": [
    "## Summary"
   ]
  },
  {
   "cell_type": "code",
   "execution_count": 58,
   "metadata": {
    "scrolled": true
   },
   "outputs": [
    {
     "name": "stdout",
     "output_type": "stream",
     "text": [
      "For 10 words or features only here the results of our model\n",
      "\n",
      "\n",
      "Accuracy: 0.7957957957957958\n",
      "Precision: 0.72968367294549\n",
      "CrossValidation:0.8180451127819548\n"
     ]
    }
   ],
   "source": [
    "print ('For 10 words or features only here the results of our model')\n",
    "print ('\\n')\n",
    "print(f'Accuracy: {accuracy_score(y_val, y_hat)}')\n",
    "print(f'Precision: {precision_score(y_val, y_hat, average=\"weighted\")}')\n",
    "print (f'CrossValidation:{cross_val_score(mnb,X_t_vec, y_t).mean()}')\n",
    "#print(f'Recall: {recall_score(y_val, y_hat)}')\n",
    "#print(f'F1 Score: {f1_score(y_val, y_hat )}')"
   ]
  },
  {
   "cell_type": "markdown",
   "metadata": {},
   "source": [
    "## Binary Model Evaluation without vocabulary limitation "
   ]
  },
  {
   "cell_type": "code",
   "execution_count": 59,
   "metadata": {},
   "outputs": [],
   "source": [
    "#Model instantiation without specifying features limitations with max_features\n",
    "cv = CountVectorizer()\n",
    "#transforming training sets\n",
    "X_t_vec = cv.fit_transform(X_t)\n",
    "X_t_vec  = pd.DataFrame.sparse.from_spmatrix(X_t_vec)\n",
    "X_t_vec.columns = sorted(cv.vocabulary_)\n",
    "X_t_vec.set_index(y_t.index, inplace=True)\n",
    "\n",
    "#transforming validation sets\n",
    "X_val_vec = cv.transform(X_val)\n",
    "X_val_vec  = pd.DataFrame.sparse.from_spmatrix(X_val_vec)\n",
    "X_val_vec.columns = sorted(cv.vocabulary_)\n",
    "X_val_vec.set_index(y_val.index, inplace=True)"
   ]
  },
  {
   "cell_type": "code",
   "execution_count": 60,
   "metadata": {},
   "outputs": [
    {
     "data": {
      "text/plain": [
       "(1995, 4239)"
      ]
     },
     "execution_count": 60,
     "metadata": {},
     "output_type": "execute_result"
    }
   ],
   "source": [
    "X_t_vec.shape"
   ]
  },
  {
   "cell_type": "code",
   "execution_count": 61,
   "metadata": {},
   "outputs": [
    {
     "data": {
      "text/plain": [
       "(1995,)"
      ]
     },
     "execution_count": 61,
     "metadata": {},
     "output_type": "execute_result"
    }
   ],
   "source": [
    "y_t.shape"
   ]
  },
  {
   "cell_type": "code",
   "execution_count": 62,
   "metadata": {},
   "outputs": [],
   "source": [
    "mnb = MultinomialNB()\n",
    "\n",
    "mnb.fit(X_t_vec, y_t)\n",
    "y_hat = mnb.predict(X_val_vec)\n",
    "cm= (mnb, X_t_vec, y_t);"
   ]
  },
  {
   "cell_type": "code",
   "execution_count": 63,
   "metadata": {
    "scrolled": true
   },
   "outputs": [
    {
     "data": {
      "text/plain": [
       "0.9587155963302753"
      ]
     },
     "execution_count": 63,
     "metadata": {},
     "output_type": "execute_result"
    }
   ],
   "source": [
    "precision_score(y_t, mnb.predict(X_t_vec))"
   ]
  },
  {
   "cell_type": "code",
   "execution_count": 64,
   "metadata": {
    "scrolled": false
   },
   "outputs": [
    {
     "data": {
      "image/png": "[encoded data removed]",
      "text/plain": [
       "<Figure size 288x288 with 2 Axes>"
      ]
     },
     "metadata": {
      "needs_background": "light"
     },
     "output_type": "display_data"
    }
   ],
   "source": [
    "# Create the confusion matrix\n",
    "cm2 = confusion_matrix(y_val, mnb.predict(X_val_vec))\n",
    "\n",
    "# Plot the Confusion Matrix with a smaller size\n",
    "fig, ax = plt.subplots(figsize=(4, 4))  \n",
    "ConfusionMatrixDisplay(confusion_matrix=cm2, display_labels= mnb.classes_).plot(ax=ax)\n",
    "\n",
    "# Show the plot\n",
    "plt.show()"
   ]
  },
  {
   "cell_type": "markdown",
   "metadata": {},
   "source": [
    "## Summary"
   ]
  },
  {
   "cell_type": "code",
   "execution_count": 65,
   "metadata": {},
   "outputs": [
    {
     "name": "stdout",
     "output_type": "stream",
     "text": [
      " here the results of our model\n",
      "\n",
      "\n",
      "Accuracy: 0.8543543543543544\n",
      "Precision: 0.8414203224638725\n",
      "CrossValidation:0.8395989974937343\n"
     ]
    }
   ],
   "source": [
    "print (' here the results of our model')\n",
    "print ('\\n')\n",
    "print(f'Accuracy: {accuracy_score(y_val, y_hat)}')\n",
    "print(f'Precision: {precision_score(y_val, y_hat, average=\"weighted\")}')\n",
    "print (f'CrossValidation:{cross_val_score(mnb,X_t_vec, y_t).mean()}')\n",
    "#print(f'Recall: {recall_score(y_val, y_hat)}')\n",
    "#print(f'F1 Score: {f1_score(y_val, y_hat )}')"
   ]
  },
  {
   "cell_type": "markdown",
   "metadata": {},
   "source": [
    "## Comparaison with Random Forest"
   ]
  },
  {
   "cell_type": "code",
   "execution_count": 66,
   "metadata": {},
   "outputs": [
    {
     "name": "stderr",
     "output_type": "stream",
     "text": [
      "/Users/DonJuve/anaconda3/envs/learn-env/lib/python3.8/site-packages/sklearn/metrics/_classification.py:1471: UndefinedMetricWarning: Precision is ill-defined and being set to 0.0 in labels with no predicted samples. Use `zero_division` parameter to control this behavior.\n",
      "  _warn_prf(average, modifier, msg_start, len(result))\n"
     ]
    },
    {
     "data": {
      "text/plain": [
       "0.6721045369694019"
      ]
     },
     "execution_count": 66,
     "metadata": {},
     "output_type": "execute_result"
    }
   ],
   "source": [
    "rf = RandomForestClassifier(n_estimators=800, max_depth=5)\n",
    "rf.fit(X_t_vec, y_t)\n",
    "y_hat = rf.predict(X_val_vec)\n",
    "precision_score(y_val, y_hat, average=\"weighted\")\n"
   ]
  },
  {
   "cell_type": "code",
   "execution_count": 67,
   "metadata": {},
   "outputs": [
    {
     "name": "stderr",
     "output_type": "stream",
     "text": [
      "/Users/DonJuve/anaconda3/envs/learn-env/lib/python3.8/site-packages/sklearn/metrics/_classification.py:1471: UndefinedMetricWarning: Precision is ill-defined and being set to 0.0 in labels with no predicted samples. Use `zero_division` parameter to control this behavior.\n",
      "  _warn_prf(average, modifier, msg_start, len(result))\n"
     ]
    },
    {
     "data": {
      "text/plain": [
       "0.7108307108623689"
      ]
     },
     "execution_count": 67,
     "metadata": {},
     "output_type": "execute_result"
    }
   ],
   "source": [
    "precision_score(y_t, rf.predict(X_t_vec), average=\"weighted\")"
   ]
  },
  {
   "cell_type": "code",
   "execution_count": 68,
   "metadata": {},
   "outputs": [
    {
     "data": {
      "text/plain": [
       "4239"
      ]
     },
     "execution_count": 68,
     "metadata": {},
     "output_type": "execute_result"
    }
   ],
   "source": [
    "len(rf.feature_importances_)"
   ]
  },
  {
   "cell_type": "code",
   "execution_count": 69,
   "metadata": {},
   "outputs": [
    {
     "data": {
      "text/plain": [
       "{'aapl': 0.0,\n",
       " 'abacus': 0.0002769220086925324,\n",
       " 'abandoned': 0.000950185490000281,\n",
       " 'aber': 0.0,\n",
       " 'able': 0.0,\n",
       " 'abroad': 0.0004956094410115828,\n",
       " 'absolutely': 0.0,\n",
       " 'abt': 2.817169491608964e-05,\n",
       " 'abuzz': 0.0,\n",
       " 'academy': 0.0,\n",
       " 'access': 0.0,\n",
       " 'accessible': 0.0,\n",
       " 'accessory': 0.0,\n",
       " 'accesssxsw': 0.0,\n",
       " 'accommodate': 0.0,\n",
       " 'according': 0.0002189976885765013,\n",
       " 'accordion': 0.0,\n",
       " 'account': 0.0,\n",
       " 'acerbic': 0.0,\n",
       " 'achieve': 0.0,\n",
       " 'acknowledge': 0.0006974325848402947,\n",
       " 'aclu': 0.00015319746474219318,\n",
       " 'acquired': 0.0009553517686272251,\n",
       " 'across': 0.0,\n",
       " 'acrosse': 0.0,\n",
       " 'acting': 0.00023365266871692243,\n",
       " 'action': 6.828620910684088e-05,\n",
       " 'activate': 0.0005925833788033942,\n",
       " 'actsofsharing': 0.0,\n",
       " 'actual': 0.0,\n",
       " 'actually': 0.0,\n",
       " 'ad': 5.3738451610151076e-05,\n",
       " 'adapt': 0.0,\n",
       " 'adaptive': 0.0,\n",
       " 'add': 0.0,\n",
       " 'added': 0.0004181391199945992,\n",
       " 'addicted': 0.0,\n",
       " 'addictedtotheinterwebs': 0.0,\n",
       " 'addiction': 0.0,\n",
       " 'addictive': 1.43280006904545e-05,\n",
       " 'addicts': 0.0,\n",
       " 'addition': 0.0,\n",
       " 'additional': 0.0,\n",
       " 'admired': 0.0,\n",
       " 'admission': 0.0,\n",
       " 'admit': 0.0,\n",
       " 'admitting': 0.00017096024550773985,\n",
       " 'adopter': 0.0,\n",
       " 'adoption': 0.00011819864001936178,\n",
       " 'ads': 0.0004463798991337423,\n",
       " 'advantage': 0.0,\n",
       " 'advertising': 0.0,\n",
       " 'advice': 0.0,\n",
       " 'advisory': 0.0,\n",
       " 'affair': 0.0,\n",
       " 'afternoon': 4.16494124701616e-05,\n",
       " 'agchat': 0.0,\n",
       " 'age': 0.00018200937836871143,\n",
       " 'agencies': 0.0,\n",
       " 'agency': 0.0,\n",
       " 'agenda': 0.0,\n",
       " 'agents': 0.0,\n",
       " 'agileagency': 0.0,\n",
       " 'ago': 0.0,\n",
       " 'agree': 0.0,\n",
       " 'agreed': 0.0006078785384541905,\n",
       " 'ah': 0.0001571344909186703,\n",
       " 'ahead': 0.0,\n",
       " 'ahhh': 0.0,\n",
       " 'ahing': 0.00022980759235733325,\n",
       " 'aicn': 0.0,\n",
       " 'aiding': 0.0,\n",
       " 'ain': 0.0013006553230791125,\n",
       " 'air': 0.0,\n",
       " 'airline': 0.0,\n",
       " 'airplane': 0.00023744999540747542,\n",
       " 'airport': 2.4463596452584845e-05,\n",
       " 'airports': 0.0,\n",
       " 'airs': 0.0,\n",
       " 'ajs': 0.0,\n",
       " 'aka': 0.0,\n",
       " 'al': 0.0006211784614301091,\n",
       " 'alarm': 0.0021699249589930665,\n",
       " 'album': 0.0,\n",
       " 'alert': 0.0,\n",
       " 'alex': 0.0,\n",
       " 'algorithm': 0.00035620042372677024,\n",
       " 'alive': 0.00020885888701529634,\n",
       " 'all': 0.00025308856854114716,\n",
       " 'allhat': 0.0,\n",
       " 'allow': 1.0128228920642433e-06,\n",
       " 'allowing': 0.0,\n",
       " 'allows': 0.0,\n",
       " 'almost': 0.0,\n",
       " 'alone': 0.0,\n",
       " 'along': 0.0,\n",
       " 'alot': 0.0,\n",
       " 'already': 0.0011109547358721778,\n",
       " 'also': 4.220386699543755e-06,\n",
       " 'alt': 8.315116247972098e-05,\n",
       " 'alternate': 0.0,\n",
       " 'although': 9.923199392871925e-05,\n",
       " 'altimeter': 0.0,\n",
       " 'always': 0.0,\n",
       " 'amazing': 2.8410448721240728e-05,\n",
       " 'amazingly': 0.0,\n",
       " 'amazon': 0.0,\n",
       " 'amble': 0.00037852910913582674,\n",
       " 'amen': 0.0003503304021508668,\n",
       " 'america': 0.010471806176961158,\n",
       " 'amex': 0.0,\n",
       " 'amid': 0.0,\n",
       " 'amigos': 0.0,\n",
       " 'among': 0.012266583872698718,\n",
       " 'amount': 4.7622724712985014e-08,\n",
       " 'amp': 0.0006568382957672071,\n",
       " 'amused': 0.0,\n",
       " 'amusing': 0.0,\n",
       " 'analytics': 0.0,\n",
       " 'andoid': 0.0,\n",
       " 'andrew': 0.00013258116099507678,\n",
       " 'andriod': 0.0007358615406243497,\n",
       " 'andro': 0.0,\n",
       " 'android': 0.00036773516381059503,\n",
       " 'androidsxsw': 0.0,\n",
       " 'angel': 0.0,\n",
       " 'announce': 0.0,\n",
       " 'announced': 0.0,\n",
       " 'announcement': 0.0,\n",
       " 'announcing': 0.0,\n",
       " 'annoyed': 0.0001118890353728454,\n",
       " 'annoying': 0.006312132182563959,\n",
       " 'another': 0.0014613195357719296,\n",
       " 'answer': 0.0,\n",
       " 'anti': 0.0003654059126973499,\n",
       " 'anticipate': 0.00039399550945106945,\n",
       " 'antigov': 0.0,\n",
       " 'antique': 0.00019319587682517476,\n",
       " 'antonio': 0.0,\n",
       " 'anxiety': 0.0,\n",
       " 'anybody': 0.0,\n",
       " 'anymore': 0.0,\n",
       " 'anyone': 0.00031603615630406974,\n",
       " 'anyones': 0.0,\n",
       " 'anything': 0.005990074248416969,\n",
       " 'anyway': 0.0005551101333890599,\n",
       " 'anywhere': 0.0,\n",
       " 'aos': 0.0,\n",
       " 'ap': 0.0,\n",
       " 'apac': 1.646579902912055e-06,\n",
       " 'apartment': 0.0,\n",
       " 'api': 0.0,\n",
       " 'apis': 0.0,\n",
       " 'app': 0.00016261930686657552,\n",
       " 'apparently': 0.0,\n",
       " 'appcircus': 0.0,\n",
       " 'appeal': 0.0,\n",
       " 'appealing': 0.0,\n",
       " 'appear': 0.0006446886187350803,\n",
       " 'appears': 0.0,\n",
       " 'applauds': 0.0,\n",
       " 'applause': 0.0,\n",
       " 'apple': 0.0005747741315779976,\n",
       " 'appleatxdt': 0.00029445481599924727,\n",
       " 'applefanatic': 0.0,\n",
       " 'apples': 0.0,\n",
       " 'appletogo': 3.6501549907444506e-05,\n",
       " 'application': 7.917911550988523e-05,\n",
       " 'applications': 0.0,\n",
       " 'appolicious': 0.0,\n",
       " 'appreciation': 0.0,\n",
       " 'approaches': 0.002635764930770699,\n",
       " 'approval': 0.0003474705832682599,\n",
       " 'approved': 0.0,\n",
       " 'approves': 0.0,\n",
       " 'apps': 0.0013963181629888988,\n",
       " 'appstore': 0.0002884586203830969,\n",
       " 'aquent': 0.0,\n",
       " 'arcade': 0.0,\n",
       " 'arctic': 4.2468064408977115e-05,\n",
       " 'arduino': 0.0,\n",
       " 'area': 0.0003888956453606676,\n",
       " 'areas': 0.0003816231404157166,\n",
       " 'arg': 0.00012929069066532254,\n",
       " 'aristotle': 0.0,\n",
       " 'arm': 0.0,\n",
       " 'armadillo': 0.0,\n",
       " 'armed': 0.0006783629976983381,\n",
       " 'aron': 0.00018418140117652825,\n",
       " 'around': 0.00033904553557935973,\n",
       " 'arrived': 0.0,\n",
       " 'arrives': 0.0,\n",
       " 'arsenal': 0.0,\n",
       " 'art': 0.0,\n",
       " 'article': 4.395043017625697e-05,\n",
       " 'articles': 0.0,\n",
       " 'articulate': 0.0,\n",
       " 'artist': 6.371025699215522e-05,\n",
       " 'artistic': 0.0,\n",
       " 'artists': 0.0,\n",
       " 'artwork': 0.0,\n",
       " 'artworks': 0.0,\n",
       " 'arw': 0.0,\n",
       " 'asddieu': 0.0,\n",
       " 'ask': 0.0,\n",
       " 'asked': 0.002036124438971259,\n",
       " 'asking': 0.0,\n",
       " 'asks': 0.0,\n",
       " 'asleep': 0.0,\n",
       " 'ass': 0.0,\n",
       " 'assistivetech': 0.0,\n",
       " 'assume': 0.0009004575090670569,\n",
       " 'atari': 0.0,\n",
       " 'atrix': 0.0,\n",
       " 'att': 0.0,\n",
       " 'attached': 0.00021186708827134997,\n",
       " 'attempt': 0.0,\n",
       " 'attend': 0.0,\n",
       " 'attended': 0.0007288906540878836,\n",
       " 'attendees': 5.870142830327164e-05,\n",
       " 'attending': 0.0,\n",
       " 'attention': 0.0002535131484060954,\n",
       " 'attracting': 0.0,\n",
       " 'attractive': 0.0,\n",
       " 'atx': 0.0,\n",
       " 'audience': 0.0007044460998915889,\n",
       " 'audio': 0.0,\n",
       " 'augmented': 0.0,\n",
       " 'aus': 0.0,\n",
       " 'austin': 0.0006271120271902173,\n",
       " 'austinwins': 0.0,\n",
       " 'australian': 0.0,\n",
       " 'ausxsw': 0.0,\n",
       " 'authenticator': 0.0,\n",
       " 'authorization': 0.00014045874921239155,\n",
       " 'autistic': 0.0,\n",
       " 'autocorrect': 0.00402940120249136,\n",
       " 'autocorrected': 0.0006278226107550216,\n",
       " 'autocorrects': 0.0003020627128133565,\n",
       " 'autodial': 0.0,\n",
       " 'autonomous': 0.0,\n",
       " 'av': 0.0,\n",
       " 'available': 0.0002186167258101649,\n",
       " 'ave': 0.0,\n",
       " 'avenue': 0.0,\n",
       " 'average': 0.0,\n",
       " 'averages': 0.0003589270101070198,\n",
       " 'avoid': 0.0,\n",
       " 'avoiding': 0.00019475517862963386,\n",
       " 'aw': 0.0,\n",
       " 'awake': 0.0,\n",
       " 'award': 0.0,\n",
       " 'awards': 0.0,\n",
       " 'aware': 0.0,\n",
       " 'awareness': 0.00038653420657343686,\n",
       " 'away': 0.0,\n",
       " 'awe': 0.0,\n",
       " 'awesome': 8.43743533465589e-05,\n",
       " 'awesomely': 0.0,\n",
       " 'awesomeness': 0.0,\n",
       " 'awesometiming': 0.0,\n",
       " 'awkward': 0.00022085202964174436,\n",
       " 'awwww': 0.0,\n",
       " 'axzwxb': 0.0,\n",
       " 'baaah': 0.0,\n",
       " 'baby': 6.434216970617879e-05,\n",
       " 'back': 0.0006251769297273815,\n",
       " 'background': 0.0002650637758021822,\n",
       " 'backlight': 0.0,\n",
       " 'backup': 0.0,\n",
       " 'bad': 0.0015308205711999793,\n",
       " 'badge': 0.0,\n",
       " 'badger': 0.0,\n",
       " 'badges': 0.0,\n",
       " 'bag': 0.0,\n",
       " 'bags': 0.0,\n",
       " 'bahahahaha': 0.0002477546857103277,\n",
       " 'bajillions': 0.0,\n",
       " 'balance': 0.00023853279359565624,\n",
       " 'balckberries': 0.0002214753467356377,\n",
       " 'balcony': 0.0,\n",
       " 'ballroom': 0.0,\n",
       " 'ballrooms': 9.67513522156284e-06,\n",
       " 'banality': 0.0007131066577804598,\n",
       " 'band': 0.0,\n",
       " 'bands': 0.0,\n",
       " 'bandwaggoners': 0.00046333969867623823,\n",
       " 'bang': 0.000508613181065313,\n",
       " 'bank': 0.0,\n",
       " 'banking': 0.0,\n",
       " 'bankinnovate': 0.0,\n",
       " 'bankinnovation': 3.5728523911432854e-05,\n",
       " 'banks': 0.00011134906075183264,\n",
       " 'bar': 0.0,\n",
       " 'barely': 5.415507159053232e-05,\n",
       " 'barroom': 0.0,\n",
       " 'barry': 0.0029535067841591225,\n",
       " 'barrydiller': 0.0,\n",
       " 'bars': 0.0,\n",
       " 'bart': 0.0,\n",
       " 'barton': 0.0,\n",
       " 'based': 0.0,\n",
       " 'bashing': 0.0,\n",
       " 'basic': 0.0,\n",
       " 'basically': 0.0003106896691781125,\n",
       " 'basis': 0.0,\n",
       " 'basket': 0.0,\n",
       " 'bat': 0.0,\n",
       " 'bathroom': 0.0,\n",
       " 'batphone': 0.0,\n",
       " 'batt': 0.000193359570566047,\n",
       " 'battery': 0.0035000734812751445,\n",
       " 'batterykiller': 0.0010135162539271637,\n",
       " 'battle': 0.0,\n",
       " 'battledecks': 0.0,\n",
       " 'battlela': 0.0,\n",
       " 'bavcid': 0.0,\n",
       " 'bbq': 0.0,\n",
       " 'bc': 0.00048788101444651474,\n",
       " 'bcet': 0.0,\n",
       " 'bday': 0.0,\n",
       " 'beach': 0.0,\n",
       " 'bear': 0.0,\n",
       " 'beard': 0.0,\n",
       " 'beat': 0.0,\n",
       " 'beats': 0.0,\n",
       " 'beautiful': 0.0,\n",
       " 'beautifully': 0.0,\n",
       " 'beauty': 0.0,\n",
       " 'become': 0.0,\n",
       " 'becoming': 0.0,\n",
       " 'bed': 0.0,\n",
       " 'beer': 0.0,\n",
       " 'beforetwitter': 0.0,\n",
       " 'begin': 0.0,\n",
       " 'begins': 0.0,\n",
       " 'behaving': 0.0,\n",
       " 'behavior': 0.0,\n",
       " 'behind': 0.0,\n",
       " 'believe': 0.0,\n",
       " 'belinsky': 0.0,\n",
       " 'belong': 0.0,\n",
       " 'bemyneighbor': 0.0,\n",
       " 'benefit': 0.0,\n",
       " 'bereft': 0.00045372438520498035,\n",
       " 'berkowitz': 0.0,\n",
       " 'bernd': 0.0,\n",
       " 'berry': 0.0,\n",
       " 'best': 0.00013843449533892992,\n",
       " 'bestappever': 0.0,\n",
       " 'bet': 0.0,\n",
       " 'beta': 0.0,\n",
       " 'better': 0.0008763705824251666,\n",
       " 'bettercloud': 0.0,\n",
       " 'bettersearch': 0.00035204319493759245,\n",
       " 'betterthingstodo': 6.457013722173577e-06,\n",
       " 'beware': 0.00019816164672443155,\n",
       " 'beyond': 0.0,\n",
       " 'bff': 0.0,\n",
       " 'bicycle': 0.001316397296625586,\n",
       " 'big': 0.0001367208581546794,\n",
       " 'bigger': 0.00020369319645153905,\n",
       " 'biggest': 0.0,\n",
       " 'billboard': 0.0,\n",
       " 'billion': 0.0,\n",
       " 'bing': 2.381446855987947e-05,\n",
       " 'biomimicry': 0.0,\n",
       " 'bird': 0.00019153950016506836,\n",
       " 'birds': 0.0,\n",
       " 'birthday': 0.0,\n",
       " 'bit': 6.35520478191521e-05,\n",
       " 'bite': 0.0,\n",
       " 'biz': 0.0,\n",
       " 'bizzy': 0.0,\n",
       " 'bjdproductions': 0.0,\n",
       " 'black': 0.0,\n",
       " 'blackberry': 0.0064482725334040055,\n",
       " 'blackbook': 0.0,\n",
       " 'blacked': 0.0,\n",
       " 'blame': 2.0024213611297735e-05,\n",
       " 'blast': 0.0,\n",
       " 'bldg': 9.027957202503978e-05,\n",
       " 'bleed': 0.0006295019962477126,\n",
       " 'blew': 0.0,\n",
       " 'blinksale': 0.0,\n",
       " 'blks': 0.0,\n",
       " 'block': 9.912568409775019e-06,\n",
       " 'blocked': 0.0007254010828009719,\n",
       " 'blocking': 0.0,\n",
       " 'blocks': 0.00047940606018994616,\n",
       " 'blog': 0.0,\n",
       " 'blogger': 1.854810332186349e-05,\n",
       " 'blogging': 0.0,\n",
       " 'blogs': 0.0,\n",
       " 'bloody': 0.0010414000037926691,\n",
       " 'bloomberg': 0.0,\n",
       " 'blowing': 0.0,\n",
       " 'blows': 0.0,\n",
       " 'blue': 2.3432952261642236e-05,\n",
       " 'bluezoom': 0.0,\n",
       " 'blurs': 0.00017939370929585314,\n",
       " 'bmm': 0.0,\n",
       " 'bnet': 0.0,\n",
       " 'board': 8.011228466818644e-05,\n",
       " 'book': 2.2210436418977216e-05,\n",
       " 'bookbook': 0.0,\n",
       " 'books': 0.0,\n",
       " 'boom': 0.0,\n",
       " 'boomers': 0.0,\n",
       " 'boooo': 0.000843208466765437,\n",
       " 'boost': 0.0,\n",
       " 'booth': 0.0008935458683134975,\n",
       " 'booyah': 0.0,\n",
       " 'borderstylo': 0.0,\n",
       " 'bored': 0.0,\n",
       " 'born': 3.682495557019274e-07,\n",
       " 'borrowing': 0.0,\n",
       " 'boss': 0.0,\n",
       " 'bother': 0.0,\n",
       " 'bots': 0.0006997884933861906,\n",
       " 'bottom': 0.0004913879185800408,\n",
       " 'bought': 6.129229066707324e-05,\n",
       " 'bounced': 0.0,\n",
       " 'bound': 0.0,\n",
       " 'boundaries': 0.0,\n",
       " 'bout': 0.0,\n",
       " 'bowl': 5.6335655430590405e-05,\n",
       " 'box': 0.0,\n",
       " 'boxee': 0.0,\n",
       " 'boxes': 0.0,\n",
       " 'boy': 0.0,\n",
       " 'boyfriend': 0.0,\n",
       " 'bpm': 0.0,\n",
       " 'bracket': 0.0,\n",
       " 'brain': 0.0,\n",
       " 'brains': 3.8336187288698046e-05,\n",
       " 'brainwashed': 2.350839542746165e-05,\n",
       " 'brand': 0.001136255550196825,\n",
       " 'brands': 0.0,\n",
       " 'bravo': 0.0,\n",
       " 'brawls': 0.0,\n",
       " 'brazil': 0.0,\n",
       " 'bread': 0.0,\n",
       " 'break': 0.0,\n",
       " 'breakdown': 0.0,\n",
       " 'breaking': 5.768084808060155e-05,\n",
       " 'breakout': 0.0,\n",
       " 'breakthrough': 0.0,\n",
       " 'breath': 0.0,\n",
       " 'breathtaking': 0.0,\n",
       " 'breeds': 2.4772571227760442e-05,\n",
       " 'brian': 0.0,\n",
       " 'brick': 0.002836836006433127,\n",
       " 'bridging': 0.0,\n",
       " 'brief': 0.0,\n",
       " 'brilliance': 0.0,\n",
       " 'brilliant': 0.0,\n",
       " 'bring': 0.0001435331490330243,\n",
       " 'bringing': 0.0,\n",
       " 'brings': 0.0,\n",
       " 'british': 0.0,\n",
       " 'brits': 0.0,\n",
       " 'brk': 0.0,\n",
       " 'bro': 0.0,\n",
       " 'broadcastr': 0.0,\n",
       " 'broadfeed': 0.0004604259279066718,\n",
       " 'broken': 0.0005572226798663865,\n",
       " 'brought': 0.0,\n",
       " 'browse': 0.0,\n",
       " 'browser': 2.484735923677619e-05,\n",
       " 'browserwars': 0.0,\n",
       " 'browsing': 5.8420560747663424e-05,\n",
       " 'bryce': 0.0,\n",
       " 'bucket': 0.000529494016164447,\n",
       " 'buffalo': 0.0,\n",
       " 'bugger': 0.0,\n",
       " 'bugs': 0.0003562449597857248,\n",
       " 'build': 0.0,\n",
       " 'building': 0.0,\n",
       " 'buildings': 0.0,\n",
       " 'built': 7.467489511698609e-06,\n",
       " 'bulletin': 0.0,\n",
       " 'bullish': 0.0,\n",
       " 'bummed': 0.0,\n",
       " 'bummer': 0.0,\n",
       " 'bumped': 0.0,\n",
       " 'bunch': 0.0,\n",
       " 'burn': 0.00733971896875851,\n",
       " 'busdev': 0.0,\n",
       " 'business': 0.0006627483260999881,\n",
       " 'busy': 0.0,\n",
       " 'button': 0.000623131453357651,\n",
       " 'buttons': 0.0018086992538058296,\n",
       " 'butts': 0.0,\n",
       " 'buy': 0.00030086404576532206,\n",
       " 'buyers': 0.0,\n",
       " 'buying': 0.0,\n",
       " 'buys': 0.0,\n",
       " 'buzz': 1.0270032230617594e-05,\n",
       " 'buzzing': 2.9763808012762913e-05,\n",
       " 'buzzmetrics': 0.0,\n",
       " 'cab': 0.0018704130670419634,\n",
       " 'cabbies': 0.0,\n",
       " 'cable': 0.0,\n",
       " 'cactus': 0.0,\n",
       " 'calendar': 0.00031434160725019896,\n",
       " 'calhoun': 0.00025068657932821443,\n",
       " 'california': 0.0,\n",
       " 'call': 0.002385119751187326,\n",
       " 'callay': 0.0,\n",
       " 'called': 0.00013331031363408253,\n",
       " 'callooh': 0.0,\n",
       " 'calls': 4.585007970098021e-06,\n",
       " 'cam': 0.0,\n",
       " 'came': 0.002024329330926832,\n",
       " 'camera': 0.0,\n",
       " 'cameras': 0.0004221327633434606,\n",
       " 'campaigns': 0.0,\n",
       " 'can': 0.0001114028418028002,\n",
       " 'canada': 0.0001665380144646062,\n",
       " 'canadian': 0.0,\n",
       " 'cancel': 0.0,\n",
       " 'cannot': 0.0004932872389671715,\n",
       " 'cant': 0.0,\n",
       " 'captain': 0.0,\n",
       " 'capture': 0.0,\n",
       " 'captured': 0.0,\n",
       " 'car': 8.791137715298367e-05,\n",
       " 'caramel': 0.0,\n",
       " 'carbon': 0.0,\n",
       " 'card': 0.0,\n",
       " 'cards': 0.0,\n",
       " 'care': 0.0007601006035400057,\n",
       " 'caring': 0.004990455083761587,\n",
       " 'carousel': 0.0,\n",
       " 'carroll': 0.0,\n",
       " 'carry': 0.00024508970430658705,\n",
       " 'carrying': 0.0,\n",
       " 'cart': 0.0,\n",
       " 'cartel': 0.00013385952221577516,\n",
       " 'cartoon': 0.0,\n",
       " 'cartoonishly': 0.0004384151777401057,\n",
       " 'case': 9.783566690403582e-05,\n",
       " 'cases': 0.0,\n",
       " 'cash': 4.0053387364942325e-05,\n",
       " 'cashmore': 0.0028312242064704846,\n",
       " 'cast': 0.0,\n",
       " 'castle': 0.0,\n",
       " 'catch': 0.0,\n",
       " 'catching': 0.0,\n",
       " 'catphysics': 0.0,\n",
       " 'cattle': 0.0003832007852900162,\n",
       " 'cause': 0.0,\n",
       " 'caused': 0.0,\n",
       " 'causing': 0.0011319538035330307,\n",
       " 'cautiously': 0.0,\n",
       " 'cbatsxsw': 0.0,\n",
       " 'cc': 3.421625585414916e-05,\n",
       " 'cedar': 0.0,\n",
       " 'celebrate': 0.0,\n",
       " 'celebrating': 0.0,\n",
       " 'cell': 0.00016673089132751882,\n",
       " 'cellular': 0.00037743023836270045,\n",
       " 'center': 0.0,\n",
       " 'centers': 0.0,\n",
       " 'centre': 0.0,\n",
       " 'centric': 0.0,\n",
       " 'cents': 2.1397778446879272e-05,\n",
       " 'ceo': 0.0,\n",
       " 'cera': 0.0,\n",
       " 'cerebellum': 0.0,\n",
       " 'cerebral': 0.0,\n",
       " 'certificate': 0.0,\n",
       " 'ces': 0.000607987734051558,\n",
       " 'ch': 0.0,\n",
       " 'chain': 0.00015643106590483102,\n",
       " 'chair': 0.0,\n",
       " 'chalked': 0.0,\n",
       " 'challenged': 0.0,\n",
       " 'challenges': 0.0004097987281604586,\n",
       " 'champ': 0.0,\n",
       " 'chan': 0.0,\n",
       " 'chance': 4.007517329815443e-07,\n",
       " 'chances': 0.0,\n",
       " 'change': 6.896510544758582e-05,\n",
       " 'changed': 0.0,\n",
       " 'changer': 0.0,\n",
       " 'changes': 0.0,\n",
       " 'changing': 0.0,\n",
       " 'channels': 7.347835813330173e-05,\n",
       " 'chaos': 0.0,\n",
       " 'characters': 0.0,\n",
       " 'charge': 2.9570095986685935e-05,\n",
       " 'charged': 0.0,\n",
       " 'charger': 0.0,\n",
       " 'chargers': 0.0,\n",
       " 'charging': 0.0,\n",
       " 'charity': 0.00024398473356055303,\n",
       " 'charles': 0.0,\n",
       " 'charm': 0.0,\n",
       " 'charts': 0.0,\n",
       " 'chat': 0.0,\n",
       " 'cheap': 0.0,\n",
       " 'cheapen': 0.00035226536878564226,\n",
       " 'cheaper': 0.0,\n",
       " 'check': 0.00010860219404188369,\n",
       " 'checked': 2.6034701787212522e-05,\n",
       " 'checking': 2.2240383707015977e-05,\n",
       " 'checkins': 0.0002064330260337103,\n",
       " 'checkout': 0.0,\n",
       " 'cheeky': 0.0,\n",
       " 'cheer': 0.0,\n",
       " 'chen': 0.0,\n",
       " 'chevy': 0.0,\n",
       " 'chevysmc': 0.0,\n",
       " 'chevysxsw': 0.0,\n",
       " 'chic': 0.0,\n",
       " 'chief': 0.0,\n",
       " 'child': 0.0,\n",
       " 'chip': 0.0,\n",
       " 'chk': 7.015432779946653e-05,\n",
       " 'chng': 0.0,\n",
       " 'choice': 0.0,\n",
       " 'choplifter': 0.0,\n",
       " 'choreography': 0.0,\n",
       " 'chris': 6.0375539536411e-05,\n",
       " 'christian': 0.0,\n",
       " 'christmas': 0.0,\n",
       " 'chrome': 0.0004209744579146815,\n",
       " 'chromeos': 0.0,\n",
       " 'chunky': 0.0,\n",
       " 'cigarettes': 0.0,\n",
       " 'circle': 0.0010446800947106546,\n",
       " 'circusmash': 0.0,\n",
       " 'cited': 0.0003688664091667342,\n",
       " 'cites': 0.0,\n",
       " 'city': 7.771932351964923e-05,\n",
       " 'ckers': 0.0,\n",
       " 'cks': 0.0,\n",
       " 'clarity': 0.0,\n",
       " 'clark': 0.0,\n",
       " 'class': 0.0005972275096273629,\n",
       " 'classical': 0.00010773076631665251,\n",
       " 'classics': 0.0,\n",
       " 'classiest': 0.0071279970705014585,\n",
       " 'classy': 0.0,\n",
       " 'cle': 0.0,\n",
       " 'clean': 0.000670706349593484,\n",
       " 'clear': 0.000379375952236055,\n",
       " 'clearly': 4.848711853828605e-05,\n",
       " 'cleveland': 0.0,\n",
       " 'clever': 0.0,\n",
       " 'client': 0.0,\n",
       " 'clients': 0.0,\n",
       " 'climbing': 0.0,\n",
       " 'close': 0.0,\n",
       " 'closely': 0.0,\n",
       " 'cloud': 0.0,\n",
       " 'cloudapp': 0.00047260938520165435,\n",
       " 'cluster': 0.0,\n",
       " 'cm': 0.0,\n",
       " 'cmty': 0.0,\n",
       " 'cn': 0.0,\n",
       " 'cnet': 0.0,\n",
       " 'cnn': 0.0,\n",
       " 'cnngrill': 0.0,\n",
       " 'cnnmoney': 0.0,\n",
       " 'cnnmoneysxsw': 0.0,\n",
       " 'cnt': 0.0,\n",
       " 'cntr': 0.0,\n",
       " 'co': 0.0,\n",
       " 'cobra': 0.0,\n",
       " 'cocaine': 0.0,\n",
       " 'code': 0.001010894962074729,\n",
       " 'coders': 0.0,\n",
       " 'coffee': 0.00015650455374079182,\n",
       " 'cohen': 0.0,\n",
       " 'coincide': 0.0,\n",
       " 'coincides': 0.0,\n",
       " 'coinsidence': 0.0,\n",
       " 'cold': 0.0,\n",
       " 'colin': 0.0,\n",
       " 'collab': 0.0,\n",
       " 'collection': 0.0029228472277059523,\n",
       " 'collective': 0.0,\n",
       " 'collectively': 0.0,\n",
       " 'color': 0.0,\n",
       " 'colors': 0.0,\n",
       " 'com': 5.58287460867279e-05,\n",
       " 'comcom': 0.0,\n",
       " 'come': 0.00010572176598595372,\n",
       " 'comedy': 0.00041463633036892944,\n",
       " 'comes': 0.0,\n",
       " 'comfort': 0.0,\n",
       " 'comic': 0.0,\n",
       " 'coming': 0.0,\n",
       " 'commandeered': 0.00020400356114619908,\n",
       " 'comment': 0.0,\n",
       " 'comments': 0.0006053490592755936,\n",
       " 'communicate': 0.0,\n",
       " 'communication': 5.38399376990246e-06,\n",
       " 'communications': 0.0,\n",
       " 'community': 0.00027765213078584676,\n",
       " 'comp': 0.0,\n",
       " 'compact': 0.0,\n",
       " 'compan': 0.0,\n",
       " 'companies': 0.00019885120889948362,\n",
       " 'company': 0.008304408631711726,\n",
       " 'compared': 0.0,\n",
       " 'compatible': 0.0005252608372513685,\n",
       " 'compete': 0.0,\n",
       " 'competition': 0.0,\n",
       " 'compiling': 0.0006874658108674514,\n",
       " 'complement': 0.0,\n",
       " 'complete': 0.0,\n",
       " 'completely': 0.0009835393425371402,\n",
       " 'complicated': 0.00021643379956865822,\n",
       " 'composed': 0.0002532458354990075,\n",
       " 'computer': 0.0,\n",
       " 'computing': 0.0,\n",
       " 'concentrate': 0.00035532072490263846,\n",
       " 'concept': 0.0,\n",
       " 'concert': 0.00022062993580156278,\n",
       " 'concertgoers': 0.0,\n",
       " 'concierge': 0.0,\n",
       " 'condense': 0.0,\n",
       " 'conf': 0.0,\n",
       " 'conference': 7.64287997011045e-06,\n",
       " 'conferences': 0.0,\n",
       " 'confession': 0.0,\n",
       " 'confirmed': 0.0,\n",
       " 'conflagration': 0.0011204128859799605,\n",
       " 'congrats': 5.384308012677062e-05,\n",
       " 'congratulation': 0.0,\n",
       " 'congratulations': 0.0,\n",
       " 'congress': 0.0,\n",
       " 'connect': 0.0,\n",
       " 'connected': 0.0,\n",
       " 'connectedbrands': 0.0,\n",
       " 'connectedcar': 0.0,\n",
       " 'connectedtv': 4.914336101274639e-05,\n",
       " 'connectivity': 0.0,\n",
       " 'connects': 0.0,\n",
       " 'conquered': 0.00014098849609525354,\n",
       " 'consciously': 0.0,\n",
       " 'consequences': 0.0,\n",
       " 'consistent': 0.0,\n",
       " 'consistently': 0.0005465148787537817,\n",
       " 'constant': 0.0,\n",
       " 'consulting': 0.0,\n",
       " 'consume': 0.0,\n",
       " 'consumer': 3.799851497949512e-05,\n",
       " 'consumerization': 0.0,\n",
       " 'cont': 0.0,\n",
       " 'contact': 0.0,\n",
       " 'content': 0.0030998954503366725,\n",
       " 'contentrules': 0.0,\n",
       " 'contest': 0.0,\n",
       " 'contextual': 0.0,\n",
       " 'continual': 0.0,\n",
       " 'continued': 0.0014826539800749372,\n",
       " 'continues': 0.0,\n",
       " 'control': 2.240037361107961e-06,\n",
       " 'conv': 0.0,\n",
       " 'convenient': 0.0,\n",
       " 'conveniently': 0.0,\n",
       " 'convention': 0.0,\n",
       " 'converge': 0.0,\n",
       " 'conversation': 0.000561479287441594,\n",
       " 'conversations': 0.0,\n",
       " 'convience': 0.0,\n",
       " 'convince': 0.00019676685001630416,\n",
       " 'convinced': 7.559146059591872e-05,\n",
       " 'convore': 0.0,\n",
       " 'cool': 0.0002356473535551396,\n",
       " 'coolaid': 0.0,\n",
       " 'cooler': 0.0,\n",
       " 'coolest': 0.0,\n",
       " 'coolness': 0.0,\n",
       " 'cope': 0.00011707612305593912,\n",
       " 'copy': 0.0,\n",
       " 'cor': 0.0,\n",
       " 'cord': 0.00017822588040024043,\n",
       " 'cords': 0.0,\n",
       " 'core': 0.0,\n",
       " 'corner': 0.0,\n",
       " 'coronasdk': 0.0003628947663375249,\n",
       " 'corporation': 0.0001438994827053909,\n",
       " 'corps': 0.0002445236815105416,\n",
       " 'corralling': 0.00020128326522091385,\n",
       " 'correct': 1.1870237538694152e-05,\n",
       " 'cost': 0.0,\n",
       " 'costs': 0.00021832332928749043,\n",
       " 'costume': 0.0,\n",
       " 'couch': 0.0,\n",
       " 'couchfan': 0.0,\n",
       " 'cough': 0.0,\n",
       " 'could': 9.929473235924364e-05,\n",
       " 'count': 0.00016974436806608287,\n",
       " 'countering': 0.0,\n",
       " 'country': 0.0,\n",
       " 'couple': 0.0,\n",
       " 'course': 6.643072495269018e-05,\n",
       " 'courtesy': 5.5625372333483215e-05,\n",
       " 'courtyard': 0.0,\n",
       " 'cover': 0.0,\n",
       " 'coverage': 0.0,\n",
       " 'covered': 9.030446762841033e-05,\n",
       " 'covering': 0.0,\n",
       " 'cow': 0.0,\n",
       " 'coworkers': 0.0026306891994957423,\n",
       " 'cpa': 0.00028392309208143563,\n",
       " 'cr': 5.407817637230165e-05,\n",
       " 'crack': 0.0004520480251421599,\n",
       " 'crackberry': 0.0,\n",
       " 'crafty': 0.0,\n",
       " 'crapkit': 0.00033738052442899564,\n",
       " 'craps': 0.0,\n",
       " 'crashed': 0.0009169063588498904,\n",
       " 'crasher': 0.0,\n",
       " 'crashes': 0.00038830675535329667,\n",
       " 'crashing': 0.0,\n",
       " 'crashy': 0.00032437933658295516,\n",
       " 'crave': 0.0,\n",
       " 'craving': 0.0,\n",
       " 'craziness': 0.0,\n",
       " 'crazy': 0.0,\n",
       " 'crazyco': 0.0,\n",
       " 'cream': 0.0,\n",
       " 'create': 0.0,\n",
       " 'created': 0.0,\n",
       " 'creates': 0.0,\n",
       " 'creating': 0.0,\n",
       " 'creative': 0.0,\n",
       " 'creatively': 0.0,\n",
       " 'creativity': 3.424559954306092e-05,\n",
       " 'creatures': 9.595705155487417e-05,\n",
       " 'credit': 0.00015663327068017537,\n",
       " 'creek': 0.0,\n",
       " 'crew': 0.0,\n",
       " 'cried': 0.0,\n",
       " 'crippling': 0.0005384840945383488,\n",
       " 'crisis': 0.0007635027431088346,\n",
       " 'critiques': 0.0,\n",
       " 'cross': 6.39926301814542e-05,\n",
       " 'crossed': 0.0,\n",
       " 'crossing': 0.0,\n",
       " 'crowd': 5.107178147670975e-06,\n",
       " 'crowdbeacon': 0.0,\n",
       " 'crowded': 0.0009033784794317157,\n",
       " 'crowds': 0.0004304499092789989,\n",
       " 'crowdsourcing': 0.00012019230769230751,\n",
       " 'crowley': 7.200115810021427e-05,\n",
       " 'crunch': 0.0009626481036213454,\n",
       " 'crushing': 0.0003902372880570276,\n",
       " 'cruze': 0.0,\n",
       " 'cry': 0.0,\n",
       " 'csr': 0.0002154988119301216,\n",
       " 'cstejas': 0.0006521360661749334,\n",
       " 'csuitecsourcing': 0.000929230293300681,\n",
       " 'ctia': 0.0,\n",
       " 'cult': 0.0005421974217543238,\n",
       " 'culture': 0.0,\n",
       " 'cunning': 0.0,\n",
       " 'cup': 0.0002359829859351513,\n",
       " 'cupcake': 0.0,\n",
       " 'cupertino': 0.0,\n",
       " 'curated': 0.0,\n",
       " 'curatedebate': 0.0,\n",
       " 'curiosity': 0.001607810760384678,\n",
       " 'current': 2.793227386669085e-05,\n",
       " 'cursing': 0.0004451540839854344,\n",
       " 'cursor': 0.0,\n",
       " 'custom': 0.0,\n",
       " 'custome': 0.0,\n",
       " 'customer': 0.0,\n",
       " 'customers': 3.634608021065978e-05,\n",
       " 'cut': 0.00015026759336693918,\n",
       " 'cute': 0.0,\n",
       " 'cuts': 0.0,\n",
       " 'cuz': 0.0,\n",
       " 'cwc': 0.0,\n",
       " 'cwebb': 7.664852597142326e-05,\n",
       " 'cynical': 0.00029034581527925303,\n",
       " 'dah': 0.0,\n",
       " 'dahl': 0.0,\n",
       " 'dailies': 0.0006064736444729003,\n",
       " 'daily': 0.0012126072301998946,\n",
       " 'damn': 0.0005242521784780647,\n",
       " 'damon': 0.0,\n",
       " 'dance': 0.0002746821409202233,\n",
       " 'dancing': 0.0,\n",
       " 'dandy': 0.0,\n",
       " 'danfung': 0.0,\n",
       " 'dang': 0.0,\n",
       " 'dangerous': 0.0,\n",
       " 'dangling': 0.0,\n",
       " 'dark': 0.00029549752918784234,\n",
       " 'darn': 0.0008052967719956093,\n",
       " 'darryl': 0.0,\n",
       " 'data': 0.0009564632142570012,\n",
       " 'date': 0.0,\n",
       " 'davis': 1.1801014621898665e-05,\n",
       " 'dawg': 0.0,\n",
       " 'dawn': 0.0,\n",
       " 'dawned': 0.0,\n",
       " 'day': 0.0005223564143879365,\n",
       " 'days': 0.0007504021524413718,\n",
       " 'de': 2.3719267853084457e-05,\n",
       " 'dead': 8.4880096646574e-05,\n",
       " 'deadly': 0.0028749091450330977,\n",
       " 'deal': 0.0001400588277277689,\n",
       " 'dealing': 0.0,\n",
       " 'deals': 0.0,\n",
       " 'dear': 0.0023260562983869622,\n",
       " 'death': 0.0,\n",
       " 'debating': 0.0,\n",
       " 'debut': 0.0,\n",
       " 'debuting': 1.7398571876729753e-05,\n",
       " 'debuts': 0.0,\n",
       " 'decade': 0.0,\n",
       " 'decent': 0.0,\n",
       " 'decide': 0.00033669491158325334,\n",
       " 'decided': 0.00026549838797611887,\n",
       " 'decision': 0.0,\n",
       " 'deck': 0.0005470905986682421,\n",
       " 'def': 0.00014837327795552704,\n",
       " 'default': 0.0001232799688859731,\n",
       " 'deficit': 0.0008335367352148118,\n",
       " 'define': 0.0,\n",
       " 'defining': 0.0,\n",
       " 'definitely': 0.0,\n",
       " 'deforestation': 2.972910876298232e-05,\n",
       " 'degrees': 0.0,\n",
       " 'dehumanizing': 0.0,\n",
       " 'delay': 0.0,\n",
       " 'delayed': 0.0,\n",
       " 'delegates': 0.01186452950841653,\n",
       " 'delete': 0.0,\n",
       " 'deleting': 0.0003284733940498309,\n",
       " 'delicious': 0.0018749134627898615,\n",
       " 'deliciously': 0.0,\n",
       " 'deliciousness': 0.0,\n",
       " 'delight': 0.0,\n",
       " 'delightful': 0.0,\n",
       " 'deliver': 9.511411006296849e-05,\n",
       " 'delivered': 0.001990529762068499,\n",
       " 'delivering': 0.0007550116426236433,\n",
       " 'dell': 4.553269203070039e-05,\n",
       " 'delving': 0.0,\n",
       " 'demo': 0.0,\n",
       " 'democracy': 0.0,\n",
       " 'demoed': 0.0,\n",
       " 'demoing': 0.0,\n",
       " 'demonstrate': 0.0,\n",
       " 'demonstrates': 0.0,\n",
       " 'demonstration': 0.0,\n",
       " 'demos': 0.0,\n",
       " 'denies': 0.0,\n",
       " 'dennis': 0.0,\n",
       " 'density': 0.0,\n",
       " 'depeche': 0.0,\n",
       " 'described': 0.0,\n",
       " 'design': 0.0022139581024815946,\n",
       " 'designed': 0.0004950568334396092,\n",
       " 'designers': 0.00010161090248151932,\n",
       " 'designflaws': 0.0,\n",
       " 'designing': 3.556417489669188e-05,\n",
       " 'designingforkids': 0.0,\n",
       " 'desktop': 0.0,\n",
       " 'desperately': 0.00011587755195572761,\n",
       " 'despite': 0.0,\n",
       " 'destroyed': 0.0017571547113057321,\n",
       " 'detail': 0.0003449479704603634,\n",
       " 'details': 0.0,\n",
       " 'detect': 0.0,\n",
       " 'detection': 0.0,\n",
       " 'dev': 7.396209262199686e-05,\n",
       " 'developed': 0.0,\n",
       " 'developer': 0.0,\n",
       " 'developers': 0.0,\n",
       " 'developing': 0.00029737148372167653,\n",
       " 'development': 0.0002475771430871516,\n",
       " 'deviantart': 0.0,\n",
       " 'device': 2.4161570770761622e-05,\n",
       " 'devices': 0.0,\n",
       " 'devs': 0.0,\n",
       " 'dfcbto': 0.0,\n",
       " 'dfp': 0.0,\n",
       " 'dfw': 0.0,\n",
       " 'diabetes': 0.0006001452909050628,\n",
       " 'dictaphone': 0.0,\n",
       " 'dictatorship': 0.00028052035715749724,\n",
       " 'die': 0.0,\n",
       " 'died': 0.0,\n",
       " 'dieing': 0.0,\n",
       " 'dies': 0.0018138186877563638,\n",
       " 'different': 0.0,\n",
       " 'dig': 0.0,\n",
       " 'digging': 0.0,\n",
       " ...}"
      ]
     },
     "execution_count": 69,
     "metadata": {},
     "output_type": "execute_result"
    }
   ],
   "source": [
    "dict(zip(list(X_t_vec.columns), rf.feature_importances_))"
   ]
  },
  {
   "cell_type": "code",
   "execution_count": 70,
   "metadata": {
    "scrolled": false
   },
   "outputs": [],
   "source": [
    "#X_train"
   ]
  },
  {
   "cell_type": "code",
   "execution_count": null,
   "metadata": {},
   "outputs": [],
   "source": []
  },
  {
   "cell_type": "code",
   "execution_count": 71,
   "metadata": {},
   "outputs": [
    {
     "data": {
      "text/html": [
       "<div>\n",
       "<style scoped>\n",
       "    .dataframe tbody tr th:only-of-type {\n",
       "        vertical-align: middle;\n",
       "    }\n",
       "\n",
       "    .dataframe tbody tr th {\n",
       "        vertical-align: top;\n",
       "    }\n",
       "\n",
       "    .dataframe thead th {\n",
       "        text-align: right;\n",
       "    }\n",
       "</style>\n",
       "<table border=\"1\" class=\"dataframe\">\n",
       "  <thead>\n",
       "    <tr style=\"text-align: right;\">\n",
       "      <th></th>\n",
       "      <th>aapl</th>\n",
       "      <th>abacus</th>\n",
       "      <th>abandoned</th>\n",
       "      <th>aber</th>\n",
       "      <th>able</th>\n",
       "      <th>abroad</th>\n",
       "      <th>absolutely</th>\n",
       "      <th>abt</th>\n",
       "      <th>abuzz</th>\n",
       "      <th>academy</th>\n",
       "      <th>...</th>\n",
       "      <th>zazzlsxsw</th>\n",
       "      <th>zero</th>\n",
       "      <th>zimride</th>\n",
       "      <th>zing</th>\n",
       "      <th>zite</th>\n",
       "      <th>zms</th>\n",
       "      <th>zombies</th>\n",
       "      <th>zomg</th>\n",
       "      <th>zoom</th>\n",
       "      <th>zzzs</th>\n",
       "    </tr>\n",
       "  </thead>\n",
       "  <tbody>\n",
       "    <tr>\n",
       "      <th>7411</th>\n",
       "      <td>0</td>\n",
       "      <td>0</td>\n",
       "      <td>0</td>\n",
       "      <td>0</td>\n",
       "      <td>0</td>\n",
       "      <td>0</td>\n",
       "      <td>0</td>\n",
       "      <td>0</td>\n",
       "      <td>0</td>\n",
       "      <td>0</td>\n",
       "      <td>...</td>\n",
       "      <td>0</td>\n",
       "      <td>0</td>\n",
       "      <td>0</td>\n",
       "      <td>0</td>\n",
       "      <td>0</td>\n",
       "      <td>0</td>\n",
       "      <td>0</td>\n",
       "      <td>0</td>\n",
       "      <td>0</td>\n",
       "      <td>0</td>\n",
       "    </tr>\n",
       "    <tr>\n",
       "      <th>157</th>\n",
       "      <td>0</td>\n",
       "      <td>0</td>\n",
       "      <td>0</td>\n",
       "      <td>0</td>\n",
       "      <td>0</td>\n",
       "      <td>0</td>\n",
       "      <td>0</td>\n",
       "      <td>0</td>\n",
       "      <td>0</td>\n",
       "      <td>0</td>\n",
       "      <td>...</td>\n",
       "      <td>0</td>\n",
       "      <td>0</td>\n",
       "      <td>0</td>\n",
       "      <td>0</td>\n",
       "      <td>0</td>\n",
       "      <td>0</td>\n",
       "      <td>0</td>\n",
       "      <td>0</td>\n",
       "      <td>0</td>\n",
       "      <td>0</td>\n",
       "    </tr>\n",
       "    <tr>\n",
       "      <th>1762</th>\n",
       "      <td>0</td>\n",
       "      <td>0</td>\n",
       "      <td>0</td>\n",
       "      <td>0</td>\n",
       "      <td>0</td>\n",
       "      <td>0</td>\n",
       "      <td>0</td>\n",
       "      <td>0</td>\n",
       "      <td>0</td>\n",
       "      <td>0</td>\n",
       "      <td>...</td>\n",
       "      <td>0</td>\n",
       "      <td>0</td>\n",
       "      <td>0</td>\n",
       "      <td>0</td>\n",
       "      <td>0</td>\n",
       "      <td>0</td>\n",
       "      <td>0</td>\n",
       "      <td>0</td>\n",
       "      <td>0</td>\n",
       "      <td>0</td>\n",
       "    </tr>\n",
       "    <tr>\n",
       "      <th>5059</th>\n",
       "      <td>0</td>\n",
       "      <td>0</td>\n",
       "      <td>0</td>\n",
       "      <td>0</td>\n",
       "      <td>0</td>\n",
       "      <td>0</td>\n",
       "      <td>0</td>\n",
       "      <td>0</td>\n",
       "      <td>0</td>\n",
       "      <td>0</td>\n",
       "      <td>...</td>\n",
       "      <td>0</td>\n",
       "      <td>0</td>\n",
       "      <td>0</td>\n",
       "      <td>0</td>\n",
       "      <td>0</td>\n",
       "      <td>0</td>\n",
       "      <td>0</td>\n",
       "      <td>0</td>\n",
       "      <td>0</td>\n",
       "      <td>0</td>\n",
       "    </tr>\n",
       "    <tr>\n",
       "      <th>6344</th>\n",
       "      <td>0</td>\n",
       "      <td>0</td>\n",
       "      <td>0</td>\n",
       "      <td>0</td>\n",
       "      <td>0</td>\n",
       "      <td>0</td>\n",
       "      <td>0</td>\n",
       "      <td>0</td>\n",
       "      <td>0</td>\n",
       "      <td>0</td>\n",
       "      <td>...</td>\n",
       "      <td>0</td>\n",
       "      <td>0</td>\n",
       "      <td>0</td>\n",
       "      <td>0</td>\n",
       "      <td>0</td>\n",
       "      <td>0</td>\n",
       "      <td>0</td>\n",
       "      <td>0</td>\n",
       "      <td>0</td>\n",
       "      <td>0</td>\n",
       "    </tr>\n",
       "    <tr>\n",
       "      <th>...</th>\n",
       "      <td>...</td>\n",
       "      <td>...</td>\n",
       "      <td>...</td>\n",
       "      <td>...</td>\n",
       "      <td>...</td>\n",
       "      <td>...</td>\n",
       "      <td>...</td>\n",
       "      <td>...</td>\n",
       "      <td>...</td>\n",
       "      <td>...</td>\n",
       "      <td>...</td>\n",
       "      <td>...</td>\n",
       "      <td>...</td>\n",
       "      <td>...</td>\n",
       "      <td>...</td>\n",
       "      <td>...</td>\n",
       "      <td>...</td>\n",
       "      <td>...</td>\n",
       "      <td>...</td>\n",
       "      <td>...</td>\n",
       "      <td>...</td>\n",
       "    </tr>\n",
       "    <tr>\n",
       "      <th>4615</th>\n",
       "      <td>0</td>\n",
       "      <td>0</td>\n",
       "      <td>0</td>\n",
       "      <td>0</td>\n",
       "      <td>0</td>\n",
       "      <td>0</td>\n",
       "      <td>0</td>\n",
       "      <td>0</td>\n",
       "      <td>0</td>\n",
       "      <td>0</td>\n",
       "      <td>...</td>\n",
       "      <td>0</td>\n",
       "      <td>0</td>\n",
       "      <td>0</td>\n",
       "      <td>0</td>\n",
       "      <td>0</td>\n",
       "      <td>0</td>\n",
       "      <td>0</td>\n",
       "      <td>0</td>\n",
       "      <td>0</td>\n",
       "      <td>0</td>\n",
       "    </tr>\n",
       "    <tr>\n",
       "      <th>6746</th>\n",
       "      <td>0</td>\n",
       "      <td>0</td>\n",
       "      <td>0</td>\n",
       "      <td>0</td>\n",
       "      <td>0</td>\n",
       "      <td>0</td>\n",
       "      <td>0</td>\n",
       "      <td>0</td>\n",
       "      <td>0</td>\n",
       "      <td>0</td>\n",
       "      <td>...</td>\n",
       "      <td>0</td>\n",
       "      <td>0</td>\n",
       "      <td>0</td>\n",
       "      <td>0</td>\n",
       "      <td>0</td>\n",
       "      <td>0</td>\n",
       "      <td>0</td>\n",
       "      <td>0</td>\n",
       "      <td>0</td>\n",
       "      <td>0</td>\n",
       "    </tr>\n",
       "    <tr>\n",
       "      <th>7233</th>\n",
       "      <td>0</td>\n",
       "      <td>0</td>\n",
       "      <td>0</td>\n",
       "      <td>0</td>\n",
       "      <td>0</td>\n",
       "      <td>0</td>\n",
       "      <td>0</td>\n",
       "      <td>0</td>\n",
       "      <td>0</td>\n",
       "      <td>0</td>\n",
       "      <td>...</td>\n",
       "      <td>0</td>\n",
       "      <td>0</td>\n",
       "      <td>0</td>\n",
       "      <td>0</td>\n",
       "      <td>0</td>\n",
       "      <td>0</td>\n",
       "      <td>0</td>\n",
       "      <td>0</td>\n",
       "      <td>0</td>\n",
       "      <td>0</td>\n",
       "    </tr>\n",
       "    <tr>\n",
       "      <th>8256</th>\n",
       "      <td>0</td>\n",
       "      <td>0</td>\n",
       "      <td>0</td>\n",
       "      <td>0</td>\n",
       "      <td>0</td>\n",
       "      <td>0</td>\n",
       "      <td>0</td>\n",
       "      <td>0</td>\n",
       "      <td>0</td>\n",
       "      <td>0</td>\n",
       "      <td>...</td>\n",
       "      <td>0</td>\n",
       "      <td>0</td>\n",
       "      <td>0</td>\n",
       "      <td>0</td>\n",
       "      <td>0</td>\n",
       "      <td>0</td>\n",
       "      <td>0</td>\n",
       "      <td>0</td>\n",
       "      <td>0</td>\n",
       "      <td>0</td>\n",
       "    </tr>\n",
       "    <tr>\n",
       "      <th>297</th>\n",
       "      <td>0</td>\n",
       "      <td>0</td>\n",
       "      <td>0</td>\n",
       "      <td>0</td>\n",
       "      <td>0</td>\n",
       "      <td>0</td>\n",
       "      <td>0</td>\n",
       "      <td>0</td>\n",
       "      <td>0</td>\n",
       "      <td>0</td>\n",
       "      <td>...</td>\n",
       "      <td>0</td>\n",
       "      <td>0</td>\n",
       "      <td>0</td>\n",
       "      <td>0</td>\n",
       "      <td>0</td>\n",
       "      <td>0</td>\n",
       "      <td>0</td>\n",
       "      <td>0</td>\n",
       "      <td>0</td>\n",
       "      <td>0</td>\n",
       "    </tr>\n",
       "  </tbody>\n",
       "</table>\n",
       "<p>1995 rows × 4239 columns</p>\n",
       "</div>"
      ],
      "text/plain": [
       "      aapl  abacus  abandoned  aber  able  abroad  absolutely  abt  abuzz  \\\n",
       "7411     0       0          0     0     0       0           0    0      0   \n",
       "157      0       0          0     0     0       0           0    0      0   \n",
       "1762     0       0          0     0     0       0           0    0      0   \n",
       "5059     0       0          0     0     0       0           0    0      0   \n",
       "6344     0       0          0     0     0       0           0    0      0   \n",
       "...    ...     ...        ...   ...   ...     ...         ...  ...    ...   \n",
       "4615     0       0          0     0     0       0           0    0      0   \n",
       "6746     0       0          0     0     0       0           0    0      0   \n",
       "7233     0       0          0     0     0       0           0    0      0   \n",
       "8256     0       0          0     0     0       0           0    0      0   \n",
       "297      0       0          0     0     0       0           0    0      0   \n",
       "\n",
       "      academy  ...  zazzlsxsw  zero  zimride  zing  zite  zms  zombies  zomg  \\\n",
       "7411        0  ...          0     0        0     0     0    0        0     0   \n",
       "157         0  ...          0     0        0     0     0    0        0     0   \n",
       "1762        0  ...          0     0        0     0     0    0        0     0   \n",
       "5059        0  ...          0     0        0     0     0    0        0     0   \n",
       "6344        0  ...          0     0        0     0     0    0        0     0   \n",
       "...       ...  ...        ...   ...      ...   ...   ...  ...      ...   ...   \n",
       "4615        0  ...          0     0        0     0     0    0        0     0   \n",
       "6746        0  ...          0     0        0     0     0    0        0     0   \n",
       "7233        0  ...          0     0        0     0     0    0        0     0   \n",
       "8256        0  ...          0     0        0     0     0    0        0     0   \n",
       "297         0  ...          0     0        0     0     0    0        0     0   \n",
       "\n",
       "      zoom  zzzs  \n",
       "7411     0     0  \n",
       "157      0     0  \n",
       "1762     0     0  \n",
       "5059     0     0  \n",
       "6344     0     0  \n",
       "...    ...   ...  \n",
       "4615     0     0  \n",
       "6746     0     0  \n",
       "7233     0     0  \n",
       "8256     0     0  \n",
       "297      0     0  \n",
       "\n",
       "[1995 rows x 4239 columns]"
      ]
     },
     "execution_count": 71,
     "metadata": {},
     "output_type": "execute_result"
    }
   ],
   "source": [
    "X_t_vec"
   ]
  },
  {
   "cell_type": "code",
   "execution_count": 72,
   "metadata": {},
   "outputs": [
    {
     "data": {
      "text/html": [
       "<div>\n",
       "<style scoped>\n",
       "    .dataframe tbody tr th:only-of-type {\n",
       "        vertical-align: middle;\n",
       "    }\n",
       "\n",
       "    .dataframe tbody tr th {\n",
       "        vertical-align: top;\n",
       "    }\n",
       "\n",
       "    .dataframe thead th {\n",
       "        text-align: right;\n",
       "    }\n",
       "</style>\n",
       "<table border=\"1\" class=\"dataframe\">\n",
       "  <thead>\n",
       "    <tr style=\"text-align: right;\">\n",
       "      <th></th>\n",
       "      <th>tweet_text</th>\n",
       "      <th>products</th>\n",
       "      <th>emotions</th>\n",
       "    </tr>\n",
       "  </thead>\n",
       "  <tbody>\n",
       "    <tr>\n",
       "      <th>0</th>\n",
       "      <td>.@wesley83 I have a 3G iPhone. After 3 hrs twe...</td>\n",
       "      <td>iPhone</td>\n",
       "      <td>Negative emotion</td>\n",
       "    </tr>\n",
       "    <tr>\n",
       "      <th>1</th>\n",
       "      <td>@jessedee Know about @fludapp ? Awesome iPad/i...</td>\n",
       "      <td>iPad or iPhone App</td>\n",
       "      <td>Positive emotion</td>\n",
       "    </tr>\n",
       "    <tr>\n",
       "      <th>2</th>\n",
       "      <td>@swonderlin Can not wait for #iPad 2 also. The...</td>\n",
       "      <td>iPad</td>\n",
       "      <td>Positive emotion</td>\n",
       "    </tr>\n",
       "    <tr>\n",
       "      <th>3</th>\n",
       "      <td>@sxsw I hope this year's festival isn't as cra...</td>\n",
       "      <td>iPad or iPhone App</td>\n",
       "      <td>Negative emotion</td>\n",
       "    </tr>\n",
       "    <tr>\n",
       "      <th>4</th>\n",
       "      <td>@sxtxstate great stuff on Fri #SXSW: Marissa M...</td>\n",
       "      <td>Google</td>\n",
       "      <td>Positive emotion</td>\n",
       "    </tr>\n",
       "    <tr>\n",
       "      <th>...</th>\n",
       "      <td>...</td>\n",
       "      <td>...</td>\n",
       "      <td>...</td>\n",
       "    </tr>\n",
       "    <tr>\n",
       "      <th>9088</th>\n",
       "      <td>Ipad everywhere. #SXSW {link}</td>\n",
       "      <td>iPad</td>\n",
       "      <td>Positive emotion</td>\n",
       "    </tr>\n",
       "    <tr>\n",
       "      <th>9089</th>\n",
       "      <td>Wave, buzz... RT @mention We interrupt your re...</td>\n",
       "      <td>NaN</td>\n",
       "      <td>No emotion toward brand or product</td>\n",
       "    </tr>\n",
       "    <tr>\n",
       "      <th>9090</th>\n",
       "      <td>Google's Zeiger, a physician never reported po...</td>\n",
       "      <td>NaN</td>\n",
       "      <td>No emotion toward brand or product</td>\n",
       "    </tr>\n",
       "    <tr>\n",
       "      <th>9091</th>\n",
       "      <td>Some Verizon iPhone customers complained their...</td>\n",
       "      <td>NaN</td>\n",
       "      <td>No emotion toward brand or product</td>\n",
       "    </tr>\n",
       "    <tr>\n",
       "      <th>9092</th>\n",
       "      <td>Ï¡Ïàü_ÊÎÒ£Áââ_£â_ÛâRT @...</td>\n",
       "      <td>NaN</td>\n",
       "      <td>No emotion toward brand or product</td>\n",
       "    </tr>\n",
       "  </tbody>\n",
       "</table>\n",
       "<p>9093 rows × 3 columns</p>\n",
       "</div>"
      ],
      "text/plain": [
       "                                             tweet_text            products  \\\n",
       "0     .@wesley83 I have a 3G iPhone. After 3 hrs twe...              iPhone   \n",
       "1     @jessedee Know about @fludapp ? Awesome iPad/i...  iPad or iPhone App   \n",
       "2     @swonderlin Can not wait for #iPad 2 also. The...                iPad   \n",
       "3     @sxsw I hope this year's festival isn't as cra...  iPad or iPhone App   \n",
       "4     @sxtxstate great stuff on Fri #SXSW: Marissa M...              Google   \n",
       "...                                                 ...                 ...   \n",
       "9088                      Ipad everywhere. #SXSW {link}                iPad   \n",
       "9089  Wave, buzz... RT @mention We interrupt your re...                 NaN   \n",
       "9090  Google's Zeiger, a physician never reported po...                 NaN   \n",
       "9091  Some Verizon iPhone customers complained their...                 NaN   \n",
       "9092  Ï¡Ïàü_ÊÎÒ£Áââ_£â_ÛâRT @...                 NaN   \n",
       "\n",
       "                                emotions  \n",
       "0                       Negative emotion  \n",
       "1                       Positive emotion  \n",
       "2                       Positive emotion  \n",
       "3                       Negative emotion  \n",
       "4                       Positive emotion  \n",
       "...                                  ...  \n",
       "9088                    Positive emotion  \n",
       "9089  No emotion toward brand or product  \n",
       "9090  No emotion toward brand or product  \n",
       "9091  No emotion toward brand or product  \n",
       "9092  No emotion toward brand or product  \n",
       "\n",
       "[9093 rows x 3 columns]"
      ]
     },
     "execution_count": 72,
     "metadata": {},
     "output_type": "execute_result"
    }
   ],
   "source": [
    "df2"
   ]
  },
  {
   "cell_type": "code",
   "execution_count": 73,
   "metadata": {
    "scrolled": false
   },
   "outputs": [
    {
     "data": {
      "text/plain": [
       "No emotion toward brand or product    5389\n",
       "Positive emotion                      2978\n",
       "Negative emotion                       570\n",
       "I can't tell                           156\n",
       "Name: emotions, dtype: int64"
      ]
     },
     "execution_count": 73,
     "metadata": {},
     "output_type": "execute_result"
    }
   ],
   "source": [
    "df2['emotions'].value_counts()"
   ]
  },
  {
   "cell_type": "code",
   "execution_count": 74,
   "metadata": {},
   "outputs": [],
   "source": [
    "replacement_mapping = {\n",
    "    'No emotion toward brand or product': 'No',\n",
    "    'Positive emotion': 'Positive',\n",
    "    'Negative emotion': 'Negative'\n",
    "}\n",
    "\n",
    "df2['emotions'] = df2['emotions'].replace(replacement_mapping)"
   ]
  },
  {
   "cell_type": "code",
   "execution_count": 75,
   "metadata": {},
   "outputs": [],
   "source": [
    "df2 = df2[df2['emotions'].isin(['No', 'Negative', 'Positive'])]"
   ]
  },
  {
   "cell_type": "code",
   "execution_count": 76,
   "metadata": {},
   "outputs": [
    {
     "data": {
      "text/plain": [
       "No          5389\n",
       "Positive    2978\n",
       "Negative     570\n",
       "Name: emotions, dtype: int64"
      ]
     },
     "execution_count": 76,
     "metadata": {},
     "output_type": "execute_result"
    }
   ],
   "source": [
    "df2['emotions'].value_counts()"
   ]
  },
  {
   "cell_type": "code",
   "execution_count": 77,
   "metadata": {
    "scrolled": true
   },
   "outputs": [
    {
     "name": "stderr",
     "output_type": "stream",
     "text": [
      "<ipython-input-77-aeb28ddccd20>:4: SettingWithCopyWarning: \n",
      "A value is trying to be set on a copy of a slice from a DataFrame.\n",
      "Try using .loc[row_indexer,col_indexer] = value instead\n",
      "\n",
      "See the caveats in the documentation: https://pandas.pydata.org/pandas-docs/stable/user_guide/indexing.html#returning-a-view-versus-a-copy\n",
      "  df2['target'] = df2['emotions']\n"
     ]
    }
   ],
   "source": [
    "# Map emotions to target values\n",
    "#emotion_mapping = {'No emotion': 2,'Positive emotion': 1, 'Negative emotion': 0}\n",
    "#df2['target'] = df2['emotions'].map(emotion_mapping)\n",
    "df2['target'] = df2['emotions']"
   ]
  },
  {
   "cell_type": "code",
   "execution_count": 78,
   "metadata": {},
   "outputs": [
    {
     "data": {
      "text/plain": [
       "No          5389\n",
       "Positive    2978\n",
       "Negative     570\n",
       "Name: target, dtype: int64"
      ]
     },
     "execution_count": 78,
     "metadata": {},
     "output_type": "execute_result"
    }
   ],
   "source": [
    "df2['target'].value_counts()"
   ]
  },
  {
   "cell_type": "code",
   "execution_count": 79,
   "metadata": {
    "scrolled": true
   },
   "outputs": [
    {
     "data": {
      "text/plain": [
       "tweet_text       1\n",
       "products      5655\n",
       "emotions         0\n",
       "target           0\n",
       "dtype: int64"
      ]
     },
     "execution_count": 79,
     "metadata": {},
     "output_type": "execute_result"
    }
   ],
   "source": [
    "df2.isna().sum()"
   ]
  },
  {
   "cell_type": "code",
   "execution_count": 80,
   "metadata": {
    "scrolled": true
   },
   "outputs": [],
   "source": [
    "df2 = df2.dropna(subset=['tweet_text'])"
   ]
  },
  {
   "cell_type": "code",
   "execution_count": 81,
   "metadata": {},
   "outputs": [
    {
     "data": {
      "text/plain": [
       "tweet_text       0\n",
       "products      5654\n",
       "emotions         0\n",
       "target           0\n",
       "dtype: int64"
      ]
     },
     "execution_count": 81,
     "metadata": {},
     "output_type": "execute_result"
    }
   ],
   "source": [
    "df2.isna().sum()"
   ]
  },
  {
   "cell_type": "code",
   "execution_count": 82,
   "metadata": {},
   "outputs": [],
   "source": [
    "# Bring in stopwords\n",
    "\n",
    "sw = stopwords.words('english')"
   ]
  },
  {
   "cell_type": "code",
   "execution_count": 83,
   "metadata": {},
   "outputs": [],
   "source": [
    "def get_wordnet_pos(treebank_tag):\n",
    "    '''\n",
    "    Translate nltk POS to wordnet tags\n",
    "    '''\n",
    "    if treebank_tag.startswith('J'):\n",
    "        return wordnet.ADJ\n",
    "    elif treebank_tag.startswith('V'):\n",
    "        return wordnet.VERB\n",
    "    elif treebank_tag.startswith('N'):\n",
    "        return wordnet.NOUN\n",
    "    elif treebank_tag.startswith('R'):\n",
    "        return wordnet.ADV\n",
    "    else:\n",
    "        return wordnet.NOUN"
   ]
  },
  {
   "cell_type": "code",
   "execution_count": 84,
   "metadata": {},
   "outputs": [],
   "source": [
    "lemmatizer = WordNetLemmatizer() "
   ]
  },
  {
   "cell_type": "code",
   "execution_count": 85,
   "metadata": {},
   "outputs": [],
   "source": [
    "def doc_preparer(doc, stop_words=sw):\n",
    "    '''\n",
    "    \n",
    "    :param doc: column from database\n",
    "    :return: a document string with words which have been \n",
    "            lemmatized, \n",
    "            parsed for stopwords, \n",
    "            made lowercase,\n",
    "            and stripped of punctuation and numbers.\n",
    "    '''\n",
    "    \n",
    "    regex_token = RegexpTokenizer(r\"([a-zA-Z]+(?:’[a-z]+)?)\")\n",
    "    tokens = regex_token.tokenize(doc)\n",
    "    lowered_t = [word.lower() for word in tokens]\n",
    "    no_sw_t = [word for word in lowered_t if word not in sw]\n",
    "    # print(doc)\n",
    "    tokens_tagged = pos_tag(no_sw_t)\n",
    "    pos_tokens = [(word[0], get_wordnet_pos(word[1])) for word in tokens_tagged] \n",
    "    tokens_lemm = [lemmatizer.lemmatize(word[0], word[1]) for word in pos_tokens]\n",
    "    return ' '.join(tokens_lemm)"
   ]
  },
  {
   "cell_type": "markdown",
   "metadata": {},
   "source": [
    "##  Model with Multiclass classification without class weights "
   ]
  },
  {
   "cell_type": "code",
   "execution_count": 86,
   "metadata": {},
   "outputs": [],
   "source": [
    "X= df2[['tweet_text']]\n",
    "y= df2['target']"
   ]
  },
  {
   "cell_type": "code",
   "execution_count": 87,
   "metadata": {
    "scrolled": true
   },
   "outputs": [
    {
     "data": {
      "text/plain": [
       "(8936, 1)"
      ]
     },
     "execution_count": 87,
     "metadata": {},
     "output_type": "execute_result"
    }
   ],
   "source": [
    "X.shape"
   ]
  },
  {
   "cell_type": "code",
   "execution_count": 88,
   "metadata": {},
   "outputs": [
    {
     "data": {
      "text/plain": [
       "(8936,)"
      ]
     },
     "execution_count": 88,
     "metadata": {},
     "output_type": "execute_result"
    }
   ],
   "source": [
    "y.shape"
   ]
  },
  {
   "cell_type": "code",
   "execution_count": 89,
   "metadata": {},
   "outputs": [
    {
     "data": {
      "text/plain": [
       "No          5388\n",
       "Positive    2978\n",
       "Negative     570\n",
       "Name: target, dtype: int64"
      ]
     },
     "execution_count": 89,
     "metadata": {},
     "output_type": "execute_result"
    }
   ],
   "source": [
    "y.value_counts()"
   ]
  },
  {
   "cell_type": "code",
   "execution_count": 90,
   "metadata": {},
   "outputs": [],
   "source": [
    "X_train, X_test, y_train, y_test = train_test_split(X,y,random_state=42, test_size=0.25)"
   ]
  },
  {
   "cell_type": "code",
   "execution_count": 91,
   "metadata": {},
   "outputs": [
    {
     "data": {
      "text/plain": [
       "tweet_text    0\n",
       "dtype: int64"
      ]
     },
     "execution_count": 91,
     "metadata": {},
     "output_type": "execute_result"
    }
   ],
   "source": [
    "X_train.isna().sum()"
   ]
  },
  {
   "cell_type": "code",
   "execution_count": 92,
   "metadata": {},
   "outputs": [],
   "source": [
    "X_t, X_val, y_t, y_val = train_test_split(X_train['tweet_text'], y_train,\n",
    "                                          test_size=0.25, random_state=42)"
   ]
  },
  {
   "cell_type": "code",
   "execution_count": 93,
   "metadata": {},
   "outputs": [
    {
     "name": "stderr",
     "output_type": "stream",
     "text": [
      "/Users/DonJuve/anaconda3/envs/learn-env/lib/python3.8/site-packages/sklearn/metrics/_classification.py:1471: UndefinedMetricWarning: Precision is ill-defined and being set to 0.0 in labels with no predicted samples. Use `zero_division` parameter to control this behavior.\n",
      "  _warn_prf(average, modifier, msg_start, len(result))\n"
     ]
    },
    {
     "data": {
      "text/plain": [
       "0.5404818203247002"
      ]
     },
     "execution_count": 93,
     "metadata": {},
     "output_type": "execute_result"
    }
   ],
   "source": [
    "tfidf = TfidfVectorizer(min_df=0.05, max_df=0.95, \n",
    "                preprocessor=doc_preparer)\n",
    "X_t_vec = tfidf.fit_transform(X_t)\n",
    "X_t_vec  = pd.DataFrame.sparse.from_spmatrix(X_t_vec)\n",
    "X_t_vec.columns = sorted(tfidf.vocabulary_)\n",
    "X_t_vec.set_index(y_t.index, inplace=True)\n",
    "\n",
    "X_val_vec = tfidf.transform(X_val)\n",
    "X_val_vec  = pd.DataFrame.sparse.from_spmatrix(X_val_vec)\n",
    "X_val_vec.columns = sorted(tfidf.vocabulary_)\n",
    "X_val_vec.set_index(y_val.index, inplace=True)\n",
    "\n",
    "mnba = MultinomialNB()\n",
    "\n",
    "mnba.fit(X_t_vec, y_t)\n",
    "y_hat = mnba.predict(X_val_vec)\n",
    "\n",
    "precision_score(y_val, y_hat, average='weighted')"
   ]
  },
  {
   "cell_type": "code",
   "execution_count": 94,
   "metadata": {},
   "outputs": [],
   "source": [
    "#cm2 = confusion_matrix(y_val, mnba.predict(X_val_vec))"
   ]
  },
  {
   "cell_type": "code",
   "execution_count": 95,
   "metadata": {
    "scrolled": true
   },
   "outputs": [
    {
     "data": {
      "image/png": "[encoded data removed]",
      "text/plain": [
       "<Figure size 288x288 with 2 Axes>"
      ]
     },
     "metadata": {
      "needs_background": "light"
     },
     "output_type": "display_data"
    }
   ],
   "source": [
    "\n",
    "cm2 = confusion_matrix(y_val, mnba.predict(X_val_vec))\n",
    "# Plot the Confusion Matrix with a smaller size\n",
    "fig, ax = plt.subplots(figsize=(4, 4))  \n",
    "ConfusionMatrixDisplay(confusion_matrix=cm2, display_labels= mnba.classes_).plot(ax=ax)\n",
    "\n",
    "# Show the plot\n",
    "plt.show()"
   ]
  },
  {
   "cell_type": "code",
   "execution_count": 96,
   "metadata": {
    "scrolled": true
   },
   "outputs": [
    {
     "name": "stderr",
     "output_type": "stream",
     "text": [
      "/Users/DonJuve/anaconda3/envs/learn-env/lib/python3.8/site-packages/sklearn/metrics/_classification.py:1471: UndefinedMetricWarning: Precision is ill-defined and being set to 0.0 in labels with no predicted samples. Use `zero_division` parameter to control this behavior.\n",
      "  _warn_prf(average, modifier, msg_start, len(result))\n",
      "/Users/DonJuve/anaconda3/envs/learn-env/lib/python3.8/site-packages/sklearn/metrics/_classification.py:1471: UndefinedMetricWarning: Precision is ill-defined and being set to 0.0 in labels with no predicted samples. Use `zero_division` parameter to control this behavior.\n",
      "  _warn_prf(average, modifier, msg_start, len(result))\n",
      "/Users/DonJuve/anaconda3/envs/learn-env/lib/python3.8/site-packages/sklearn/metrics/_classification.py:1471: UndefinedMetricWarning: Precision is ill-defined and being set to 0.0 in labels with no predicted samples. Use `zero_division` parameter to control this behavior.\n",
      "  _warn_prf(average, modifier, msg_start, len(result))\n",
      "/Users/DonJuve/anaconda3/envs/learn-env/lib/python3.8/site-packages/sklearn/metrics/_classification.py:1471: UndefinedMetricWarning: Precision is ill-defined and being set to 0.0 in labels with no predicted samples. Use `zero_division` parameter to control this behavior.\n",
      "  _warn_prf(average, modifier, msg_start, len(result))\n",
      "/Users/DonJuve/anaconda3/envs/learn-env/lib/python3.8/site-packages/sklearn/metrics/_classification.py:1471: UndefinedMetricWarning: Precision is ill-defined and being set to 0.0 in labels with no predicted samples. Use `zero_division` parameter to control this behavior.\n",
      "  _warn_prf(average, modifier, msg_start, len(result))\n",
      "/Users/DonJuve/anaconda3/envs/learn-env/lib/python3.8/site-packages/sklearn/metrics/_classification.py:1471: UndefinedMetricWarning: Precision is ill-defined and being set to 0.0 in labels with no predicted samples. Use `zero_division` parameter to control this behavior.\n",
      "  _warn_prf(average, modifier, msg_start, len(result))\n",
      "/Users/DonJuve/anaconda3/envs/learn-env/lib/python3.8/site-packages/sklearn/metrics/_classification.py:1471: UndefinedMetricWarning: Precision is ill-defined and being set to 0.0 in labels with no predicted samples. Use `zero_division` parameter to control this behavior.\n",
      "  _warn_prf(average, modifier, msg_start, len(result))\n",
      "/Users/DonJuve/anaconda3/envs/learn-env/lib/python3.8/site-packages/sklearn/metrics/_classification.py:1471: UndefinedMetricWarning: Precision is ill-defined and being set to 0.0 in labels with no predicted samples. Use `zero_division` parameter to control this behavior.\n",
      "  _warn_prf(average, modifier, msg_start, len(result))\n",
      "/Users/DonJuve/anaconda3/envs/learn-env/lib/python3.8/site-packages/sklearn/metrics/_classification.py:1471: UndefinedMetricWarning: Precision is ill-defined and being set to 0.0 in labels with no predicted samples. Use `zero_division` parameter to control this behavior.\n",
      "  _warn_prf(average, modifier, msg_start, len(result))\n",
      "/Users/DonJuve/anaconda3/envs/learn-env/lib/python3.8/site-packages/sklearn/metrics/_classification.py:1471: UndefinedMetricWarning: Precision is ill-defined and being set to 0.0 in labels with no predicted samples. Use `zero_division` parameter to control this behavior.\n",
      "  _warn_prf(average, modifier, msg_start, len(result))\n",
      "/Users/DonJuve/anaconda3/envs/learn-env/lib/python3.8/site-packages/sklearn/metrics/_classification.py:1471: UndefinedMetricWarning: Precision is ill-defined and being set to 0.0 in labels with no predicted samples. Use `zero_division` parameter to control this behavior.\n",
      "  _warn_prf(average, modifier, msg_start, len(result))\n",
      "/Users/DonJuve/anaconda3/envs/learn-env/lib/python3.8/site-packages/sklearn/metrics/_classification.py:1471: UndefinedMetricWarning: Precision is ill-defined and being set to 0.0 in labels with no predicted samples. Use `zero_division` parameter to control this behavior.\n",
      "  _warn_prf(average, modifier, msg_start, len(result))\n",
      "/Users/DonJuve/anaconda3/envs/learn-env/lib/python3.8/site-packages/sklearn/metrics/_classification.py:1471: UndefinedMetricWarning: Precision is ill-defined and being set to 0.0 in labels with no predicted samples. Use `zero_division` parameter to control this behavior.\n",
      "  _warn_prf(average, modifier, msg_start, len(result))\n",
      "/Users/DonJuve/anaconda3/envs/learn-env/lib/python3.8/site-packages/sklearn/metrics/_classification.py:1471: UndefinedMetricWarning: Precision is ill-defined and being set to 0.0 in labels with no predicted samples. Use `zero_division` parameter to control this behavior.\n",
      "  _warn_prf(average, modifier, msg_start, len(result))\n",
      "/Users/DonJuve/anaconda3/envs/learn-env/lib/python3.8/site-packages/sklearn/metrics/_classification.py:1471: UndefinedMetricWarning: Precision is ill-defined and being set to 0.0 in labels with no predicted samples. Use `zero_division` parameter to control this behavior.\n",
      "  _warn_prf(average, modifier, msg_start, len(result))\n",
      "/Users/DonJuve/anaconda3/envs/learn-env/lib/python3.8/site-packages/sklearn/metrics/_classification.py:1471: UndefinedMetricWarning: Precision is ill-defined and being set to 0.0 in labels with no predicted samples. Use `zero_division` parameter to control this behavior.\n",
      "  _warn_prf(average, modifier, msg_start, len(result))\n",
      "/Users/DonJuve/anaconda3/envs/learn-env/lib/python3.8/site-packages/sklearn/metrics/_classification.py:1471: UndefinedMetricWarning: Precision is ill-defined and being set to 0.0 in labels with no predicted samples. Use `zero_division` parameter to control this behavior.\n",
      "  _warn_prf(average, modifier, msg_start, len(result))\n",
      "/Users/DonJuve/anaconda3/envs/learn-env/lib/python3.8/site-packages/sklearn/metrics/_classification.py:1471: UndefinedMetricWarning: Precision is ill-defined and being set to 0.0 in labels with no predicted samples. Use `zero_division` parameter to control this behavior.\n",
      "  _warn_prf(average, modifier, msg_start, len(result))\n",
      "/Users/DonJuve/anaconda3/envs/learn-env/lib/python3.8/site-packages/sklearn/metrics/_classification.py:1471: UndefinedMetricWarning: Precision is ill-defined and being set to 0.0 in labels with no predicted samples. Use `zero_division` parameter to control this behavior.\n",
      "  _warn_prf(average, modifier, msg_start, len(result))\n"
     ]
    },
    {
     "name": "stdout",
     "output_type": "stream",
     "text": [
      "Best parameters found:  {'alpha': 0.1}\n",
      "Best cross-validated precision: 0.55\n"
     ]
    },
    {
     "name": "stderr",
     "output_type": "stream",
     "text": [
      "/Users/DonJuve/anaconda3/envs/learn-env/lib/python3.8/site-packages/sklearn/metrics/_classification.py:1471: UndefinedMetricWarning: Precision is ill-defined and being set to 0.0 in labels with no predicted samples. Use `zero_division` parameter to control this behavior.\n",
      "  _warn_prf(average, modifier, msg_start, len(result))\n"
     ]
    }
   ],
   "source": [
    "from sklearn.model_selection import GridSearchCV\n",
    "from sklearn.metrics import make_scorer\n",
    "# Define the parameter grid\n",
    "param_grid = {\n",
    "    'alpha': [0.1, 0.5, 1.0, 2.0]  \n",
    "}\n",
    "\n",
    "# Define the precision scoring with average='weighted'\n",
    "precision_scorer = make_scorer(precision_score, average='weighted')\n",
    "\n",
    "# Create GridSearchCV\n",
    "grid_search = GridSearchCV(mnba, param_grid, cv=5, scoring=precision_scorer)\n",
    "\n",
    "# Fit the grid search to the data\n",
    "grid_search.fit(X_t_vec, y_t)\n",
    "\n",
    "# Print the best parameters found\n",
    "print(\"Best parameters found: \", grid_search.best_params_)\n",
    "\n",
    "# Print the best cross-validated precision score\n",
    "print(\"Best cross-validated precision: {:.2f}\".format(grid_search.best_score_))\n"
   ]
  },
  {
   "cell_type": "code",
   "execution_count": 97,
   "metadata": {},
   "outputs": [
    {
     "name": "stderr",
     "output_type": "stream",
     "text": [
      "/Users/DonJuve/anaconda3/envs/learn-env/lib/python3.8/site-packages/sklearn/metrics/_classification.py:1471: UndefinedMetricWarning: Precision is ill-defined and being set to 0.0 in labels with no predicted samples. Use `zero_division` parameter to control this behavior.\n",
      "  _warn_prf(average, modifier, msg_start, len(result))\n"
     ]
    },
    {
     "data": {
      "text/plain": [
       "0.5436030450794752"
      ]
     },
     "execution_count": 97,
     "metadata": {},
     "output_type": "execute_result"
    }
   ],
   "source": [
    "#Trainning the model with the best parameters\n",
    "mnba = MultinomialNB(alpha=0.1)\n",
    "\n",
    "mnba.fit(X_t_vec, y_t)\n",
    "y_hat = mnba.predict(X_val_vec)\n",
    "\n",
    "precision_score(y_val, y_hat, average='weighted')"
   ]
  },
  {
   "cell_type": "markdown",
   "metadata": {},
   "source": [
    "## Features importances"
   ]
  },
  {
   "cell_type": "code",
   "execution_count": null,
   "metadata": {},
   "outputs": [],
   "source": []
  },
  {
   "cell_type": "code",
   "execution_count": 98,
   "metadata": {},
   "outputs": [],
   "source": [
    "#pd.DataFrame.sparse.from_spmatrix(X_t_vec, columns=tfidf.get_feature_names_out())"
   ]
  },
  {
   "cell_type": "markdown",
   "metadata": {},
   "source": [
    "## Comparaison with Random Forest"
   ]
  },
  {
   "cell_type": "code",
   "execution_count": 99,
   "metadata": {},
   "outputs": [
    {
     "name": "stderr",
     "output_type": "stream",
     "text": [
      "/Users/DonJuve/anaconda3/envs/learn-env/lib/python3.8/site-packages/sklearn/metrics/_classification.py:1471: UndefinedMetricWarning: Precision is ill-defined and being set to 0.0 in labels with no predicted samples. Use `zero_division` parameter to control this behavior.\n",
      "  _warn_prf(average, modifier, msg_start, len(result))\n"
     ]
    },
    {
     "data": {
      "text/plain": [
       "0.5527764958512179"
      ]
     },
     "execution_count": 99,
     "metadata": {},
     "output_type": "execute_result"
    }
   ],
   "source": [
    "rf = RandomForestClassifier(n_estimators=800, max_depth=5)\n",
    "rf.fit(X_t_vec, y_t)\n",
    "y_hat = rf.predict(X_val_vec)\n",
    "precision_score(y_val, y_hat, average=\"weighted\")\n"
   ]
  },
  {
   "cell_type": "markdown",
   "metadata": {},
   "source": [
    "from sklearn.metrics import make_scorer, precision_score\n",
    "\n",
    "# Define the parameter grid\n",
    "param_grid = {\n",
    "    'n_estimators': [100, 200, 400, 800],\n",
    "    'max_depth': [3, 5, 7],\n",
    "    'min_samples_split': [2, 5, 10],\n",
    "    'min_samples_leaf': [1, 2, 4]\n",
    "}\n",
    "\n",
    "# Create a RandomForestClassifier\n",
    "rf = RandomForestClassifier()\n",
    "\n",
    "# Define the precision scoring with average='weighted'\n",
    "precision_scorer = make_scorer(precision_score, average='weighted')\n",
    "\n",
    "# Create GridSearchCV\n",
    "grid_search = GridSearchCV(rf, param_grid, cv=5, scoring=precision_scorer)\n",
    "\n",
    "# Fit the grid search to the data\n",
    "grid_search.fit(X_t_vec, y_t)\n",
    "\n",
    "# Print the best parameters found\n",
    "print(\"Best parameters found: \", grid_search.best_params_)\n",
    "\n",
    "# Print the best cross-validated precision score\n",
    "print(\"Best cross-validated precision: {:.2f}\".format(grid_search.best_score_))"
   ]
  },
  {
   "cell_type": "code",
   "execution_count": null,
   "metadata": {},
   "outputs": [],
   "source": []
  },
  {
   "cell_type": "markdown",
   "metadata": {},
   "source": [
    "##  Model with Multiclass classification with class weights "
   ]
  },
  {
   "cell_type": "code",
   "execution_count": 100,
   "metadata": {},
   "outputs": [],
   "source": [
    "# Calculate class weights\n",
    "class_weights = compute_sample_weight('balanced', y_train)\n",
    "# Ensure class_weights has the correct length\n",
    "class_weights = class_weights[:X_t_vec.shape[0]]\n"
   ]
  },
  {
   "cell_type": "code",
   "execution_count": 101,
   "metadata": {
    "scrolled": true
   },
   "outputs": [
    {
     "name": "stderr",
     "output_type": "stream",
     "text": [
      "/Users/DonJuve/anaconda3/envs/learn-env/lib/python3.8/site-packages/sklearn/metrics/_classification.py:1471: UndefinedMetricWarning: Precision is ill-defined and being set to 0.0 in labels with no predicted samples. Use `zero_division` parameter to control this behavior.\n",
      "  _warn_prf(average, modifier, msg_start, len(result))\n"
     ]
    },
    {
     "data": {
      "text/plain": [
       "0.5436030450794752"
      ]
     },
     "execution_count": 101,
     "metadata": {},
     "output_type": "execute_result"
    }
   ],
   "source": [
    "\n",
    "# Calculate class weights\n",
    "class_weights = compute_sample_weight('balanced', y_train)\n",
    "# Ensure class_weights has the correct length\n",
    "class_weights = class_weights[:X_t_vec.shape[0]]\n",
    "\n",
    "\n",
    "mnba_cw = MultinomialNB(class_prior=None)\n",
    "\n",
    "mnba_cw.fit(X_t_vec, y_t, sample_weight=class_weights)\n",
    "y_hat_cw = mnba.predict(X_val_vec)\n",
    "\n",
    "precision_score(y_val, y_hat_cw, average='weighted')\n",
    "\n",
    "#mnba.fit(X_t_vec, y_t)\n",
    "#y_hat = mnba.predict(X_val_vec)\n",
    "\n",
    "#precision_score(y_val, y_hat, average='weighted')"
   ]
  },
  {
   "cell_type": "code",
   "execution_count": null,
   "metadata": {},
   "outputs": [],
   "source": []
  },
  {
   "cell_type": "code",
   "execution_count": 102,
   "metadata": {
    "scrolled": false
   },
   "outputs": [
    {
     "data": {
      "image/png": "[encoded data removed]",
      "text/plain": [
       "<Figure size 288x288 with 2 Axes>"
      ]
     },
     "metadata": {
      "needs_background": "light"
     },
     "output_type": "display_data"
    }
   ],
   "source": [
    "cm_cw = confusion_matrix(y_val, mnba.predict(X_val_vec))\n",
    "# Plot the Confusion Matrix with a smaller size\n",
    "fig, ax = plt.subplots(figsize=(4, 4))  \n",
    "ConfusionMatrixDisplay(confusion_matrix=cm_cw, display_labels= mnba_cw.classes_).plot(ax=ax)\n",
    "\n",
    "# Show the plot\n",
    "plt.show()"
   ]
  },
  {
   "cell_type": "code",
   "execution_count": 103,
   "metadata": {},
   "outputs": [
    {
     "name": "stdout",
     "output_type": "stream",
     "text": [
      "Requirement already up-to-date: imbalanced-learn in /Users/DonJuve/anaconda3/envs/learn-env/lib/python3.8/site-packages (0.11.0)\n",
      "Requirement already satisfied, skipping upgrade: scipy>=1.5.0 in /Users/DonJuve/anaconda3/envs/learn-env/lib/python3.8/site-packages (from imbalanced-learn) (1.5.2)\n",
      "Requirement already satisfied, skipping upgrade: joblib>=1.1.1 in /Users/DonJuve/anaconda3/envs/learn-env/lib/python3.8/site-packages (from imbalanced-learn) (1.3.2)\n",
      "Requirement already satisfied, skipping upgrade: scikit-learn>=1.0.2 in /Users/DonJuve/anaconda3/envs/learn-env/lib/python3.8/site-packages (from imbalanced-learn) (1.3.2)\n",
      "Requirement already satisfied, skipping upgrade: threadpoolctl>=2.0.0 in /Users/DonJuve/anaconda3/envs/learn-env/lib/python3.8/site-packages (from imbalanced-learn) (2.1.0)\n",
      "Requirement already satisfied, skipping upgrade: numpy>=1.17.3 in /Users/DonJuve/anaconda3/envs/learn-env/lib/python3.8/site-packages (from imbalanced-learn) (1.18.5)\n",
      "Note: you may need to restart the kernel to use updated packages.\n"
     ]
    }
   ],
   "source": [
    "\n",
    "pip install --upgrade imbalanced-learn\n"
   ]
  },
  {
   "cell_type": "markdown",
   "metadata": {},
   "source": [
    "## Model with KMeanSMOTE()"
   ]
  },
  {
   "cell_type": "code",
   "execution_count": 104,
   "metadata": {},
   "outputs": [
    {
     "data": {
      "text/plain": [
       "(5026, 23)"
      ]
     },
     "execution_count": 104,
     "metadata": {},
     "output_type": "execute_result"
    }
   ],
   "source": [
    "X_t_vec.shape"
   ]
  },
  {
   "cell_type": "code",
   "execution_count": 105,
   "metadata": {},
   "outputs": [
    {
     "data": {
      "text/plain": [
       "(5026,)"
      ]
     },
     "execution_count": 105,
     "metadata": {},
     "output_type": "execute_result"
    }
   ],
   "source": [
    "y_t.shape "
   ]
  },
  {
   "cell_type": "code",
   "execution_count": 106,
   "metadata": {},
   "outputs": [],
   "source": [
    "from imblearn.over_sampling import KMeansSMOTE"
   ]
  },
  {
   "cell_type": "markdown",
   "metadata": {
    "scrolled": false
   },
   "source": [
    "# Use KMeansSMOTE to oversample the minority class\n",
    "#sampling_strategy='auto', cluster_balance_threshold=0.1, random_state=42\n",
    "\n",
    "kmeans_smote = KMeansSMOTE()\n",
    "X_t_vec_resampled, y_t_resampled = kmeans_smote.fit_resample(X_t_vec, y_t)\n",
    "\n"
   ]
  },
  {
   "cell_type": "code",
   "execution_count": 108,
   "metadata": {},
   "outputs": [],
   "source": [
    "#X_t_vec_resampled, y_t_resampled = kmeans_smote.fit_resample(X_t_vec, y_t)"
   ]
  },
  {
   "cell_type": "markdown",
   "metadata": {},
   "source": [
    "# Create Multinomial Naive Bayes model\n",
    "mnba_s = MultinomialNB(class_prior=None)\n",
    "\n",
    "# Fit the model with resampled data and class weights\n",
    "mnba_s.fit(X_t_vec_resampled, y_t_resampled)\n",
    "\n",
    "# Make predictions on the validation set\n",
    "y_hat_s = mnba_s.predict(X_val_vec)\n",
    "\n",
    "# Calculate precision score\n",
    "precision = precision_score(y_val, y_hat_s, average='weighted')\n",
    "print(\"KMean Precision Score:\", precision)"
   ]
  },
  {
   "cell_type": "markdown",
   "metadata": {},
   "source": [
    "cm4 = confusion_matrix(y_val, y_hat_s)\n",
    "# Plot the Confusion Matrix with a smaller size\n",
    "fig, ax = plt.subplots(figsize=(4, 4))  \n",
    "ConfusionMatrixDisplay(confusion_matrix=cm4, display_labels= mnba_s.classes_).plot(ax=ax)\n",
    "\n",
    "# Show the plot\n",
    "plt.show()"
   ]
  },
  {
   "cell_type": "markdown",
   "metadata": {},
   "source": [
    "# Model Evaluation on the Test Set"
   ]
  },
  {
   "cell_type": "code",
   "execution_count": 110,
   "metadata": {},
   "outputs": [
    {
     "data": {
      "text/html": [
       "<div>\n",
       "<style scoped>\n",
       "    .dataframe tbody tr th:only-of-type {\n",
       "        vertical-align: middle;\n",
       "    }\n",
       "\n",
       "    .dataframe tbody tr th {\n",
       "        vertical-align: top;\n",
       "    }\n",
       "\n",
       "    .dataframe thead th {\n",
       "        text-align: right;\n",
       "    }\n",
       "</style>\n",
       "<table border=\"1\" class=\"dataframe\">\n",
       "  <thead>\n",
       "    <tr style=\"text-align: right;\">\n",
       "      <th></th>\n",
       "      <th>tweet_text</th>\n",
       "      <th>products</th>\n",
       "      <th>emotions</th>\n",
       "      <th>target</th>\n",
       "    </tr>\n",
       "  </thead>\n",
       "  <tbody>\n",
       "    <tr>\n",
       "      <th>0</th>\n",
       "      <td>.@wesley83 I have a 3G iPhone. After 3 hrs twe...</td>\n",
       "      <td>iPhone</td>\n",
       "      <td>Negative</td>\n",
       "      <td>Negative</td>\n",
       "    </tr>\n",
       "    <tr>\n",
       "      <th>1</th>\n",
       "      <td>@jessedee Know about @fludapp ? Awesome iPad/i...</td>\n",
       "      <td>iPad or iPhone App</td>\n",
       "      <td>Positive</td>\n",
       "      <td>Positive</td>\n",
       "    </tr>\n",
       "    <tr>\n",
       "      <th>2</th>\n",
       "      <td>@swonderlin Can not wait for #iPad 2 also. The...</td>\n",
       "      <td>iPad</td>\n",
       "      <td>Positive</td>\n",
       "      <td>Positive</td>\n",
       "    </tr>\n",
       "    <tr>\n",
       "      <th>3</th>\n",
       "      <td>@sxsw I hope this year's festival isn't as cra...</td>\n",
       "      <td>iPad or iPhone App</td>\n",
       "      <td>Negative</td>\n",
       "      <td>Negative</td>\n",
       "    </tr>\n",
       "    <tr>\n",
       "      <th>4</th>\n",
       "      <td>@sxtxstate great stuff on Fri #SXSW: Marissa M...</td>\n",
       "      <td>Google</td>\n",
       "      <td>Positive</td>\n",
       "      <td>Positive</td>\n",
       "    </tr>\n",
       "    <tr>\n",
       "      <th>...</th>\n",
       "      <td>...</td>\n",
       "      <td>...</td>\n",
       "      <td>...</td>\n",
       "      <td>...</td>\n",
       "    </tr>\n",
       "    <tr>\n",
       "      <th>9088</th>\n",
       "      <td>Ipad everywhere. #SXSW {link}</td>\n",
       "      <td>iPad</td>\n",
       "      <td>Positive</td>\n",
       "      <td>Positive</td>\n",
       "    </tr>\n",
       "    <tr>\n",
       "      <th>9089</th>\n",
       "      <td>Wave, buzz... RT @mention We interrupt your re...</td>\n",
       "      <td>NaN</td>\n",
       "      <td>No</td>\n",
       "      <td>No</td>\n",
       "    </tr>\n",
       "    <tr>\n",
       "      <th>9090</th>\n",
       "      <td>Google's Zeiger, a physician never reported po...</td>\n",
       "      <td>NaN</td>\n",
       "      <td>No</td>\n",
       "      <td>No</td>\n",
       "    </tr>\n",
       "    <tr>\n",
       "      <th>9091</th>\n",
       "      <td>Some Verizon iPhone customers complained their...</td>\n",
       "      <td>NaN</td>\n",
       "      <td>No</td>\n",
       "      <td>No</td>\n",
       "    </tr>\n",
       "    <tr>\n",
       "      <th>9092</th>\n",
       "      <td>Ï¡Ïàü_ÊÎÒ£Áââ_£â_ÛâRT @...</td>\n",
       "      <td>NaN</td>\n",
       "      <td>No</td>\n",
       "      <td>No</td>\n",
       "    </tr>\n",
       "  </tbody>\n",
       "</table>\n",
       "<p>8936 rows × 4 columns</p>\n",
       "</div>"
      ],
      "text/plain": [
       "                                             tweet_text            products  \\\n",
       "0     .@wesley83 I have a 3G iPhone. After 3 hrs twe...              iPhone   \n",
       "1     @jessedee Know about @fludapp ? Awesome iPad/i...  iPad or iPhone App   \n",
       "2     @swonderlin Can not wait for #iPad 2 also. The...                iPad   \n",
       "3     @sxsw I hope this year's festival isn't as cra...  iPad or iPhone App   \n",
       "4     @sxtxstate great stuff on Fri #SXSW: Marissa M...              Google   \n",
       "...                                                 ...                 ...   \n",
       "9088                      Ipad everywhere. #SXSW {link}                iPad   \n",
       "9089  Wave, buzz... RT @mention We interrupt your re...                 NaN   \n",
       "9090  Google's Zeiger, a physician never reported po...                 NaN   \n",
       "9091  Some Verizon iPhone customers complained their...                 NaN   \n",
       "9092  Ï¡Ïàü_ÊÎÒ£Áââ_£â_ÛâRT @...                 NaN   \n",
       "\n",
       "      emotions    target  \n",
       "0     Negative  Negative  \n",
       "1     Positive  Positive  \n",
       "2     Positive  Positive  \n",
       "3     Negative  Negative  \n",
       "4     Positive  Positive  \n",
       "...        ...       ...  \n",
       "9088  Positive  Positive  \n",
       "9089        No        No  \n",
       "9090        No        No  \n",
       "9091        No        No  \n",
       "9092        No        No  \n",
       "\n",
       "[8936 rows x 4 columns]"
      ]
     },
     "execution_count": 110,
     "metadata": {},
     "output_type": "execute_result"
    }
   ],
   "source": [
    "df2"
   ]
  },
  {
   "cell_type": "markdown",
   "metadata": {},
   "source": [
    "X_val_df = pd.DataFrame(X_val_vec.toarray(), columns=tfidf.get_feature_names_out())\n",
    "final_X_test = pd.concat([\n",
    "    X_val_df, X_t[[\"num_sentences\", \"contains_price\", \"contains_emoticon\"]]\n",
    "], axis=1)\n",
    "final_X_test"
   ]
  },
  {
   "cell_type": "code",
   "execution_count": 111,
   "metadata": {},
   "outputs": [
    {
     "data": {
      "text/plain": [
       "iPad                               942\n",
       "Apple                              659\n",
       "iPad or iPhone App                 470\n",
       "Google                             429\n",
       "iPhone                             296\n",
       "Other Google product or service    292\n",
       "Android App                         81\n",
       "Android                             78\n",
       "Other Apple product or service      35\n",
       "Name: products, dtype: int64"
      ]
     },
     "execution_count": 111,
     "metadata": {},
     "output_type": "execute_result"
    }
   ],
   "source": [
    "df2['products'].value_counts()"
   ]
  },
  {
   "cell_type": "code",
   "execution_count": 113,
   "metadata": {},
   "outputs": [
    {
     "data": {
      "text/plain": [
       "No          5388\n",
       "Positive    2978\n",
       "Negative     570\n",
       "Name: target, dtype: int64"
      ]
     },
     "execution_count": 113,
     "metadata": {},
     "output_type": "execute_result"
    }
   ],
   "source": [
    "df2['target'].value_counts()"
   ]
  },
  {
   "cell_type": "code",
   "execution_count": null,
   "metadata": {},
   "outputs": [],
   "source": []
  },
  {
   "cell_type": "code",
   "execution_count": 124,
   "metadata": {},
   "outputs": [
    {
     "data": {
      "image/png": "[encoded data removed]",
      "text/plain": [
       "<Figure size 864x576 with 1 Axes>"
      ]
     },
     "metadata": {
      "needs_background": "light"
     },
     "output_type": "display_data"
    }
   ],
   "source": [
    "import seaborn as sns\n",
    "import matplotlib.pyplot as plt\n",
    "\n",
    "# Assuming df2 is your DataFrame\n",
    "plt.figure(figsize=(12, 8))\n",
    "\n",
    "# Create a count plot to show the distribution\n",
    "sns.countplot(x='products', hue='target', data=df2)\n",
    "\n",
    "# Set labels and title\n",
    "plt.xlabel('Products')\n",
    "plt.ylabel('Count')\n",
    "plt.title('Distribution of Sentiments for Each Product')\n",
    "\n",
    "# Show the plot\n",
    "plt.xticks(rotation=45, ha='right')\n",
    "plt.legend(title='Sentiment')\n",
    "plt.tight_layout()\n",
    "plt.show()"
   ]
  },
  {
   "cell_type": "code",
   "execution_count": 127,
   "metadata": {
    "scrolled": true
   },
   "outputs": [
    {
     "data": {
      "image/png": "[encoded data removed]",
      "text/plain": [
       "<Figure size 576x432 with 1 Axes>"
      ]
     },
     "metadata": {
      "needs_background": "light"
     },
     "output_type": "display_data"
    }
   ],
   "source": [
    "import pandas as pd\n",
    "import seaborn as sns\n",
    "import matplotlib.pyplot as plt\n",
    "\n",
    "# Assuming df2 is your DataFrame\n",
    "# Create a new column 'product_g' based on grouping\n",
    "product_mapping = {\n",
    "    'iPad': 'Apple',\n",
    "    'Apple': 'Apple',\n",
    "    'iPad or iPhone App': 'Apple',\n",
    "    'iPhone': 'Apple',\n",
    "    'Other Apple product or service': 'Apple',\n",
    "    'Google': 'Google',\n",
    "    'Other Google product or service': 'Google',\n",
    "    'Android App': 'Google',\n",
    "    'Android': 'Google'\n",
    "}\n",
    "\n",
    "df2['product_g'] = df2['products'].map(product_mapping)\n",
    "\n",
    "# Plot the distribution using the new 'product_g' column\n",
    "plt.figure(figsize=(8, 6))\n",
    "sns.countplot(x='product_g', hue='target', data=df2)\n",
    "\n",
    "# Set labels and title\n",
    "plt.xlabel('Grouped Products')\n",
    "plt.ylabel('Count')\n",
    "plt.title('Distribution of Sentiments for Grouped Products')\n",
    "\n",
    "# Show the plot\n",
    "plt.xticks(rotation=45, ha='right')\n",
    "plt.legend(title='Sentiment')\n",
    "plt.tight_layout()\n",
    "plt.show()"
   ]
  },
  {
   "cell_type": "code",
   "execution_count": 126,
   "metadata": {},
   "outputs": [
    {
     "data": {
      "text/plain": [
       "Apple     2402\n",
       "Google     880\n",
       "Name: product_g, dtype: int64"
      ]
     },
     "execution_count": 126,
     "metadata": {},
     "output_type": "execute_result"
    }
   ],
   "source": [
    "df2['product_g'].value_counts()"
   ]
  },
  {
   "cell_type": "code",
   "execution_count": 118,
   "metadata": {},
   "outputs": [
    {
     "data": {
      "text/plain": [
       "5654"
      ]
     },
     "execution_count": 118,
     "metadata": {},
     "output_type": "execute_result"
    }
   ],
   "source": [
    "df2['product_g'].isna().sum()"
   ]
  },
  {
   "cell_type": "code",
   "execution_count": null,
   "metadata": {},
   "outputs": [],
   "source": []
  }
 ],
 "metadata": {
  "kernelspec": {
   "display_name": "Python (learn-env)",
   "language": "python",
   "name": "learn-env"
  },
  "language_info": {
   "codemirror_mode": {
    "name": "ipython",
    "version": 3
   },
   "file_extension": ".py",
   "mimetype": "text/x-python",
   "name": "python",
   "nbconvert_exporter": "python",
   "pygments_lexer": "ipython3",
   "version": "3.8.5"
  }
 },
 "nbformat": 4,
 "nbformat_minor": 4
}
