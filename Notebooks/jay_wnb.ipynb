{
 "cells": [
  {
   "cell_type": "code",
   "execution_count": 60,
   "metadata": {},
   "outputs": [
    {
     "name": "stderr",
     "output_type": "stream",
     "text": [
      "[nltk_data] Downloading package wordnet to /Users/jayiraj/nltk_data...\n",
      "[nltk_data]   Package wordnet is already up-to-date!\n",
      "[nltk_data] Downloading package tagsets to /Users/jayiraj/nltk_data...\n",
      "[nltk_data]   Package tagsets is already up-to-date!\n",
      "[nltk_data] Downloading package averaged_perceptron_tagger to\n",
      "[nltk_data]     /Users/jayiraj/nltk_data...\n",
      "[nltk_data]   Package averaged_perceptron_tagger is already up-to-\n",
      "[nltk_data]       date!\n"
     ]
    },
    {
     "data": {
      "text/plain": [
       "True"
      ]
     },
     "execution_count": 60,
     "metadata": {},
     "output_type": "execute_result"
    }
   ],
   "source": [
    "from collections import defaultdict\n",
    "import numpy as np\n",
    "import pandas as pd\n",
    "from sklearn.model_selection import train_test_split\n",
    "from nltk.probability import FreqDist\n",
    "from nltk.corpus import stopwords\n",
    "from nltk.tokenize import regexp_tokenize, word_tokenize, RegexpTokenizer, TweetTokenizer \n",
    "  \n",
    "from nltk import pos_tag\n",
    "from nltk.corpus import stopwords, wordnet\n",
    "from nltk.stem import WordNetLemmatizer\n",
    "import matplotlib.pyplot as plt\n",
    "import string\n",
    "import re\n",
    "from sklearn.ensemble import RandomForestClassifier\n",
    "from sklearn.naive_bayes import MultinomialNB\n",
    "from sklearn.metrics import accuracy_score, precision_score, ConfusionMatrixDisplay, confusion_matrix, recall_score, f1_score\n",
    "from sklearn.utils.class_weight import compute_sample_weight\n",
    "\n",
    "# Notice that these vectorizers are from `sklearn` and not `nltk`!\n",
    "from sklearn.feature_extraction.text import CountVectorizer, TfidfVectorizer,HashingVectorizer\n",
    "\n",
    "import nltk\n",
    "nltk.download('wordnet')\n",
    "nltk.download('tagsets')\n",
    "nltk.download('averaged_perceptron_tagger')"
   ]
  },
  {
   "cell_type": "code",
   "execution_count": 61,
   "metadata": {},
   "outputs": [],
   "source": [
    "df= pd.read_csv('../data/judge-1377884607_tweet_product_company.csv', encoding='latin1')"
   ]
  },
  {
   "cell_type": "code",
   "execution_count": null,
   "metadata": {
    "scrolled": true
   },
   "outputs": [],
   "source": []
  },
  {
   "cell_type": "code",
   "execution_count": 62,
   "metadata": {
    "scrolled": false
   },
   "outputs": [
    {
     "data": {
      "text/html": [
       "<div>\n",
       "<style scoped>\n",
       "    .dataframe tbody tr th:only-of-type {\n",
       "        vertical-align: middle;\n",
       "    }\n",
       "\n",
       "    .dataframe tbody tr th {\n",
       "        vertical-align: top;\n",
       "    }\n",
       "\n",
       "    .dataframe thead th {\n",
       "        text-align: right;\n",
       "    }\n",
       "</style>\n",
       "<table border=\"1\" class=\"dataframe\">\n",
       "  <thead>\n",
       "    <tr style=\"text-align: right;\">\n",
       "      <th></th>\n",
       "      <th>tweet_text</th>\n",
       "      <th>products</th>\n",
       "      <th>emotions</th>\n",
       "    </tr>\n",
       "  </thead>\n",
       "  <tbody>\n",
       "    <tr>\n",
       "      <th>0</th>\n",
       "      <td>.@wesley83 I have a 3G iPhone. After 3 hrs twe...</td>\n",
       "      <td>iPhone</td>\n",
       "      <td>Negative emotion</td>\n",
       "    </tr>\n",
       "    <tr>\n",
       "      <th>1</th>\n",
       "      <td>@jessedee Know about @fludapp ? Awesome iPad/i...</td>\n",
       "      <td>iPad or iPhone App</td>\n",
       "      <td>Positive emotion</td>\n",
       "    </tr>\n",
       "    <tr>\n",
       "      <th>2</th>\n",
       "      <td>@swonderlin Can not wait for #iPad 2 also. The...</td>\n",
       "      <td>iPad</td>\n",
       "      <td>Positive emotion</td>\n",
       "    </tr>\n",
       "    <tr>\n",
       "      <th>3</th>\n",
       "      <td>@sxsw I hope this year's festival isn't as cra...</td>\n",
       "      <td>iPad or iPhone App</td>\n",
       "      <td>Negative emotion</td>\n",
       "    </tr>\n",
       "    <tr>\n",
       "      <th>4</th>\n",
       "      <td>@sxtxstate great stuff on Fri #SXSW: Marissa M...</td>\n",
       "      <td>Google</td>\n",
       "      <td>Positive emotion</td>\n",
       "    </tr>\n",
       "  </tbody>\n",
       "</table>\n",
       "</div>"
      ],
      "text/plain": [
       "                                          tweet_text            products  \\\n",
       "0  .@wesley83 I have a 3G iPhone. After 3 hrs twe...              iPhone   \n",
       "1  @jessedee Know about @fludapp ? Awesome iPad/i...  iPad or iPhone App   \n",
       "2  @swonderlin Can not wait for #iPad 2 also. The...                iPad   \n",
       "3  @sxsw I hope this year's festival isn't as cra...  iPad or iPhone App   \n",
       "4  @sxtxstate great stuff on Fri #SXSW: Marissa M...              Google   \n",
       "\n",
       "           emotions  \n",
       "0  Negative emotion  \n",
       "1  Positive emotion  \n",
       "2  Positive emotion  \n",
       "3  Negative emotion  \n",
       "4  Positive emotion  "
      ]
     },
     "execution_count": 62,
     "metadata": {},
     "output_type": "execute_result"
    }
   ],
   "source": [
    "# Rename the columns\n",
    "df = df.rename(columns={\n",
    "    'emotion_in_tweet_is_directed_at': 'products',\n",
    "    'is_there_an_emotion_directed_at_a_brand_or_product': 'emotions'\n",
    "})\n",
    "\n",
    "df.head()"
   ]
  },
  {
   "cell_type": "code",
   "execution_count": 63,
   "metadata": {},
   "outputs": [],
   "source": [
    "df2 = df.copy()"
   ]
  },
  {
   "cell_type": "code",
   "execution_count": 64,
   "metadata": {
    "scrolled": true
   },
   "outputs": [
    {
     "data": {
      "text/plain": [
       "No emotion toward brand or product    5389\n",
       "Positive emotion                      2978\n",
       "Negative emotion                       570\n",
       "I can't tell                           156\n",
       "Name: emotions, dtype: int64"
      ]
     },
     "execution_count": 64,
     "metadata": {},
     "output_type": "execute_result"
    }
   ],
   "source": [
    "df['emotions'].value_counts()"
   ]
  },
  {
   "cell_type": "code",
   "execution_count": 65,
   "metadata": {},
   "outputs": [
    {
     "data": {
      "text/html": [
       "<div>\n",
       "<style scoped>\n",
       "    .dataframe tbody tr th:only-of-type {\n",
       "        vertical-align: middle;\n",
       "    }\n",
       "\n",
       "    .dataframe tbody tr th {\n",
       "        vertical-align: top;\n",
       "    }\n",
       "\n",
       "    .dataframe thead th {\n",
       "        text-align: right;\n",
       "    }\n",
       "</style>\n",
       "<table border=\"1\" class=\"dataframe\">\n",
       "  <thead>\n",
       "    <tr style=\"text-align: right;\">\n",
       "      <th></th>\n",
       "      <th>tweet_text</th>\n",
       "      <th>products</th>\n",
       "      <th>emotions</th>\n",
       "    </tr>\n",
       "  </thead>\n",
       "  <tbody>\n",
       "    <tr>\n",
       "      <th>0</th>\n",
       "      <td>.@wesley83 I have a 3G iPhone. After 3 hrs twe...</td>\n",
       "      <td>iPhone</td>\n",
       "      <td>Negative emotion</td>\n",
       "    </tr>\n",
       "    <tr>\n",
       "      <th>1</th>\n",
       "      <td>@jessedee Know about @fludapp ? Awesome iPad/i...</td>\n",
       "      <td>iPad or iPhone App</td>\n",
       "      <td>Positive emotion</td>\n",
       "    </tr>\n",
       "    <tr>\n",
       "      <th>2</th>\n",
       "      <td>@swonderlin Can not wait for #iPad 2 also. The...</td>\n",
       "      <td>iPad</td>\n",
       "      <td>Positive emotion</td>\n",
       "    </tr>\n",
       "    <tr>\n",
       "      <th>3</th>\n",
       "      <td>@sxsw I hope this year's festival isn't as cra...</td>\n",
       "      <td>iPad or iPhone App</td>\n",
       "      <td>Negative emotion</td>\n",
       "    </tr>\n",
       "    <tr>\n",
       "      <th>4</th>\n",
       "      <td>@sxtxstate great stuff on Fri #SXSW: Marissa M...</td>\n",
       "      <td>Google</td>\n",
       "      <td>Positive emotion</td>\n",
       "    </tr>\n",
       "    <tr>\n",
       "      <th>...</th>\n",
       "      <td>...</td>\n",
       "      <td>...</td>\n",
       "      <td>...</td>\n",
       "    </tr>\n",
       "    <tr>\n",
       "      <th>9088</th>\n",
       "      <td>Ipad everywhere. #SXSW {link}</td>\n",
       "      <td>iPad</td>\n",
       "      <td>Positive emotion</td>\n",
       "    </tr>\n",
       "    <tr>\n",
       "      <th>9089</th>\n",
       "      <td>Wave, buzz... RT @mention We interrupt your re...</td>\n",
       "      <td>NaN</td>\n",
       "      <td>No emotion toward brand or product</td>\n",
       "    </tr>\n",
       "    <tr>\n",
       "      <th>9090</th>\n",
       "      <td>Google's Zeiger, a physician never reported po...</td>\n",
       "      <td>NaN</td>\n",
       "      <td>No emotion toward brand or product</td>\n",
       "    </tr>\n",
       "    <tr>\n",
       "      <th>9091</th>\n",
       "      <td>Some Verizon iPhone customers complained their...</td>\n",
       "      <td>NaN</td>\n",
       "      <td>No emotion toward brand or product</td>\n",
       "    </tr>\n",
       "    <tr>\n",
       "      <th>9092</th>\n",
       "      <td>Ï¡Ïàü_ÊÎÒ£Áââ_£â_ÛâRT @...</td>\n",
       "      <td>NaN</td>\n",
       "      <td>No emotion toward brand or product</td>\n",
       "    </tr>\n",
       "  </tbody>\n",
       "</table>\n",
       "<p>9093 rows × 3 columns</p>\n",
       "</div>"
      ],
      "text/plain": [
       "                                             tweet_text            products  \\\n",
       "0     .@wesley83 I have a 3G iPhone. After 3 hrs twe...              iPhone   \n",
       "1     @jessedee Know about @fludapp ? Awesome iPad/i...  iPad or iPhone App   \n",
       "2     @swonderlin Can not wait for #iPad 2 also. The...                iPad   \n",
       "3     @sxsw I hope this year's festival isn't as cra...  iPad or iPhone App   \n",
       "4     @sxtxstate great stuff on Fri #SXSW: Marissa M...              Google   \n",
       "...                                                 ...                 ...   \n",
       "9088                      Ipad everywhere. #SXSW {link}                iPad   \n",
       "9089  Wave, buzz... RT @mention We interrupt your re...                 NaN   \n",
       "9090  Google's Zeiger, a physician never reported po...                 NaN   \n",
       "9091  Some Verizon iPhone customers complained their...                 NaN   \n",
       "9092  Ï¡Ïàü_ÊÎÒ£Áââ_£â_ÛâRT @...                 NaN   \n",
       "\n",
       "                                emotions  \n",
       "0                       Negative emotion  \n",
       "1                       Positive emotion  \n",
       "2                       Positive emotion  \n",
       "3                       Negative emotion  \n",
       "4                       Positive emotion  \n",
       "...                                  ...  \n",
       "9088                    Positive emotion  \n",
       "9089  No emotion toward brand or product  \n",
       "9090  No emotion toward brand or product  \n",
       "9091  No emotion toward brand or product  \n",
       "9092  No emotion toward brand or product  \n",
       "\n",
       "[9093 rows x 3 columns]"
      ]
     },
     "execution_count": 65,
     "metadata": {},
     "output_type": "execute_result"
    }
   ],
   "source": [
    "df2"
   ]
  },
  {
   "cell_type": "code",
   "execution_count": 66,
   "metadata": {},
   "outputs": [],
   "source": [
    "df = df[df['emotions'].isin(['Positive emotion', 'Negative emotion'])]\n",
    "\n"
   ]
  },
  {
   "cell_type": "code",
   "execution_count": 67,
   "metadata": {},
   "outputs": [
    {
     "data": {
      "text/plain": [
       "Positive emotion    2978\n",
       "Negative emotion     570\n",
       "Name: emotions, dtype: int64"
      ]
     },
     "execution_count": 67,
     "metadata": {},
     "output_type": "execute_result"
    }
   ],
   "source": [
    "df['emotions'].value_counts()"
   ]
  },
  {
   "cell_type": "code",
   "execution_count": 68,
   "metadata": {},
   "outputs": [
    {
     "data": {
      "text/html": [
       "<div>\n",
       "<style scoped>\n",
       "    .dataframe tbody tr th:only-of-type {\n",
       "        vertical-align: middle;\n",
       "    }\n",
       "\n",
       "    .dataframe tbody tr th {\n",
       "        vertical-align: top;\n",
       "    }\n",
       "\n",
       "    .dataframe thead th {\n",
       "        text-align: right;\n",
       "    }\n",
       "</style>\n",
       "<table border=\"1\" class=\"dataframe\">\n",
       "  <thead>\n",
       "    <tr style=\"text-align: right;\">\n",
       "      <th></th>\n",
       "      <th>tweet_text</th>\n",
       "      <th>products</th>\n",
       "      <th>emotions</th>\n",
       "    </tr>\n",
       "  </thead>\n",
       "  <tbody>\n",
       "    <tr>\n",
       "      <th>0</th>\n",
       "      <td>.@wesley83 I have a 3G iPhone. After 3 hrs twe...</td>\n",
       "      <td>iPhone</td>\n",
       "      <td>Negative emotion</td>\n",
       "    </tr>\n",
       "    <tr>\n",
       "      <th>1</th>\n",
       "      <td>@jessedee Know about @fludapp ? Awesome iPad/i...</td>\n",
       "      <td>iPad or iPhone App</td>\n",
       "      <td>Positive emotion</td>\n",
       "    </tr>\n",
       "    <tr>\n",
       "      <th>2</th>\n",
       "      <td>@swonderlin Can not wait for #iPad 2 also. The...</td>\n",
       "      <td>iPad</td>\n",
       "      <td>Positive emotion</td>\n",
       "    </tr>\n",
       "    <tr>\n",
       "      <th>3</th>\n",
       "      <td>@sxsw I hope this year's festival isn't as cra...</td>\n",
       "      <td>iPad or iPhone App</td>\n",
       "      <td>Negative emotion</td>\n",
       "    </tr>\n",
       "    <tr>\n",
       "      <th>4</th>\n",
       "      <td>@sxtxstate great stuff on Fri #SXSW: Marissa M...</td>\n",
       "      <td>Google</td>\n",
       "      <td>Positive emotion</td>\n",
       "    </tr>\n",
       "    <tr>\n",
       "      <th>...</th>\n",
       "      <td>...</td>\n",
       "      <td>...</td>\n",
       "      <td>...</td>\n",
       "    </tr>\n",
       "    <tr>\n",
       "      <th>9077</th>\n",
       "      <td>@mention your PR guy just convinced me to swit...</td>\n",
       "      <td>iPhone</td>\n",
       "      <td>Positive emotion</td>\n",
       "    </tr>\n",
       "    <tr>\n",
       "      <th>9079</th>\n",
       "      <td>&amp;quot;papyrus...sort of like the ipad&amp;quot; - ...</td>\n",
       "      <td>iPad</td>\n",
       "      <td>Positive emotion</td>\n",
       "    </tr>\n",
       "    <tr>\n",
       "      <th>9080</th>\n",
       "      <td>Diller says Google TV &amp;quot;might be run over ...</td>\n",
       "      <td>Other Google product or service</td>\n",
       "      <td>Negative emotion</td>\n",
       "    </tr>\n",
       "    <tr>\n",
       "      <th>9085</th>\n",
       "      <td>I've always used Camera+ for my iPhone b/c it ...</td>\n",
       "      <td>iPad or iPhone App</td>\n",
       "      <td>Positive emotion</td>\n",
       "    </tr>\n",
       "    <tr>\n",
       "      <th>9088</th>\n",
       "      <td>Ipad everywhere. #SXSW {link}</td>\n",
       "      <td>iPad</td>\n",
       "      <td>Positive emotion</td>\n",
       "    </tr>\n",
       "  </tbody>\n",
       "</table>\n",
       "<p>3548 rows × 3 columns</p>\n",
       "</div>"
      ],
      "text/plain": [
       "                                             tweet_text  \\\n",
       "0     .@wesley83 I have a 3G iPhone. After 3 hrs twe...   \n",
       "1     @jessedee Know about @fludapp ? Awesome iPad/i...   \n",
       "2     @swonderlin Can not wait for #iPad 2 also. The...   \n",
       "3     @sxsw I hope this year's festival isn't as cra...   \n",
       "4     @sxtxstate great stuff on Fri #SXSW: Marissa M...   \n",
       "...                                                 ...   \n",
       "9077  @mention your PR guy just convinced me to swit...   \n",
       "9079  &quot;papyrus...sort of like the ipad&quot; - ...   \n",
       "9080  Diller says Google TV &quot;might be run over ...   \n",
       "9085  I've always used Camera+ for my iPhone b/c it ...   \n",
       "9088                      Ipad everywhere. #SXSW {link}   \n",
       "\n",
       "                             products          emotions  \n",
       "0                              iPhone  Negative emotion  \n",
       "1                  iPad or iPhone App  Positive emotion  \n",
       "2                                iPad  Positive emotion  \n",
       "3                  iPad or iPhone App  Negative emotion  \n",
       "4                              Google  Positive emotion  \n",
       "...                               ...               ...  \n",
       "9077                           iPhone  Positive emotion  \n",
       "9079                             iPad  Positive emotion  \n",
       "9080  Other Google product or service  Negative emotion  \n",
       "9085               iPad or iPhone App  Positive emotion  \n",
       "9088                             iPad  Positive emotion  \n",
       "\n",
       "[3548 rows x 3 columns]"
      ]
     },
     "execution_count": 68,
     "metadata": {},
     "output_type": "execute_result"
    }
   ],
   "source": [
    "df"
   ]
  },
  {
   "cell_type": "code",
   "execution_count": 69,
   "metadata": {},
   "outputs": [],
   "source": [
    "sw = stopwords.words('english')"
   ]
  },
  {
   "cell_type": "code",
   "execution_count": 70,
   "metadata": {},
   "outputs": [],
   "source": [
    "from nltk.tokenize import RegexpTokenizer\n",
    "from nltk.corpus import stopwords\n",
    "\n",
    "# Text tokenization\n",
    "tokenizer = RegexpTokenizer(r\"([a-zA-Z]+(?:'[a-z]+)?)\")\n",
    "df['tokenized_text'] = df['tweet_text'].apply(lambda x: tokenizer.tokenize(str(x).lower()))\n",
    "\n",
    "# Stopword removal\n",
    "stop_words = set(stopwords.words('english'))\n",
    "#df['cleaned_text'] = df['tokenized_text'].apply(lambda x: [token for token in x if token not in stop_words])\n",
    "df['tokenized_text'] = df['tokenized_text'].apply(lambda x: [token.replace(',', '') for token in x if token not in stop_words])\n"
   ]
  },
  {
   "cell_type": "code",
   "execution_count": 71,
   "metadata": {
    "scrolled": true
   },
   "outputs": [
    {
     "data": {
      "text/html": [
       "<div>\n",
       "<style scoped>\n",
       "    .dataframe tbody tr th:only-of-type {\n",
       "        vertical-align: middle;\n",
       "    }\n",
       "\n",
       "    .dataframe tbody tr th {\n",
       "        vertical-align: top;\n",
       "    }\n",
       "\n",
       "    .dataframe thead th {\n",
       "        text-align: right;\n",
       "    }\n",
       "</style>\n",
       "<table border=\"1\" class=\"dataframe\">\n",
       "  <thead>\n",
       "    <tr style=\"text-align: right;\">\n",
       "      <th></th>\n",
       "      <th>tweet_text</th>\n",
       "      <th>products</th>\n",
       "      <th>emotions</th>\n",
       "      <th>tokenized_text</th>\n",
       "    </tr>\n",
       "  </thead>\n",
       "  <tbody>\n",
       "    <tr>\n",
       "      <th>0</th>\n",
       "      <td>.@wesley83 I have a 3G iPhone. After 3 hrs twe...</td>\n",
       "      <td>iPhone</td>\n",
       "      <td>Negative emotion</td>\n",
       "      <td>[wesley, g, iphone, hrs, tweeting, rise, austi...</td>\n",
       "    </tr>\n",
       "    <tr>\n",
       "      <th>1</th>\n",
       "      <td>@jessedee Know about @fludapp ? Awesome iPad/i...</td>\n",
       "      <td>iPad or iPhone App</td>\n",
       "      <td>Positive emotion</td>\n",
       "      <td>[jessedee, know, fludapp, awesome, ipad, iphon...</td>\n",
       "    </tr>\n",
       "    <tr>\n",
       "      <th>2</th>\n",
       "      <td>@swonderlin Can not wait for #iPad 2 also. The...</td>\n",
       "      <td>iPad</td>\n",
       "      <td>Positive emotion</td>\n",
       "      <td>[swonderlin, wait, ipad, also, sale, sxsw]</td>\n",
       "    </tr>\n",
       "    <tr>\n",
       "      <th>3</th>\n",
       "      <td>@sxsw I hope this year's festival isn't as cra...</td>\n",
       "      <td>iPad or iPhone App</td>\n",
       "      <td>Negative emotion</td>\n",
       "      <td>[sxsw, hope, year's, festival, crashy, year's,...</td>\n",
       "    </tr>\n",
       "    <tr>\n",
       "      <th>4</th>\n",
       "      <td>@sxtxstate great stuff on Fri #SXSW: Marissa M...</td>\n",
       "      <td>Google</td>\n",
       "      <td>Positive emotion</td>\n",
       "      <td>[sxtxstate, great, stuff, fri, sxsw, marissa, ...</td>\n",
       "    </tr>\n",
       "    <tr>\n",
       "      <th>...</th>\n",
       "      <td>...</td>\n",
       "      <td>...</td>\n",
       "      <td>...</td>\n",
       "      <td>...</td>\n",
       "    </tr>\n",
       "    <tr>\n",
       "      <th>9077</th>\n",
       "      <td>@mention your PR guy just convinced me to swit...</td>\n",
       "      <td>iPhone</td>\n",
       "      <td>Positive emotion</td>\n",
       "      <td>[mention, pr, guy, convinced, switch, back, ip...</td>\n",
       "    </tr>\n",
       "    <tr>\n",
       "      <th>9079</th>\n",
       "      <td>&amp;quot;papyrus...sort of like the ipad&amp;quot; - ...</td>\n",
       "      <td>iPad</td>\n",
       "      <td>Positive emotion</td>\n",
       "      <td>[quot, papyrus, sort, like, ipad, quot, nice, ...</td>\n",
       "    </tr>\n",
       "    <tr>\n",
       "      <th>9080</th>\n",
       "      <td>Diller says Google TV &amp;quot;might be run over ...</td>\n",
       "      <td>Other Google product or service</td>\n",
       "      <td>Negative emotion</td>\n",
       "      <td>[diller, says, google, tv, quot, might, run, p...</td>\n",
       "    </tr>\n",
       "    <tr>\n",
       "      <th>9085</th>\n",
       "      <td>I've always used Camera+ for my iPhone b/c it ...</td>\n",
       "      <td>iPad or iPhone App</td>\n",
       "      <td>Positive emotion</td>\n",
       "      <td>[i've, always, used, camera, iphone, b, c, ima...</td>\n",
       "    </tr>\n",
       "    <tr>\n",
       "      <th>9088</th>\n",
       "      <td>Ipad everywhere. #SXSW {link}</td>\n",
       "      <td>iPad</td>\n",
       "      <td>Positive emotion</td>\n",
       "      <td>[ipad, everywhere, sxsw, link]</td>\n",
       "    </tr>\n",
       "  </tbody>\n",
       "</table>\n",
       "<p>3548 rows × 4 columns</p>\n",
       "</div>"
      ],
      "text/plain": [
       "                                             tweet_text  \\\n",
       "0     .@wesley83 I have a 3G iPhone. After 3 hrs twe...   \n",
       "1     @jessedee Know about @fludapp ? Awesome iPad/i...   \n",
       "2     @swonderlin Can not wait for #iPad 2 also. The...   \n",
       "3     @sxsw I hope this year's festival isn't as cra...   \n",
       "4     @sxtxstate great stuff on Fri #SXSW: Marissa M...   \n",
       "...                                                 ...   \n",
       "9077  @mention your PR guy just convinced me to swit...   \n",
       "9079  &quot;papyrus...sort of like the ipad&quot; - ...   \n",
       "9080  Diller says Google TV &quot;might be run over ...   \n",
       "9085  I've always used Camera+ for my iPhone b/c it ...   \n",
       "9088                      Ipad everywhere. #SXSW {link}   \n",
       "\n",
       "                             products          emotions  \\\n",
       "0                              iPhone  Negative emotion   \n",
       "1                  iPad or iPhone App  Positive emotion   \n",
       "2                                iPad  Positive emotion   \n",
       "3                  iPad or iPhone App  Negative emotion   \n",
       "4                              Google  Positive emotion   \n",
       "...                               ...               ...   \n",
       "9077                           iPhone  Positive emotion   \n",
       "9079                             iPad  Positive emotion   \n",
       "9080  Other Google product or service  Negative emotion   \n",
       "9085               iPad or iPhone App  Positive emotion   \n",
       "9088                             iPad  Positive emotion   \n",
       "\n",
       "                                         tokenized_text  \n",
       "0     [wesley, g, iphone, hrs, tweeting, rise, austi...  \n",
       "1     [jessedee, know, fludapp, awesome, ipad, iphon...  \n",
       "2            [swonderlin, wait, ipad, also, sale, sxsw]  \n",
       "3     [sxsw, hope, year's, festival, crashy, year's,...  \n",
       "4     [sxtxstate, great, stuff, fri, sxsw, marissa, ...  \n",
       "...                                                 ...  \n",
       "9077  [mention, pr, guy, convinced, switch, back, ip...  \n",
       "9079  [quot, papyrus, sort, like, ipad, quot, nice, ...  \n",
       "9080  [diller, says, google, tv, quot, might, run, p...  \n",
       "9085  [i've, always, used, camera, iphone, b, c, ima...  \n",
       "9088                     [ipad, everywhere, sxsw, link]  \n",
       "\n",
       "[3548 rows x 4 columns]"
      ]
     },
     "execution_count": 71,
     "metadata": {},
     "output_type": "execute_result"
    }
   ],
   "source": [
    "df"
   ]
  },
  {
   "cell_type": "code",
   "execution_count": null,
   "metadata": {
    "scrolled": true
   },
   "outputs": [],
   "source": []
  },
  {
   "cell_type": "code",
   "execution_count": 72,
   "metadata": {},
   "outputs": [
    {
     "data": {
      "text/plain": [
       "FreqDist({'sxsw': 3739, 'mention': 2507, 'ipad': 1449, 'link': 1319, 'rt': 1075, 'apple': 1011, 'google': 830, 'iphone': 711, 'quot': 639, 'store': 596, ...})"
      ]
     },
     "execution_count": 72,
     "metadata": {},
     "output_type": "execute_result"
    }
   ],
   "source": [
    "from nltk import FreqDist\n",
    "from itertools import chain\n",
    "\n",
    "# Flatten the lists in the \"tokenized_text\" column\n",
    "flat_tokenized_text_1 = list(chain.from_iterable(df[\"tokenized_text\"]))\n",
    "\n",
    "# Create FreqDist from the flattened list\n",
    "freq_dist_1 = FreqDist(flat_tokenized_text_1)\n",
    "\n",
    "freq_dist_1"
   ]
  },
  {
   "cell_type": "code",
   "execution_count": 73,
   "metadata": {},
   "outputs": [],
   "source": [
    "# manual cleaning \n",
    "rem_t = ['sxsw', 'mention','link','rt', 'for', 'apple','quot','circles']\n",
    "# Remove words in rem_t from 'tokenized_text'\n",
    "df['tokenized_text'] = df['tokenized_text'].apply(lambda tokens: [word for word in tokens if word not in rem_t])\n"
   ]
  },
  {
   "cell_type": "code",
   "execution_count": 74,
   "metadata": {},
   "outputs": [
    {
     "data": {
      "text/plain": [
       "FreqDist({'ipad': 1449, 'google': 830, 'iphone': 711, 'store': 596, 'app': 461, 'new': 403, 'austin': 323, 'amp': 233, 'android': 233, 'pop': 231, ...})"
      ]
     },
     "execution_count": 74,
     "metadata": {},
     "output_type": "execute_result"
    }
   ],
   "source": [
    "# Flatten the lists in the \"tokenized_text\" column\n",
    "flat_tokenized_text_2 = list(chain.from_iterable(df[\"tokenized_text\"]))\n",
    "\n",
    "# Create FreqDist from the flattened list\n",
    "freq_dist_2 = FreqDist(flat_tokenized_text_2)\n",
    "\n",
    "freq_dist_2"
   ]
  },
  {
   "cell_type": "code",
   "execution_count": 75,
   "metadata": {},
   "outputs": [
    {
     "data": {
      "image/png": "[encoded data removed]",
      "text/plain": [
       "<Figure size 432x288 with 1 Axes>"
      ]
     },
     "metadata": {
      "needs_background": "light"
     },
     "output_type": "display_data"
    }
   ],
   "source": [
    "from itertools import chain\n",
    "\n",
    "# Visualize the word frequencies using a bar plot\n",
    "plt = freq_dist_2.plot(30, cumulative=False)\n"
   ]
  },
  {
   "cell_type": "code",
   "execution_count": 76,
   "metadata": {},
   "outputs": [
    {
     "data": {
      "text/plain": [
       "Positive emotion    2978\n",
       "Negative emotion     570\n",
       "Name: emotions, dtype: int64"
      ]
     },
     "execution_count": 76,
     "metadata": {},
     "output_type": "execute_result"
    }
   ],
   "source": [
    "df['emotions'].value_counts()"
   ]
  },
  {
   "cell_type": "code",
   "execution_count": 77,
   "metadata": {},
   "outputs": [],
   "source": [
    "# Map emotions to target values\n",
    "emotion_mapping = {'Positive': 1, 'Negative': 0}\n",
    "df['target'] = df['emotions'].map(emotion_mapping)\n"
   ]
  },
  {
   "cell_type": "code",
   "execution_count": 78,
   "metadata": {},
   "outputs": [
    {
     "data": {
      "text/plain": [
       "Series([], Name: target, dtype: int64)"
      ]
     },
     "execution_count": 78,
     "metadata": {},
     "output_type": "execute_result"
    }
   ],
   "source": [
    "df['target'].value_counts()"
   ]
  },
  {
   "cell_type": "code",
   "execution_count": 79,
   "metadata": {
    "scrolled": true
   },
   "outputs": [
    {
     "data": {
      "text/plain": [
       "0"
      ]
     },
     "execution_count": 79,
     "metadata": {},
     "output_type": "execute_result"
    }
   ],
   "source": [
    "df['tweet_text'].isna().sum()"
   ]
  },
  {
   "cell_type": "code",
   "execution_count": 80,
   "metadata": {},
   "outputs": [],
   "source": [
    "df['target'] = df['emotions'].apply(lambda x: 1 if x == 'Positive emotion' else (0 if x == 'Negative emotion' else None))\n",
    "\n",
    "\n",
    "#df['target'].fillna(default_value, inplace=True)"
   ]
  },
  {
   "cell_type": "code",
   "execution_count": 81,
   "metadata": {},
   "outputs": [],
   "source": [
    "# Lemmetization \n",
    "\n",
    "#s_stemmer = nltk.stem.SnowballStemmer(language='english')"
   ]
  },
  {
   "cell_type": "code",
   "execution_count": 82,
   "metadata": {},
   "outputs": [],
   "source": [
    "# Apply stemming to all rows in the 'tokenized_text' column\n",
    "#df['tokenized_text'] = df['tokenized_text'].apply(lambda tokens: [s_stemmer.stem(token) for token in tokens])\n"
   ]
  },
  {
   "cell_type": "code",
   "execution_count": 83,
   "metadata": {},
   "outputs": [
    {
     "data": {
      "text/html": [
       "<div>\n",
       "<style scoped>\n",
       "    .dataframe tbody tr th:only-of-type {\n",
       "        vertical-align: middle;\n",
       "    }\n",
       "\n",
       "    .dataframe tbody tr th {\n",
       "        vertical-align: top;\n",
       "    }\n",
       "\n",
       "    .dataframe thead th {\n",
       "        text-align: right;\n",
       "    }\n",
       "</style>\n",
       "<table border=\"1\" class=\"dataframe\">\n",
       "  <thead>\n",
       "    <tr style=\"text-align: right;\">\n",
       "      <th></th>\n",
       "      <th>tweet_text</th>\n",
       "      <th>products</th>\n",
       "      <th>emotions</th>\n",
       "      <th>tokenized_text</th>\n",
       "      <th>target</th>\n",
       "    </tr>\n",
       "  </thead>\n",
       "  <tbody>\n",
       "    <tr>\n",
       "      <th>0</th>\n",
       "      <td>.@wesley83 I have a 3G iPhone. After 3 hrs twe...</td>\n",
       "      <td>iPhone</td>\n",
       "      <td>Negative emotion</td>\n",
       "      <td>[wesley, g, iphone, hrs, tweeting, rise, austi...</td>\n",
       "      <td>0</td>\n",
       "    </tr>\n",
       "    <tr>\n",
       "      <th>1</th>\n",
       "      <td>@jessedee Know about @fludapp ? Awesome iPad/i...</td>\n",
       "      <td>iPad or iPhone App</td>\n",
       "      <td>Positive emotion</td>\n",
       "      <td>[jessedee, know, fludapp, awesome, ipad, iphon...</td>\n",
       "      <td>1</td>\n",
       "    </tr>\n",
       "    <tr>\n",
       "      <th>2</th>\n",
       "      <td>@swonderlin Can not wait for #iPad 2 also. The...</td>\n",
       "      <td>iPad</td>\n",
       "      <td>Positive emotion</td>\n",
       "      <td>[swonderlin, wait, ipad, also, sale]</td>\n",
       "      <td>1</td>\n",
       "    </tr>\n",
       "    <tr>\n",
       "      <th>3</th>\n",
       "      <td>@sxsw I hope this year's festival isn't as cra...</td>\n",
       "      <td>iPad or iPhone App</td>\n",
       "      <td>Negative emotion</td>\n",
       "      <td>[hope, year's, festival, crashy, year's, iphon...</td>\n",
       "      <td>0</td>\n",
       "    </tr>\n",
       "    <tr>\n",
       "      <th>4</th>\n",
       "      <td>@sxtxstate great stuff on Fri #SXSW: Marissa M...</td>\n",
       "      <td>Google</td>\n",
       "      <td>Positive emotion</td>\n",
       "      <td>[sxtxstate, great, stuff, fri, marissa, mayer,...</td>\n",
       "      <td>1</td>\n",
       "    </tr>\n",
       "    <tr>\n",
       "      <th>...</th>\n",
       "      <td>...</td>\n",
       "      <td>...</td>\n",
       "      <td>...</td>\n",
       "      <td>...</td>\n",
       "      <td>...</td>\n",
       "    </tr>\n",
       "    <tr>\n",
       "      <th>9077</th>\n",
       "      <td>@mention your PR guy just convinced me to swit...</td>\n",
       "      <td>iPhone</td>\n",
       "      <td>Positive emotion</td>\n",
       "      <td>[pr, guy, convinced, switch, back, iphone, gre...</td>\n",
       "      <td>1</td>\n",
       "    </tr>\n",
       "    <tr>\n",
       "      <th>9079</th>\n",
       "      <td>&amp;quot;papyrus...sort of like the ipad&amp;quot; - ...</td>\n",
       "      <td>iPad</td>\n",
       "      <td>Positive emotion</td>\n",
       "      <td>[papyrus, sort, like, ipad, nice, lol, lavelle]</td>\n",
       "      <td>1</td>\n",
       "    </tr>\n",
       "    <tr>\n",
       "      <th>9080</th>\n",
       "      <td>Diller says Google TV &amp;quot;might be run over ...</td>\n",
       "      <td>Other Google product or service</td>\n",
       "      <td>Negative emotion</td>\n",
       "      <td>[diller, says, google, tv, might, run, playsta...</td>\n",
       "      <td>0</td>\n",
       "    </tr>\n",
       "    <tr>\n",
       "      <th>9085</th>\n",
       "      <td>I've always used Camera+ for my iPhone b/c it ...</td>\n",
       "      <td>iPad or iPhone App</td>\n",
       "      <td>Positive emotion</td>\n",
       "      <td>[i've, always, used, camera, iphone, b, c, ima...</td>\n",
       "      <td>1</td>\n",
       "    </tr>\n",
       "    <tr>\n",
       "      <th>9088</th>\n",
       "      <td>Ipad everywhere. #SXSW {link}</td>\n",
       "      <td>iPad</td>\n",
       "      <td>Positive emotion</td>\n",
       "      <td>[ipad, everywhere]</td>\n",
       "      <td>1</td>\n",
       "    </tr>\n",
       "  </tbody>\n",
       "</table>\n",
       "<p>3548 rows × 5 columns</p>\n",
       "</div>"
      ],
      "text/plain": [
       "                                             tweet_text  \\\n",
       "0     .@wesley83 I have a 3G iPhone. After 3 hrs twe...   \n",
       "1     @jessedee Know about @fludapp ? Awesome iPad/i...   \n",
       "2     @swonderlin Can not wait for #iPad 2 also. The...   \n",
       "3     @sxsw I hope this year's festival isn't as cra...   \n",
       "4     @sxtxstate great stuff on Fri #SXSW: Marissa M...   \n",
       "...                                                 ...   \n",
       "9077  @mention your PR guy just convinced me to swit...   \n",
       "9079  &quot;papyrus...sort of like the ipad&quot; - ...   \n",
       "9080  Diller says Google TV &quot;might be run over ...   \n",
       "9085  I've always used Camera+ for my iPhone b/c it ...   \n",
       "9088                      Ipad everywhere. #SXSW {link}   \n",
       "\n",
       "                             products          emotions  \\\n",
       "0                              iPhone  Negative emotion   \n",
       "1                  iPad or iPhone App  Positive emotion   \n",
       "2                                iPad  Positive emotion   \n",
       "3                  iPad or iPhone App  Negative emotion   \n",
       "4                              Google  Positive emotion   \n",
       "...                               ...               ...   \n",
       "9077                           iPhone  Positive emotion   \n",
       "9079                             iPad  Positive emotion   \n",
       "9080  Other Google product or service  Negative emotion   \n",
       "9085               iPad or iPhone App  Positive emotion   \n",
       "9088                             iPad  Positive emotion   \n",
       "\n",
       "                                         tokenized_text  target  \n",
       "0     [wesley, g, iphone, hrs, tweeting, rise, austi...       0  \n",
       "1     [jessedee, know, fludapp, awesome, ipad, iphon...       1  \n",
       "2                  [swonderlin, wait, ipad, also, sale]       1  \n",
       "3     [hope, year's, festival, crashy, year's, iphon...       0  \n",
       "4     [sxtxstate, great, stuff, fri, marissa, mayer,...       1  \n",
       "...                                                 ...     ...  \n",
       "9077  [pr, guy, convinced, switch, back, iphone, gre...       1  \n",
       "9079    [papyrus, sort, like, ipad, nice, lol, lavelle]       1  \n",
       "9080  [diller, says, google, tv, might, run, playsta...       0  \n",
       "9085  [i've, always, used, camera, iphone, b, c, ima...       1  \n",
       "9088                                 [ipad, everywhere]       1  \n",
       "\n",
       "[3548 rows x 5 columns]"
      ]
     },
     "execution_count": 83,
     "metadata": {},
     "output_type": "execute_result"
    }
   ],
   "source": [
    "df"
   ]
  },
  {
   "cell_type": "code",
   "execution_count": 84,
   "metadata": {},
   "outputs": [
    {
     "data": {
      "text/plain": [
       "FreqDist({'ipad': 1449, 'google': 830, 'iphone': 711, 'store': 596, 'app': 461, 'new': 403, 'austin': 323, 'amp': 233, 'android': 233, 'pop': 231, ...})"
      ]
     },
     "execution_count": 84,
     "metadata": {},
     "output_type": "execute_result"
    }
   ],
   "source": [
    "flat_tokenized_text_3 = list(chain.from_iterable(df[\"tokenized_text\"]))\n",
    "\n",
    "# Create FreqDist from the flattened list\n",
    "freq_dist_3 = FreqDist(flat_tokenized_text_3)\n",
    "\n",
    "freq_dist_3"
   ]
  },
  {
   "cell_type": "code",
   "execution_count": 85,
   "metadata": {},
   "outputs": [
    {
     "data": {
      "image/png": "[encoded data removed]",
      "text/plain": [
       "<Figure size 432x288 with 1 Axes>"
      ]
     },
     "metadata": {
      "needs_background": "light"
     },
     "output_type": "display_data"
    }
   ],
   "source": [
    "plt = freq_dist_3.plot(30, cumulative=False)"
   ]
  },
  {
   "cell_type": "code",
   "execution_count": 86,
   "metadata": {},
   "outputs": [
    {
     "data": {
      "text/plain": [
       "'wesley g iphone hrs tweeting rise austin dead need upgrade plugin stations'"
      ]
     },
     "execution_count": 86,
     "metadata": {},
     "output_type": "execute_result"
    }
   ],
   "source": [
    "\" \".join(df['tokenized_text'][0])"
   ]
  },
  {
   "cell_type": "markdown",
   "metadata": {},
   "source": [
    "## CountVectorizer"
   ]
  },
  {
   "cell_type": "code",
   "execution_count": 87,
   "metadata": {},
   "outputs": [],
   "source": [
    "# Convert a collection of text documents to a matrix of token counts\n",
    "\n",
    "#vec = CountVectorizer()\n",
    "#X = vec.fit_transform([\" \".join(df['tokenized_text'][0])])\n",
    "\n",
    "\n",
    "#dfv = pd.DataFrame(X.toarray(), columns=vec.get_feature_names_out())\n",
    "#dfv.head()"
   ]
  },
  {
   "cell_type": "code",
   "execution_count": 88,
   "metadata": {},
   "outputs": [
    {
     "data": {
      "text/plain": [
       "0       [wesley, g, iphone, hrs, tweeting, rise, austi...\n",
       "1       [jessedee, know, fludapp, awesome, ipad, iphon...\n",
       "2                    [swonderlin, wait, ipad, also, sale]\n",
       "3       [hope, year's, festival, crashy, year's, iphon...\n",
       "4       [sxtxstate, great, stuff, fri, marissa, mayer,...\n",
       "                              ...                        \n",
       "9077    [pr, guy, convinced, switch, back, iphone, gre...\n",
       "9079      [papyrus, sort, like, ipad, nice, lol, lavelle]\n",
       "9080    [diller, says, google, tv, might, run, playsta...\n",
       "9085    [i've, always, used, camera, iphone, b, c, ima...\n",
       "9088                                   [ipad, everywhere]\n",
       "Name: tokenized_text, Length: 3548, dtype: object"
      ]
     },
     "execution_count": 88,
     "metadata": {},
     "output_type": "execute_result"
    }
   ],
   "source": [
    "df.tokenized_text"
   ]
  },
  {
   "cell_type": "code",
   "execution_count": 89,
   "metadata": {},
   "outputs": [
    {
     "ename": "IndentationError",
     "evalue": "unexpected indent (<ipython-input-89-22580437a3a8>, line 6)",
     "output_type": "error",
     "traceback": [
      "\u001b[0;36m  File \u001b[0;32m\"<ipython-input-89-22580437a3a8>\"\u001b[0;36m, line \u001b[0;32m6\u001b[0m\n\u001b[0;31m    stop_words=sw, ngram_range=(1, 2),\u001b[0m\n\u001b[0m    ^\u001b[0m\n\u001b[0;31mIndentationError\u001b[0m\u001b[0;31m:\u001b[0m unexpected indent\n"
     ]
    }
   ],
   "source": [
    "#vectorizing using parameters max_features\n",
    "#df['tokenized_text'] = df['tokenized_text'].apply(lambda tokens: ' '.join(tokens))\n",
    "\n",
    "# Create a CountVectorizer\n",
    "#vec = CountVectorizer(token_pattern=r\"([a-zA-Z]+(?:'[a-z]+)?)\",\n",
    "                     # stop_words=sw, ngram_range=(1, 2),\n",
    "                      #max_features=200)\n",
    "#X = vec.fit_transform(df['tokenized_text'])\n",
    "\n",
    "# Create a DataFrame with the count vectorized features\n",
    "#df_cv = pd.DataFrame(X.toarray(), columns=vec.get_feature_names_out())\n",
    "\n",
    "# Display the DataFrame\n",
    "#df_cv"
   ]
  },
  {
   "cell_type": "code",
   "execution_count": null,
   "metadata": {},
   "outputs": [],
   "source": []
  },
  {
   "cell_type": "markdown",
   "metadata": {},
   "source": [
    "vec = CountVectorizer(token_pattern=r\"([a-zA-Z]+(?:'[a-z]+)?)\",\n",
    "                      stop_words=sw, ngram_range=(1, 2), max_features=200)\n",
    "X = vec.fit_transform(df['tokenized_text'])\n",
    "\n",
    "df_cv = pd.DataFrame(X.toarray(), columns=vec.get_feature_names_out())\n",
    "df_cv"
   ]
  },
  {
   "cell_type": "markdown",
   "metadata": {},
   "source": [
    "## TfidfVectorizer"
   ]
  },
  {
   "cell_type": "code",
   "execution_count": null,
   "metadata": {},
   "outputs": [],
   "source": [
    "#tf_vec = TfidfVectorizer(token_pattern=r\"([a-zA-Z]+(?:'[a-z]+)?)\", stop_words=sw)\n",
    "#X = tf_vec.fit_transform(df['tokenized_text'])\n",
    "\n",
    "#df_tv = pd.DataFrame(X.toarray(), columns=tf_vec.get_feature_names_out())\n",
    "#df_tv.head()"
   ]
  },
  {
   "cell_type": "code",
   "execution_count": null,
   "metadata": {},
   "outputs": [],
   "source": [
    "#df_tv.iloc[1].sort_values(ascending=False)[:10]"
   ]
  },
  {
   "cell_type": "code",
   "execution_count": null,
   "metadata": {
    "scrolled": true
   },
   "outputs": [],
   "source": [
    "#df_cv.iloc[5].sort_values(ascending=False)[:5]"
   ]
  },
  {
   "cell_type": "code",
   "execution_count": null,
   "metadata": {},
   "outputs": [],
   "source": []
  },
  {
   "cell_type": "markdown",
   "metadata": {},
   "source": [
    "## Performing the split \n"
   ]
  },
  {
   "cell_type": "code",
   "execution_count": 90,
   "metadata": {},
   "outputs": [],
   "source": [
    "X = df[['tokenized_text']]\n",
    "y= df['target']"
   ]
  },
  {
   "cell_type": "code",
   "execution_count": 91,
   "metadata": {},
   "outputs": [
    {
     "data": {
      "text/plain": [
       "(3548, 1)"
      ]
     },
     "execution_count": 91,
     "metadata": {},
     "output_type": "execute_result"
    }
   ],
   "source": [
    "X.shape"
   ]
  },
  {
   "cell_type": "code",
   "execution_count": 92,
   "metadata": {},
   "outputs": [
    {
     "data": {
      "text/plain": [
       "0       0\n",
       "1       1\n",
       "2       1\n",
       "3       0\n",
       "4       1\n",
       "       ..\n",
       "9077    1\n",
       "9079    1\n",
       "9080    0\n",
       "9085    1\n",
       "9088    1\n",
       "Name: target, Length: 3548, dtype: int64"
      ]
     },
     "execution_count": 92,
     "metadata": {},
     "output_type": "execute_result"
    }
   ],
   "source": [
    "y"
   ]
  },
  {
   "cell_type": "code",
   "execution_count": 93,
   "metadata": {},
   "outputs": [],
   "source": [
    "X_train, X_test, y_train, y_test = train_test_split(X,y,random_state=42, test_size=0.25)"
   ]
  },
  {
   "cell_type": "code",
   "execution_count": 94,
   "metadata": {},
   "outputs": [
    {
     "data": {
      "text/html": [
       "<div>\n",
       "<style scoped>\n",
       "    .dataframe tbody tr th:only-of-type {\n",
       "        vertical-align: middle;\n",
       "    }\n",
       "\n",
       "    .dataframe tbody tr th {\n",
       "        vertical-align: top;\n",
       "    }\n",
       "\n",
       "    .dataframe thead th {\n",
       "        text-align: right;\n",
       "    }\n",
       "</style>\n",
       "<table border=\"1\" class=\"dataframe\">\n",
       "  <thead>\n",
       "    <tr style=\"text-align: right;\">\n",
       "      <th></th>\n",
       "      <th>tokenized_text</th>\n",
       "    </tr>\n",
       "  </thead>\n",
       "  <tbody>\n",
       "    <tr>\n",
       "      <th>3944</th>\n",
       "      <td>[they're, giving, away, ipad, x, boxes, books,...</td>\n",
       "    </tr>\n",
       "    <tr>\n",
       "      <th>7306</th>\n",
       "      <td>[setting, ipad, swift, upbeat, service, mornin...</td>\n",
       "    </tr>\n",
       "    <tr>\n",
       "      <th>2730</th>\n",
       "      <td>[third, time, charm, gt, gt, gt, google, launc...</td>\n",
       "    </tr>\n",
       "    <tr>\n",
       "      <th>3568</th>\n",
       "      <td>[used, think, started, making, great, apps, of...</td>\n",
       "    </tr>\n",
       "    <tr>\n",
       "      <th>1146</th>\n",
       "      <td>[hopefully, best, thing, comes, fact, people, ...</td>\n",
       "    </tr>\n",
       "    <tr>\n",
       "      <th>...</th>\n",
       "      <td>...</td>\n",
       "    </tr>\n",
       "    <tr>\n",
       "      <th>2760</th>\n",
       "      <td>[dear, could, roll, hot, dog, cart, full, ipad...</td>\n",
       "    </tr>\n",
       "    <tr>\n",
       "      <th>3151</th>\n",
       "      <td>[kick, sxswi, giving, away, ipad, visit, fb, p...</td>\n",
       "    </tr>\n",
       "    <tr>\n",
       "      <th>2121</th>\n",
       "      <td>[cnngrill, rockin, iphone, cooler]</td>\n",
       "    </tr>\n",
       "    <tr>\n",
       "      <th>8989</th>\n",
       "      <td>[crazy, much, culture, documented, google, doo...</td>\n",
       "    </tr>\n",
       "    <tr>\n",
       "      <th>8094</th>\n",
       "      <td>[woot, google, lego, hackathon, competition, s...</td>\n",
       "    </tr>\n",
       "  </tbody>\n",
       "</table>\n",
       "<p>2661 rows × 1 columns</p>\n",
       "</div>"
      ],
      "text/plain": [
       "                                         tokenized_text\n",
       "3944  [they're, giving, away, ipad, x, boxes, books,...\n",
       "7306  [setting, ipad, swift, upbeat, service, mornin...\n",
       "2730  [third, time, charm, gt, gt, gt, google, launc...\n",
       "3568  [used, think, started, making, great, apps, of...\n",
       "1146  [hopefully, best, thing, comes, fact, people, ...\n",
       "...                                                 ...\n",
       "2760  [dear, could, roll, hot, dog, cart, full, ipad...\n",
       "3151  [kick, sxswi, giving, away, ipad, visit, fb, p...\n",
       "2121                 [cnngrill, rockin, iphone, cooler]\n",
       "8989  [crazy, much, culture, documented, google, doo...\n",
       "8094  [woot, google, lego, hackathon, competition, s...\n",
       "\n",
       "[2661 rows x 1 columns]"
      ]
     },
     "execution_count": 94,
     "metadata": {},
     "output_type": "execute_result"
    }
   ],
   "source": [
    "X_train"
   ]
  },
  {
   "cell_type": "markdown",
   "metadata": {},
   "source": [
    "token_docs = [doc_preparer(doc, sw) for doc in X_train]"
   ]
  },
  {
   "cell_type": "code",
   "execution_count": 95,
   "metadata": {},
   "outputs": [],
   "source": [
    "#token_docs"
   ]
  },
  {
   "cell_type": "code",
   "execution_count": 96,
   "metadata": {
    "scrolled": true
   },
   "outputs": [
    {
     "data": {
      "text/html": [
       "<div>\n",
       "<style scoped>\n",
       "    .dataframe tbody tr th:only-of-type {\n",
       "        vertical-align: middle;\n",
       "    }\n",
       "\n",
       "    .dataframe tbody tr th {\n",
       "        vertical-align: top;\n",
       "    }\n",
       "\n",
       "    .dataframe thead th {\n",
       "        text-align: right;\n",
       "    }\n",
       "</style>\n",
       "<table border=\"1\" class=\"dataframe\">\n",
       "  <thead>\n",
       "    <tr style=\"text-align: right;\">\n",
       "      <th></th>\n",
       "      <th>tweet_text</th>\n",
       "      <th>products</th>\n",
       "      <th>emotions</th>\n",
       "      <th>tokenized_text</th>\n",
       "      <th>target</th>\n",
       "    </tr>\n",
       "  </thead>\n",
       "  <tbody>\n",
       "    <tr>\n",
       "      <th>0</th>\n",
       "      <td>.@wesley83 I have a 3G iPhone. After 3 hrs twe...</td>\n",
       "      <td>iPhone</td>\n",
       "      <td>Negative emotion</td>\n",
       "      <td>[wesley, g, iphone, hrs, tweeting, rise, austi...</td>\n",
       "      <td>0</td>\n",
       "    </tr>\n",
       "    <tr>\n",
       "      <th>1</th>\n",
       "      <td>@jessedee Know about @fludapp ? Awesome iPad/i...</td>\n",
       "      <td>iPad or iPhone App</td>\n",
       "      <td>Positive emotion</td>\n",
       "      <td>[jessedee, know, fludapp, awesome, ipad, iphon...</td>\n",
       "      <td>1</td>\n",
       "    </tr>\n",
       "    <tr>\n",
       "      <th>2</th>\n",
       "      <td>@swonderlin Can not wait for #iPad 2 also. The...</td>\n",
       "      <td>iPad</td>\n",
       "      <td>Positive emotion</td>\n",
       "      <td>[swonderlin, wait, ipad, also, sale]</td>\n",
       "      <td>1</td>\n",
       "    </tr>\n",
       "    <tr>\n",
       "      <th>3</th>\n",
       "      <td>@sxsw I hope this year's festival isn't as cra...</td>\n",
       "      <td>iPad or iPhone App</td>\n",
       "      <td>Negative emotion</td>\n",
       "      <td>[hope, year's, festival, crashy, year's, iphon...</td>\n",
       "      <td>0</td>\n",
       "    </tr>\n",
       "    <tr>\n",
       "      <th>4</th>\n",
       "      <td>@sxtxstate great stuff on Fri #SXSW: Marissa M...</td>\n",
       "      <td>Google</td>\n",
       "      <td>Positive emotion</td>\n",
       "      <td>[sxtxstate, great, stuff, fri, marissa, mayer,...</td>\n",
       "      <td>1</td>\n",
       "    </tr>\n",
       "  </tbody>\n",
       "</table>\n",
       "</div>"
      ],
      "text/plain": [
       "                                          tweet_text            products  \\\n",
       "0  .@wesley83 I have a 3G iPhone. After 3 hrs twe...              iPhone   \n",
       "1  @jessedee Know about @fludapp ? Awesome iPad/i...  iPad or iPhone App   \n",
       "2  @swonderlin Can not wait for #iPad 2 also. The...                iPad   \n",
       "3  @sxsw I hope this year's festival isn't as cra...  iPad or iPhone App   \n",
       "4  @sxtxstate great stuff on Fri #SXSW: Marissa M...              Google   \n",
       "\n",
       "           emotions                                     tokenized_text  target  \n",
       "0  Negative emotion  [wesley, g, iphone, hrs, tweeting, rise, austi...       0  \n",
       "1  Positive emotion  [jessedee, know, fludapp, awesome, ipad, iphon...       1  \n",
       "2  Positive emotion               [swonderlin, wait, ipad, also, sale]       1  \n",
       "3  Negative emotion  [hope, year's, festival, crashy, year's, iphon...       0  \n",
       "4  Positive emotion  [sxtxstate, great, stuff, fri, marissa, mayer,...       1  "
      ]
     },
     "execution_count": 96,
     "metadata": {},
     "output_type": "execute_result"
    }
   ],
   "source": [
    "#df['processed'] = df['tokenized_text'].apply(doc_preparer)\n",
    "df.head()"
   ]
  },
  {
   "cell_type": "code",
   "execution_count": 97,
   "metadata": {},
   "outputs": [
    {
     "name": "stderr",
     "output_type": "stream",
     "text": [
      "<ipython-input-97-4b96e3ff5db1>:2: SettingWithCopyWarning: \n",
      "A value is trying to be set on a copy of a slice from a DataFrame.\n",
      "Try using .loc[row_indexer,col_indexer] = value instead\n",
      "\n",
      "See the caveats in the documentation: https://pandas.pydata.org/pandas-docs/stable/user_guide/indexing.html#returning-a-view-versus-a-copy\n",
      "  X_train['cleaned'] = X_train['tokenized_text']\n"
     ]
    }
   ],
   "source": [
    "#X_train['cleaned'] = X_train['tokenized_text'].apply(doc_preparer)\n",
    "X_train['cleaned'] = X_train['tokenized_text']"
   ]
  },
  {
   "cell_type": "code",
   "execution_count": 98,
   "metadata": {
    "scrolled": true
   },
   "outputs": [
    {
     "data": {
      "text/html": [
       "<div>\n",
       "<style scoped>\n",
       "    .dataframe tbody tr th:only-of-type {\n",
       "        vertical-align: middle;\n",
       "    }\n",
       "\n",
       "    .dataframe tbody tr th {\n",
       "        vertical-align: top;\n",
       "    }\n",
       "\n",
       "    .dataframe thead th {\n",
       "        text-align: right;\n",
       "    }\n",
       "</style>\n",
       "<table border=\"1\" class=\"dataframe\">\n",
       "  <thead>\n",
       "    <tr style=\"text-align: right;\">\n",
       "      <th></th>\n",
       "      <th>tokenized_text</th>\n",
       "      <th>cleaned</th>\n",
       "    </tr>\n",
       "  </thead>\n",
       "  <tbody>\n",
       "    <tr>\n",
       "      <th>3944</th>\n",
       "      <td>[they're, giving, away, ipad, x, boxes, books,...</td>\n",
       "      <td>[they're, giving, away, ipad, x, boxes, books,...</td>\n",
       "    </tr>\n",
       "    <tr>\n",
       "      <th>7306</th>\n",
       "      <td>[setting, ipad, swift, upbeat, service, mornin...</td>\n",
       "      <td>[setting, ipad, swift, upbeat, service, mornin...</td>\n",
       "    </tr>\n",
       "    <tr>\n",
       "      <th>2730</th>\n",
       "      <td>[third, time, charm, gt, gt, gt, google, launc...</td>\n",
       "      <td>[third, time, charm, gt, gt, gt, google, launc...</td>\n",
       "    </tr>\n",
       "    <tr>\n",
       "      <th>3568</th>\n",
       "      <td>[used, think, started, making, great, apps, of...</td>\n",
       "      <td>[used, think, started, making, great, apps, of...</td>\n",
       "    </tr>\n",
       "    <tr>\n",
       "      <th>1146</th>\n",
       "      <td>[hopefully, best, thing, comes, fact, people, ...</td>\n",
       "      <td>[hopefully, best, thing, comes, fact, people, ...</td>\n",
       "    </tr>\n",
       "  </tbody>\n",
       "</table>\n",
       "</div>"
      ],
      "text/plain": [
       "                                         tokenized_text  \\\n",
       "3944  [they're, giving, away, ipad, x, boxes, books,...   \n",
       "7306  [setting, ipad, swift, upbeat, service, mornin...   \n",
       "2730  [third, time, charm, gt, gt, gt, google, launc...   \n",
       "3568  [used, think, started, making, great, apps, of...   \n",
       "1146  [hopefully, best, thing, comes, fact, people, ...   \n",
       "\n",
       "                                                cleaned  \n",
       "3944  [they're, giving, away, ipad, x, boxes, books,...  \n",
       "7306  [setting, ipad, swift, upbeat, service, mornin...  \n",
       "2730  [third, time, charm, gt, gt, gt, google, launc...  \n",
       "3568  [used, think, started, making, great, apps, of...  \n",
       "1146  [hopefully, best, thing, comes, fact, people, ...  "
      ]
     },
     "execution_count": 98,
     "metadata": {},
     "output_type": "execute_result"
    }
   ],
   "source": [
    "X_train.head()"
   ]
  },
  {
   "cell_type": "markdown",
   "metadata": {},
   "source": [
    "## Model Evaluation vocabulary limitation (max_features=100)"
   ]
  },
  {
   "cell_type": "code",
   "execution_count": 99,
   "metadata": {},
   "outputs": [
    {
     "ename": "AttributeError",
     "evalue": "'list' object has no attribute 'lower'",
     "output_type": "error",
     "traceback": [
      "\u001b[0;31m---------------------------------------------------------------------------\u001b[0m",
      "\u001b[0;31mAttributeError\u001b[0m                            Traceback (most recent call last)",
      "\u001b[0;32m<ipython-input-99-351675f48f61>\u001b[0m in \u001b[0;36m<module>\u001b[0;34m\u001b[0m\n\u001b[1;32m      5\u001b[0m \u001b[0mcv\u001b[0m \u001b[0;34m=\u001b[0m \u001b[0mCountVectorizer\u001b[0m\u001b[0;34m(\u001b[0m\u001b[0mmax_features\u001b[0m\u001b[0;34m=\u001b[0m\u001b[0;36m100\u001b[0m\u001b[0;34m)\u001b[0m\u001b[0;34m\u001b[0m\u001b[0;34m\u001b[0m\u001b[0m\n\u001b[1;32m      6\u001b[0m \u001b[0;34m\u001b[0m\u001b[0m\n\u001b[0;32m----> 7\u001b[0;31m \u001b[0mX_t_vec\u001b[0m \u001b[0;34m=\u001b[0m \u001b[0mcv\u001b[0m\u001b[0;34m.\u001b[0m\u001b[0mfit_transform\u001b[0m\u001b[0;34m(\u001b[0m\u001b[0mX_t\u001b[0m\u001b[0;34m)\u001b[0m\u001b[0;34m\u001b[0m\u001b[0;34m\u001b[0m\u001b[0m\n\u001b[0m\u001b[1;32m      8\u001b[0m \u001b[0;31m# transforming the return sparce matrix into a Dataframe\u001b[0m\u001b[0;34m\u001b[0m\u001b[0;34m\u001b[0m\u001b[0;34m\u001b[0m\u001b[0m\n\u001b[1;32m      9\u001b[0m \u001b[0mX_t_vec\u001b[0m \u001b[0;34m=\u001b[0m \u001b[0mpd\u001b[0m\u001b[0;34m.\u001b[0m\u001b[0mDataFrame\u001b[0m\u001b[0;34m.\u001b[0m\u001b[0msparse\u001b[0m\u001b[0;34m.\u001b[0m\u001b[0mfrom_spmatrix\u001b[0m\u001b[0;34m(\u001b[0m\u001b[0mX_t_vec\u001b[0m\u001b[0;34m)\u001b[0m\u001b[0;34m\u001b[0m\u001b[0;34m\u001b[0m\u001b[0m\n",
      "\u001b[0;32m~/anaconda3/envs/learn-env/lib/python3.8/site-packages/sklearn/feature_extraction/text.py\u001b[0m in \u001b[0;36mfit_transform\u001b[0;34m(self, raw_documents, y)\u001b[0m\n\u001b[1;32m   1196\u001b[0m         \u001b[0mmax_features\u001b[0m \u001b[0;34m=\u001b[0m \u001b[0mself\u001b[0m\u001b[0;34m.\u001b[0m\u001b[0mmax_features\u001b[0m\u001b[0;34m\u001b[0m\u001b[0;34m\u001b[0m\u001b[0m\n\u001b[1;32m   1197\u001b[0m \u001b[0;34m\u001b[0m\u001b[0m\n\u001b[0;32m-> 1198\u001b[0;31m         vocabulary, X = self._count_vocab(raw_documents,\n\u001b[0m\u001b[1;32m   1199\u001b[0m                                           self.fixed_vocabulary_)\n\u001b[1;32m   1200\u001b[0m \u001b[0;34m\u001b[0m\u001b[0m\n",
      "\u001b[0;32m~/anaconda3/envs/learn-env/lib/python3.8/site-packages/sklearn/feature_extraction/text.py\u001b[0m in \u001b[0;36m_count_vocab\u001b[0;34m(self, raw_documents, fixed_vocab)\u001b[0m\n\u001b[1;32m   1108\u001b[0m         \u001b[0;32mfor\u001b[0m \u001b[0mdoc\u001b[0m \u001b[0;32min\u001b[0m \u001b[0mraw_documents\u001b[0m\u001b[0;34m:\u001b[0m\u001b[0;34m\u001b[0m\u001b[0;34m\u001b[0m\u001b[0m\n\u001b[1;32m   1109\u001b[0m             \u001b[0mfeature_counter\u001b[0m \u001b[0;34m=\u001b[0m \u001b[0;34m{\u001b[0m\u001b[0;34m}\u001b[0m\u001b[0;34m\u001b[0m\u001b[0;34m\u001b[0m\u001b[0m\n\u001b[0;32m-> 1110\u001b[0;31m             \u001b[0;32mfor\u001b[0m \u001b[0mfeature\u001b[0m \u001b[0;32min\u001b[0m \u001b[0manalyze\u001b[0m\u001b[0;34m(\u001b[0m\u001b[0mdoc\u001b[0m\u001b[0;34m)\u001b[0m\u001b[0;34m:\u001b[0m\u001b[0;34m\u001b[0m\u001b[0;34m\u001b[0m\u001b[0m\n\u001b[0m\u001b[1;32m   1111\u001b[0m                 \u001b[0;32mtry\u001b[0m\u001b[0;34m:\u001b[0m\u001b[0;34m\u001b[0m\u001b[0;34m\u001b[0m\u001b[0m\n\u001b[1;32m   1112\u001b[0m                     \u001b[0mfeature_idx\u001b[0m \u001b[0;34m=\u001b[0m \u001b[0mvocabulary\u001b[0m\u001b[0;34m[\u001b[0m\u001b[0mfeature\u001b[0m\u001b[0;34m]\u001b[0m\u001b[0;34m\u001b[0m\u001b[0;34m\u001b[0m\u001b[0m\n",
      "\u001b[0;32m~/anaconda3/envs/learn-env/lib/python3.8/site-packages/sklearn/feature_extraction/text.py\u001b[0m in \u001b[0;36m_analyze\u001b[0;34m(doc, analyzer, tokenizer, ngrams, preprocessor, decoder, stop_words)\u001b[0m\n\u001b[1;32m    102\u001b[0m     \u001b[0;32melse\u001b[0m\u001b[0;34m:\u001b[0m\u001b[0;34m\u001b[0m\u001b[0;34m\u001b[0m\u001b[0m\n\u001b[1;32m    103\u001b[0m         \u001b[0;32mif\u001b[0m \u001b[0mpreprocessor\u001b[0m \u001b[0;32mis\u001b[0m \u001b[0;32mnot\u001b[0m \u001b[0;32mNone\u001b[0m\u001b[0;34m:\u001b[0m\u001b[0;34m\u001b[0m\u001b[0;34m\u001b[0m\u001b[0m\n\u001b[0;32m--> 104\u001b[0;31m             \u001b[0mdoc\u001b[0m \u001b[0;34m=\u001b[0m \u001b[0mpreprocessor\u001b[0m\u001b[0;34m(\u001b[0m\u001b[0mdoc\u001b[0m\u001b[0;34m)\u001b[0m\u001b[0;34m\u001b[0m\u001b[0;34m\u001b[0m\u001b[0m\n\u001b[0m\u001b[1;32m    105\u001b[0m         \u001b[0;32mif\u001b[0m \u001b[0mtokenizer\u001b[0m \u001b[0;32mis\u001b[0m \u001b[0;32mnot\u001b[0m \u001b[0;32mNone\u001b[0m\u001b[0;34m:\u001b[0m\u001b[0;34m\u001b[0m\u001b[0;34m\u001b[0m\u001b[0m\n\u001b[1;32m    106\u001b[0m             \u001b[0mdoc\u001b[0m \u001b[0;34m=\u001b[0m \u001b[0mtokenizer\u001b[0m\u001b[0;34m(\u001b[0m\u001b[0mdoc\u001b[0m\u001b[0;34m)\u001b[0m\u001b[0;34m\u001b[0m\u001b[0;34m\u001b[0m\u001b[0m\n",
      "\u001b[0;32m~/anaconda3/envs/learn-env/lib/python3.8/site-packages/sklearn/feature_extraction/text.py\u001b[0m in \u001b[0;36m_preprocess\u001b[0;34m(doc, accent_function, lower)\u001b[0m\n\u001b[1;32m     67\u001b[0m     \"\"\"\n\u001b[1;32m     68\u001b[0m     \u001b[0;32mif\u001b[0m \u001b[0mlower\u001b[0m\u001b[0;34m:\u001b[0m\u001b[0;34m\u001b[0m\u001b[0;34m\u001b[0m\u001b[0m\n\u001b[0;32m---> 69\u001b[0;31m         \u001b[0mdoc\u001b[0m \u001b[0;34m=\u001b[0m \u001b[0mdoc\u001b[0m\u001b[0;34m.\u001b[0m\u001b[0mlower\u001b[0m\u001b[0;34m(\u001b[0m\u001b[0;34m)\u001b[0m\u001b[0;34m\u001b[0m\u001b[0;34m\u001b[0m\u001b[0m\n\u001b[0m\u001b[1;32m     70\u001b[0m     \u001b[0;32mif\u001b[0m \u001b[0maccent_function\u001b[0m \u001b[0;32mis\u001b[0m \u001b[0;32mnot\u001b[0m \u001b[0;32mNone\u001b[0m\u001b[0;34m:\u001b[0m\u001b[0;34m\u001b[0m\u001b[0;34m\u001b[0m\u001b[0m\n\u001b[1;32m     71\u001b[0m         \u001b[0mdoc\u001b[0m \u001b[0;34m=\u001b[0m \u001b[0maccent_function\u001b[0m\u001b[0;34m(\u001b[0m\u001b[0mdoc\u001b[0m\u001b[0;34m)\u001b[0m\u001b[0;34m\u001b[0m\u001b[0;34m\u001b[0m\u001b[0m\n",
      "\u001b[0;31mAttributeError\u001b[0m: 'list' object has no attribute 'lower'"
     ]
    }
   ],
   "source": [
    "# Secondary train-test split to build our best model\n",
    "X_t, X_val, y_t, y_val = train_test_split(X_train['cleaned'], y_train,\n",
    "                                          test_size=0.25, random_state=42)\n",
    "#stopping our vectorizer at 200 features\n",
    "cv = CountVectorizer(max_features=100)\n",
    "\n",
    "X_t_vec = cv.fit_transform(X_t)\n",
    "# transforming the return sparce matrix into a Dataframe\n",
    "X_t_vec = pd.DataFrame.sparse.from_spmatrix(X_t_vec)\n",
    "#giving the vocabulary as column\n",
    "X_t_vec.columns = sorted(cv.vocabulary_)\n",
    "#Using the index from our training data\n",
    "X_t_vec.set_index(y_t.index, inplace=True)\n",
    "\n",
    "# We then transform (vectorized) the validation set from our #segundary Split \n",
    "X_val_vec = cv.transform(X_val)\n",
    "\n",
    "# transforming the return sparce matrix into a Dataframe\n",
    "X_val_vec  = pd.DataFrame.sparse.from_spmatrix(X_val_vec)\n",
    "\n",
    "#giving the vocabulary as column\n",
    "X_val_vec.columns = sorted(cv.vocabulary_)\n",
    "#Using the index from our training data\n",
    "X_val_vec.set_index(y_val.index, inplace=True)"
   ]
  },
  {
   "cell_type": "code",
   "execution_count": 100,
   "metadata": {
    "scrolled": true
   },
   "outputs": [
    {
     "data": {
      "text/html": [
       "<div>\n",
       "<style scoped>\n",
       "    .dataframe tbody tr th:only-of-type {\n",
       "        vertical-align: middle;\n",
       "    }\n",
       "\n",
       "    .dataframe tbody tr th {\n",
       "        vertical-align: top;\n",
       "    }\n",
       "\n",
       "    .dataframe thead th {\n",
       "        text-align: right;\n",
       "    }\n",
       "</style>\n",
       "<table border=\"1\" class=\"dataframe\">\n",
       "  <thead>\n",
       "    <tr style=\"text-align: right;\">\n",
       "      <th></th>\n",
       "      <th>aapl</th>\n",
       "      <th>abacus</th>\n",
       "      <th>abandoned</th>\n",
       "      <th>aber</th>\n",
       "      <th>able</th>\n",
       "      <th>abroad</th>\n",
       "      <th>absolutely</th>\n",
       "      <th>abt</th>\n",
       "      <th>abuzz</th>\n",
       "      <th>academy</th>\n",
       "      <th>...</th>\n",
       "      <th>zazzlsxsw</th>\n",
       "      <th>zero</th>\n",
       "      <th>zimride</th>\n",
       "      <th>zing</th>\n",
       "      <th>zite</th>\n",
       "      <th>zms</th>\n",
       "      <th>zombies</th>\n",
       "      <th>zomg</th>\n",
       "      <th>zoom</th>\n",
       "      <th>zzzs</th>\n",
       "    </tr>\n",
       "  </thead>\n",
       "  <tbody>\n",
       "    <tr>\n",
       "      <th>7411</th>\n",
       "      <td>0</td>\n",
       "      <td>0</td>\n",
       "      <td>0</td>\n",
       "      <td>0</td>\n",
       "      <td>0</td>\n",
       "      <td>0</td>\n",
       "      <td>0</td>\n",
       "      <td>0</td>\n",
       "      <td>0</td>\n",
       "      <td>0</td>\n",
       "      <td>...</td>\n",
       "      <td>0</td>\n",
       "      <td>0</td>\n",
       "      <td>0</td>\n",
       "      <td>0</td>\n",
       "      <td>0</td>\n",
       "      <td>0</td>\n",
       "      <td>0</td>\n",
       "      <td>0</td>\n",
       "      <td>0</td>\n",
       "      <td>0</td>\n",
       "    </tr>\n",
       "    <tr>\n",
       "      <th>157</th>\n",
       "      <td>0</td>\n",
       "      <td>0</td>\n",
       "      <td>0</td>\n",
       "      <td>0</td>\n",
       "      <td>0</td>\n",
       "      <td>0</td>\n",
       "      <td>0</td>\n",
       "      <td>0</td>\n",
       "      <td>0</td>\n",
       "      <td>0</td>\n",
       "      <td>...</td>\n",
       "      <td>0</td>\n",
       "      <td>0</td>\n",
       "      <td>0</td>\n",
       "      <td>0</td>\n",
       "      <td>0</td>\n",
       "      <td>0</td>\n",
       "      <td>0</td>\n",
       "      <td>0</td>\n",
       "      <td>0</td>\n",
       "      <td>0</td>\n",
       "    </tr>\n",
       "    <tr>\n",
       "      <th>1762</th>\n",
       "      <td>0</td>\n",
       "      <td>0</td>\n",
       "      <td>0</td>\n",
       "      <td>0</td>\n",
       "      <td>0</td>\n",
       "      <td>0</td>\n",
       "      <td>0</td>\n",
       "      <td>0</td>\n",
       "      <td>0</td>\n",
       "      <td>0</td>\n",
       "      <td>...</td>\n",
       "      <td>0</td>\n",
       "      <td>0</td>\n",
       "      <td>0</td>\n",
       "      <td>0</td>\n",
       "      <td>0</td>\n",
       "      <td>0</td>\n",
       "      <td>0</td>\n",
       "      <td>0</td>\n",
       "      <td>0</td>\n",
       "      <td>0</td>\n",
       "    </tr>\n",
       "    <tr>\n",
       "      <th>5059</th>\n",
       "      <td>0</td>\n",
       "      <td>0</td>\n",
       "      <td>0</td>\n",
       "      <td>0</td>\n",
       "      <td>0</td>\n",
       "      <td>0</td>\n",
       "      <td>0</td>\n",
       "      <td>0</td>\n",
       "      <td>0</td>\n",
       "      <td>0</td>\n",
       "      <td>...</td>\n",
       "      <td>0</td>\n",
       "      <td>0</td>\n",
       "      <td>0</td>\n",
       "      <td>0</td>\n",
       "      <td>0</td>\n",
       "      <td>0</td>\n",
       "      <td>0</td>\n",
       "      <td>0</td>\n",
       "      <td>0</td>\n",
       "      <td>0</td>\n",
       "    </tr>\n",
       "    <tr>\n",
       "      <th>6344</th>\n",
       "      <td>0</td>\n",
       "      <td>0</td>\n",
       "      <td>0</td>\n",
       "      <td>0</td>\n",
       "      <td>0</td>\n",
       "      <td>0</td>\n",
       "      <td>0</td>\n",
       "      <td>0</td>\n",
       "      <td>0</td>\n",
       "      <td>0</td>\n",
       "      <td>...</td>\n",
       "      <td>0</td>\n",
       "      <td>0</td>\n",
       "      <td>0</td>\n",
       "      <td>0</td>\n",
       "      <td>0</td>\n",
       "      <td>0</td>\n",
       "      <td>0</td>\n",
       "      <td>0</td>\n",
       "      <td>0</td>\n",
       "      <td>0</td>\n",
       "    </tr>\n",
       "    <tr>\n",
       "      <th>...</th>\n",
       "      <td>...</td>\n",
       "      <td>...</td>\n",
       "      <td>...</td>\n",
       "      <td>...</td>\n",
       "      <td>...</td>\n",
       "      <td>...</td>\n",
       "      <td>...</td>\n",
       "      <td>...</td>\n",
       "      <td>...</td>\n",
       "      <td>...</td>\n",
       "      <td>...</td>\n",
       "      <td>...</td>\n",
       "      <td>...</td>\n",
       "      <td>...</td>\n",
       "      <td>...</td>\n",
       "      <td>...</td>\n",
       "      <td>...</td>\n",
       "      <td>...</td>\n",
       "      <td>...</td>\n",
       "      <td>...</td>\n",
       "      <td>...</td>\n",
       "    </tr>\n",
       "    <tr>\n",
       "      <th>4615</th>\n",
       "      <td>0</td>\n",
       "      <td>0</td>\n",
       "      <td>0</td>\n",
       "      <td>0</td>\n",
       "      <td>0</td>\n",
       "      <td>0</td>\n",
       "      <td>0</td>\n",
       "      <td>0</td>\n",
       "      <td>0</td>\n",
       "      <td>0</td>\n",
       "      <td>...</td>\n",
       "      <td>0</td>\n",
       "      <td>0</td>\n",
       "      <td>0</td>\n",
       "      <td>0</td>\n",
       "      <td>0</td>\n",
       "      <td>0</td>\n",
       "      <td>0</td>\n",
       "      <td>0</td>\n",
       "      <td>0</td>\n",
       "      <td>0</td>\n",
       "    </tr>\n",
       "    <tr>\n",
       "      <th>6746</th>\n",
       "      <td>0</td>\n",
       "      <td>0</td>\n",
       "      <td>0</td>\n",
       "      <td>0</td>\n",
       "      <td>0</td>\n",
       "      <td>0</td>\n",
       "      <td>0</td>\n",
       "      <td>0</td>\n",
       "      <td>0</td>\n",
       "      <td>0</td>\n",
       "      <td>...</td>\n",
       "      <td>0</td>\n",
       "      <td>0</td>\n",
       "      <td>0</td>\n",
       "      <td>0</td>\n",
       "      <td>0</td>\n",
       "      <td>0</td>\n",
       "      <td>0</td>\n",
       "      <td>0</td>\n",
       "      <td>0</td>\n",
       "      <td>0</td>\n",
       "    </tr>\n",
       "    <tr>\n",
       "      <th>7233</th>\n",
       "      <td>0</td>\n",
       "      <td>0</td>\n",
       "      <td>0</td>\n",
       "      <td>0</td>\n",
       "      <td>0</td>\n",
       "      <td>0</td>\n",
       "      <td>0</td>\n",
       "      <td>0</td>\n",
       "      <td>0</td>\n",
       "      <td>0</td>\n",
       "      <td>...</td>\n",
       "      <td>0</td>\n",
       "      <td>0</td>\n",
       "      <td>0</td>\n",
       "      <td>0</td>\n",
       "      <td>0</td>\n",
       "      <td>0</td>\n",
       "      <td>0</td>\n",
       "      <td>0</td>\n",
       "      <td>0</td>\n",
       "      <td>0</td>\n",
       "    </tr>\n",
       "    <tr>\n",
       "      <th>8256</th>\n",
       "      <td>0</td>\n",
       "      <td>0</td>\n",
       "      <td>0</td>\n",
       "      <td>0</td>\n",
       "      <td>0</td>\n",
       "      <td>0</td>\n",
       "      <td>0</td>\n",
       "      <td>0</td>\n",
       "      <td>0</td>\n",
       "      <td>0</td>\n",
       "      <td>...</td>\n",
       "      <td>0</td>\n",
       "      <td>0</td>\n",
       "      <td>0</td>\n",
       "      <td>0</td>\n",
       "      <td>0</td>\n",
       "      <td>0</td>\n",
       "      <td>0</td>\n",
       "      <td>0</td>\n",
       "      <td>0</td>\n",
       "      <td>0</td>\n",
       "    </tr>\n",
       "    <tr>\n",
       "      <th>297</th>\n",
       "      <td>0</td>\n",
       "      <td>0</td>\n",
       "      <td>0</td>\n",
       "      <td>0</td>\n",
       "      <td>0</td>\n",
       "      <td>0</td>\n",
       "      <td>0</td>\n",
       "      <td>0</td>\n",
       "      <td>0</td>\n",
       "      <td>0</td>\n",
       "      <td>...</td>\n",
       "      <td>0</td>\n",
       "      <td>0</td>\n",
       "      <td>0</td>\n",
       "      <td>0</td>\n",
       "      <td>0</td>\n",
       "      <td>0</td>\n",
       "      <td>0</td>\n",
       "      <td>0</td>\n",
       "      <td>0</td>\n",
       "      <td>0</td>\n",
       "    </tr>\n",
       "  </tbody>\n",
       "</table>\n",
       "<p>1995 rows × 4239 columns</p>\n",
       "</div>"
      ],
      "text/plain": [
       "      aapl  abacus  abandoned  aber  able  abroad  absolutely  abt  abuzz  \\\n",
       "7411     0       0          0     0     0       0           0    0      0   \n",
       "157      0       0          0     0     0       0           0    0      0   \n",
       "1762     0       0          0     0     0       0           0    0      0   \n",
       "5059     0       0          0     0     0       0           0    0      0   \n",
       "6344     0       0          0     0     0       0           0    0      0   \n",
       "...    ...     ...        ...   ...   ...     ...         ...  ...    ...   \n",
       "4615     0       0          0     0     0       0           0    0      0   \n",
       "6746     0       0          0     0     0       0           0    0      0   \n",
       "7233     0       0          0     0     0       0           0    0      0   \n",
       "8256     0       0          0     0     0       0           0    0      0   \n",
       "297      0       0          0     0     0       0           0    0      0   \n",
       "\n",
       "      academy  ...  zazzlsxsw  zero  zimride  zing  zite  zms  zombies  zomg  \\\n",
       "7411        0  ...          0     0        0     0     0    0        0     0   \n",
       "157         0  ...          0     0        0     0     0    0        0     0   \n",
       "1762        0  ...          0     0        0     0     0    0        0     0   \n",
       "5059        0  ...          0     0        0     0     0    0        0     0   \n",
       "6344        0  ...          0     0        0     0     0    0        0     0   \n",
       "...       ...  ...        ...   ...      ...   ...   ...  ...      ...   ...   \n",
       "4615        0  ...          0     0        0     0     0    0        0     0   \n",
       "6746        0  ...          0     0        0     0     0    0        0     0   \n",
       "7233        0  ...          0     0        0     0     0    0        0     0   \n",
       "8256        0  ...          0     0        0     0     0    0        0     0   \n",
       "297         0  ...          0     0        0     0     0    0        0     0   \n",
       "\n",
       "      zoom  zzzs  \n",
       "7411     0     0  \n",
       "157      0     0  \n",
       "1762     0     0  \n",
       "5059     0     0  \n",
       "6344     0     0  \n",
       "...    ...   ...  \n",
       "4615     0     0  \n",
       "6746     0     0  \n",
       "7233     0     0  \n",
       "8256     0     0  \n",
       "297      0     0  \n",
       "\n",
       "[1995 rows x 4239 columns]"
      ]
     },
     "execution_count": 100,
     "metadata": {},
     "output_type": "execute_result"
    }
   ],
   "source": [
    "X_t_vec"
   ]
  },
  {
   "cell_type": "code",
   "execution_count": 101,
   "metadata": {
    "scrolled": true
   },
   "outputs": [
    {
     "ename": "AttributeError",
     "evalue": "'CountVectorizer' object has no attribute 'vocabulary_'",
     "output_type": "error",
     "traceback": [
      "\u001b[0;31m---------------------------------------------------------------------------\u001b[0m",
      "\u001b[0;31mAttributeError\u001b[0m                            Traceback (most recent call last)",
      "\u001b[0;32m<ipython-input-101-5f7ead879388>\u001b[0m in \u001b[0;36m<module>\u001b[0;34m\u001b[0m\n\u001b[0;32m----> 1\u001b[0;31m \u001b[0mcv\u001b[0m\u001b[0;34m.\u001b[0m\u001b[0mvocabulary_\u001b[0m\u001b[0;34m\u001b[0m\u001b[0;34m\u001b[0m\u001b[0m\n\u001b[0m",
      "\u001b[0;31mAttributeError\u001b[0m: 'CountVectorizer' object has no attribute 'vocabulary_'"
     ]
    }
   ],
   "source": [
    "cv.vocabulary_"
   ]
  },
  {
   "cell_type": "code",
   "execution_count": 102,
   "metadata": {},
   "outputs": [
    {
     "data": {
      "text/html": [
       "<div>\n",
       "<style scoped>\n",
       "    .dataframe tbody tr th:only-of-type {\n",
       "        vertical-align: middle;\n",
       "    }\n",
       "\n",
       "    .dataframe tbody tr th {\n",
       "        vertical-align: top;\n",
       "    }\n",
       "\n",
       "    .dataframe thead th {\n",
       "        text-align: right;\n",
       "    }\n",
       "</style>\n",
       "<table border=\"1\" class=\"dataframe\">\n",
       "  <thead>\n",
       "    <tr style=\"text-align: right;\">\n",
       "      <th></th>\n",
       "      <th>aapl</th>\n",
       "      <th>abacus</th>\n",
       "      <th>abandoned</th>\n",
       "      <th>aber</th>\n",
       "      <th>able</th>\n",
       "      <th>abroad</th>\n",
       "      <th>absolutely</th>\n",
       "      <th>abt</th>\n",
       "      <th>abuzz</th>\n",
       "      <th>academy</th>\n",
       "      <th>...</th>\n",
       "      <th>zazzlsxsw</th>\n",
       "      <th>zero</th>\n",
       "      <th>zimride</th>\n",
       "      <th>zing</th>\n",
       "      <th>zite</th>\n",
       "      <th>zms</th>\n",
       "      <th>zombies</th>\n",
       "      <th>zomg</th>\n",
       "      <th>zoom</th>\n",
       "      <th>zzzs</th>\n",
       "    </tr>\n",
       "  </thead>\n",
       "  <tbody>\n",
       "    <tr>\n",
       "      <th>2932</th>\n",
       "      <td>0</td>\n",
       "      <td>0</td>\n",
       "      <td>0</td>\n",
       "      <td>0</td>\n",
       "      <td>0</td>\n",
       "      <td>0</td>\n",
       "      <td>0</td>\n",
       "      <td>0</td>\n",
       "      <td>0</td>\n",
       "      <td>0</td>\n",
       "      <td>...</td>\n",
       "      <td>0</td>\n",
       "      <td>0</td>\n",
       "      <td>0</td>\n",
       "      <td>0</td>\n",
       "      <td>0</td>\n",
       "      <td>0</td>\n",
       "      <td>0</td>\n",
       "      <td>0</td>\n",
       "      <td>0</td>\n",
       "      <td>0</td>\n",
       "    </tr>\n",
       "    <tr>\n",
       "      <th>5305</th>\n",
       "      <td>0</td>\n",
       "      <td>0</td>\n",
       "      <td>0</td>\n",
       "      <td>0</td>\n",
       "      <td>0</td>\n",
       "      <td>0</td>\n",
       "      <td>0</td>\n",
       "      <td>0</td>\n",
       "      <td>0</td>\n",
       "      <td>0</td>\n",
       "      <td>...</td>\n",
       "      <td>0</td>\n",
       "      <td>0</td>\n",
       "      <td>0</td>\n",
       "      <td>0</td>\n",
       "      <td>0</td>\n",
       "      <td>0</td>\n",
       "      <td>0</td>\n",
       "      <td>0</td>\n",
       "      <td>0</td>\n",
       "      <td>0</td>\n",
       "    </tr>\n",
       "    <tr>\n",
       "      <th>3129</th>\n",
       "      <td>0</td>\n",
       "      <td>0</td>\n",
       "      <td>0</td>\n",
       "      <td>0</td>\n",
       "      <td>0</td>\n",
       "      <td>0</td>\n",
       "      <td>0</td>\n",
       "      <td>0</td>\n",
       "      <td>0</td>\n",
       "      <td>0</td>\n",
       "      <td>...</td>\n",
       "      <td>0</td>\n",
       "      <td>0</td>\n",
       "      <td>0</td>\n",
       "      <td>0</td>\n",
       "      <td>0</td>\n",
       "      <td>0</td>\n",
       "      <td>0</td>\n",
       "      <td>0</td>\n",
       "      <td>0</td>\n",
       "      <td>0</td>\n",
       "    </tr>\n",
       "    <tr>\n",
       "      <th>3934</th>\n",
       "      <td>0</td>\n",
       "      <td>0</td>\n",
       "      <td>0</td>\n",
       "      <td>0</td>\n",
       "      <td>0</td>\n",
       "      <td>0</td>\n",
       "      <td>0</td>\n",
       "      <td>0</td>\n",
       "      <td>0</td>\n",
       "      <td>0</td>\n",
       "      <td>...</td>\n",
       "      <td>0</td>\n",
       "      <td>0</td>\n",
       "      <td>0</td>\n",
       "      <td>0</td>\n",
       "      <td>0</td>\n",
       "      <td>0</td>\n",
       "      <td>0</td>\n",
       "      <td>0</td>\n",
       "      <td>0</td>\n",
       "      <td>0</td>\n",
       "    </tr>\n",
       "    <tr>\n",
       "      <th>3964</th>\n",
       "      <td>0</td>\n",
       "      <td>0</td>\n",
       "      <td>0</td>\n",
       "      <td>0</td>\n",
       "      <td>0</td>\n",
       "      <td>0</td>\n",
       "      <td>0</td>\n",
       "      <td>0</td>\n",
       "      <td>0</td>\n",
       "      <td>0</td>\n",
       "      <td>...</td>\n",
       "      <td>0</td>\n",
       "      <td>0</td>\n",
       "      <td>0</td>\n",
       "      <td>0</td>\n",
       "      <td>0</td>\n",
       "      <td>0</td>\n",
       "      <td>0</td>\n",
       "      <td>0</td>\n",
       "      <td>0</td>\n",
       "      <td>0</td>\n",
       "    </tr>\n",
       "    <tr>\n",
       "      <th>...</th>\n",
       "      <td>...</td>\n",
       "      <td>...</td>\n",
       "      <td>...</td>\n",
       "      <td>...</td>\n",
       "      <td>...</td>\n",
       "      <td>...</td>\n",
       "      <td>...</td>\n",
       "      <td>...</td>\n",
       "      <td>...</td>\n",
       "      <td>...</td>\n",
       "      <td>...</td>\n",
       "      <td>...</td>\n",
       "      <td>...</td>\n",
       "      <td>...</td>\n",
       "      <td>...</td>\n",
       "      <td>...</td>\n",
       "      <td>...</td>\n",
       "      <td>...</td>\n",
       "      <td>...</td>\n",
       "      <td>...</td>\n",
       "      <td>...</td>\n",
       "    </tr>\n",
       "    <tr>\n",
       "      <th>2776</th>\n",
       "      <td>0</td>\n",
       "      <td>0</td>\n",
       "      <td>0</td>\n",
       "      <td>0</td>\n",
       "      <td>0</td>\n",
       "      <td>0</td>\n",
       "      <td>0</td>\n",
       "      <td>0</td>\n",
       "      <td>0</td>\n",
       "      <td>0</td>\n",
       "      <td>...</td>\n",
       "      <td>0</td>\n",
       "      <td>0</td>\n",
       "      <td>0</td>\n",
       "      <td>0</td>\n",
       "      <td>0</td>\n",
       "      <td>0</td>\n",
       "      <td>0</td>\n",
       "      <td>0</td>\n",
       "      <td>0</td>\n",
       "      <td>0</td>\n",
       "    </tr>\n",
       "    <tr>\n",
       "      <th>1778</th>\n",
       "      <td>0</td>\n",
       "      <td>0</td>\n",
       "      <td>0</td>\n",
       "      <td>0</td>\n",
       "      <td>0</td>\n",
       "      <td>0</td>\n",
       "      <td>0</td>\n",
       "      <td>0</td>\n",
       "      <td>0</td>\n",
       "      <td>0</td>\n",
       "      <td>...</td>\n",
       "      <td>0</td>\n",
       "      <td>0</td>\n",
       "      <td>0</td>\n",
       "      <td>0</td>\n",
       "      <td>0</td>\n",
       "      <td>0</td>\n",
       "      <td>0</td>\n",
       "      <td>0</td>\n",
       "      <td>0</td>\n",
       "      <td>0</td>\n",
       "    </tr>\n",
       "    <tr>\n",
       "      <th>1676</th>\n",
       "      <td>0</td>\n",
       "      <td>0</td>\n",
       "      <td>0</td>\n",
       "      <td>0</td>\n",
       "      <td>0</td>\n",
       "      <td>0</td>\n",
       "      <td>0</td>\n",
       "      <td>0</td>\n",
       "      <td>0</td>\n",
       "      <td>0</td>\n",
       "      <td>...</td>\n",
       "      <td>0</td>\n",
       "      <td>0</td>\n",
       "      <td>0</td>\n",
       "      <td>0</td>\n",
       "      <td>0</td>\n",
       "      <td>0</td>\n",
       "      <td>0</td>\n",
       "      <td>0</td>\n",
       "      <td>0</td>\n",
       "      <td>0</td>\n",
       "    </tr>\n",
       "    <tr>\n",
       "      <th>236</th>\n",
       "      <td>0</td>\n",
       "      <td>0</td>\n",
       "      <td>0</td>\n",
       "      <td>0</td>\n",
       "      <td>0</td>\n",
       "      <td>0</td>\n",
       "      <td>0</td>\n",
       "      <td>0</td>\n",
       "      <td>0</td>\n",
       "      <td>0</td>\n",
       "      <td>...</td>\n",
       "      <td>0</td>\n",
       "      <td>0</td>\n",
       "      <td>0</td>\n",
       "      <td>0</td>\n",
       "      <td>0</td>\n",
       "      <td>0</td>\n",
       "      <td>0</td>\n",
       "      <td>0</td>\n",
       "      <td>0</td>\n",
       "      <td>0</td>\n",
       "    </tr>\n",
       "    <tr>\n",
       "      <th>2938</th>\n",
       "      <td>0</td>\n",
       "      <td>0</td>\n",
       "      <td>0</td>\n",
       "      <td>0</td>\n",
       "      <td>0</td>\n",
       "      <td>0</td>\n",
       "      <td>0</td>\n",
       "      <td>0</td>\n",
       "      <td>0</td>\n",
       "      <td>0</td>\n",
       "      <td>...</td>\n",
       "      <td>0</td>\n",
       "      <td>0</td>\n",
       "      <td>0</td>\n",
       "      <td>0</td>\n",
       "      <td>0</td>\n",
       "      <td>0</td>\n",
       "      <td>0</td>\n",
       "      <td>0</td>\n",
       "      <td>0</td>\n",
       "      <td>0</td>\n",
       "    </tr>\n",
       "  </tbody>\n",
       "</table>\n",
       "<p>666 rows × 4239 columns</p>\n",
       "</div>"
      ],
      "text/plain": [
       "      aapl  abacus  abandoned  aber  able  abroad  absolutely  abt  abuzz  \\\n",
       "2932     0       0          0     0     0       0           0    0      0   \n",
       "5305     0       0          0     0     0       0           0    0      0   \n",
       "3129     0       0          0     0     0       0           0    0      0   \n",
       "3934     0       0          0     0     0       0           0    0      0   \n",
       "3964     0       0          0     0     0       0           0    0      0   \n",
       "...    ...     ...        ...   ...   ...     ...         ...  ...    ...   \n",
       "2776     0       0          0     0     0       0           0    0      0   \n",
       "1778     0       0          0     0     0       0           0    0      0   \n",
       "1676     0       0          0     0     0       0           0    0      0   \n",
       "236      0       0          0     0     0       0           0    0      0   \n",
       "2938     0       0          0     0     0       0           0    0      0   \n",
       "\n",
       "      academy  ...  zazzlsxsw  zero  zimride  zing  zite  zms  zombies  zomg  \\\n",
       "2932        0  ...          0     0        0     0     0    0        0     0   \n",
       "5305        0  ...          0     0        0     0     0    0        0     0   \n",
       "3129        0  ...          0     0        0     0     0    0        0     0   \n",
       "3934        0  ...          0     0        0     0     0    0        0     0   \n",
       "3964        0  ...          0     0        0     0     0    0        0     0   \n",
       "...       ...  ...        ...   ...      ...   ...   ...  ...      ...   ...   \n",
       "2776        0  ...          0     0        0     0     0    0        0     0   \n",
       "1778        0  ...          0     0        0     0     0    0        0     0   \n",
       "1676        0  ...          0     0        0     0     0    0        0     0   \n",
       "236         0  ...          0     0        0     0     0    0        0     0   \n",
       "2938        0  ...          0     0        0     0     0    0        0     0   \n",
       "\n",
       "      zoom  zzzs  \n",
       "2932     0     0  \n",
       "5305     0     0  \n",
       "3129     0     0  \n",
       "3934     0     0  \n",
       "3964     0     0  \n",
       "...    ...   ...  \n",
       "2776     0     0  \n",
       "1778     0     0  \n",
       "1676     0     0  \n",
       "236      0     0  \n",
       "2938     0     0  \n",
       "\n",
       "[666 rows x 4239 columns]"
      ]
     },
     "execution_count": 102,
     "metadata": {},
     "output_type": "execute_result"
    }
   ],
   "source": [
    "X_val_vec"
   ]
  },
  {
   "cell_type": "markdown",
   "metadata": {},
   "source": [
    "## Multinomial Naive Bayes"
   ]
  },
  {
   "cell_type": "code",
   "execution_count": 103,
   "metadata": {},
   "outputs": [
    {
     "data": {
      "text/plain": [
       "MultinomialNB()"
      ]
     },
     "execution_count": 103,
     "metadata": {},
     "output_type": "execute_result"
    }
   ],
   "source": [
    "#Initiating the Multinomial Naive Bayes\n",
    "mnb = MultinomialNB()\n",
    "\n",
    "#fitting vectorized trainning sets\n",
    "mnb.fit(X_t_vec, y_t)"
   ]
  },
  {
   "cell_type": "code",
   "execution_count": null,
   "metadata": {},
   "outputs": [],
   "source": []
  },
  {
   "cell_type": "code",
   "execution_count": 104,
   "metadata": {},
   "outputs": [
    {
     "data": {
      "text/plain": [
       "1    0.843108\n",
       "0    0.156892\n",
       "Name: target, dtype: float64"
      ]
     },
     "execution_count": 104,
     "metadata": {},
     "output_type": "execute_result"
    }
   ],
   "source": [
    "# Sanity check \n",
    "y_t.value_counts(normalize=True)"
   ]
  },
  {
   "cell_type": "code",
   "execution_count": 105,
   "metadata": {},
   "outputs": [
    {
     "data": {
      "text/plain": [
       "array([-1.85219614, -0.17066049])"
      ]
     },
     "execution_count": 105,
     "metadata": {},
     "output_type": "execute_result"
    }
   ],
   "source": [
    "#empirical log probability for each class\n",
    "mnb.class_log_prior_"
   ]
  },
  {
   "cell_type": "code",
   "execution_count": 106,
   "metadata": {},
   "outputs": [],
   "source": [
    "#np.exp(mnb.class_log_prior_[0])"
   ]
  },
  {
   "cell_type": "code",
   "execution_count": 107,
   "metadata": {},
   "outputs": [
    {
     "name": "stdout",
     "output_type": "stream",
     "text": [
      "Just for 10 features (words) the model is 0.9588972431077695 accurate\n"
     ]
    }
   ],
   "source": [
    "#model Accuracy \n",
    "print(f'Just for 10 features (words) the model is {mnb.score(X_t_vec, y_t)} accurate')"
   ]
  },
  {
   "cell_type": "code",
   "execution_count": 108,
   "metadata": {},
   "outputs": [
    {
     "name": "stdout",
     "output_type": "stream",
     "text": [
      "Just for 10 features (words) the model is validate at 0.8543543543543544 \n"
     ]
    }
   ],
   "source": [
    "#Validation Score \n",
    "y_hat = mnb.predict(X_val_vec)\n",
    "\n",
    "\n",
    "print(f'Just for 10 features (words) the model is validate at {accuracy_score(y_val, y_hat)} ')"
   ]
  },
  {
   "cell_type": "code",
   "execution_count": 109,
   "metadata": {
    "scrolled": false
   },
   "outputs": [
    {
     "data": {
      "image/png": "[encoded data removed]",
      "text/plain": [
       "<Figure size 288x288 with 2 Axes>"
      ]
     },
     "metadata": {
      "needs_background": "light"
     },
     "output_type": "display_data"
    }
   ],
   "source": [
    "from sklearn.metrics import confusion_matrix, ConfusionMatrixDisplay\n",
    "import matplotlib.pyplot as plt\n",
    "\n",
    "# Create the confusion matrix\n",
    "cm1 = confusion_matrix(y_val, mnb.predict(X_val_vec))\n",
    "\n",
    "# Plot the Confusion Matrix with a smaller size\n",
    "fig, ax = plt.subplots(figsize=(4, 4))\n",
    "disp = ConfusionMatrixDisplay(confusion_matrix=cm1, display_labels=mnb.classes_)\n",
    "disp.plot(ax=ax, cmap=plt.cm.Blues, values_format=\".0f\")\n",
    "\n",
    "# Show the plot\n",
    "plt.show()"
   ]
  },
  {
   "cell_type": "code",
   "execution_count": 110,
   "metadata": {},
   "outputs": [
    {
     "data": {
      "image/png": "[encoded data removed]",
      "text/plain": [
       "<Figure size 288x288 with 2 Axes>"
      ]
     },
     "metadata": {
      "needs_background": "light"
     },
     "output_type": "display_data"
    }
   ],
   "source": [
    "# Create the confusion matrix\n",
    "\n",
    "\n",
    "# Plot the Confusion Matrix with a smaller size\n",
    "fig, ax = plt.subplots(figsize=(4, 4))  \n",
    "ConfusionMatrixDisplay(confusion_matrix=cm1, display_labels= mnb.classes_).plot(ax=ax)\n",
    "\n",
    "# Show the plot\n",
    "plt.show()"
   ]
  },
  {
   "cell_type": "code",
   "execution_count": 111,
   "metadata": {},
   "outputs": [
    {
     "data": {
      "text/plain": [
       "0.8626817447495961"
      ]
     },
     "execution_count": 111,
     "metadata": {},
     "output_type": "execute_result"
    }
   ],
   "source": [
    "#Calculating the precision score\n",
    "precision_score(y_val, y_hat)"
   ]
  },
  {
   "cell_type": "code",
   "execution_count": 112,
   "metadata": {},
   "outputs": [
    {
     "data": {
      "text/plain": [
       "0.8395989974937343"
      ]
     },
     "execution_count": 112,
     "metadata": {},
     "output_type": "execute_result"
    }
   ],
   "source": [
    "#Model Cross validation\n",
    "from sklearn.model_selection import cross_val_score\n",
    "cross_val_score(mnb,X_t_vec, y_t).mean()"
   ]
  },
  {
   "cell_type": "markdown",
   "metadata": {},
   "source": [
    "## Summary"
   ]
  },
  {
   "cell_type": "code",
   "execution_count": 113,
   "metadata": {
    "scrolled": true
   },
   "outputs": [
    {
     "name": "stdout",
     "output_type": "stream",
     "text": [
      "For 10 words or features only here the results of our model\n",
      "\n",
      "\n",
      "Accuracy: 0.8543543543543544\n",
      "Precision: 0.8414203224638725\n",
      "CrossValidation:0.8395989974937343\n"
     ]
    }
   ],
   "source": [
    "print ('For 10 words or features only here the results of our model')\n",
    "print ('\\n')\n",
    "print(f'Accuracy: {accuracy_score(y_val, y_hat)}')\n",
    "print(f'Precision: {precision_score(y_val, y_hat, average=\"weighted\")}')\n",
    "print (f'CrossValidation:{cross_val_score(mnb,X_t_vec, y_t).mean()}')\n",
    "#print(f'Recall: {recall_score(y_val, y_hat)}')\n",
    "#print(f'F1 Score: {f1_score(y_val, y_hat )}')"
   ]
  },
  {
   "cell_type": "markdown",
   "metadata": {},
   "source": [
    "## Binary Model Evaluation without vocabulary limitation "
   ]
  },
  {
   "cell_type": "code",
   "execution_count": 114,
   "metadata": {},
   "outputs": [
    {
     "ename": "AttributeError",
     "evalue": "'list' object has no attribute 'lower'",
     "output_type": "error",
     "traceback": [
      "\u001b[0;31m---------------------------------------------------------------------------\u001b[0m",
      "\u001b[0;31mAttributeError\u001b[0m                            Traceback (most recent call last)",
      "\u001b[0;32m<ipython-input-114-c1414738c573>\u001b[0m in \u001b[0;36m<module>\u001b[0;34m\u001b[0m\n\u001b[1;32m      2\u001b[0m \u001b[0mcv\u001b[0m \u001b[0;34m=\u001b[0m \u001b[0mCountVectorizer\u001b[0m\u001b[0;34m(\u001b[0m\u001b[0;34m)\u001b[0m\u001b[0;34m\u001b[0m\u001b[0;34m\u001b[0m\u001b[0m\n\u001b[1;32m      3\u001b[0m \u001b[0;31m#transforming training sets\u001b[0m\u001b[0;34m\u001b[0m\u001b[0;34m\u001b[0m\u001b[0;34m\u001b[0m\u001b[0m\n\u001b[0;32m----> 4\u001b[0;31m \u001b[0mX_t_vec\u001b[0m \u001b[0;34m=\u001b[0m \u001b[0mcv\u001b[0m\u001b[0;34m.\u001b[0m\u001b[0mfit_transform\u001b[0m\u001b[0;34m(\u001b[0m\u001b[0mX_t\u001b[0m\u001b[0;34m)\u001b[0m\u001b[0;34m\u001b[0m\u001b[0;34m\u001b[0m\u001b[0m\n\u001b[0m\u001b[1;32m      5\u001b[0m \u001b[0mX_t_vec\u001b[0m  \u001b[0;34m=\u001b[0m \u001b[0mpd\u001b[0m\u001b[0;34m.\u001b[0m\u001b[0mDataFrame\u001b[0m\u001b[0;34m.\u001b[0m\u001b[0msparse\u001b[0m\u001b[0;34m.\u001b[0m\u001b[0mfrom_spmatrix\u001b[0m\u001b[0;34m(\u001b[0m\u001b[0mX_t_vec\u001b[0m\u001b[0;34m)\u001b[0m\u001b[0;34m\u001b[0m\u001b[0;34m\u001b[0m\u001b[0m\n\u001b[1;32m      6\u001b[0m \u001b[0mX_t_vec\u001b[0m\u001b[0;34m.\u001b[0m\u001b[0mcolumns\u001b[0m \u001b[0;34m=\u001b[0m \u001b[0msorted\u001b[0m\u001b[0;34m(\u001b[0m\u001b[0mcv\u001b[0m\u001b[0;34m.\u001b[0m\u001b[0mvocabulary_\u001b[0m\u001b[0;34m)\u001b[0m\u001b[0;34m\u001b[0m\u001b[0;34m\u001b[0m\u001b[0m\n",
      "\u001b[0;32m~/anaconda3/envs/learn-env/lib/python3.8/site-packages/sklearn/feature_extraction/text.py\u001b[0m in \u001b[0;36mfit_transform\u001b[0;34m(self, raw_documents, y)\u001b[0m\n\u001b[1;32m   1196\u001b[0m         \u001b[0mmax_features\u001b[0m \u001b[0;34m=\u001b[0m \u001b[0mself\u001b[0m\u001b[0;34m.\u001b[0m\u001b[0mmax_features\u001b[0m\u001b[0;34m\u001b[0m\u001b[0;34m\u001b[0m\u001b[0m\n\u001b[1;32m   1197\u001b[0m \u001b[0;34m\u001b[0m\u001b[0m\n\u001b[0;32m-> 1198\u001b[0;31m         vocabulary, X = self._count_vocab(raw_documents,\n\u001b[0m\u001b[1;32m   1199\u001b[0m                                           self.fixed_vocabulary_)\n\u001b[1;32m   1200\u001b[0m \u001b[0;34m\u001b[0m\u001b[0m\n",
      "\u001b[0;32m~/anaconda3/envs/learn-env/lib/python3.8/site-packages/sklearn/feature_extraction/text.py\u001b[0m in \u001b[0;36m_count_vocab\u001b[0;34m(self, raw_documents, fixed_vocab)\u001b[0m\n\u001b[1;32m   1108\u001b[0m         \u001b[0;32mfor\u001b[0m \u001b[0mdoc\u001b[0m \u001b[0;32min\u001b[0m \u001b[0mraw_documents\u001b[0m\u001b[0;34m:\u001b[0m\u001b[0;34m\u001b[0m\u001b[0;34m\u001b[0m\u001b[0m\n\u001b[1;32m   1109\u001b[0m             \u001b[0mfeature_counter\u001b[0m \u001b[0;34m=\u001b[0m \u001b[0;34m{\u001b[0m\u001b[0;34m}\u001b[0m\u001b[0;34m\u001b[0m\u001b[0;34m\u001b[0m\u001b[0m\n\u001b[0;32m-> 1110\u001b[0;31m             \u001b[0;32mfor\u001b[0m \u001b[0mfeature\u001b[0m \u001b[0;32min\u001b[0m \u001b[0manalyze\u001b[0m\u001b[0;34m(\u001b[0m\u001b[0mdoc\u001b[0m\u001b[0;34m)\u001b[0m\u001b[0;34m:\u001b[0m\u001b[0;34m\u001b[0m\u001b[0;34m\u001b[0m\u001b[0m\n\u001b[0m\u001b[1;32m   1111\u001b[0m                 \u001b[0;32mtry\u001b[0m\u001b[0;34m:\u001b[0m\u001b[0;34m\u001b[0m\u001b[0;34m\u001b[0m\u001b[0m\n\u001b[1;32m   1112\u001b[0m                     \u001b[0mfeature_idx\u001b[0m \u001b[0;34m=\u001b[0m \u001b[0mvocabulary\u001b[0m\u001b[0;34m[\u001b[0m\u001b[0mfeature\u001b[0m\u001b[0;34m]\u001b[0m\u001b[0;34m\u001b[0m\u001b[0;34m\u001b[0m\u001b[0m\n",
      "\u001b[0;32m~/anaconda3/envs/learn-env/lib/python3.8/site-packages/sklearn/feature_extraction/text.py\u001b[0m in \u001b[0;36m_analyze\u001b[0;34m(doc, analyzer, tokenizer, ngrams, preprocessor, decoder, stop_words)\u001b[0m\n\u001b[1;32m    102\u001b[0m     \u001b[0;32melse\u001b[0m\u001b[0;34m:\u001b[0m\u001b[0;34m\u001b[0m\u001b[0;34m\u001b[0m\u001b[0m\n\u001b[1;32m    103\u001b[0m         \u001b[0;32mif\u001b[0m \u001b[0mpreprocessor\u001b[0m \u001b[0;32mis\u001b[0m \u001b[0;32mnot\u001b[0m \u001b[0;32mNone\u001b[0m\u001b[0;34m:\u001b[0m\u001b[0;34m\u001b[0m\u001b[0;34m\u001b[0m\u001b[0m\n\u001b[0;32m--> 104\u001b[0;31m             \u001b[0mdoc\u001b[0m \u001b[0;34m=\u001b[0m \u001b[0mpreprocessor\u001b[0m\u001b[0;34m(\u001b[0m\u001b[0mdoc\u001b[0m\u001b[0;34m)\u001b[0m\u001b[0;34m\u001b[0m\u001b[0;34m\u001b[0m\u001b[0m\n\u001b[0m\u001b[1;32m    105\u001b[0m         \u001b[0;32mif\u001b[0m \u001b[0mtokenizer\u001b[0m \u001b[0;32mis\u001b[0m \u001b[0;32mnot\u001b[0m \u001b[0;32mNone\u001b[0m\u001b[0;34m:\u001b[0m\u001b[0;34m\u001b[0m\u001b[0;34m\u001b[0m\u001b[0m\n\u001b[1;32m    106\u001b[0m             \u001b[0mdoc\u001b[0m \u001b[0;34m=\u001b[0m \u001b[0mtokenizer\u001b[0m\u001b[0;34m(\u001b[0m\u001b[0mdoc\u001b[0m\u001b[0;34m)\u001b[0m\u001b[0;34m\u001b[0m\u001b[0;34m\u001b[0m\u001b[0m\n",
      "\u001b[0;32m~/anaconda3/envs/learn-env/lib/python3.8/site-packages/sklearn/feature_extraction/text.py\u001b[0m in \u001b[0;36m_preprocess\u001b[0;34m(doc, accent_function, lower)\u001b[0m\n\u001b[1;32m     67\u001b[0m     \"\"\"\n\u001b[1;32m     68\u001b[0m     \u001b[0;32mif\u001b[0m \u001b[0mlower\u001b[0m\u001b[0;34m:\u001b[0m\u001b[0;34m\u001b[0m\u001b[0;34m\u001b[0m\u001b[0m\n\u001b[0;32m---> 69\u001b[0;31m         \u001b[0mdoc\u001b[0m \u001b[0;34m=\u001b[0m \u001b[0mdoc\u001b[0m\u001b[0;34m.\u001b[0m\u001b[0mlower\u001b[0m\u001b[0;34m(\u001b[0m\u001b[0;34m)\u001b[0m\u001b[0;34m\u001b[0m\u001b[0;34m\u001b[0m\u001b[0m\n\u001b[0m\u001b[1;32m     70\u001b[0m     \u001b[0;32mif\u001b[0m \u001b[0maccent_function\u001b[0m \u001b[0;32mis\u001b[0m \u001b[0;32mnot\u001b[0m \u001b[0;32mNone\u001b[0m\u001b[0;34m:\u001b[0m\u001b[0;34m\u001b[0m\u001b[0;34m\u001b[0m\u001b[0m\n\u001b[1;32m     71\u001b[0m         \u001b[0mdoc\u001b[0m \u001b[0;34m=\u001b[0m \u001b[0maccent_function\u001b[0m\u001b[0;34m(\u001b[0m\u001b[0mdoc\u001b[0m\u001b[0;34m)\u001b[0m\u001b[0;34m\u001b[0m\u001b[0;34m\u001b[0m\u001b[0m\n",
      "\u001b[0;31mAttributeError\u001b[0m: 'list' object has no attribute 'lower'"
     ]
    }
   ],
   "source": [
    "#Model instantiation without specifying features limitations with max_features\n",
    "cv = CountVectorizer()\n",
    "#transforming training sets\n",
    "X_t_vec = cv.fit_transform(X_t)\n",
    "X_t_vec  = pd.DataFrame.sparse.from_spmatrix(X_t_vec)\n",
    "X_t_vec.columns = sorted(cv.vocabulary_)\n",
    "X_t_vec.set_index(y_t.index, inplace=True)\n",
    "\n",
    "#transforming validation sets\n",
    "X_val_vec = cv.transform(X_val)\n",
    "X_val_vec  = pd.DataFrame.sparse.from_spmatrix(X_val_vec)\n",
    "X_val_vec.columns = sorted(cv.vocabulary_)\n",
    "X_val_vec.set_index(y_val.index, inplace=True)"
   ]
  },
  {
   "cell_type": "code",
   "execution_count": 115,
   "metadata": {},
   "outputs": [],
   "source": [
    "mnb = MultinomialNB()\n",
    "\n",
    "mnb.fit(X_t_vec, y_t)\n",
    "y_hat = mnb.predict(X_val_vec)\n",
    "cm= (mnb, X_t_vec, y_t);"
   ]
  },
  {
   "cell_type": "code",
   "execution_count": 116,
   "metadata": {
    "scrolled": true
   },
   "outputs": [
    {
     "data": {
      "text/plain": [
       "0.9587155963302753"
      ]
     },
     "execution_count": 116,
     "metadata": {},
     "output_type": "execute_result"
    }
   ],
   "source": [
    "precision_score(y_t, mnb.predict(X_t_vec))"
   ]
  },
  {
   "cell_type": "code",
   "execution_count": 117,
   "metadata": {
    "scrolled": false
   },
   "outputs": [
    {
     "data": {
      "image/png": "[encoded data removed]",
      "text/plain": [
       "<Figure size 288x288 with 2 Axes>"
      ]
     },
     "metadata": {
      "needs_background": "light"
     },
     "output_type": "display_data"
    }
   ],
   "source": [
    "# Create the confusion matrix\n",
    "cm2 = confusion_matrix(y_val, mnb.predict(X_val_vec))\n",
    "\n",
    "# Plot the Confusion Matrix with a smaller size\n",
    "fig, ax = plt.subplots(figsize=(4, 4))  \n",
    "ConfusionMatrixDisplay(confusion_matrix=cm2, display_labels= mnb.classes_).plot(ax=ax)\n",
    "\n",
    "# Show the plot\n",
    "plt.show()"
   ]
  },
  {
   "cell_type": "markdown",
   "metadata": {},
   "source": [
    "## Summary"
   ]
  },
  {
   "cell_type": "code",
   "execution_count": 118,
   "metadata": {},
   "outputs": [
    {
     "name": "stdout",
     "output_type": "stream",
     "text": [
      " here the results of our model\n",
      "\n",
      "\n",
      "Accuracy: 0.8543543543543544\n",
      "Precision: 0.8414203224638725\n",
      "CrossValidation:0.8395989974937343\n"
     ]
    }
   ],
   "source": [
    "print (' here the results of our model')\n",
    "print ('\\n')\n",
    "print(f'Accuracy: {accuracy_score(y_val, y_hat)}')\n",
    "print(f'Precision: {precision_score(y_val, y_hat, average=\"weighted\")}')\n",
    "print (f'CrossValidation:{cross_val_score(mnb,X_t_vec, y_t).mean()}')\n",
    "#print(f'Recall: {recall_score(y_val, y_hat)}')\n",
    "#print(f'F1 Score: {f1_score(y_val, y_hat )}')"
   ]
  },
  {
   "cell_type": "markdown",
   "metadata": {},
   "source": [
    "## Comparaison with Random Forest"
   ]
  },
  {
   "cell_type": "code",
   "execution_count": 119,
   "metadata": {},
   "outputs": [
    {
     "data": {
      "text/plain": [
       "0.8198198198198198"
      ]
     },
     "execution_count": 119,
     "metadata": {},
     "output_type": "execute_result"
    }
   ],
   "source": [
    "rf = RandomForestClassifier(n_estimators=800, max_depth=5)\n",
    "rf.fit(X_t_vec, y_t)\n",
    "y_hat = rf.predict(X_val_vec)\n",
    "precision_score(y_val, y_hat)\n"
   ]
  },
  {
   "cell_type": "code",
   "execution_count": 120,
   "metadata": {},
   "outputs": [
    {
     "data": {
      "text/plain": [
       "0.8431077694235589"
      ]
     },
     "execution_count": 120,
     "metadata": {},
     "output_type": "execute_result"
    }
   ],
   "source": [
    "precision_score(y_t, rf.predict(X_t_vec))"
   ]
  },
  {
   "cell_type": "code",
   "execution_count": 121,
   "metadata": {},
   "outputs": [
    {
     "data": {
      "text/plain": [
       "4239"
      ]
     },
     "execution_count": 121,
     "metadata": {},
     "output_type": "execute_result"
    }
   ],
   "source": [
    "len(rf.feature_importances_)"
   ]
  },
  {
   "cell_type": "code",
   "execution_count": 122,
   "metadata": {},
   "outputs": [
    {
     "data": {
      "text/plain": [
       "{'aapl': 0.0,\n",
       " 'abacus': 0.0007257030655771727,\n",
       " 'abandoned': 0.0005097153965786861,\n",
       " 'aber': 0.0,\n",
       " 'able': 0.0,\n",
       " 'abroad': 0.0005363061727289825,\n",
       " 'absolutely': 0.0,\n",
       " 'abt': 0.0,\n",
       " 'abuzz': 0.0,\n",
       " 'academy': 0.0,\n",
       " 'access': 0.0,\n",
       " 'accessible': 0.0,\n",
       " 'accessory': 0.0,\n",
       " 'accesssxsw': 0.0,\n",
       " 'accommodate': 0.0,\n",
       " 'according': 0.00068643475212531,\n",
       " 'accordion': 0.0,\n",
       " 'account': 0.0,\n",
       " 'acerbic': 0.000239414038831721,\n",
       " 'achieve': 0.0,\n",
       " 'acknowledge': 0.00047154427896645883,\n",
       " 'aclu': 6.579559997251e-05,\n",
       " 'acquired': 0.0004601979532742251,\n",
       " 'across': 0.00015998535691327784,\n",
       " 'acrosse': 0.0,\n",
       " 'acting': 0.0,\n",
       " 'action': 0.00018844519253884219,\n",
       " 'activate': 0.0001887109455833272,\n",
       " 'actsofsharing': 0.0,\n",
       " 'actual': 0.0,\n",
       " 'actually': 0.0,\n",
       " 'ad': 0.0,\n",
       " 'adapt': 0.0,\n",
       " 'adaptive': 0.0,\n",
       " 'add': 0.0,\n",
       " 'added': 0.0,\n",
       " 'addicted': 0.0,\n",
       " 'addictedtotheinterwebs': 0.0,\n",
       " 'addiction': 0.0,\n",
       " 'addictive': 0.0,\n",
       " 'addicts': 0.0005515560892313503,\n",
       " 'addition': 0.0,\n",
       " 'additional': 0.0,\n",
       " 'admired': 0.0,\n",
       " 'admission': 0.0,\n",
       " 'admit': 9.331559322222726e-09,\n",
       " 'admitting': 0.0001614683409438622,\n",
       " 'adopter': 0.0,\n",
       " 'adoption': 0.0,\n",
       " 'ads': 0.00028885917406892494,\n",
       " 'advantage': 0.0,\n",
       " 'advertising': 0.0,\n",
       " 'advice': 0.0,\n",
       " 'advisory': 0.0,\n",
       " 'affair': 0.0,\n",
       " 'afternoon': 0.0,\n",
       " 'agchat': 0.0,\n",
       " 'age': 0.0004045686286085369,\n",
       " 'agencies': 4.525520489029671e-05,\n",
       " 'agency': 0.0,\n",
       " 'agenda': 0.0,\n",
       " 'agents': 0.0,\n",
       " 'agileagency': 0.0,\n",
       " 'ago': 3.255270454444251e-05,\n",
       " 'agree': 0.0,\n",
       " 'agreed': 0.0003964949363986397,\n",
       " 'ah': 0.00022102916105538547,\n",
       " 'ahead': 0.0,\n",
       " 'ahhh': 0.0004811160871690541,\n",
       " 'ahing': 0.0,\n",
       " 'aicn': 0.0,\n",
       " 'aiding': 0.0,\n",
       " 'ain': 0.0007162544586587807,\n",
       " 'air': 0.0,\n",
       " 'airline': 0.0,\n",
       " 'airplane': 0.000878938403020325,\n",
       " 'airport': 0.0,\n",
       " 'airports': 0.0,\n",
       " 'airs': 0.0,\n",
       " 'ajs': 0.0,\n",
       " 'aka': 0.0,\n",
       " 'al': 0.00025359544424753574,\n",
       " 'alarm': 0.0011608905014700854,\n",
       " 'album': 0.0,\n",
       " 'alert': 0.0,\n",
       " 'alex': 0.0,\n",
       " 'algorithm': 0.00034699594408420584,\n",
       " 'alive': 0.00013867447248111403,\n",
       " 'all': 0.00024128153658332393,\n",
       " 'allhat': 0.0,\n",
       " 'allow': 0.0,\n",
       " 'allowing': 0.0,\n",
       " 'allows': 0.0,\n",
       " 'almost': 3.493380840452666e-05,\n",
       " 'alone': 5.5348271199522176e-05,\n",
       " 'along': 0.0,\n",
       " 'alot': 0.0,\n",
       " 'already': 0.0018985354833711934,\n",
       " 'also': 8.606156354051956e-05,\n",
       " 'alt': 9.044925709404287e-05,\n",
       " 'alternate': 0.0,\n",
       " 'although': 0.0003739836808347853,\n",
       " 'altimeter': 0.0,\n",
       " 'always': 0.0,\n",
       " 'amazing': 0.0,\n",
       " 'amazingly': 0.0,\n",
       " 'amazon': 0.0,\n",
       " 'amble': 0.0003334959576265621,\n",
       " 'amen': 0.0003271667842403762,\n",
       " 'america': 0.009036153362966431,\n",
       " 'amex': 0.0,\n",
       " 'amid': 0.0,\n",
       " 'amigos': 0.0,\n",
       " 'among': 0.017137781030495534,\n",
       " 'amount': 0.0,\n",
       " 'amp': 0.0005831246669930316,\n",
       " 'amused': 0.0,\n",
       " 'amusing': 0.0,\n",
       " 'analytics': 0.0,\n",
       " 'andoid': 0.0,\n",
       " 'andrew': 0.0002380195355884733,\n",
       " 'andriod': 0.0003166431347008718,\n",
       " 'andro': 0.0,\n",
       " 'android': 0.00025581620780768617,\n",
       " 'androidsxsw': 0.0,\n",
       " 'angel': 0.0,\n",
       " 'announce': 0.0,\n",
       " 'announced': 0.0,\n",
       " 'announcement': 0.0,\n",
       " 'announcing': 0.00012034652725977926,\n",
       " 'annoyed': 0.0002868938525196837,\n",
       " 'annoying': 0.0038020770758268384,\n",
       " 'another': 0.003057889462947388,\n",
       " 'answer': 0.0,\n",
       " 'anti': 0.00015358158531737727,\n",
       " 'anticipate': 0.00017846045591134264,\n",
       " 'antigov': 0.0,\n",
       " 'antique': 0.00045039922667562763,\n",
       " 'antonio': 0.0,\n",
       " 'anxiety': 3.35451092278424e-05,\n",
       " 'anybody': 0.00045059979817605865,\n",
       " 'anymore': 0.0,\n",
       " 'anyone': 0.00039632052443430455,\n",
       " 'anyones': 0.0,\n",
       " 'anything': 0.003781409586417491,\n",
       " 'anyway': 0.00033495000208828715,\n",
       " 'anywhere': 0.0,\n",
       " 'aos': 0.0,\n",
       " 'ap': 0.0,\n",
       " 'apac': 0.0,\n",
       " 'apartment': 0.0,\n",
       " 'api': 0.0,\n",
       " 'apis': 0.0,\n",
       " 'app': 0.0008028318410470051,\n",
       " 'apparently': 0.0,\n",
       " 'appcircus': 0.0,\n",
       " 'appeal': 0.0,\n",
       " 'appealing': 0.0,\n",
       " 'appear': 0.0,\n",
       " 'appears': 0.0,\n",
       " 'applauds': 0.0,\n",
       " 'applause': 0.0,\n",
       " 'apple': 0.00018154391128957943,\n",
       " 'appleatxdt': 0.0002484939759036106,\n",
       " 'applefanatic': 0.0,\n",
       " 'apples': 0.0,\n",
       " 'appletogo': 0.0,\n",
       " 'application': 0.0,\n",
       " 'applications': 0.0,\n",
       " 'appolicious': 0.0,\n",
       " 'appreciation': 0.0,\n",
       " 'approaches': 0.0011894375830574363,\n",
       " 'approval': 0.0006234926617697873,\n",
       " 'approved': 0.0,\n",
       " 'approves': 0.0,\n",
       " 'apps': 0.0005744488384304606,\n",
       " 'appstore': 0.000332697711787966,\n",
       " 'aquent': 0.0,\n",
       " 'arcade': 0.0,\n",
       " 'arctic': 0.0,\n",
       " 'arduino': 0.0,\n",
       " 'area': 0.0003990958613304222,\n",
       " 'areas': 0.0001989641232946021,\n",
       " 'arg': 0.0006932557514587292,\n",
       " 'aristotle': 0.0,\n",
       " 'arm': 3.722574665920963e-05,\n",
       " 'armadillo': 0.0,\n",
       " 'armed': 0.0,\n",
       " 'aron': 0.00045831293544528194,\n",
       " 'around': 0.00030103555720814736,\n",
       " 'arrived': 0.0,\n",
       " 'arrives': 0.0,\n",
       " 'arsenal': 0.0,\n",
       " 'art': 7.729204344927181e-05,\n",
       " 'article': 0.0,\n",
       " 'articles': 0.0,\n",
       " 'articulate': 0.0,\n",
       " 'artist': 0.00018907608410401386,\n",
       " 'artistic': 0.0,\n",
       " 'artists': 0.0,\n",
       " 'artwork': 0.0,\n",
       " 'artworks': 0.0,\n",
       " 'arw': 0.0,\n",
       " 'asddieu': 0.0,\n",
       " 'ask': 0.0,\n",
       " 'asked': 0.0009113096635547834,\n",
       " 'asking': 8.818848908142557e-06,\n",
       " 'asks': 1.8328478114033964e-05,\n",
       " 'asleep': 0.0,\n",
       " 'ass': 0.0,\n",
       " 'assistivetech': 0.0,\n",
       " 'assume': 0.0004681044277090613,\n",
       " 'atari': 0.0,\n",
       " 'atrix': 0.0,\n",
       " 'att': 0.0,\n",
       " 'attached': 0.00030606352873499077,\n",
       " 'attempt': 0.0,\n",
       " 'attend': 0.0,\n",
       " 'attended': 0.0002194730253087514,\n",
       " 'attendees': 0.0,\n",
       " 'attending': 6.70172407186129e-05,\n",
       " 'attention': 0.0,\n",
       " 'attracting': 0.0,\n",
       " 'attractive': 0.0,\n",
       " 'atx': 0.0,\n",
       " 'audience': 0.00046970529023836996,\n",
       " 'audio': 0.0,\n",
       " 'augmented': 0.0,\n",
       " 'aus': 0.0,\n",
       " 'austin': 0.000711227743231645,\n",
       " 'austinwins': 0.0,\n",
       " 'australian': 0.0,\n",
       " 'ausxsw': 0.0,\n",
       " 'authenticator': 0.0,\n",
       " 'authorization': 0.0004417884308261569,\n",
       " 'autistic': 0.0,\n",
       " 'autocorrect': 0.006261873328318263,\n",
       " 'autocorrected': 0.0007353942837546204,\n",
       " 'autocorrects': 0.0002747329938523903,\n",
       " 'autodial': 0.0,\n",
       " 'autonomous': 0.0,\n",
       " 'av': 0.0,\n",
       " 'available': 0.0,\n",
       " 'ave': 0.0,\n",
       " 'avenue': 0.0,\n",
       " 'average': 0.0,\n",
       " 'averages': 0.0,\n",
       " 'avoid': 0.0007197844499095175,\n",
       " 'avoiding': 0.0001372687689027083,\n",
       " 'aw': 0.0,\n",
       " 'awake': 0.0,\n",
       " 'award': 0.0,\n",
       " 'awards': 0.0,\n",
       " 'aware': 0.0,\n",
       " 'awareness': 0.0008751178192789796,\n",
       " 'away': 6.523489649279007e-05,\n",
       " 'awe': 0.0,\n",
       " 'awesome': 0.00020503016001641332,\n",
       " 'awesomely': 0.0,\n",
       " 'awesomeness': 0.0,\n",
       " 'awesometiming': 0.0,\n",
       " 'awkward': 0.0,\n",
       " 'awwww': 0.0,\n",
       " 'axzwxb': 0.0,\n",
       " 'baaah': 0.0,\n",
       " 'baby': 0.0,\n",
       " 'back': 0.0013282177526461388,\n",
       " 'background': 0.0,\n",
       " 'backlight': 0.00022364772796457162,\n",
       " 'backup': 0.0,\n",
       " 'bad': 0.0023305533091228237,\n",
       " 'badge': 0.0,\n",
       " 'badger': 0.0,\n",
       " 'badges': 0.0,\n",
       " 'bag': 0.0,\n",
       " 'bags': 0.0,\n",
       " 'bahahahaha': 0.0002913210364462801,\n",
       " 'bajillions': 0.0,\n",
       " 'balance': 0.0008027556657769727,\n",
       " 'balckberries': 0.0,\n",
       " 'balcony': 0.0,\n",
       " 'ballroom': 0.0,\n",
       " 'ballrooms': 0.0,\n",
       " 'banality': 0.0027491926144588095,\n",
       " 'band': 0.0,\n",
       " 'bands': 0.0,\n",
       " 'bandwaggoners': 0.0005246152821842019,\n",
       " 'bang': 0.0003683393398400482,\n",
       " 'bank': 3.275912337681737e-05,\n",
       " 'banking': 0.0001461550935836928,\n",
       " 'bankinnovate': 0.0,\n",
       " 'bankinnovation': 0.0,\n",
       " 'banks': 0.0001565302903477691,\n",
       " 'bar': 0.0,\n",
       " 'barely': 0.0002102559126381303,\n",
       " 'barroom': 4.0900192002215835e-05,\n",
       " 'barry': 0.004183246032635451,\n",
       " 'barrydiller': 0.0,\n",
       " 'bars': 0.0,\n",
       " 'bart': 0.0,\n",
       " 'barton': 0.0,\n",
       " 'based': 0.0,\n",
       " 'bashing': 0.0,\n",
       " 'basic': 0.0,\n",
       " 'basically': 0.0003573856162751111,\n",
       " 'basis': 0.0,\n",
       " 'basket': 0.0,\n",
       " 'bat': 0.0,\n",
       " 'bathroom': 0.0,\n",
       " 'batphone': 0.0001664606999341036,\n",
       " 'batt': 0.0004454867559786939,\n",
       " 'battery': 0.005132528771895942,\n",
       " 'batterykiller': 0.0006284470544948162,\n",
       " 'battle': 0.0,\n",
       " 'battledecks': 0.0,\n",
       " 'battlela': 1.8340118169226256e-05,\n",
       " 'bavcid': 0.0,\n",
       " 'bbq': 1.9371866300165285e-05,\n",
       " 'bc': 0.0005727043760634642,\n",
       " 'bcet': 0.0003742922139769604,\n",
       " 'bday': 0.0,\n",
       " 'beach': 9.980293076703171e-06,\n",
       " 'bear': 0.0,\n",
       " 'beard': 0.0,\n",
       " 'beat': 0.0,\n",
       " 'beats': 0.0,\n",
       " 'beautiful': 5.4453152323532506e-05,\n",
       " 'beautifully': 0.0,\n",
       " 'beauty': 0.0,\n",
       " 'become': 0.0,\n",
       " 'becoming': 0.0,\n",
       " 'bed': 0.0,\n",
       " 'beer': 5.232476509439698e-05,\n",
       " 'beforetwitter': 0.0,\n",
       " 'begin': 0.0,\n",
       " 'begins': 6.103556732283319e-05,\n",
       " 'behaving': 0.0,\n",
       " 'behavior': 0.0,\n",
       " 'behind': 0.0,\n",
       " 'believe': 0.0004156428262164956,\n",
       " 'belinsky': 9.5950098912025e-05,\n",
       " 'belong': 0.0,\n",
       " 'bemyneighbor': 0.0,\n",
       " 'benefit': 0.0,\n",
       " 'bereft': 0.00048367201942121056,\n",
       " 'berkowitz': 0.0,\n",
       " 'bernd': 0.0,\n",
       " 'berry': 0.0,\n",
       " 'best': 0.0002599171679194637,\n",
       " 'bestappever': 0.0,\n",
       " 'bet': 0.0,\n",
       " 'beta': 0.0,\n",
       " 'better': 0.0007404652159563211,\n",
       " 'bettercloud': 0.0,\n",
       " 'bettersearch': 0.0007086321554933172,\n",
       " 'betterthingstodo': 0.000575756528967105,\n",
       " 'beware': 0.001135101434423419,\n",
       " 'beyond': 0.0,\n",
       " 'bff': 0.0,\n",
       " 'bicycle': 0.00036167978799152826,\n",
       " 'big': 5.5533319575687404e-05,\n",
       " 'bigger': 0.0,\n",
       " 'biggest': 0.00043049521213340126,\n",
       " 'billboard': 0.0,\n",
       " 'billion': 0.0,\n",
       " 'bing': 0.000507387396992567,\n",
       " 'biomimicry': 0.0,\n",
       " 'bird': 0.000690098516524369,\n",
       " 'birds': 0.0,\n",
       " 'birthday': 0.0,\n",
       " 'bit': 0.00024610266404449235,\n",
       " 'bite': 0.0,\n",
       " 'biz': 0.0,\n",
       " 'bizzy': 0.0,\n",
       " 'bjdproductions': 0.0,\n",
       " 'black': 0.0,\n",
       " 'blackberry': 0.005510564940945152,\n",
       " 'blackbook': 0.0,\n",
       " 'blacked': 0.0,\n",
       " 'blame': 0.0,\n",
       " 'blast': 0.0,\n",
       " 'bldg': 0.0007371750117894138,\n",
       " 'bleed': 5.589739261355582e-05,\n",
       " 'blew': 0.0,\n",
       " 'blinksale': 0.0,\n",
       " 'blks': 2.7914250163546607e-05,\n",
       " 'block': 3.228882104836331e-05,\n",
       " 'blocked': 0.0006677576037566251,\n",
       " 'blocking': 0.0,\n",
       " 'blocks': 0.00017713208522485358,\n",
       " 'blog': 0.0,\n",
       " 'blogger': 0.0,\n",
       " 'blogging': 0.0,\n",
       " 'blogs': 0.0,\n",
       " 'bloody': 0.0013802703249479287,\n",
       " 'bloomberg': 0.0,\n",
       " 'blowing': 0.0,\n",
       " 'blows': 0.0,\n",
       " 'blue': 0.0,\n",
       " 'bluezoom': 0.0,\n",
       " 'blurs': 0.00014258292430930334,\n",
       " 'bmm': 0.0,\n",
       " 'bnet': 0.0,\n",
       " 'board': 0.0006674820562412409,\n",
       " 'book': 0.00010165667860542494,\n",
       " 'bookbook': 0.0,\n",
       " 'books': 0.0,\n",
       " 'boom': 0.0,\n",
       " 'boomers': 0.0,\n",
       " 'boooo': 0.0009250327256791932,\n",
       " 'boost': 0.0,\n",
       " 'booth': 0.0005246546433967461,\n",
       " 'booyah': 0.0,\n",
       " 'borderstylo': 0.0,\n",
       " 'bored': 0.0,\n",
       " 'born': 0.0,\n",
       " 'borrowing': 0.0,\n",
       " 'boss': 0.0,\n",
       " 'bother': 0.0,\n",
       " 'bots': 0.0009940849289919315,\n",
       " 'bottom': 0.0008585365195094668,\n",
       " 'bought': 0.0,\n",
       " 'bounced': 0.0,\n",
       " 'bound': 0.0,\n",
       " 'boundaries': 0.0,\n",
       " 'bout': 0.0,\n",
       " 'bowl': 0.0,\n",
       " 'box': 0.0,\n",
       " 'boxee': 3.62720770287993e-05,\n",
       " 'boxes': 0.0,\n",
       " 'boy': 0.0,\n",
       " 'boyfriend': 0.0,\n",
       " 'bpm': 0.0,\n",
       " 'bracket': 0.0,\n",
       " 'brain': 4.8309125954382017e-05,\n",
       " 'brains': 0.0,\n",
       " 'brainwashed': 1.8414667369497545e-05,\n",
       " 'brand': 0.0005259678171936349,\n",
       " 'brands': 3.5665587440578344e-05,\n",
       " 'bravo': 0.0,\n",
       " 'brawls': 2.907154000101864e-05,\n",
       " 'brazil': 0.0,\n",
       " 'bread': 0.0,\n",
       " 'break': 0.0,\n",
       " 'breakdown': 0.0,\n",
       " 'breaking': 0.0,\n",
       " 'breakout': 0.0,\n",
       " 'breakthrough': 0.0,\n",
       " 'breath': 0.0,\n",
       " 'breathtaking': 0.0,\n",
       " 'breeds': 0.0,\n",
       " 'brian': 0.0,\n",
       " 'brick': 0.0014965922811024026,\n",
       " 'bridging': 0.0,\n",
       " 'brief': 0.0,\n",
       " 'brilliance': 0.0,\n",
       " 'brilliant': 0.0,\n",
       " 'bring': 8.22440381352768e-05,\n",
       " 'bringing': 0.0,\n",
       " 'brings': 0.0,\n",
       " 'british': 0.0,\n",
       " 'brits': 0.0,\n",
       " 'brk': 0.0,\n",
       " 'bro': 0.0,\n",
       " 'broadcastr': 0.0,\n",
       " 'broadfeed': 0.00011141085147899996,\n",
       " 'broken': 0.00036150896778915293,\n",
       " 'brought': 0.0,\n",
       " 'browse': 1.9888853087845628e-05,\n",
       " 'browser': 0.0002172023488248336,\n",
       " 'browserwars': 0.0,\n",
       " 'browsing': 0.0,\n",
       " 'bryce': 0.0,\n",
       " 'bucket': 0.0003694044718341356,\n",
       " 'buffalo': 0.0,\n",
       " 'bugger': 0.0,\n",
       " 'bugs': 0.0,\n",
       " 'build': 0.0001276949399819484,\n",
       " 'building': 2.6124260617564963e-06,\n",
       " 'buildings': 3.4887030004758125e-05,\n",
       " 'built': 3.937883906748672e-05,\n",
       " 'bulletin': 0.0,\n",
       " 'bullish': 0.0,\n",
       " 'bummed': 0.0,\n",
       " 'bummer': 0.0,\n",
       " 'bumped': 0.0,\n",
       " 'bunch': 0.0,\n",
       " 'burn': 0.00952850369245892,\n",
       " 'busdev': 0.0,\n",
       " 'business': 0.0005510800151312139,\n",
       " 'busy': 0.0,\n",
       " 'button': 0.0005007593410922075,\n",
       " 'buttons': 0.0007348015254080902,\n",
       " 'butts': 0.0,\n",
       " 'buy': 0.0003290525860014169,\n",
       " 'buyers': 0.0,\n",
       " 'buying': 6.71946047673517e-05,\n",
       " 'buys': 0.0,\n",
       " 'buzz': 0.0001420770975192266,\n",
       " 'buzzing': 0.00018063192138752408,\n",
       " 'buzzmetrics': 0.0,\n",
       " 'cab': 0.0026549549544663846,\n",
       " 'cabbies': 7.733865330196577e-05,\n",
       " 'cable': 0.0,\n",
       " 'cactus': 0.0,\n",
       " 'calendar': 0.0007509619043165243,\n",
       " 'calhoun': 0.0006089656537874121,\n",
       " 'california': 0.0,\n",
       " 'call': 0.0014918394610832241,\n",
       " 'callay': 0.0,\n",
       " 'called': 0.00023951617813646318,\n",
       " 'callooh': 0.0,\n",
       " 'calls': 0.000526847276256599,\n",
       " 'cam': 4.159170045998993e-05,\n",
       " 'came': 0.002334394965043313,\n",
       " 'camera': 7.625055076402663e-05,\n",
       " 'cameras': 4.395557759244567e-05,\n",
       " 'campaigns': 0.0,\n",
       " 'can': 0.0,\n",
       " 'canada': 0.0,\n",
       " 'canadian': 0.0,\n",
       " 'cancel': 0.0,\n",
       " 'cannot': 0.00018666556417275225,\n",
       " 'cant': 0.00025602136396485694,\n",
       " 'captain': 0.0,\n",
       " 'capture': 6.53698415143851e-05,\n",
       " 'captured': 0.0,\n",
       " 'car': 0.0,\n",
       " 'caramel': 0.0,\n",
       " 'carbon': 0.0,\n",
       " 'card': 0.0,\n",
       " 'cards': 0.0,\n",
       " 'care': 0.0015499284975170754,\n",
       " 'caring': 0.0034910723856330776,\n",
       " 'carousel': 0.0,\n",
       " 'carroll': 0.0,\n",
       " 'carry': 0.00020199178104196764,\n",
       " 'carrying': 0.0,\n",
       " 'cart': 0.0,\n",
       " 'cartel': 0.00014267897487831198,\n",
       " 'cartoon': 0.0,\n",
       " 'cartoonishly': 0.0,\n",
       " 'case': 0.00011060166899903176,\n",
       " 'cases': 0.0,\n",
       " 'cash': 3.334355830962657e-05,\n",
       " 'cashmore': 0.0045121545589216034,\n",
       " 'cast': 0.0,\n",
       " 'castle': 0.0,\n",
       " 'catch': 0.0,\n",
       " 'catching': 0.0,\n",
       " 'catphysics': 0.0,\n",
       " 'cattle': 0.00020235322247964002,\n",
       " 'cause': 0.0,\n",
       " 'caused': 0.0,\n",
       " 'causing': 0.00033369826980062314,\n",
       " 'cautiously': 0.0,\n",
       " 'cbatsxsw': 0.0,\n",
       " 'cc': 1.2619194418339167e-05,\n",
       " 'cedar': 0.0,\n",
       " 'celebrate': 7.77242102681713e-05,\n",
       " 'celebrating': 0.0,\n",
       " 'cell': 2.2465253546550467e-05,\n",
       " 'cellular': 0.0006257772720114916,\n",
       " 'center': 0.0,\n",
       " 'centers': 0.0,\n",
       " 'centre': 0.0,\n",
       " 'centric': 0.0,\n",
       " 'cents': 0.0,\n",
       " 'ceo': 0.0,\n",
       " 'cera': 0.0,\n",
       " 'cerebellum': 0.0,\n",
       " 'cerebral': 0.0,\n",
       " 'certificate': 0.0,\n",
       " 'ces': 0.00019762409552448023,\n",
       " 'ch': 0.0,\n",
       " 'chain': 0.0,\n",
       " 'chair': 0.0,\n",
       " 'chalked': 0.0,\n",
       " 'challenged': 0.0,\n",
       " 'challenges': 0.00020522542132047052,\n",
       " 'champ': 0.0,\n",
       " 'chan': 0.0,\n",
       " 'chance': 0.0,\n",
       " 'chances': 0.0,\n",
       " 'change': 0.00036336161353038273,\n",
       " 'changed': 0.00022009346258941895,\n",
       " 'changer': 0.0,\n",
       " 'changes': 0.0,\n",
       " 'changing': 0.0,\n",
       " 'channels': 0.0,\n",
       " 'chaos': 0.0,\n",
       " 'characters': 0.0,\n",
       " 'charge': 0.0,\n",
       " 'charged': 0.0,\n",
       " 'charger': 9.394614778984599e-06,\n",
       " 'chargers': 0.0,\n",
       " 'charging': 0.0,\n",
       " 'charity': 0.00020473061105049717,\n",
       " 'charles': 0.0,\n",
       " 'charm': 0.0,\n",
       " 'charts': 0.0,\n",
       " 'chat': 0.0,\n",
       " 'cheap': 0.0,\n",
       " 'cheapen': 0.00017969671799241083,\n",
       " 'cheaper': 0.0,\n",
       " 'check': 0.00013193173915295735,\n",
       " 'checked': 0.0,\n",
       " 'checking': 0.0,\n",
       " 'checkins': 3.601490130377249e-05,\n",
       " 'checkout': 0.0,\n",
       " 'cheeky': 0.0,\n",
       " 'cheer': 0.0,\n",
       " 'chen': 0.0,\n",
       " 'chevy': 0.0,\n",
       " 'chevysmc': 0.0,\n",
       " 'chevysxsw': 0.0,\n",
       " 'chic': 0.0,\n",
       " 'chief': 0.0,\n",
       " 'child': 0.0,\n",
       " 'chip': 0.0,\n",
       " 'chk': 0.0,\n",
       " 'chng': 0.0,\n",
       " 'choice': 0.0,\n",
       " 'choplifter': 0.0,\n",
       " 'choreography': 0.0,\n",
       " 'chris': 0.0,\n",
       " 'christian': 0.0,\n",
       " 'christmas': 0.0,\n",
       " 'chrome': 0.00042864339411057895,\n",
       " 'chromeos': 0.0,\n",
       " 'chunky': 0.0,\n",
       " 'cigarettes': 0.0,\n",
       " 'circle': 0.0016567370102433014,\n",
       " 'circusmash': 0.0,\n",
       " 'cited': 0.0007159547029479811,\n",
       " 'cites': 3.4088460752973585e-05,\n",
       " 'city': 5.45610781776941e-05,\n",
       " 'ckers': 0.0,\n",
       " 'cks': 0.0,\n",
       " 'clarity': 0.0,\n",
       " 'clark': 0.0,\n",
       " 'class': 0.00017884083926212002,\n",
       " 'classical': 0.0006177432706757907,\n",
       " 'classics': 0.0,\n",
       " 'classiest': 0.011201968725979384,\n",
       " 'classy': 0.0,\n",
       " 'cle': 0.0,\n",
       " 'clean': 0.0014879035771631223,\n",
       " 'clear': 0.0,\n",
       " 'clearly': 0.0,\n",
       " 'cleveland': 0.0,\n",
       " 'clever': 0.0,\n",
       " 'client': 0.0,\n",
       " 'clients': 0.0,\n",
       " 'climbing': 0.0,\n",
       " 'close': 0.0,\n",
       " 'closely': 0.0,\n",
       " 'cloud': 7.06814184944478e-05,\n",
       " 'cloudapp': 0.0003294263486670743,\n",
       " 'cluster': 0.0,\n",
       " 'cm': 0.0,\n",
       " 'cmty': 0.0,\n",
       " 'cn': 0.0,\n",
       " 'cnet': 0.0,\n",
       " 'cnn': 0.0,\n",
       " 'cnngrill': 0.0,\n",
       " 'cnnmoney': 0.0,\n",
       " 'cnnmoneysxsw': 0.0,\n",
       " 'cnt': 0.0,\n",
       " 'cntr': 0.0,\n",
       " 'co': 1.2526862492693796e-05,\n",
       " 'cobra': 0.0,\n",
       " 'cocaine': 0.0,\n",
       " 'code': 0.0018055002181794544,\n",
       " 'coders': 0.0,\n",
       " 'coffee': 0.0001138158926476188,\n",
       " 'cohen': 0.0,\n",
       " 'coincide': 0.0,\n",
       " 'coincides': 0.0,\n",
       " 'coinsidence': 0.0,\n",
       " 'cold': 0.0,\n",
       " 'colin': 0.000459126733773164,\n",
       " 'collab': 0.0,\n",
       " 'collection': 0.001290814291725814,\n",
       " 'collective': 0.0,\n",
       " 'collectively': 0.0,\n",
       " 'color': 0.0,\n",
       " 'colors': 0.0,\n",
       " 'com': 8.717026979076397e-05,\n",
       " 'comcom': 0.0,\n",
       " 'come': 5.785258764235855e-05,\n",
       " 'comedy': 0.00017139837992282363,\n",
       " 'comes': 0.0,\n",
       " 'comfort': 0.0,\n",
       " 'comic': 0.0,\n",
       " 'coming': 6.742402516908139e-05,\n",
       " 'commandeered': 0.0008671835014319158,\n",
       " 'comment': 0.0,\n",
       " 'comments': 0.00041611859046936686,\n",
       " 'communicate': 0.0,\n",
       " 'communication': 0.0,\n",
       " 'communications': 0.00011531219908330722,\n",
       " 'community': 0.00037161668104889037,\n",
       " 'comp': 0.0,\n",
       " 'compact': 0.0,\n",
       " 'compan': 0.0,\n",
       " 'companies': 0.00020938665192168427,\n",
       " 'company': 0.007108979170524507,\n",
       " 'compared': 0.0,\n",
       " 'compatible': 0.00021063652446974386,\n",
       " 'compete': 0.0,\n",
       " 'competition': 0.0,\n",
       " 'compiling': 0.00013944494111245095,\n",
       " 'complement': 0.0,\n",
       " 'complete': 0.0,\n",
       " 'completely': 0.0006089695300274119,\n",
       " 'complicated': 0.0006582434245823392,\n",
       " 'composed': 0.0006214149231869963,\n",
       " 'computer': 0.0,\n",
       " 'computing': 0.0,\n",
       " 'concentrate': 0.0002517080977533664,\n",
       " 'concept': 0.00021380437552053343,\n",
       " 'concert': 0.0,\n",
       " 'concertgoers': 0.0,\n",
       " 'concierge': 0.0,\n",
       " 'condense': 0.0006695497016056199,\n",
       " 'conf': 0.0,\n",
       " 'conference': 2.144410565807087e-05,\n",
       " 'conferences': 0.0,\n",
       " 'confession': 0.0,\n",
       " 'confirmed': 0.0001310261861066416,\n",
       " 'conflagration': 0.0009298708160098771,\n",
       " 'congrats': 0.0,\n",
       " 'congratulation': 0.0,\n",
       " 'congratulations': 0.0,\n",
       " 'congress': 4.001044243650084e-05,\n",
       " 'connect': 0.0,\n",
       " 'connected': 0.0,\n",
       " 'connectedbrands': 0.0,\n",
       " 'connectedcar': 0.0,\n",
       " 'connectedtv': 0.0,\n",
       " 'connectivity': 5.651694923081908e-05,\n",
       " 'connects': 0.0,\n",
       " 'conquered': 0.0,\n",
       " 'consciously': 0.0,\n",
       " 'consequences': 0.0,\n",
       " 'consistent': 0.0,\n",
       " 'consistently': 2.517714361755662e-05,\n",
       " 'constant': 0.0,\n",
       " 'consulting': 0.0,\n",
       " 'consume': 0.0,\n",
       " 'consumer': 0.00010400996351403688,\n",
       " 'consumerization': 0.0,\n",
       " 'cont': 0.0,\n",
       " 'contact': 0.0,\n",
       " 'content': 0.0016044886830542697,\n",
       " 'contentrules': 0.0,\n",
       " 'contest': 0.0,\n",
       " 'contextual': 6.635618563132676e-06,\n",
       " 'continual': 0.0,\n",
       " 'continued': 0.0007031225825778168,\n",
       " 'continues': 0.0,\n",
       " 'control': 0.0001776392588712197,\n",
       " 'conv': 0.0,\n",
       " 'convenient': 0.0,\n",
       " 'conveniently': 0.0,\n",
       " 'convention': 0.0,\n",
       " 'converge': 0.0,\n",
       " 'conversation': 0.0,\n",
       " 'conversations': 0.0,\n",
       " 'convience': 0.0,\n",
       " 'convince': 0.0007273908821450728,\n",
       " 'convinced': 0.00015184933720365878,\n",
       " 'convore': 0.0,\n",
       " 'cool': 0.0003154502382280636,\n",
       " 'coolaid': 0.0,\n",
       " 'cooler': 0.0,\n",
       " 'coolest': 0.0,\n",
       " 'coolness': 0.0,\n",
       " 'cope': 0.0007965083794389794,\n",
       " 'copy': 0.0,\n",
       " 'cor': 0.0,\n",
       " 'cord': 0.0001499941225920419,\n",
       " 'cords': 0.0,\n",
       " 'core': 0.00025925961788664036,\n",
       " 'corner': 2.2978238962073767e-05,\n",
       " 'coronasdk': 0.00022190974723830653,\n",
       " 'corporation': 0.0006072445153333365,\n",
       " 'corps': 0.00012629706887755285,\n",
       " 'corralling': 0.00015754172693799344,\n",
       " 'correct': 0.0,\n",
       " 'cost': 0.00014058007779468266,\n",
       " 'costs': 0.00015456890721207326,\n",
       " 'costume': 0.0,\n",
       " 'couch': 0.0,\n",
       " 'couchfan': 0.0,\n",
       " 'cough': 0.0,\n",
       " 'could': 0.0001336847026384363,\n",
       " 'count': 0.0004321958530704975,\n",
       " 'countering': 0.0,\n",
       " 'country': 0.0,\n",
       " 'couple': 0.0,\n",
       " 'course': 0.0,\n",
       " 'courtesy': 0.00017623364056438808,\n",
       " 'courtyard': 1.669777034129886e-05,\n",
       " 'cover': 0.0,\n",
       " 'coverage': 0.0,\n",
       " 'covered': 0.0,\n",
       " 'covering': 0.0,\n",
       " 'cow': 0.0,\n",
       " 'coworkers': 0.002424394896756331,\n",
       " 'cpa': 0.00039250251138424043,\n",
       " 'cr': 0.0,\n",
       " 'crack': 0.0,\n",
       " 'crackberry': 0.0,\n",
       " 'crafty': 0.0,\n",
       " 'crapkit': 0.0009325696807912106,\n",
       " 'craps': 0.0,\n",
       " 'crashed': 0.0004217274901019525,\n",
       " 'crasher': 0.0,\n",
       " 'crashes': 3.998052300820704e-05,\n",
       " 'crashing': 0.0,\n",
       " 'crashy': 0.0009340228502219426,\n",
       " 'crave': 0.0,\n",
       " 'craving': 0.0,\n",
       " 'craziness': 0.0,\n",
       " 'crazy': 0.0,\n",
       " 'crazyco': 0.0,\n",
       " 'cream': 0.0,\n",
       " 'create': 0.0,\n",
       " 'created': 0.0,\n",
       " 'creates': 0.0,\n",
       " 'creating': 0.0,\n",
       " 'creative': 9.675958509549264e-05,\n",
       " 'creatively': 0.0,\n",
       " 'creativity': 6.622953861144405e-05,\n",
       " 'creatures': 0.0,\n",
       " 'credit': 0.00012412856198481382,\n",
       " 'creek': 0.0,\n",
       " 'crew': 0.0,\n",
       " 'cried': 0.0,\n",
       " 'crippling': 0.000866621610202927,\n",
       " 'crisis': 0.0006056507063076867,\n",
       " 'critiques': 0.0,\n",
       " 'cross': 3.82289020009261e-05,\n",
       " 'crossed': 0.0,\n",
       " 'crossing': 0.0,\n",
       " 'crowd': 4.486969885328011e-05,\n",
       " 'crowdbeacon': 0.0,\n",
       " 'crowded': 0.0008601591655510979,\n",
       " 'crowds': 0.00043384481492631183,\n",
       " 'crowdsourcing': 0.0004030356115677498,\n",
       " 'crowley': 0.0001122579371128523,\n",
       " 'crunch': 0.00024458517062542976,\n",
       " 'crushing': 0.0006007945560580097,\n",
       " 'cruze': 0.0,\n",
       " 'cry': 0.0,\n",
       " 'csr': 0.0004351665727195898,\n",
       " 'cstejas': 0.0003774791701354454,\n",
       " 'csuitecsourcing': 0.0001241526543951245,\n",
       " 'ctia': 0.0,\n",
       " 'cult': 0.0004845562561647809,\n",
       " 'culture': 3.621964734011979e-05,\n",
       " 'cunning': 0.0,\n",
       " 'cup': 0.0008870042720137744,\n",
       " 'cupcake': 0.0,\n",
       " 'cupertino': 0.0,\n",
       " 'curated': 0.0,\n",
       " 'curatedebate': 0.0,\n",
       " 'curiosity': 0.0019242439978492973,\n",
       " 'current': 0.0,\n",
       " 'cursing': 0.0007977133369886517,\n",
       " 'cursor': 0.0,\n",
       " 'custom': 0.0,\n",
       " 'custome': 0.0,\n",
       " 'customer': 0.0,\n",
       " 'customers': 0.0,\n",
       " 'cut': 0.00020637909710252575,\n",
       " 'cute': 0.0,\n",
       " 'cuts': 0.0,\n",
       " 'cuz': 0.0,\n",
       " 'cwc': 0.0,\n",
       " 'cwebb': 0.00019163050664188695,\n",
       " 'cynical': 0.0,\n",
       " 'dah': 0.0,\n",
       " 'dahl': 0.0,\n",
       " 'dailies': 0.0001375593510072227,\n",
       " 'daily': 0.00042958853918014574,\n",
       " 'damn': 0.0005379975731853691,\n",
       " 'damon': 0.0,\n",
       " 'dance': 6.772026433560682e-05,\n",
       " 'dancing': 0.0,\n",
       " 'dandy': 0.0,\n",
       " 'danfung': 0.0,\n",
       " 'dang': 0.0,\n",
       " 'dangerous': 0.0,\n",
       " 'dangling': 0.0,\n",
       " 'dark': 0.00022213158499834597,\n",
       " 'darn': 0.00011619738346530631,\n",
       " 'darryl': 0.0,\n",
       " 'data': 0.0009837388622426708,\n",
       " 'date': 0.0,\n",
       " 'davis': 5.338005084398443e-05,\n",
       " 'dawg': 0.0,\n",
       " 'dawn': 0.0,\n",
       " 'dawned': 0.0,\n",
       " 'day': 0.00019589895652534614,\n",
       " 'days': 0.0012316062327938366,\n",
       " 'de': 0.0,\n",
       " 'dead': 0.0006391216875204885,\n",
       " 'deadly': 0.0014748351218490526,\n",
       " 'deal': 0.0001637060840625322,\n",
       " 'dealing': 0.0,\n",
       " 'deals': 0.0,\n",
       " 'dear': 0.003434279233443246,\n",
       " 'death': 2.2749472689824984e-05,\n",
       " 'debating': 2.9167554123660108e-05,\n",
       " 'debut': 0.0,\n",
       " 'debuting': 1.7450748587612112e-05,\n",
       " 'debuts': 0.0,\n",
       " 'decade': 0.0,\n",
       " 'decent': 0.0,\n",
       " 'decide': 0.00023182981865756873,\n",
       " 'decided': 1.909289912515392e-05,\n",
       " 'decision': 0.0,\n",
       " 'deck': 0.0007819629409444942,\n",
       " 'def': 1.1475500819199843e-05,\n",
       " 'default': 0.0,\n",
       " 'deficit': 0.00028658671178103897,\n",
       " 'define': 0.0,\n",
       " 'defining': 0.0,\n",
       " 'definitely': 0.0,\n",
       " 'deforestation': 0.0,\n",
       " 'degrees': 0.0,\n",
       " 'dehumanizing': 0.0,\n",
       " 'delay': 0.0,\n",
       " 'delayed': 0.0,\n",
       " 'delegates': 0.017851101034661948,\n",
       " 'delete': 0.0,\n",
       " 'deleting': 0.0003175155568203882,\n",
       " 'delicious': 0.003139537201567596,\n",
       " 'deliciously': 0.00036007396576546514,\n",
       " 'deliciousness': 0.0,\n",
       " 'delight': 0.0,\n",
       " 'delightful': 0.0,\n",
       " 'deliver': 0.001248123532986277,\n",
       " 'delivered': 0.000806713064775464,\n",
       " 'delivering': 0.00036565888479438645,\n",
       " 'dell': 0.0,\n",
       " 'delving': 0.0,\n",
       " 'demo': 8.083221959645807e-05,\n",
       " 'democracy': 0.0,\n",
       " 'demoed': 0.0,\n",
       " 'demoing': 0.0,\n",
       " 'demonstrate': 0.0,\n",
       " 'demonstrates': 0.0,\n",
       " 'demonstration': 0.0,\n",
       " 'demos': 0.0,\n",
       " 'denies': 0.0,\n",
       " 'dennis': 0.0,\n",
       " 'density': 0.0,\n",
       " 'depeche': 0.0,\n",
       " 'described': 4.9687258023081776e-05,\n",
       " 'design': 0.0034265197302888904,\n",
       " 'designed': 0.0006234838308606226,\n",
       " 'designers': 0.0,\n",
       " 'designflaws': 0.0,\n",
       " 'designing': 0.0,\n",
       " 'designingforkids': 0.0,\n",
       " 'desktop': 5.7201869589762153e-05,\n",
       " 'desperately': 0.0,\n",
       " 'despite': 0.0,\n",
       " 'destroyed': 0.0036842891278634294,\n",
       " 'detail': 0.0006776694265535407,\n",
       " 'details': 0.0,\n",
       " 'detect': 0.0,\n",
       " 'detection': 0.0,\n",
       " 'dev': 0.0,\n",
       " 'developed': 0.0,\n",
       " 'developer': 0.0,\n",
       " 'developers': 0.0001523637962282409,\n",
       " 'developing': 0.00017657890706623076,\n",
       " 'development': 0.0,\n",
       " 'deviantart': 0.0,\n",
       " 'device': 7.139838683141049e-05,\n",
       " 'devices': 4.850925543194723e-05,\n",
       " 'devs': 0.0,\n",
       " 'dfcbto': 0.0,\n",
       " 'dfp': 0.0,\n",
       " 'dfw': 0.0,\n",
       " 'diabetes': 0.0003279341204335498,\n",
       " 'dictaphone': 0.0,\n",
       " 'dictatorship': 0.00025651882225350564,\n",
       " 'die': 0.0,\n",
       " 'died': 0.0,\n",
       " 'dieing': 0.0,\n",
       " 'dies': 0.0026008705450531115,\n",
       " 'different': 0.0,\n",
       " 'dig': 0.0,\n",
       " 'digging': 0.0,\n",
       " ...}"
      ]
     },
     "execution_count": 122,
     "metadata": {},
     "output_type": "execute_result"
    }
   ],
   "source": [
    "dict(zip(list(X_t_vec.columns), rf.feature_importances_))"
   ]
  },
  {
   "cell_type": "code",
   "execution_count": 123,
   "metadata": {
    "scrolled": false
   },
   "outputs": [],
   "source": [
    "#X_train"
   ]
  },
  {
   "cell_type": "code",
   "execution_count": null,
   "metadata": {},
   "outputs": [],
   "source": []
  },
  {
   "cell_type": "code",
   "execution_count": 124,
   "metadata": {},
   "outputs": [
    {
     "data": {
      "text/html": [
       "<div>\n",
       "<style scoped>\n",
       "    .dataframe tbody tr th:only-of-type {\n",
       "        vertical-align: middle;\n",
       "    }\n",
       "\n",
       "    .dataframe tbody tr th {\n",
       "        vertical-align: top;\n",
       "    }\n",
       "\n",
       "    .dataframe thead th {\n",
       "        text-align: right;\n",
       "    }\n",
       "</style>\n",
       "<table border=\"1\" class=\"dataframe\">\n",
       "  <thead>\n",
       "    <tr style=\"text-align: right;\">\n",
       "      <th></th>\n",
       "      <th>aapl</th>\n",
       "      <th>abacus</th>\n",
       "      <th>abandoned</th>\n",
       "      <th>aber</th>\n",
       "      <th>able</th>\n",
       "      <th>abroad</th>\n",
       "      <th>absolutely</th>\n",
       "      <th>abt</th>\n",
       "      <th>abuzz</th>\n",
       "      <th>academy</th>\n",
       "      <th>...</th>\n",
       "      <th>zazzlsxsw</th>\n",
       "      <th>zero</th>\n",
       "      <th>zimride</th>\n",
       "      <th>zing</th>\n",
       "      <th>zite</th>\n",
       "      <th>zms</th>\n",
       "      <th>zombies</th>\n",
       "      <th>zomg</th>\n",
       "      <th>zoom</th>\n",
       "      <th>zzzs</th>\n",
       "    </tr>\n",
       "  </thead>\n",
       "  <tbody>\n",
       "    <tr>\n",
       "      <th>7411</th>\n",
       "      <td>0</td>\n",
       "      <td>0</td>\n",
       "      <td>0</td>\n",
       "      <td>0</td>\n",
       "      <td>0</td>\n",
       "      <td>0</td>\n",
       "      <td>0</td>\n",
       "      <td>0</td>\n",
       "      <td>0</td>\n",
       "      <td>0</td>\n",
       "      <td>...</td>\n",
       "      <td>0</td>\n",
       "      <td>0</td>\n",
       "      <td>0</td>\n",
       "      <td>0</td>\n",
       "      <td>0</td>\n",
       "      <td>0</td>\n",
       "      <td>0</td>\n",
       "      <td>0</td>\n",
       "      <td>0</td>\n",
       "      <td>0</td>\n",
       "    </tr>\n",
       "    <tr>\n",
       "      <th>157</th>\n",
       "      <td>0</td>\n",
       "      <td>0</td>\n",
       "      <td>0</td>\n",
       "      <td>0</td>\n",
       "      <td>0</td>\n",
       "      <td>0</td>\n",
       "      <td>0</td>\n",
       "      <td>0</td>\n",
       "      <td>0</td>\n",
       "      <td>0</td>\n",
       "      <td>...</td>\n",
       "      <td>0</td>\n",
       "      <td>0</td>\n",
       "      <td>0</td>\n",
       "      <td>0</td>\n",
       "      <td>0</td>\n",
       "      <td>0</td>\n",
       "      <td>0</td>\n",
       "      <td>0</td>\n",
       "      <td>0</td>\n",
       "      <td>0</td>\n",
       "    </tr>\n",
       "    <tr>\n",
       "      <th>1762</th>\n",
       "      <td>0</td>\n",
       "      <td>0</td>\n",
       "      <td>0</td>\n",
       "      <td>0</td>\n",
       "      <td>0</td>\n",
       "      <td>0</td>\n",
       "      <td>0</td>\n",
       "      <td>0</td>\n",
       "      <td>0</td>\n",
       "      <td>0</td>\n",
       "      <td>...</td>\n",
       "      <td>0</td>\n",
       "      <td>0</td>\n",
       "      <td>0</td>\n",
       "      <td>0</td>\n",
       "      <td>0</td>\n",
       "      <td>0</td>\n",
       "      <td>0</td>\n",
       "      <td>0</td>\n",
       "      <td>0</td>\n",
       "      <td>0</td>\n",
       "    </tr>\n",
       "    <tr>\n",
       "      <th>5059</th>\n",
       "      <td>0</td>\n",
       "      <td>0</td>\n",
       "      <td>0</td>\n",
       "      <td>0</td>\n",
       "      <td>0</td>\n",
       "      <td>0</td>\n",
       "      <td>0</td>\n",
       "      <td>0</td>\n",
       "      <td>0</td>\n",
       "      <td>0</td>\n",
       "      <td>...</td>\n",
       "      <td>0</td>\n",
       "      <td>0</td>\n",
       "      <td>0</td>\n",
       "      <td>0</td>\n",
       "      <td>0</td>\n",
       "      <td>0</td>\n",
       "      <td>0</td>\n",
       "      <td>0</td>\n",
       "      <td>0</td>\n",
       "      <td>0</td>\n",
       "    </tr>\n",
       "    <tr>\n",
       "      <th>6344</th>\n",
       "      <td>0</td>\n",
       "      <td>0</td>\n",
       "      <td>0</td>\n",
       "      <td>0</td>\n",
       "      <td>0</td>\n",
       "      <td>0</td>\n",
       "      <td>0</td>\n",
       "      <td>0</td>\n",
       "      <td>0</td>\n",
       "      <td>0</td>\n",
       "      <td>...</td>\n",
       "      <td>0</td>\n",
       "      <td>0</td>\n",
       "      <td>0</td>\n",
       "      <td>0</td>\n",
       "      <td>0</td>\n",
       "      <td>0</td>\n",
       "      <td>0</td>\n",
       "      <td>0</td>\n",
       "      <td>0</td>\n",
       "      <td>0</td>\n",
       "    </tr>\n",
       "    <tr>\n",
       "      <th>...</th>\n",
       "      <td>...</td>\n",
       "      <td>...</td>\n",
       "      <td>...</td>\n",
       "      <td>...</td>\n",
       "      <td>...</td>\n",
       "      <td>...</td>\n",
       "      <td>...</td>\n",
       "      <td>...</td>\n",
       "      <td>...</td>\n",
       "      <td>...</td>\n",
       "      <td>...</td>\n",
       "      <td>...</td>\n",
       "      <td>...</td>\n",
       "      <td>...</td>\n",
       "      <td>...</td>\n",
       "      <td>...</td>\n",
       "      <td>...</td>\n",
       "      <td>...</td>\n",
       "      <td>...</td>\n",
       "      <td>...</td>\n",
       "      <td>...</td>\n",
       "    </tr>\n",
       "    <tr>\n",
       "      <th>4615</th>\n",
       "      <td>0</td>\n",
       "      <td>0</td>\n",
       "      <td>0</td>\n",
       "      <td>0</td>\n",
       "      <td>0</td>\n",
       "      <td>0</td>\n",
       "      <td>0</td>\n",
       "      <td>0</td>\n",
       "      <td>0</td>\n",
       "      <td>0</td>\n",
       "      <td>...</td>\n",
       "      <td>0</td>\n",
       "      <td>0</td>\n",
       "      <td>0</td>\n",
       "      <td>0</td>\n",
       "      <td>0</td>\n",
       "      <td>0</td>\n",
       "      <td>0</td>\n",
       "      <td>0</td>\n",
       "      <td>0</td>\n",
       "      <td>0</td>\n",
       "    </tr>\n",
       "    <tr>\n",
       "      <th>6746</th>\n",
       "      <td>0</td>\n",
       "      <td>0</td>\n",
       "      <td>0</td>\n",
       "      <td>0</td>\n",
       "      <td>0</td>\n",
       "      <td>0</td>\n",
       "      <td>0</td>\n",
       "      <td>0</td>\n",
       "      <td>0</td>\n",
       "      <td>0</td>\n",
       "      <td>...</td>\n",
       "      <td>0</td>\n",
       "      <td>0</td>\n",
       "      <td>0</td>\n",
       "      <td>0</td>\n",
       "      <td>0</td>\n",
       "      <td>0</td>\n",
       "      <td>0</td>\n",
       "      <td>0</td>\n",
       "      <td>0</td>\n",
       "      <td>0</td>\n",
       "    </tr>\n",
       "    <tr>\n",
       "      <th>7233</th>\n",
       "      <td>0</td>\n",
       "      <td>0</td>\n",
       "      <td>0</td>\n",
       "      <td>0</td>\n",
       "      <td>0</td>\n",
       "      <td>0</td>\n",
       "      <td>0</td>\n",
       "      <td>0</td>\n",
       "      <td>0</td>\n",
       "      <td>0</td>\n",
       "      <td>...</td>\n",
       "      <td>0</td>\n",
       "      <td>0</td>\n",
       "      <td>0</td>\n",
       "      <td>0</td>\n",
       "      <td>0</td>\n",
       "      <td>0</td>\n",
       "      <td>0</td>\n",
       "      <td>0</td>\n",
       "      <td>0</td>\n",
       "      <td>0</td>\n",
       "    </tr>\n",
       "    <tr>\n",
       "      <th>8256</th>\n",
       "      <td>0</td>\n",
       "      <td>0</td>\n",
       "      <td>0</td>\n",
       "      <td>0</td>\n",
       "      <td>0</td>\n",
       "      <td>0</td>\n",
       "      <td>0</td>\n",
       "      <td>0</td>\n",
       "      <td>0</td>\n",
       "      <td>0</td>\n",
       "      <td>...</td>\n",
       "      <td>0</td>\n",
       "      <td>0</td>\n",
       "      <td>0</td>\n",
       "      <td>0</td>\n",
       "      <td>0</td>\n",
       "      <td>0</td>\n",
       "      <td>0</td>\n",
       "      <td>0</td>\n",
       "      <td>0</td>\n",
       "      <td>0</td>\n",
       "    </tr>\n",
       "    <tr>\n",
       "      <th>297</th>\n",
       "      <td>0</td>\n",
       "      <td>0</td>\n",
       "      <td>0</td>\n",
       "      <td>0</td>\n",
       "      <td>0</td>\n",
       "      <td>0</td>\n",
       "      <td>0</td>\n",
       "      <td>0</td>\n",
       "      <td>0</td>\n",
       "      <td>0</td>\n",
       "      <td>...</td>\n",
       "      <td>0</td>\n",
       "      <td>0</td>\n",
       "      <td>0</td>\n",
       "      <td>0</td>\n",
       "      <td>0</td>\n",
       "      <td>0</td>\n",
       "      <td>0</td>\n",
       "      <td>0</td>\n",
       "      <td>0</td>\n",
       "      <td>0</td>\n",
       "    </tr>\n",
       "  </tbody>\n",
       "</table>\n",
       "<p>1995 rows × 4239 columns</p>\n",
       "</div>"
      ],
      "text/plain": [
       "      aapl  abacus  abandoned  aber  able  abroad  absolutely  abt  abuzz  \\\n",
       "7411     0       0          0     0     0       0           0    0      0   \n",
       "157      0       0          0     0     0       0           0    0      0   \n",
       "1762     0       0          0     0     0       0           0    0      0   \n",
       "5059     0       0          0     0     0       0           0    0      0   \n",
       "6344     0       0          0     0     0       0           0    0      0   \n",
       "...    ...     ...        ...   ...   ...     ...         ...  ...    ...   \n",
       "4615     0       0          0     0     0       0           0    0      0   \n",
       "6746     0       0          0     0     0       0           0    0      0   \n",
       "7233     0       0          0     0     0       0           0    0      0   \n",
       "8256     0       0          0     0     0       0           0    0      0   \n",
       "297      0       0          0     0     0       0           0    0      0   \n",
       "\n",
       "      academy  ...  zazzlsxsw  zero  zimride  zing  zite  zms  zombies  zomg  \\\n",
       "7411        0  ...          0     0        0     0     0    0        0     0   \n",
       "157         0  ...          0     0        0     0     0    0        0     0   \n",
       "1762        0  ...          0     0        0     0     0    0        0     0   \n",
       "5059        0  ...          0     0        0     0     0    0        0     0   \n",
       "6344        0  ...          0     0        0     0     0    0        0     0   \n",
       "...       ...  ...        ...   ...      ...   ...   ...  ...      ...   ...   \n",
       "4615        0  ...          0     0        0     0     0    0        0     0   \n",
       "6746        0  ...          0     0        0     0     0    0        0     0   \n",
       "7233        0  ...          0     0        0     0     0    0        0     0   \n",
       "8256        0  ...          0     0        0     0     0    0        0     0   \n",
       "297         0  ...          0     0        0     0     0    0        0     0   \n",
       "\n",
       "      zoom  zzzs  \n",
       "7411     0     0  \n",
       "157      0     0  \n",
       "1762     0     0  \n",
       "5059     0     0  \n",
       "6344     0     0  \n",
       "...    ...   ...  \n",
       "4615     0     0  \n",
       "6746     0     0  \n",
       "7233     0     0  \n",
       "8256     0     0  \n",
       "297      0     0  \n",
       "\n",
       "[1995 rows x 4239 columns]"
      ]
     },
     "execution_count": 124,
     "metadata": {},
     "output_type": "execute_result"
    }
   ],
   "source": [
    "X_t_vec"
   ]
  },
  {
   "cell_type": "code",
   "execution_count": 125,
   "metadata": {},
   "outputs": [
    {
     "data": {
      "text/html": [
       "<div>\n",
       "<style scoped>\n",
       "    .dataframe tbody tr th:only-of-type {\n",
       "        vertical-align: middle;\n",
       "    }\n",
       "\n",
       "    .dataframe tbody tr th {\n",
       "        vertical-align: top;\n",
       "    }\n",
       "\n",
       "    .dataframe thead th {\n",
       "        text-align: right;\n",
       "    }\n",
       "</style>\n",
       "<table border=\"1\" class=\"dataframe\">\n",
       "  <thead>\n",
       "    <tr style=\"text-align: right;\">\n",
       "      <th></th>\n",
       "      <th>tweet_text</th>\n",
       "      <th>products</th>\n",
       "      <th>emotions</th>\n",
       "    </tr>\n",
       "  </thead>\n",
       "  <tbody>\n",
       "    <tr>\n",
       "      <th>0</th>\n",
       "      <td>.@wesley83 I have a 3G iPhone. After 3 hrs twe...</td>\n",
       "      <td>iPhone</td>\n",
       "      <td>Negative emotion</td>\n",
       "    </tr>\n",
       "    <tr>\n",
       "      <th>1</th>\n",
       "      <td>@jessedee Know about @fludapp ? Awesome iPad/i...</td>\n",
       "      <td>iPad or iPhone App</td>\n",
       "      <td>Positive emotion</td>\n",
       "    </tr>\n",
       "    <tr>\n",
       "      <th>2</th>\n",
       "      <td>@swonderlin Can not wait for #iPad 2 also. The...</td>\n",
       "      <td>iPad</td>\n",
       "      <td>Positive emotion</td>\n",
       "    </tr>\n",
       "    <tr>\n",
       "      <th>3</th>\n",
       "      <td>@sxsw I hope this year's festival isn't as cra...</td>\n",
       "      <td>iPad or iPhone App</td>\n",
       "      <td>Negative emotion</td>\n",
       "    </tr>\n",
       "    <tr>\n",
       "      <th>4</th>\n",
       "      <td>@sxtxstate great stuff on Fri #SXSW: Marissa M...</td>\n",
       "      <td>Google</td>\n",
       "      <td>Positive emotion</td>\n",
       "    </tr>\n",
       "    <tr>\n",
       "      <th>...</th>\n",
       "      <td>...</td>\n",
       "      <td>...</td>\n",
       "      <td>...</td>\n",
       "    </tr>\n",
       "    <tr>\n",
       "      <th>9088</th>\n",
       "      <td>Ipad everywhere. #SXSW {link}</td>\n",
       "      <td>iPad</td>\n",
       "      <td>Positive emotion</td>\n",
       "    </tr>\n",
       "    <tr>\n",
       "      <th>9089</th>\n",
       "      <td>Wave, buzz... RT @mention We interrupt your re...</td>\n",
       "      <td>NaN</td>\n",
       "      <td>No emotion toward brand or product</td>\n",
       "    </tr>\n",
       "    <tr>\n",
       "      <th>9090</th>\n",
       "      <td>Google's Zeiger, a physician never reported po...</td>\n",
       "      <td>NaN</td>\n",
       "      <td>No emotion toward brand or product</td>\n",
       "    </tr>\n",
       "    <tr>\n",
       "      <th>9091</th>\n",
       "      <td>Some Verizon iPhone customers complained their...</td>\n",
       "      <td>NaN</td>\n",
       "      <td>No emotion toward brand or product</td>\n",
       "    </tr>\n",
       "    <tr>\n",
       "      <th>9092</th>\n",
       "      <td>Ï¡Ïàü_ÊÎÒ£Áââ_£â_ÛâRT @...</td>\n",
       "      <td>NaN</td>\n",
       "      <td>No emotion toward brand or product</td>\n",
       "    </tr>\n",
       "  </tbody>\n",
       "</table>\n",
       "<p>9093 rows × 3 columns</p>\n",
       "</div>"
      ],
      "text/plain": [
       "                                             tweet_text            products  \\\n",
       "0     .@wesley83 I have a 3G iPhone. After 3 hrs twe...              iPhone   \n",
       "1     @jessedee Know about @fludapp ? Awesome iPad/i...  iPad or iPhone App   \n",
       "2     @swonderlin Can not wait for #iPad 2 also. The...                iPad   \n",
       "3     @sxsw I hope this year's festival isn't as cra...  iPad or iPhone App   \n",
       "4     @sxtxstate great stuff on Fri #SXSW: Marissa M...              Google   \n",
       "...                                                 ...                 ...   \n",
       "9088                      Ipad everywhere. #SXSW {link}                iPad   \n",
       "9089  Wave, buzz... RT @mention We interrupt your re...                 NaN   \n",
       "9090  Google's Zeiger, a physician never reported po...                 NaN   \n",
       "9091  Some Verizon iPhone customers complained their...                 NaN   \n",
       "9092  Ï¡Ïàü_ÊÎÒ£Áââ_£â_ÛâRT @...                 NaN   \n",
       "\n",
       "                                emotions  \n",
       "0                       Negative emotion  \n",
       "1                       Positive emotion  \n",
       "2                       Positive emotion  \n",
       "3                       Negative emotion  \n",
       "4                       Positive emotion  \n",
       "...                                  ...  \n",
       "9088                    Positive emotion  \n",
       "9089  No emotion toward brand or product  \n",
       "9090  No emotion toward brand or product  \n",
       "9091  No emotion toward brand or product  \n",
       "9092  No emotion toward brand or product  \n",
       "\n",
       "[9093 rows x 3 columns]"
      ]
     },
     "execution_count": 125,
     "metadata": {},
     "output_type": "execute_result"
    }
   ],
   "source": [
    "df2"
   ]
  },
  {
   "cell_type": "code",
   "execution_count": 126,
   "metadata": {
    "scrolled": false
   },
   "outputs": [
    {
     "data": {
      "text/plain": [
       "No emotion toward brand or product    5389\n",
       "Positive emotion                      2978\n",
       "Negative emotion                       570\n",
       "I can't tell                           156\n",
       "Name: emotions, dtype: int64"
      ]
     },
     "execution_count": 126,
     "metadata": {},
     "output_type": "execute_result"
    }
   ],
   "source": [
    "df2['emotions'].value_counts()"
   ]
  },
  {
   "cell_type": "code",
   "execution_count": 127,
   "metadata": {},
   "outputs": [],
   "source": [
    "df2['emotions'] = df2['emotions'].replace('No emotion toward brand or product', 'Neutral')\n",
    "df2['emotions'] = df2['emotions'].replace('Positive emotion', 'Positive')\n",
    "df2['emotions'] = df2['emotions'].replace('Negative emotion', 'Negative')"
   ]
  },
  {
   "cell_type": "code",
   "execution_count": 128,
   "metadata": {},
   "outputs": [],
   "source": [
    "df2 = df2[df2['emotions'].isin(['Neutral', 'Negative', 'Positive'])]"
   ]
  },
  {
   "cell_type": "code",
   "execution_count": 159,
   "metadata": {},
   "outputs": [
    {
     "data": {
      "text/plain": [
       "Neutral     0.602954\n",
       "Positive    0.333259\n",
       "Negative    0.063787\n",
       "Name: emotions, dtype: float64"
      ]
     },
     "execution_count": 159,
     "metadata": {},
     "output_type": "execute_result"
    }
   ],
   "source": [
    "df2['emotions'].value_counts(normalize=True)"
   ]
  },
  {
   "cell_type": "code",
   "execution_count": 130,
   "metadata": {
    "scrolled": true
   },
   "outputs": [
    {
     "name": "stderr",
     "output_type": "stream",
     "text": [
      "<ipython-input-130-aeb28ddccd20>:4: SettingWithCopyWarning: \n",
      "A value is trying to be set on a copy of a slice from a DataFrame.\n",
      "Try using .loc[row_indexer,col_indexer] = value instead\n",
      "\n",
      "See the caveats in the documentation: https://pandas.pydata.org/pandas-docs/stable/user_guide/indexing.html#returning-a-view-versus-a-copy\n",
      "  df2['target'] = df2['emotions']\n"
     ]
    }
   ],
   "source": [
    "# Map emotions to target values\n",
    "#emotion_mapping = {'No emotion': 2,'Positive emotion': 1, 'Negative emotion': 0}\n",
    "#df2['target'] = df2['emotions'].map(emotion_mapping)\n",
    "df2['target'] = df2['emotions']"
   ]
  },
  {
   "cell_type": "code",
   "execution_count": 131,
   "metadata": {},
   "outputs": [
    {
     "data": {
      "text/plain": [
       "Neutral     5389\n",
       "Positive    2978\n",
       "Negative     570\n",
       "Name: target, dtype: int64"
      ]
     },
     "execution_count": 131,
     "metadata": {},
     "output_type": "execute_result"
    }
   ],
   "source": [
    "df2['target'].value_counts()"
   ]
  },
  {
   "cell_type": "code",
   "execution_count": 132,
   "metadata": {
    "scrolled": true
   },
   "outputs": [
    {
     "data": {
      "text/plain": [
       "tweet_text       1\n",
       "products      5655\n",
       "emotions         0\n",
       "target           0\n",
       "dtype: int64"
      ]
     },
     "execution_count": 132,
     "metadata": {},
     "output_type": "execute_result"
    }
   ],
   "source": [
    "df2.isna().sum()"
   ]
  },
  {
   "cell_type": "code",
   "execution_count": 133,
   "metadata": {
    "scrolled": true
   },
   "outputs": [],
   "source": [
    "df2 = df2.dropna(subset=['tweet_text'])"
   ]
  },
  {
   "cell_type": "code",
   "execution_count": 134,
   "metadata": {},
   "outputs": [
    {
     "data": {
      "text/plain": [
       "tweet_text       0\n",
       "products      5654\n",
       "emotions         0\n",
       "target           0\n",
       "dtype: int64"
      ]
     },
     "execution_count": 134,
     "metadata": {},
     "output_type": "execute_result"
    }
   ],
   "source": [
    "df2.isna().sum()"
   ]
  },
  {
   "cell_type": "code",
   "execution_count": 135,
   "metadata": {},
   "outputs": [],
   "source": [
    "# Bring in stopwords\n",
    "\n",
    "sw = stopwords.words('english')"
   ]
  },
  {
   "cell_type": "code",
   "execution_count": 136,
   "metadata": {},
   "outputs": [],
   "source": [
    "def get_wordnet_pos(treebank_tag):\n",
    "    '''\n",
    "    Translate nltk POS to wordnet tags\n",
    "    '''\n",
    "    if treebank_tag.startswith('J'):\n",
    "        return wordnet.ADJ\n",
    "    elif treebank_tag.startswith('V'):\n",
    "        return wordnet.VERB\n",
    "    elif treebank_tag.startswith('N'):\n",
    "        return wordnet.NOUN\n",
    "    elif treebank_tag.startswith('R'):\n",
    "        return wordnet.ADV\n",
    "    else:\n",
    "        return wordnet.NOUN"
   ]
  },
  {
   "cell_type": "code",
   "execution_count": 137,
   "metadata": {},
   "outputs": [],
   "source": [
    "lemmatizer = WordNetLemmatizer() "
   ]
  },
  {
   "cell_type": "code",
   "execution_count": 138,
   "metadata": {},
   "outputs": [],
   "source": [
    "def doc_preparer(doc, stop_words=sw):\n",
    "    '''\n",
    "    \n",
    "    :param doc: column from database\n",
    "    :return: a document string with words which have been \n",
    "            lemmatized, \n",
    "            parsed for stopwords, \n",
    "            made lowercase,\n",
    "            and stripped of punctuation and numbers.\n",
    "    '''\n",
    "    \n",
    "    regex_token = RegexpTokenizer(r\"([a-zA-Z]+(?:’[a-z]+)?)\")\n",
    "    tokens = regex_token.tokenize(doc)\n",
    "    lowered_t = [word.lower() for word in tokens]\n",
    "    no_sw_t = [word for word in lowered_t if word not in sw]\n",
    "    # print(doc)\n",
    "    tokens_tagged = pos_tag(no_sw_t)\n",
    "    pos_tokens = [(word[0], get_wordnet_pos(word[1])) for word in tokens_tagged] \n",
    "    tokens_lemm = [lemmatizer.lemmatize(word[0], word[1]) for word in pos_tokens]\n",
    "    return ' '.join(tokens_lemm)"
   ]
  },
  {
   "cell_type": "markdown",
   "metadata": {},
   "source": [
    "##  Model with Multiclass classification without class weights "
   ]
  },
  {
   "cell_type": "code",
   "execution_count": 231,
   "metadata": {},
   "outputs": [
    {
     "data": {
      "text/plain": [
       "0       Negative\n",
       "1       Positive\n",
       "2       Positive\n",
       "3       Negative\n",
       "4       Positive\n",
       "          ...   \n",
       "9088    Positive\n",
       "9089     Neutral\n",
       "9090     Neutral\n",
       "9091     Neutral\n",
       "9092     Neutral\n",
       "Name: target, Length: 8936, dtype: object"
      ]
     },
     "execution_count": 231,
     "metadata": {},
     "output_type": "execute_result"
    }
   ],
   "source": [
    "X= df2[['tweet_text']]\n",
    "y= df2['target']\n",
    "y"
   ]
  },
  {
   "cell_type": "code",
   "execution_count": 140,
   "metadata": {
    "scrolled": true
   },
   "outputs": [
    {
     "data": {
      "text/plain": [
       "(8936, 1)"
      ]
     },
     "execution_count": 140,
     "metadata": {},
     "output_type": "execute_result"
    }
   ],
   "source": [
    "X.shape"
   ]
  },
  {
   "cell_type": "code",
   "execution_count": 141,
   "metadata": {},
   "outputs": [
    {
     "data": {
      "text/plain": [
       "(8936,)"
      ]
     },
     "execution_count": 141,
     "metadata": {},
     "output_type": "execute_result"
    }
   ],
   "source": [
    "y.shape"
   ]
  },
  {
   "cell_type": "code",
   "execution_count": 142,
   "metadata": {},
   "outputs": [
    {
     "data": {
      "text/plain": [
       "Neutral     5388\n",
       "Positive    2978\n",
       "Negative     570\n",
       "Name: target, dtype: int64"
      ]
     },
     "execution_count": 142,
     "metadata": {},
     "output_type": "execute_result"
    }
   ],
   "source": [
    "y.value_counts()"
   ]
  },
  {
   "cell_type": "code",
   "execution_count": 143,
   "metadata": {},
   "outputs": [],
   "source": [
    "X_train, X_test, y_train, y_test = train_test_split(X,y,random_state=42, test_size=0.25)"
   ]
  },
  {
   "cell_type": "code",
   "execution_count": 144,
   "metadata": {},
   "outputs": [
    {
     "data": {
      "text/plain": [
       "tweet_text    0\n",
       "dtype: int64"
      ]
     },
     "execution_count": 144,
     "metadata": {},
     "output_type": "execute_result"
    }
   ],
   "source": [
    "X_train.isna().sum()"
   ]
  },
  {
   "cell_type": "code",
   "execution_count": 145,
   "metadata": {},
   "outputs": [],
   "source": [
    "X_t, X_val, y_t, y_val = train_test_split(X_train['tweet_text'], y_train,\n",
    "                                          test_size=0.25, random_state=42)"
   ]
  },
  {
   "cell_type": "code",
   "execution_count": 146,
   "metadata": {},
   "outputs": [
    {
     "name": "stderr",
     "output_type": "stream",
     "text": [
      "/Users/jayiraj/anaconda3/envs/learn-env/lib/python3.8/site-packages/sklearn/metrics/_classification.py:1221: UndefinedMetricWarning: Precision is ill-defined and being set to 0.0 in labels with no predicted samples. Use `zero_division` parameter to control this behavior.\n",
      "  _warn_prf(average, modifier, msg_start, len(result))\n"
     ]
    },
    {
     "data": {
      "text/plain": [
       "0.5404818203247002"
      ]
     },
     "execution_count": 146,
     "metadata": {},
     "output_type": "execute_result"
    }
   ],
   "source": [
    "tfidf = TfidfVectorizer(min_df=0.05, max_df=0.95, \n",
    "                preprocessor=doc_preparer)\n",
    "X_t_vec = tfidf.fit_transform(X_t)\n",
    "X_t_vec  = pd.DataFrame.sparse.from_spmatrix(X_t_vec)\n",
    "X_t_vec.columns = sorted(tfidf.vocabulary_)\n",
    "X_t_vec.set_index(y_t.index, inplace=True)\n",
    "\n",
    "X_val_vec = tfidf.transform(X_val)\n",
    "X_val_vec  = pd.DataFrame.sparse.from_spmatrix(X_val_vec)\n",
    "X_val_vec.columns = sorted(tfidf.vocabulary_)\n",
    "X_val_vec.set_index(y_val.index, inplace=True)\n",
    "\n",
    "mnba = MultinomialNB()\n",
    "\n",
    "mnba.fit(X_t_vec, y_t)\n",
    "y_hat = mnba.predict(X_val_vec)\n",
    "\n",
    "precision_score(y_val, y_hat, average='weighted')"
   ]
  },
  {
   "cell_type": "code",
   "execution_count": 147,
   "metadata": {},
   "outputs": [],
   "source": [
    "cm2 = confusion_matrix(y_val, mnba.predict(X_val_vec))"
   ]
  },
  {
   "cell_type": "code",
   "execution_count": 148,
   "metadata": {
    "scrolled": true
   },
   "outputs": [
    {
     "data": {
      "image/png": "[encoded data removed]",
      "text/plain": [
       "<Figure size 288x288 with 2 Axes>"
      ]
     },
     "metadata": {
      "needs_background": "light"
     },
     "output_type": "display_data"
    }
   ],
   "source": [
    "# Plot the Confusion Matrix with a smaller size\n",
    "fig, ax = plt.subplots(figsize=(4, 4))  \n",
    "ConfusionMatrixDisplay(confusion_matrix=cm2, display_labels= mnba.classes_).plot(ax=ax)\n",
    "\n",
    "# Show the plot\n",
    "plt.show()"
   ]
  },
  {
   "cell_type": "markdown",
   "metadata": {},
   "source": [
    "## Features importances"
   ]
  },
  {
   "cell_type": "code",
   "execution_count": null,
   "metadata": {},
   "outputs": [],
   "source": []
  },
  {
   "cell_type": "code",
   "execution_count": null,
   "metadata": {},
   "outputs": [],
   "source": [
    "#pd.DataFrame.sparse.from_spmatrix(X_t_vec, columns=tfidf.get_feature_names_out())"
   ]
  },
  {
   "cell_type": "code",
   "execution_count": null,
   "metadata": {},
   "outputs": [],
   "source": []
  },
  {
   "cell_type": "markdown",
   "metadata": {},
   "source": [
    "## Comparaison with Random Forest"
   ]
  },
  {
   "cell_type": "code",
   "execution_count": 223,
   "metadata": {},
   "outputs": [
    {
     "data": {
      "text/plain": [
       "0.585780649638548"
      ]
     },
     "execution_count": 223,
     "metadata": {},
     "output_type": "execute_result"
    }
   ],
   "source": [
    "rf = RandomForestClassifier(n_estimators=800, max_depth=5, class_weight = 'balanced')\n",
    "rf.fit(X_t_vec, y_t)\n",
    "y_hat = rf.predict(X_val_vec)\n",
    "precision_score(y_val, y_hat, average='weighted')"
   ]
  },
  {
   "cell_type": "code",
   "execution_count": 228,
   "metadata": {},
   "outputs": [
    {
     "data": {
      "text/plain": [
       "23"
      ]
     },
     "execution_count": 228,
     "metadata": {},
     "output_type": "execute_result"
    }
   ],
   "source": [
    "feature_importances = rf.feature_importances_\n",
    "feature_importances\n",
    "num_features = len(feature_importances)\n",
    "num_features"
   ]
  },
  {
   "cell_type": "code",
   "execution_count": 230,
   "metadata": {},
   "outputs": [
    {
     "data": {
      "image/png": "[encoded data removed]",
      "text/plain": [
       "<Figure size 432x288 with 1 Axes>"
      ]
     },
     "metadata": {
      "needs_background": "light"
     },
     "output_type": "display_data"
    }
   ],
   "source": [
    "features = [f\"Feature {i+1}\" for i in range(len(feature_importances))]\n",
    "plt.bar(features, feature_importances)\n",
    "plt.xlabel(\"Features\")\n",
    "plt.ylabel(\"Importance\")\n",
    "plt.title(\"Feature Importances\")\n",
    "plt.xticks(rotation=45, ha=\"right\")  # Rotate x-axis labels for better readability\n",
    "plt.tight_layout()  # Adjust layout to prevent clipping of labels\n",
    "plt.show()\n"
   ]
  },
  {
   "cell_type": "markdown",
   "metadata": {},
   "source": [
    "##  Model with Multiclass classification with class weights "
   ]
  },
  {
   "cell_type": "code",
   "execution_count": 194,
   "metadata": {
    "scrolled": true
   },
   "outputs": [
    {
     "name": "stderr",
     "output_type": "stream",
     "text": [
      "/Users/jayiraj/anaconda3/envs/learn-env/lib/python3.8/site-packages/sklearn/utils/validation.py:67: FutureWarning: Pass classes=['Negative' 'Neutral' 'Positive'], y=989     Negative\n",
      "1960     Neutral\n",
      "2048    Positive\n",
      "5011     Neutral\n",
      "4243    Positive\n",
      "          ...   \n",
      "7549     Neutral\n",
      "2065     Neutral\n",
      "4427    Negative\n",
      "1405     Neutral\n",
      "8241    Positive\n",
      "Name: target, Length: 5026, dtype: object as keyword args. From version 0.25 passing these as positional arguments will result in an error\n",
      "  warnings.warn(\"Pass {} as keyword args. From version 0.25 \"\n"
     ]
    },
    {
     "ename": "ValueError",
     "evalue": "sample_weight.shape == (3,), expected (5026,)!",
     "output_type": "error",
     "traceback": [
      "\u001b[0;31m---------------------------------------------------------------------------\u001b[0m",
      "\u001b[0;31mValueError\u001b[0m                                Traceback (most recent call last)",
      "\u001b[0;32m<ipython-input-194-08767d85dac0>\u001b[0m in \u001b[0;36m<module>\u001b[0;34m\u001b[0m\n\u001b[1;32m     18\u001b[0m \u001b[0mmnba\u001b[0m \u001b[0;34m=\u001b[0m \u001b[0mMultinomialNB\u001b[0m\u001b[0;34m(\u001b[0m\u001b[0;34m)\u001b[0m\u001b[0;34m\u001b[0m\u001b[0;34m\u001b[0m\u001b[0m\n\u001b[1;32m     19\u001b[0m \u001b[0;34m\u001b[0m\u001b[0m\n\u001b[0;32m---> 20\u001b[0;31m \u001b[0mmnba\u001b[0m\u001b[0;34m.\u001b[0m\u001b[0mfit\u001b[0m\u001b[0;34m(\u001b[0m\u001b[0mX_t_vec\u001b[0m\u001b[0;34m,\u001b[0m \u001b[0my_t\u001b[0m\u001b[0;34m,\u001b[0m \u001b[0msample_weight\u001b[0m\u001b[0;34m=\u001b[0m \u001b[0mclass_weights\u001b[0m\u001b[0;34m)\u001b[0m\u001b[0;34m\u001b[0m\u001b[0;34m\u001b[0m\u001b[0m\n\u001b[0m\u001b[1;32m     21\u001b[0m \u001b[0my_hat\u001b[0m \u001b[0;34m=\u001b[0m \u001b[0mmnba\u001b[0m\u001b[0;34m.\u001b[0m\u001b[0mpredict\u001b[0m\u001b[0;34m(\u001b[0m\u001b[0mX_val_vec\u001b[0m\u001b[0;34m)\u001b[0m\u001b[0;34m\u001b[0m\u001b[0;34m\u001b[0m\u001b[0m\n\u001b[1;32m     22\u001b[0m \u001b[0;34m\u001b[0m\u001b[0m\n",
      "\u001b[0;32m~/anaconda3/envs/learn-env/lib/python3.8/site-packages/sklearn/naive_bayes.py\u001b[0m in \u001b[0;36mfit\u001b[0;34m(self, X, y, sample_weight)\u001b[0m\n\u001b[1;32m    628\u001b[0m         \u001b[0;32mif\u001b[0m \u001b[0msample_weight\u001b[0m \u001b[0;32mis\u001b[0m \u001b[0;32mnot\u001b[0m \u001b[0;32mNone\u001b[0m\u001b[0;34m:\u001b[0m\u001b[0;34m\u001b[0m\u001b[0;34m\u001b[0m\u001b[0m\n\u001b[1;32m    629\u001b[0m             \u001b[0mY\u001b[0m \u001b[0;34m=\u001b[0m \u001b[0mY\u001b[0m\u001b[0;34m.\u001b[0m\u001b[0mastype\u001b[0m\u001b[0;34m(\u001b[0m\u001b[0mnp\u001b[0m\u001b[0;34m.\u001b[0m\u001b[0mfloat64\u001b[0m\u001b[0;34m,\u001b[0m \u001b[0mcopy\u001b[0m\u001b[0;34m=\u001b[0m\u001b[0;32mFalse\u001b[0m\u001b[0;34m)\u001b[0m\u001b[0;34m\u001b[0m\u001b[0;34m\u001b[0m\u001b[0m\n\u001b[0;32m--> 630\u001b[0;31m             \u001b[0msample_weight\u001b[0m \u001b[0;34m=\u001b[0m \u001b[0m_check_sample_weight\u001b[0m\u001b[0;34m(\u001b[0m\u001b[0msample_weight\u001b[0m\u001b[0;34m,\u001b[0m \u001b[0mX\u001b[0m\u001b[0;34m)\u001b[0m\u001b[0;34m\u001b[0m\u001b[0;34m\u001b[0m\u001b[0m\n\u001b[0m\u001b[1;32m    631\u001b[0m             \u001b[0msample_weight\u001b[0m \u001b[0;34m=\u001b[0m \u001b[0mnp\u001b[0m\u001b[0;34m.\u001b[0m\u001b[0matleast_2d\u001b[0m\u001b[0;34m(\u001b[0m\u001b[0msample_weight\u001b[0m\u001b[0;34m)\u001b[0m\u001b[0;34m\u001b[0m\u001b[0;34m\u001b[0m\u001b[0m\n\u001b[1;32m    632\u001b[0m             \u001b[0mY\u001b[0m \u001b[0;34m*=\u001b[0m \u001b[0msample_weight\u001b[0m\u001b[0;34m.\u001b[0m\u001b[0mT\u001b[0m\u001b[0;34m\u001b[0m\u001b[0;34m\u001b[0m\u001b[0m\n",
      "\u001b[0;32m~/anaconda3/envs/learn-env/lib/python3.8/site-packages/sklearn/utils/validation.py\u001b[0m in \u001b[0;36m_check_sample_weight\u001b[0;34m(sample_weight, X, dtype)\u001b[0m\n\u001b[1;32m   1300\u001b[0m \u001b[0;34m\u001b[0m\u001b[0m\n\u001b[1;32m   1301\u001b[0m         \u001b[0;32mif\u001b[0m \u001b[0msample_weight\u001b[0m\u001b[0;34m.\u001b[0m\u001b[0mshape\u001b[0m \u001b[0;34m!=\u001b[0m \u001b[0;34m(\u001b[0m\u001b[0mn_samples\u001b[0m\u001b[0;34m,\u001b[0m\u001b[0;34m)\u001b[0m\u001b[0;34m:\u001b[0m\u001b[0;34m\u001b[0m\u001b[0;34m\u001b[0m\u001b[0m\n\u001b[0;32m-> 1302\u001b[0;31m             raise ValueError(\"sample_weight.shape == {}, expected {}!\"\n\u001b[0m\u001b[1;32m   1303\u001b[0m                              .format(sample_weight.shape, (n_samples,)))\n\u001b[1;32m   1304\u001b[0m     \u001b[0;32mreturn\u001b[0m \u001b[0msample_weight\u001b[0m\u001b[0;34m\u001b[0m\u001b[0;34m\u001b[0m\u001b[0m\n",
      "\u001b[0;31mValueError\u001b[0m: sample_weight.shape == (3,), expected (5026,)!"
     ]
    }
   ],
   "source": [
    "tfidf = TfidfVectorizer(min_df=0.05, max_df=0.95, \n",
    "                preprocessor=doc_preparer)\n",
    "X_t_vec = tfidf.fit_transform(X_t)\n",
    "X_t_vec  = pd.DataFrame.sparse.from_spmatrix(X_t_vec)\n",
    "X_t_vec.columns = sorted(tfidf.vocabulary_)\n",
    "X_t_vec.set_index(y_t.index, inplace=True)\n",
    "\n",
    "X_val_vec = tfidf.transform(X_val)\n",
    "X_val_vec  = pd.DataFrame.sparse.from_spmatrix(X_val_vec)\n",
    "X_val_vec.columns = sorted(tfidf.vocabulary_)\n",
    "X_val_vec.set_index(y_val.index, inplace=True)\n",
    "\n",
    "# Calculate class weights\n",
    "from sklearn.utils.class_weight import compute_class_weight\n",
    "class_weights = compute_class_weight('balanced', np.unique(y_t), y_t)\n",
    "np.array(class_weights)\n",
    "\n",
    "mnba = MultinomialNB()\n",
    "\n",
    "mnba.fit(X_t_vec, y_t, sample_weight= class_weights)\n",
    "y_hat = mnba.predict(X_val_vec)\n",
    "\n",
    "precision_score(y_val, y_hat, average = 'weighted')\n",
    "\n",
    "#mnba.fit(X_t_vec, y_t)\n",
    "#y_hat = mnba.predict(X_val_vec)\n",
    "\n",
    "#precision_score(y_val, y_hat, average='weighted')"
   ]
  },
  {
   "cell_type": "code",
   "execution_count": null,
   "metadata": {},
   "outputs": [],
   "source": []
  },
  {
   "cell_type": "code",
   "execution_count": 150,
   "metadata": {},
   "outputs": [
    {
     "ename": "NotFittedError",
     "evalue": "This MultinomialNB instance is not fitted yet. Call 'fit' with appropriate arguments before using this estimator.",
     "output_type": "error",
     "traceback": [
      "\u001b[0;31m---------------------------------------------------------------------------\u001b[0m",
      "\u001b[0;31mNotFittedError\u001b[0m                            Traceback (most recent call last)",
      "\u001b[0;32m<ipython-input-150-ef4a959b00ba>\u001b[0m in \u001b[0;36m<module>\u001b[0;34m\u001b[0m\n\u001b[0;32m----> 1\u001b[0;31m \u001b[0mcm3\u001b[0m \u001b[0;34m=\u001b[0m \u001b[0mconfusion_matrix\u001b[0m\u001b[0;34m(\u001b[0m\u001b[0my_val\u001b[0m\u001b[0;34m,\u001b[0m \u001b[0mmnba\u001b[0m\u001b[0;34m.\u001b[0m\u001b[0mpredict\u001b[0m\u001b[0;34m(\u001b[0m\u001b[0mX_val_vec\u001b[0m\u001b[0;34m)\u001b[0m\u001b[0;34m)\u001b[0m\u001b[0;34m\u001b[0m\u001b[0;34m\u001b[0m\u001b[0m\n\u001b[0m\u001b[1;32m      2\u001b[0m \u001b[0;31m# Plot the Confusion Matrix with a smaller size\u001b[0m\u001b[0;34m\u001b[0m\u001b[0;34m\u001b[0m\u001b[0;34m\u001b[0m\u001b[0m\n\u001b[1;32m      3\u001b[0m \u001b[0mfig\u001b[0m\u001b[0;34m,\u001b[0m \u001b[0max\u001b[0m \u001b[0;34m=\u001b[0m \u001b[0mplt\u001b[0m\u001b[0;34m.\u001b[0m\u001b[0msubplots\u001b[0m\u001b[0;34m(\u001b[0m\u001b[0mfigsize\u001b[0m\u001b[0;34m=\u001b[0m\u001b[0;34m(\u001b[0m\u001b[0;36m4\u001b[0m\u001b[0;34m,\u001b[0m \u001b[0;36m4\u001b[0m\u001b[0;34m)\u001b[0m\u001b[0;34m)\u001b[0m\u001b[0;34m\u001b[0m\u001b[0;34m\u001b[0m\u001b[0m\n\u001b[1;32m      4\u001b[0m \u001b[0mConfusionMatrixDisplay\u001b[0m\u001b[0;34m(\u001b[0m\u001b[0mconfusion_matrix\u001b[0m\u001b[0;34m=\u001b[0m\u001b[0mcm3\u001b[0m\u001b[0;34m,\u001b[0m \u001b[0mdisplay_labels\u001b[0m\u001b[0;34m=\u001b[0m \u001b[0mmnba\u001b[0m\u001b[0;34m.\u001b[0m\u001b[0mclasses_\u001b[0m\u001b[0;34m)\u001b[0m\u001b[0;34m.\u001b[0m\u001b[0mplot\u001b[0m\u001b[0;34m(\u001b[0m\u001b[0max\u001b[0m\u001b[0;34m=\u001b[0m\u001b[0max\u001b[0m\u001b[0;34m)\u001b[0m\u001b[0;34m\u001b[0m\u001b[0;34m\u001b[0m\u001b[0m\n\u001b[1;32m      5\u001b[0m \u001b[0;34m\u001b[0m\u001b[0m\n",
      "\u001b[0;32m~/anaconda3/envs/learn-env/lib/python3.8/site-packages/sklearn/naive_bayes.py\u001b[0m in \u001b[0;36mpredict\u001b[0;34m(self, X)\u001b[0m\n\u001b[1;32m     74\u001b[0m             \u001b[0mPredicted\u001b[0m \u001b[0mtarget\u001b[0m \u001b[0mvalues\u001b[0m \u001b[0;32mfor\u001b[0m \u001b[0mX\u001b[0m\u001b[0;34m\u001b[0m\u001b[0;34m\u001b[0m\u001b[0m\n\u001b[1;32m     75\u001b[0m         \"\"\"\n\u001b[0;32m---> 76\u001b[0;31m         \u001b[0mcheck_is_fitted\u001b[0m\u001b[0;34m(\u001b[0m\u001b[0mself\u001b[0m\u001b[0;34m)\u001b[0m\u001b[0;34m\u001b[0m\u001b[0;34m\u001b[0m\u001b[0m\n\u001b[0m\u001b[1;32m     77\u001b[0m         \u001b[0mX\u001b[0m \u001b[0;34m=\u001b[0m \u001b[0mself\u001b[0m\u001b[0;34m.\u001b[0m\u001b[0m_check_X\u001b[0m\u001b[0;34m(\u001b[0m\u001b[0mX\u001b[0m\u001b[0;34m)\u001b[0m\u001b[0;34m\u001b[0m\u001b[0;34m\u001b[0m\u001b[0m\n\u001b[1;32m     78\u001b[0m         \u001b[0mjll\u001b[0m \u001b[0;34m=\u001b[0m \u001b[0mself\u001b[0m\u001b[0;34m.\u001b[0m\u001b[0m_joint_log_likelihood\u001b[0m\u001b[0;34m(\u001b[0m\u001b[0mX\u001b[0m\u001b[0;34m)\u001b[0m\u001b[0;34m\u001b[0m\u001b[0;34m\u001b[0m\u001b[0m\n",
      "\u001b[0;32m~/anaconda3/envs/learn-env/lib/python3.8/site-packages/sklearn/utils/validation.py\u001b[0m in \u001b[0;36minner_f\u001b[0;34m(*args, **kwargs)\u001b[0m\n\u001b[1;32m     70\u001b[0m                           FutureWarning)\n\u001b[1;32m     71\u001b[0m         \u001b[0mkwargs\u001b[0m\u001b[0;34m.\u001b[0m\u001b[0mupdate\u001b[0m\u001b[0;34m(\u001b[0m\u001b[0;34m{\u001b[0m\u001b[0mk\u001b[0m\u001b[0;34m:\u001b[0m \u001b[0marg\u001b[0m \u001b[0;32mfor\u001b[0m \u001b[0mk\u001b[0m\u001b[0;34m,\u001b[0m \u001b[0marg\u001b[0m \u001b[0;32min\u001b[0m \u001b[0mzip\u001b[0m\u001b[0;34m(\u001b[0m\u001b[0msig\u001b[0m\u001b[0;34m.\u001b[0m\u001b[0mparameters\u001b[0m\u001b[0;34m,\u001b[0m \u001b[0margs\u001b[0m\u001b[0;34m)\u001b[0m\u001b[0;34m}\u001b[0m\u001b[0;34m)\u001b[0m\u001b[0;34m\u001b[0m\u001b[0;34m\u001b[0m\u001b[0m\n\u001b[0;32m---> 72\u001b[0;31m         \u001b[0;32mreturn\u001b[0m \u001b[0mf\u001b[0m\u001b[0;34m(\u001b[0m\u001b[0;34m**\u001b[0m\u001b[0mkwargs\u001b[0m\u001b[0;34m)\u001b[0m\u001b[0;34m\u001b[0m\u001b[0;34m\u001b[0m\u001b[0m\n\u001b[0m\u001b[1;32m     73\u001b[0m     \u001b[0;32mreturn\u001b[0m \u001b[0minner_f\u001b[0m\u001b[0;34m\u001b[0m\u001b[0;34m\u001b[0m\u001b[0m\n\u001b[1;32m     74\u001b[0m \u001b[0;34m\u001b[0m\u001b[0m\n",
      "\u001b[0;32m~/anaconda3/envs/learn-env/lib/python3.8/site-packages/sklearn/utils/validation.py\u001b[0m in \u001b[0;36mcheck_is_fitted\u001b[0;34m(estimator, attributes, msg, all_or_any)\u001b[0m\n\u001b[1;32m   1017\u001b[0m \u001b[0;34m\u001b[0m\u001b[0m\n\u001b[1;32m   1018\u001b[0m     \u001b[0;32mif\u001b[0m \u001b[0;32mnot\u001b[0m \u001b[0mattrs\u001b[0m\u001b[0;34m:\u001b[0m\u001b[0;34m\u001b[0m\u001b[0;34m\u001b[0m\u001b[0m\n\u001b[0;32m-> 1019\u001b[0;31m         \u001b[0;32mraise\u001b[0m \u001b[0mNotFittedError\u001b[0m\u001b[0;34m(\u001b[0m\u001b[0mmsg\u001b[0m \u001b[0;34m%\u001b[0m \u001b[0;34m{\u001b[0m\u001b[0;34m'name'\u001b[0m\u001b[0;34m:\u001b[0m \u001b[0mtype\u001b[0m\u001b[0;34m(\u001b[0m\u001b[0mestimator\u001b[0m\u001b[0;34m)\u001b[0m\u001b[0;34m.\u001b[0m\u001b[0m__name__\u001b[0m\u001b[0;34m}\u001b[0m\u001b[0;34m)\u001b[0m\u001b[0;34m\u001b[0m\u001b[0;34m\u001b[0m\u001b[0m\n\u001b[0m\u001b[1;32m   1020\u001b[0m \u001b[0;34m\u001b[0m\u001b[0m\n\u001b[1;32m   1021\u001b[0m \u001b[0;34m\u001b[0m\u001b[0m\n",
      "\u001b[0;31mNotFittedError\u001b[0m: This MultinomialNB instance is not fitted yet. Call 'fit' with appropriate arguments before using this estimator."
     ]
    }
   ],
   "source": [
    "cm3 = confusion_matrix(y_val, mnba.predict(X_val_vec))\n",
    "# Plot the Confusion Matrix with a smaller size\n",
    "fig, ax = plt.subplots(figsize=(4, 4))  \n",
    "ConfusionMatrixDisplay(confusion_matrix=cm3, display_labels= mnba.classes_).plot(ax=ax)\n",
    "\n",
    "# Show the plot\n",
    "plt.show()"
   ]
  },
  {
   "cell_type": "markdown",
   "metadata": {},
   "source": [
    "# Model Evaluation on the Test Set"
   ]
  },
  {
   "cell_type": "code",
   "execution_count": 77,
   "metadata": {},
   "outputs": [
    {
     "data": {
      "text/plain": [
       "2932    ha comes cool technology one's ever heard go c...\n",
       "5305    look blue hair i've got free android phone inf...\n",
       "3129    novelty ipad news apps fades fast among digita...\n",
       "3934    mayer admits google needs step one one custome...\n",
       "3964    html shirt google saying easeljs favorite canv...\n",
       "                              ...                        \n",
       "2776                              genius idea popup store\n",
       "1778    ipad goes sale next friday austin store going ...\n",
       "1676    airline mentioned guy kawasaki delightful like...\n",
       "236                    meant also wish dyac stupid iphone\n",
       "2938    lol comes cool technology one's ever heard go ...\n",
       "Name: cleaned, Length: 666, dtype: object"
      ]
     },
     "execution_count": 77,
     "metadata": {},
     "output_type": "execute_result"
    }
   ],
   "source": [
    "X_val\n"
   ]
  },
  {
   "cell_type": "markdown",
   "metadata": {},
   "source": [
    "X_val_df = pd.DataFrame(X_val_vec.toarray(), columns=tfidf.get_feature_names_out())\n",
    "final_X_test = pd.concat([\n",
    "    X_val_df, X_t[[\"num_sentences\", \"contains_price\", \"contains_emoticon\"]]\n",
    "], axis=1)\n",
    "final_X_test"
   ]
  }
 ],
 "metadata": {
  "kernelspec": {
   "display_name": "Python (learn-env)",
   "language": "python",
   "name": "learn-env"
  },
  "language_info": {
   "codemirror_mode": {
    "name": "ipython",
    "version": 3
   },
   "file_extension": ".py",
   "mimetype": "text/x-python",
   "name": "python",
   "nbconvert_exporter": "python",
   "pygments_lexer": "ipython3",
   "version": "3.8.5"
  }
 },
 "nbformat": 4,
 "nbformat_minor": 4
}
